{
 "cells": [
  {
   "cell_type": "code",
   "id": "43907a6700a3a31",
   "metadata": {
    "ExecuteTime": {
     "end_time": "2024-11-10T16:48:08.005938Z",
     "start_time": "2024-11-10T16:48:07.993628Z"
    }
   },
   "source": [
    "from IPython.lib.deepreload import reload\n",
    "%load_ext autoreload\n",
    "%autoreload 2"
   ],
   "outputs": [],
   "execution_count": 1
  },
  {
   "cell_type": "code",
   "id": "initial_id",
   "metadata": {
    "ExecuteTime": {
     "end_time": "2024-11-10T16:48:12.106334Z",
     "start_time": "2024-11-10T16:48:08.008753Z"
    }
   },
   "source": [
    "from llm_calc.lib.experiment import  ls_client, make_df\n",
    "from llm_calc.lib.config import config\n",
    "from llm_calc.lib.datamodel import Arm, ArmSlug, Model, ModelSlug\n",
    "from llm_calc.lib.datacore import datacore\n",
    "from os.path import join as path_join\n",
    "import plotly.graph_objects as go\n",
    "import plotly.express as px\n",
    "import pandas as pd"
   ],
   "outputs": [
    {
     "data": {
      "text/plain": [
       "\n",
       "\n"
      ],
      "text/html": [
       "<pre style=\"white-space:pre;overflow-x:auto;line-height:normal;font-family:Menlo,'DejaVu Sans Mono',consolas,'Courier New',monospace\">\n",
       "\n",
       "</pre>\n"
      ]
     },
     "metadata": {},
     "output_type": "display_data"
    },
    {
     "data": {
      "text/plain": [
       "\u001B[1;52;38;5;223m                                                  \u001B[0m\u001B[1;30;48;5;223m   LLM CALC   \u001B[0m\u001B[1;52;38;5;223m                                                   \u001B[0m\n"
      ],
      "text/html": [
       "<pre style=\"white-space:pre;overflow-x:auto;line-height:normal;font-family:Menlo,'DejaVu Sans Mono',consolas,'Courier New',monospace\"><span style=\"color: #ffd7af; text-decoration-color: #ffd7af; font-weight: bold\">                                                  </span><span style=\"color: #000000; text-decoration-color: #000000; background-color: #ffd7af; font-weight: bold\">   LLM CALC   </span><span style=\"color: #ffd7af; text-decoration-color: #ffd7af; font-weight: bold\">                                                   </span>\n",
       "</pre>\n"
      ]
     },
     "metadata": {},
     "output_type": "display_data"
    },
    {
     "data": {
      "text/plain": [
       "\u001B[38;5;189m ⦿ Using Database Available at \u001B[0m\u001B[4;38;5;189mhttps://alx.gd/llm-calc-view-database\u001B[0m\u001B[38;5;189m \u001B[0m\n"
      ],
      "text/html": [
       "<pre style=\"white-space:pre;overflow-x:auto;line-height:normal;font-family:Menlo,'DejaVu Sans Mono',consolas,'Courier New',monospace\"><span style=\"color: #d7d7ff; text-decoration-color: #d7d7ff\"> ⦿ Using Database Available at </span><span style=\"color: #d7d7ff; text-decoration-color: #d7d7ff; text-decoration: underline\">https://alx.gd/llm-calc-view-database</span><span style=\"color: #d7d7ff; text-decoration-color: #d7d7ff\"> </span>\n",
       "</pre>\n"
      ]
     },
     "metadata": {},
     "output_type": "display_data"
    }
   ],
   "execution_count": 2
  },
  {
   "cell_type": "code",
   "id": "2ea495bbfc881ecd",
   "metadata": {
    "ExecuteTime": {
     "end_time": "2024-11-10T16:51:55.158859Z",
     "start_time": "2024-11-10T16:51:55.003923Z"
    }
   },
   "source": [
    "filename = path_join(config.RESULTS_DATA_PATH,\"dataset_results_most-recent.pkl\")\n",
    "df = pd.read_pickle(filename)"
   ],
   "outputs": [],
   "execution_count": 8
  },
  {
   "metadata": {
    "ExecuteTime": {
     "end_time": "2024-11-10T16:51:55.822454Z",
     "start_time": "2024-11-10T16:51:55.785946Z"
    }
   },
   "cell_type": "code",
   "source": [
    "# exclude last runs (not finished before annotation queue was made)\n",
    "print(df.shape)\n",
    "to_exclude = [\"melted-cage\", \"efficacious-romaine\", \"successful-angina\", \"known-increase\", \"pastoral-constitution\"]\n",
    "df = df[~df.experiment_name.isin(to_exclude)]\n",
    "print(df.shape)"
   ],
   "id": "e2eff15baf13b739",
   "outputs": [
    {
     "name": "stdout",
     "output_type": "stream",
     "text": [
      "(10000, 59)\n",
      "(7500, 59)\n"
     ]
    }
   ],
   "execution_count": 9
  },
  {
   "metadata": {
    "ExecuteTime": {
     "end_time": "2024-11-10T16:52:05.269027Z",
     "start_time": "2024-11-10T16:52:05.226478Z"
    }
   },
   "cell_type": "code",
   "source": [
    "cdf = df[df.was_correct == False].groupby([\"arm_slug\",\"calculator_name\"],observed=False).count().id.rename(\"num_error\")\n",
    "cdf[cdf<5]"
   ],
   "id": "c25314a1d7e84092",
   "outputs": [
    {
     "data": {
      "text/plain": [
       "arm_slug      calculator_name\n",
       "gpt4_ci       GAD7               1\n",
       "gpt4_omc      CAPRINI            0\n",
       "              GAD7               0\n",
       "              HASBLED            0\n",
       "              MELDNa             0\n",
       "              PSIPORT            0\n",
       "              SOFA               0\n",
       "              Wells DVT          4\n",
       "gpt4_rag      GAD7               0\n",
       "              HASBLED            1\n",
       "              Wells DVT          3\n",
       "gpt4_rag_ci   CCI                4\n",
       "              GAD7               0\n",
       "              HASBLED            0\n",
       "              PSIPORT            0\n",
       "              Wells DVT          2\n",
       "llama_omc     GAD7               4\n",
       "              HASBLED            0\n",
       "              MELDNa             0\n",
       "              PSIPORT            0\n",
       "              Wells DVT          3\n",
       "llama_rag_ci  GAD7               2\n",
       "Name: num_error, dtype: int64"
      ]
     },
     "execution_count": 10,
     "metadata": {},
     "output_type": "execute_result"
    }
   ],
   "execution_count": 10
  },
  {
   "metadata": {
    "ExecuteTime": {
     "end_time": "2024-11-10T16:52:14.159320Z",
     "start_time": "2024-11-10T16:52:13.902354Z"
    }
   },
   "cell_type": "code",
   "source": [
    "# want to sample up to five incorrect runs per arm/calculator\n",
    "# sample function does not allow for sampling above the population size, so will need to need to exclude those groups for now\n",
    "max_number_to_sample = cdf\n",
    "max_number_to_sample[max_number_to_sample > 5] = 5\n",
    "mdf = pd.DataFrame(max_number_to_sample)\n",
    "sampled_df = pd.DataFrame()\n",
    "for row in mdf.iterrows():\n",
    "    arm_slug, calculator_name = row[0]\n",
    "    num_to_sample = row[1][0]\n",
    "    sampled_error_runs = df[(df.arm_slug == arm_slug) & (df.calculator_name == calculator_name) & (df.was_correct == False)].sample(n=num_to_sample)\n",
    "    sampled_df = pd.concat([sampled_df,sampled_error_runs])\n",
    "    # print(sampled_error_runs)\n",
    "sampled_df.groupby([\"arm_slug\"],observed=True).count()"
   ],
   "id": "dc36462f518b9dfd",
   "outputs": [
    {
     "name": "stderr",
     "output_type": "stream",
     "text": [
      "/var/folders/gr/c5ll10l94zz2tvyf6mzbh3l00000gq/T/ipykernel_68166/533921458.py:9: FutureWarning: Series.__getitem__ treating keys as positions is deprecated. In a future version, integer keys will always be treated as labels (consistent with DataFrame behavior). To access a value by position, use `ser.iloc[pos]`\n",
      "  num_to_sample = row[1][0]\n"
     ]
    },
    {
     "data": {
      "text/plain": [
       "              id  name  start_time  run_type  end_time  extra  error  \\\n",
       "arm_slug                                                               \n",
       "gpt4_base     50    50          50        50        50     50      0   \n",
       "gpt4_ci       46    46          46        46        46     46      0   \n",
       "gpt4_omc      19    19          19        19        19     19      0   \n",
       "gpt4_rag      39    39          39        39        39     39      0   \n",
       "gpt4_rag_ci   31    31          31        31        31     31      0   \n",
       "llama_base    50    50          50        50        50     50      0   \n",
       "llama_ci      50    50          50        50        50     50      0   \n",
       "llama_omc     32    32          32        32        32     32      0   \n",
       "llama_rag     50    50          50        50        50     50      0   \n",
       "llama_rag_ci  47    47          47        47        47     47      0   \n",
       "\n",
       "              serialized  child_runs  app_path  ...  output_able_to_answer  \\\n",
       "arm_slug                                        ...                          \n",
       "gpt4_base              0           0        50  ...                     50   \n",
       "gpt4_ci                0           0        46  ...                     46   \n",
       "gpt4_omc               0           0        19  ...                     19   \n",
       "gpt4_rag               0           0        39  ...                     39   \n",
       "gpt4_rag_ci            0           0        31  ...                     31   \n",
       "llama_base             0           0        50  ...                     44   \n",
       "llama_ci               0           0        50  ...                     50   \n",
       "llama_omc              0           0        32  ...                     32   \n",
       "llama_rag              0           0        50  ...                     44   \n",
       "llama_rag_ci           0           0        47  ...                     47   \n",
       "\n",
       "              num_steps  last_tool_call  last_tool_call_name  arm_description  \\\n",
       "arm_slug                                                                        \n",
       "gpt4_base            50               0                    0               50   \n",
       "gpt4_ci              46              46                   46               46   \n",
       "gpt4_omc             19              19                   19               19   \n",
       "gpt4_rag             39               0                    0               39   \n",
       "gpt4_rag_ci          31              31                   31               31   \n",
       "llama_base           50               0                    0               50   \n",
       "llama_ci             50              50                   50               50   \n",
       "llama_omc            32              32                   32               32   \n",
       "llama_rag            50               0                    0               50   \n",
       "llama_rag_ci         47              47                   47               47   \n",
       "\n",
       "              arm_name  calculator_name  model_slug  model_name  arm_tools  \n",
       "arm_slug                                                                    \n",
       "gpt4_base           50               50          50          50         50  \n",
       "gpt4_ci             46               46          46          46         46  \n",
       "gpt4_omc            19               19          19          19         19  \n",
       "gpt4_rag            39               39          39          39         39  \n",
       "gpt4_rag_ci         31               31          31          31         31  \n",
       "llama_base          50               50          50          50         50  \n",
       "llama_ci            50               50          50          50         50  \n",
       "llama_omc           32               32          32          32         32  \n",
       "llama_rag           50               50          50          50         50  \n",
       "llama_rag_ci        47               47          47          47         47  \n",
       "\n",
       "[10 rows x 58 columns]"
      ],
      "text/html": [
       "<div>\n",
       "<style scoped>\n",
       "    .dataframe tbody tr th:only-of-type {\n",
       "        vertical-align: middle;\n",
       "    }\n",
       "\n",
       "    .dataframe tbody tr th {\n",
       "        vertical-align: top;\n",
       "    }\n",
       "\n",
       "    .dataframe thead th {\n",
       "        text-align: right;\n",
       "    }\n",
       "</style>\n",
       "<table border=\"1\" class=\"dataframe\">\n",
       "  <thead>\n",
       "    <tr style=\"text-align: right;\">\n",
       "      <th></th>\n",
       "      <th>id</th>\n",
       "      <th>name</th>\n",
       "      <th>start_time</th>\n",
       "      <th>run_type</th>\n",
       "      <th>end_time</th>\n",
       "      <th>extra</th>\n",
       "      <th>error</th>\n",
       "      <th>serialized</th>\n",
       "      <th>child_runs</th>\n",
       "      <th>app_path</th>\n",
       "      <th>...</th>\n",
       "      <th>output_able_to_answer</th>\n",
       "      <th>num_steps</th>\n",
       "      <th>last_tool_call</th>\n",
       "      <th>last_tool_call_name</th>\n",
       "      <th>arm_description</th>\n",
       "      <th>arm_name</th>\n",
       "      <th>calculator_name</th>\n",
       "      <th>model_slug</th>\n",
       "      <th>model_name</th>\n",
       "      <th>arm_tools</th>\n",
       "    </tr>\n",
       "    <tr>\n",
       "      <th>arm_slug</th>\n",
       "      <th></th>\n",
       "      <th></th>\n",
       "      <th></th>\n",
       "      <th></th>\n",
       "      <th></th>\n",
       "      <th></th>\n",
       "      <th></th>\n",
       "      <th></th>\n",
       "      <th></th>\n",
       "      <th></th>\n",
       "      <th></th>\n",
       "      <th></th>\n",
       "      <th></th>\n",
       "      <th></th>\n",
       "      <th></th>\n",
       "      <th></th>\n",
       "      <th></th>\n",
       "      <th></th>\n",
       "      <th></th>\n",
       "      <th></th>\n",
       "      <th></th>\n",
       "    </tr>\n",
       "  </thead>\n",
       "  <tbody>\n",
       "    <tr>\n",
       "      <th>gpt4_base</th>\n",
       "      <td>50</td>\n",
       "      <td>50</td>\n",
       "      <td>50</td>\n",
       "      <td>50</td>\n",
       "      <td>50</td>\n",
       "      <td>50</td>\n",
       "      <td>0</td>\n",
       "      <td>0</td>\n",
       "      <td>0</td>\n",
       "      <td>50</td>\n",
       "      <td>...</td>\n",
       "      <td>50</td>\n",
       "      <td>50</td>\n",
       "      <td>0</td>\n",
       "      <td>0</td>\n",
       "      <td>50</td>\n",
       "      <td>50</td>\n",
       "      <td>50</td>\n",
       "      <td>50</td>\n",
       "      <td>50</td>\n",
       "      <td>50</td>\n",
       "    </tr>\n",
       "    <tr>\n",
       "      <th>gpt4_ci</th>\n",
       "      <td>46</td>\n",
       "      <td>46</td>\n",
       "      <td>46</td>\n",
       "      <td>46</td>\n",
       "      <td>46</td>\n",
       "      <td>46</td>\n",
       "      <td>0</td>\n",
       "      <td>0</td>\n",
       "      <td>0</td>\n",
       "      <td>46</td>\n",
       "      <td>...</td>\n",
       "      <td>46</td>\n",
       "      <td>46</td>\n",
       "      <td>46</td>\n",
       "      <td>46</td>\n",
       "      <td>46</td>\n",
       "      <td>46</td>\n",
       "      <td>46</td>\n",
       "      <td>46</td>\n",
       "      <td>46</td>\n",
       "      <td>46</td>\n",
       "    </tr>\n",
       "    <tr>\n",
       "      <th>gpt4_omc</th>\n",
       "      <td>19</td>\n",
       "      <td>19</td>\n",
       "      <td>19</td>\n",
       "      <td>19</td>\n",
       "      <td>19</td>\n",
       "      <td>19</td>\n",
       "      <td>0</td>\n",
       "      <td>0</td>\n",
       "      <td>0</td>\n",
       "      <td>19</td>\n",
       "      <td>...</td>\n",
       "      <td>19</td>\n",
       "      <td>19</td>\n",
       "      <td>19</td>\n",
       "      <td>19</td>\n",
       "      <td>19</td>\n",
       "      <td>19</td>\n",
       "      <td>19</td>\n",
       "      <td>19</td>\n",
       "      <td>19</td>\n",
       "      <td>19</td>\n",
       "    </tr>\n",
       "    <tr>\n",
       "      <th>gpt4_rag</th>\n",
       "      <td>39</td>\n",
       "      <td>39</td>\n",
       "      <td>39</td>\n",
       "      <td>39</td>\n",
       "      <td>39</td>\n",
       "      <td>39</td>\n",
       "      <td>0</td>\n",
       "      <td>0</td>\n",
       "      <td>0</td>\n",
       "      <td>39</td>\n",
       "      <td>...</td>\n",
       "      <td>39</td>\n",
       "      <td>39</td>\n",
       "      <td>0</td>\n",
       "      <td>0</td>\n",
       "      <td>39</td>\n",
       "      <td>39</td>\n",
       "      <td>39</td>\n",
       "      <td>39</td>\n",
       "      <td>39</td>\n",
       "      <td>39</td>\n",
       "    </tr>\n",
       "    <tr>\n",
       "      <th>gpt4_rag_ci</th>\n",
       "      <td>31</td>\n",
       "      <td>31</td>\n",
       "      <td>31</td>\n",
       "      <td>31</td>\n",
       "      <td>31</td>\n",
       "      <td>31</td>\n",
       "      <td>0</td>\n",
       "      <td>0</td>\n",
       "      <td>0</td>\n",
       "      <td>31</td>\n",
       "      <td>...</td>\n",
       "      <td>31</td>\n",
       "      <td>31</td>\n",
       "      <td>31</td>\n",
       "      <td>31</td>\n",
       "      <td>31</td>\n",
       "      <td>31</td>\n",
       "      <td>31</td>\n",
       "      <td>31</td>\n",
       "      <td>31</td>\n",
       "      <td>31</td>\n",
       "    </tr>\n",
       "    <tr>\n",
       "      <th>llama_base</th>\n",
       "      <td>50</td>\n",
       "      <td>50</td>\n",
       "      <td>50</td>\n",
       "      <td>50</td>\n",
       "      <td>50</td>\n",
       "      <td>50</td>\n",
       "      <td>0</td>\n",
       "      <td>0</td>\n",
       "      <td>0</td>\n",
       "      <td>50</td>\n",
       "      <td>...</td>\n",
       "      <td>44</td>\n",
       "      <td>50</td>\n",
       "      <td>0</td>\n",
       "      <td>0</td>\n",
       "      <td>50</td>\n",
       "      <td>50</td>\n",
       "      <td>50</td>\n",
       "      <td>50</td>\n",
       "      <td>50</td>\n",
       "      <td>50</td>\n",
       "    </tr>\n",
       "    <tr>\n",
       "      <th>llama_ci</th>\n",
       "      <td>50</td>\n",
       "      <td>50</td>\n",
       "      <td>50</td>\n",
       "      <td>50</td>\n",
       "      <td>50</td>\n",
       "      <td>50</td>\n",
       "      <td>0</td>\n",
       "      <td>0</td>\n",
       "      <td>0</td>\n",
       "      <td>50</td>\n",
       "      <td>...</td>\n",
       "      <td>50</td>\n",
       "      <td>50</td>\n",
       "      <td>50</td>\n",
       "      <td>50</td>\n",
       "      <td>50</td>\n",
       "      <td>50</td>\n",
       "      <td>50</td>\n",
       "      <td>50</td>\n",
       "      <td>50</td>\n",
       "      <td>50</td>\n",
       "    </tr>\n",
       "    <tr>\n",
       "      <th>llama_omc</th>\n",
       "      <td>32</td>\n",
       "      <td>32</td>\n",
       "      <td>32</td>\n",
       "      <td>32</td>\n",
       "      <td>32</td>\n",
       "      <td>32</td>\n",
       "      <td>0</td>\n",
       "      <td>0</td>\n",
       "      <td>0</td>\n",
       "      <td>32</td>\n",
       "      <td>...</td>\n",
       "      <td>32</td>\n",
       "      <td>32</td>\n",
       "      <td>32</td>\n",
       "      <td>32</td>\n",
       "      <td>32</td>\n",
       "      <td>32</td>\n",
       "      <td>32</td>\n",
       "      <td>32</td>\n",
       "      <td>32</td>\n",
       "      <td>32</td>\n",
       "    </tr>\n",
       "    <tr>\n",
       "      <th>llama_rag</th>\n",
       "      <td>50</td>\n",
       "      <td>50</td>\n",
       "      <td>50</td>\n",
       "      <td>50</td>\n",
       "      <td>50</td>\n",
       "      <td>50</td>\n",
       "      <td>0</td>\n",
       "      <td>0</td>\n",
       "      <td>0</td>\n",
       "      <td>50</td>\n",
       "      <td>...</td>\n",
       "      <td>44</td>\n",
       "      <td>50</td>\n",
       "      <td>0</td>\n",
       "      <td>0</td>\n",
       "      <td>50</td>\n",
       "      <td>50</td>\n",
       "      <td>50</td>\n",
       "      <td>50</td>\n",
       "      <td>50</td>\n",
       "      <td>50</td>\n",
       "    </tr>\n",
       "    <tr>\n",
       "      <th>llama_rag_ci</th>\n",
       "      <td>47</td>\n",
       "      <td>47</td>\n",
       "      <td>47</td>\n",
       "      <td>47</td>\n",
       "      <td>47</td>\n",
       "      <td>47</td>\n",
       "      <td>0</td>\n",
       "      <td>0</td>\n",
       "      <td>0</td>\n",
       "      <td>47</td>\n",
       "      <td>...</td>\n",
       "      <td>47</td>\n",
       "      <td>47</td>\n",
       "      <td>47</td>\n",
       "      <td>47</td>\n",
       "      <td>47</td>\n",
       "      <td>47</td>\n",
       "      <td>47</td>\n",
       "      <td>47</td>\n",
       "      <td>47</td>\n",
       "      <td>47</td>\n",
       "    </tr>\n",
       "  </tbody>\n",
       "</table>\n",
       "<p>10 rows × 58 columns</p>\n",
       "</div>"
      ]
     },
     "execution_count": 11,
     "metadata": {},
     "output_type": "execute_result"
    }
   ],
   "execution_count": 11
  },
  {
   "metadata": {},
   "cell_type": "markdown",
   "source": "",
   "id": "152bc7ad18888814"
  },
  {
   "metadata": {
    "ExecuteTime": {
     "end_time": "2024-11-10T16:52:18.557324Z",
     "start_time": "2024-11-10T16:52:18.526886Z"
    }
   },
   "cell_type": "code",
   "source": [
    "# ensure no duplicates in the sampled data\n",
    "print(len(sampled_df))\n",
    "print(len(sampled_df.id.value_counts()>1))"
   ],
   "id": "8eb842a3d4928ad",
   "outputs": [
    {
     "name": "stdout",
     "output_type": "stream",
     "text": [
      "414\n",
      "414\n"
     ]
    }
   ],
   "execution_count": 12
  },
  {
   "metadata": {
    "ExecuteTime": {
     "end_time": "2024-11-10T16:52:35.772756Z",
     "start_time": "2024-11-10T16:52:35.734698Z"
    }
   },
   "cell_type": "code",
   "source": [
    "sdf = sampled_df\n",
    "df_subset_1 = sdf.sample(164)\n",
    "sdf = sdf.drop(df_subset_1.index)\n",
    "df_subset_2 = sdf.sample(150)\n",
    "sdf = sdf.drop(df_subset_2.index)\n",
    "df_subset_3 = sdf.sample(100)\n",
    "sdf = sdf.drop(df_subset_3.index)"
   ],
   "id": "1245fd996f256567",
   "outputs": [],
   "execution_count": 13
  },
  {
   "metadata": {
    "ExecuteTime": {
     "end_time": "2024-11-10T16:56:44.321456Z",
     "start_time": "2024-11-10T16:56:44.232053Z"
    }
   },
   "cell_type": "code",
   "source": [
    "# filename = path_join(config.RESULTS_DATA_PATH, \"annotation\", \"all_tasks_sent.csv\")\n",
    "# sdf.to_csv(filename)\n",
    "#\n",
    "# filename = path_join(config.RESULTS_DATA_PATH, \"annotation\", \"subset_1_alex.csv\")\n",
    "# df_subset_1.to_csv(filename)\n",
    "#\n",
    "# filename = path_join(config.RESULTS_DATA_PATH, \"annotation\", \"subset_2_simon.csv\")\n",
    "# df_subset_2.to_csv(filename)\n",
    "#\n",
    "# filename = path_join(config.RESULTS_DATA_PATH, \"annotation\", \"subset_3_larry.csv\")\n",
    "# df_subset_3.to_csv(filename)\n"
   ],
   "id": "b9ee652bb6d5571",
   "outputs": [],
   "execution_count": 16
  },
  {
   "metadata": {
    "ExecuteTime": {
     "end_time": "2024-11-01T19:52:45.399414Z",
     "start_time": "2024-11-01T19:52:45.369690Z"
    }
   },
   "cell_type": "code",
   "source": [
    "def add_to_queue(queue_name,data):\n",
    "    # move to annotation queue\n",
    "    dataset_queues = pd.DataFrame(\n",
    "        ls_client.list_annotation_queues(name=queue_name)\n",
    "    )\n",
    "    q_url = \"\"\n",
    "    if len(dataset_queues) > 0:\n",
    "        dataset_queues_df = make_df(dataset_queues)\n",
    "        queue = dataset_queues_df.iloc[0]\n",
    "        queue_id = queue[\"id\"]\n",
    "        queue_name = queue[\"name\"]\n",
    "        q_url = f\"https://smith.langchain.com/o/80231dbb-1e31-4379-b804-df697b777bc6/annotation-queues/{str(queue_id)}?peekedRun=\"\n",
    "        print(f\"Queue already exsists: {queue_name} located at: \")\n",
    "        print(q_url)\n",
    "    else:\n",
    "        # make annotation queue\n",
    "        queue = ls_client.create_annotation_queue(\n",
    "            name=queue_name, description=f\"annotation queue for {queue_name}\"\n",
    "        )\n",
    "        queue_id = queue.id\n",
    "        queue_name = queue.name\n",
    "        q_url = f\"https://smith.langchain.com/o/80231dbb-1e31-4379-b804-df697b777bc6/annotation-queues/{str(queue_id)}?peekedRun=\"\n",
    "        print(f\"Created queue: {queue_name} located at:\")\n",
    "        print(q_url)\n",
    "        ls_client.add_runs_to_annotation_queue(\n",
    "            queue_id=queue_id, run_ids=data.id\n",
    "        )\n",
    "        print(f\"Added {len(data)} runs to queue {queue_name}\")\n",
    "    return q_url"
   ],
   "id": "e3f193a574d67eb8",
   "outputs": [],
   "execution_count": 9
  },
  {
   "metadata": {
    "ExecuteTime": {
     "end_time": "2024-11-01T19:52:46.365242Z",
     "start_time": "2024-11-01T19:52:45.516484Z"
    }
   },
   "cell_type": "code",
   "source": "testing = add_to_queue(\"LLMCalc -- Error Classification Test Queue\",df_subset_1) # add runs to annotation queue",
   "id": "ad2541e78621b728",
   "outputs": [
    {
     "name": "stdout",
     "output_type": "stream",
     "text": [
      "Created queue: LLMCalc -- Error Classification Test Queue located at:\n",
      "https://smith.langchain.com/o/80231dbb-1e31-4379-b804-df697b777bc6/annotation-queues/49fd4e0b-f20d-4100-8b50-648b9915b464?peekedRun=\n",
      "Added 164 runs to queue LLMCalc -- Error Classification Test Queue\n"
     ]
    }
   ],
   "execution_count": 10
  },
  {
   "metadata": {
    "ExecuteTime": {
     "end_time": "2024-11-01T19:52:47.199374Z",
     "start_time": "2024-11-01T19:52:46.386858Z"
    }
   },
   "cell_type": "code",
   "source": "alex = add_to_queue(\"LLMCalc -- Error Classification Alex Goodell\",df_subset_1)",
   "id": "ff82e1a29c76ee75",
   "outputs": [
    {
     "name": "stdout",
     "output_type": "stream",
     "text": [
      "Created queue: LLMCalc -- Error Classification Alex Goodell located at:\n",
      "https://smith.langchain.com/o/80231dbb-1e31-4379-b804-df697b777bc6/annotation-queues/411ece5f-98b1-4211-81b8-5c2a7dee0aa6?peekedRun=\n",
      "Added 164 runs to queue LLMCalc -- Error Classification Alex Goodell\n"
     ]
    }
   ],
   "execution_count": 11
  },
  {
   "metadata": {
    "ExecuteTime": {
     "end_time": "2024-11-01T19:52:48.204235Z",
     "start_time": "2024-11-01T19:52:47.255012Z"
    }
   },
   "cell_type": "code",
   "source": "simon = add_to_queue(\"LLMCalc -- Error Classification Simon Chu\",df_subset_2)",
   "id": "a0263ebb1eac1407",
   "outputs": [
    {
     "name": "stdout",
     "output_type": "stream",
     "text": [
      "Created queue: LLMCalc -- Error Classification Simon Chu located at:\n",
      "https://smith.langchain.com/o/80231dbb-1e31-4379-b804-df697b777bc6/annotation-queues/e7de1584-c983-4f33-86f3-70eca8169028?peekedRun=\n",
      "Added 150 runs to queue LLMCalc -- Error Classification Simon Chu\n"
     ]
    }
   ],
   "execution_count": 12
  },
  {
   "metadata": {
    "ExecuteTime": {
     "end_time": "2024-11-01T19:52:49.049972Z",
     "start_time": "2024-11-01T19:52:48.252617Z"
    }
   },
   "cell_type": "code",
   "source": "larry =add_to_queue(\"LLMCalc -- Error Classification Larry Chu\",df_subset_3)",
   "id": "8bf7a8cb06bd1dcc",
   "outputs": [
    {
     "name": "stdout",
     "output_type": "stream",
     "text": [
      "Created queue: LLMCalc -- Error Classification Larry Chu located at:\n",
      "https://smith.langchain.com/o/80231dbb-1e31-4379-b804-df697b777bc6/annotation-queues/e949624e-037c-44b3-9a3c-401e8cbdfc9a?peekedRun=\n",
      "Added 100 runs to queue LLMCalc -- Error Classification Larry Chu\n"
     ]
    }
   ],
   "execution_count": 13
  },
  {
   "metadata": {
    "ExecuteTime": {
     "end_time": "2024-11-01T19:52:49.156293Z",
     "start_time": "2024-11-01T19:52:49.088160Z"
    }
   },
   "cell_type": "code",
   "source": "sdf",
   "id": "357b913ddbe81d06",
   "outputs": [
    {
     "data": {
      "text/plain": [
       "Empty DataFrame\n",
       "Columns: [id, name, start_time, run_type, end_time, extra, error, serialized, child_runs, app_path, status, prompt_tokens, completion_tokens, total_tokens, first_token_time, total_cost, prompt_cost, completion_cost, parent_run_ids, trace_id, dotted_order, in_dataset, metadata_arm, dataset_name, dataset_id, dataset_group, arm_slug, experiment_name, experiment_desc, experiment_start, experiment_end, num_errored_attempts, num_attempts, was_error, output_object, calculator_slug, patient_name, patient_id, vignette, reference_answer, options, was_correct, performance, ci_was_run, final_answer_valid, runtime_error_count, count, output_answer, output_explanation, output_able_to_answer, num_steps, last_tool_call, last_tool_call_name, arm_description, arm_name, calculator_name, model_slug, model_name, arm_tools]\n",
       "Index: []\n",
       "\n",
       "[0 rows x 59 columns]"
      ],
      "text/html": [
       "<div>\n",
       "<style scoped>\n",
       "    .dataframe tbody tr th:only-of-type {\n",
       "        vertical-align: middle;\n",
       "    }\n",
       "\n",
       "    .dataframe tbody tr th {\n",
       "        vertical-align: top;\n",
       "    }\n",
       "\n",
       "    .dataframe thead th {\n",
       "        text-align: right;\n",
       "    }\n",
       "</style>\n",
       "<table border=\"1\" class=\"dataframe\">\n",
       "  <thead>\n",
       "    <tr style=\"text-align: right;\">\n",
       "      <th></th>\n",
       "      <th>id</th>\n",
       "      <th>name</th>\n",
       "      <th>start_time</th>\n",
       "      <th>run_type</th>\n",
       "      <th>end_time</th>\n",
       "      <th>extra</th>\n",
       "      <th>error</th>\n",
       "      <th>serialized</th>\n",
       "      <th>child_runs</th>\n",
       "      <th>app_path</th>\n",
       "      <th>...</th>\n",
       "      <th>output_able_to_answer</th>\n",
       "      <th>num_steps</th>\n",
       "      <th>last_tool_call</th>\n",
       "      <th>last_tool_call_name</th>\n",
       "      <th>arm_description</th>\n",
       "      <th>arm_name</th>\n",
       "      <th>calculator_name</th>\n",
       "      <th>model_slug</th>\n",
       "      <th>model_name</th>\n",
       "      <th>arm_tools</th>\n",
       "    </tr>\n",
       "  </thead>\n",
       "  <tbody>\n",
       "  </tbody>\n",
       "</table>\n",
       "<p>0 rows × 59 columns</p>\n",
       "</div>"
      ]
     },
     "execution_count": 14,
     "metadata": {},
     "output_type": "execute_result"
    }
   ],
   "execution_count": 14
  },
  {
   "metadata": {
    "ExecuteTime": {
     "end_time": "2024-11-01T19:52:49.399380Z",
     "start_time": "2024-11-01T19:52:49.353232Z"
    }
   },
   "cell_type": "code",
   "source": [
    "print(f\"\"\"\n",
    "Tesing: {testing}\n",
    "Alex: {alex}\n",
    "Simon: {simon}\n",
    "Larry: {larry}\n",
    "\"\"\")"
   ],
   "id": "c385a85a10b8092f",
   "outputs": [
    {
     "name": "stdout",
     "output_type": "stream",
     "text": [
      "\n",
      "Tesing: https://smith.langchain.com/o/80231dbb-1e31-4379-b804-df697b777bc6/annotation-queues/49fd4e0b-f20d-4100-8b50-648b9915b464?peekedRun=\n",
      "Alex: https://smith.langchain.com/o/80231dbb-1e31-4379-b804-df697b777bc6/annotation-queues/411ece5f-98b1-4211-81b8-5c2a7dee0aa6?peekedRun=\n",
      "Simon: https://smith.langchain.com/o/80231dbb-1e31-4379-b804-df697b777bc6/annotation-queues/e7de1584-c983-4f33-86f3-70eca8169028?peekedRun=\n",
      "Larry: https://smith.langchain.com/o/80231dbb-1e31-4379-b804-df697b777bc6/annotation-queues/e949624e-037c-44b3-9a3c-401e8cbdfc9a?peekedRun=\n",
      "\n"
     ]
    }
   ],
   "execution_count": 15
  },
  {
   "metadata": {
    "ExecuteTime": {
     "end_time": "2024-11-01T19:52:49.610260Z",
     "start_time": "2024-11-01T19:52:49.587701Z"
    }
   },
   "cell_type": "code",
   "source": "",
   "id": "3a596dbdb6aff19c",
   "outputs": [],
   "execution_count": null
  }
 ],
 "metadata": {
  "kernelspec": {
   "display_name": "Python 3 (ipykernel)",
   "language": "python",
   "name": "python3"
  },
  "language_info": {
   "codemirror_mode": {
    "name": "ipython",
    "version": 3
   },
   "file_extension": ".py",
   "mimetype": "text/x-python",
   "name": "python",
   "nbconvert_exporter": "python",
   "pygments_lexer": "ipython3",
   "version": "3.11.9"
  }
 },
 "nbformat": 4,
 "nbformat_minor": 5
}
