{
 "cells": [
  {
   "cell_type": "code",
   "execution_count": 2,
   "id": "43907a6700a3a31",
   "metadata": {
    "ExecuteTime": {
     "end_time": "2024-11-10T13:51:26.032880Z",
     "start_time": "2024-11-10T13:51:26.002229Z"
    }
   },
   "outputs": [],
   "source": [
    "from IPython.lib.deepreload import reload\n",
    "%load_ext autoreload\n",
    "%autoreload 2"
   ]
  },
  {
   "cell_type": "code",
   "execution_count": 3,
   "id": "initial_id",
   "metadata": {
    "ExecuteTime": {
     "end_time": "2024-11-10T13:51:26.835168Z",
     "start_time": "2024-11-10T13:51:26.804208Z"
    }
   },
   "outputs": [
    {
     "data": {
      "text/html": [
       "<pre style=\"white-space:pre;overflow-x:auto;line-height:normal;font-family:Menlo,'DejaVu Sans Mono',consolas,'Courier New',monospace\">\n",
       "\n",
       "</pre>\n"
      ],
      "text/plain": [
       "\n",
       "\n"
      ]
     },
     "metadata": {},
     "output_type": "display_data"
    },
    {
     "data": {
      "text/html": [
       "<pre style=\"white-space:pre;overflow-x:auto;line-height:normal;font-family:Menlo,'DejaVu Sans Mono',consolas,'Courier New',monospace\"><span style=\"color: #ffd7af; text-decoration-color: #ffd7af; font-weight: bold\">                                                  </span><span style=\"color: #000000; text-decoration-color: #000000; background-color: #ffd7af; font-weight: bold\">   LLM CALC   </span><span style=\"color: #ffd7af; text-decoration-color: #ffd7af; font-weight: bold\">                                                   </span>\n",
       "</pre>\n"
      ],
      "text/plain": [
       "\u001B[1;52;38;5;223m                                                  \u001B[0m\u001B[1;30;48;5;223m   LLM CALC   \u001B[0m\u001B[1;52;38;5;223m                                                   \u001B[0m\n"
      ]
     },
     "metadata": {},
     "output_type": "display_data"
    },
    {
     "data": {
      "text/html": [
       "<pre style=\"white-space:pre;overflow-x:auto;line-height:normal;font-family:Menlo,'DejaVu Sans Mono',consolas,'Courier New',monospace\"><span style=\"color: #d7d7ff; text-decoration-color: #d7d7ff\"> ⦿ Using Database Available at </span><span style=\"color: #d7d7ff; text-decoration-color: #d7d7ff; text-decoration: underline\">https://alx.gd/llm-calc-view-database</span><span style=\"color: #d7d7ff; text-decoration-color: #d7d7ff\"> </span>\n",
       "</pre>\n"
      ],
      "text/plain": [
       "\u001B[38;5;189m ⦿ Using Database Available at \u001B[0m\u001B[4;38;5;189mhttps://alx.gd/llm-calc-view-database\u001B[0m\u001B[38;5;189m \u001B[0m\n"
      ]
     },
     "metadata": {},
     "output_type": "display_data"
    }
   ],
   "source": [
    "from llm_calc.lib.experiment import  ls_client, make_df\n",
    "from llm_calc.lib.config import config\n",
    "from llm_calc.lib.datamodel import Arm, ArmSlug, Model, ModelSlug\n",
    "from llm_calc.lib.datacore import datacore\n",
    "from os.path import join as path_join\n",
    "import plotly.graph_objects as go\n",
    "import plotly.express as px\n",
    "import pandas as pd"
   ]
  },
  {
   "cell_type": "code",
   "execution_count": 37,
   "id": "2ea495bbfc881ecd",
   "metadata": {
    "ExecuteTime": {
     "end_time": "2024-11-10T13:51:30.167041Z",
     "start_time": "2024-11-10T13:51:28.015454Z"
    }
   },
   "outputs": [],
   "source": [
    "datasets = make_df(ls_client.list_datasets())"
   ]
  },
  {
   "cell_type": "code",
   "execution_count": 38,
   "id": "cf6f6fa1dcc75d28",
   "metadata": {
    "ExecuteTime": {
     "end_time": "2024-11-10T13:51:31.070985Z",
     "start_time": "2024-11-10T13:51:31.038696Z"
    }
   },
   "outputs": [
    {
     "name": "stdout",
     "output_type": "stream",
     "text": [
      "Last few datasets:\n",
      "--- overt-reclamation: lllama_ci redo case #500\n",
      "--- pastoral-constitution: gpt_omc case #750\n",
      "--- melted-cage: gpt4_rag, and gpt_ci case #750\n",
      "--- efficacious-romaine: gpt4_rag_ci case #750\n",
      "--- successful-angina: llama_rag_ci case #750\n",
      "--- known-increase: all but rag_ci, case 750\n",
      "--- yielding-gearshift: gpt4_rag_ci case #500\n",
      "--- hissing-boatload: llama_rag_ci case #500\n",
      "--- proud-yam: llamna_omc + all gpt arms, all calcs  starting at case #500\n",
      "--- productive-independent: all arms all calcs  starting at case #500\n",
      "Last dataset: overt-reclamation\n"
     ]
    }
   ],
   "source": [
    "# get last few datasets and assign a dataset_name to work with\n",
    "last_few_dataset_names = [datasets.iloc[i][\"name\"]+\": \"+datasets.iloc[i][\"description\"] for i in range(10)]\n",
    "last_few_dataset_names = \"\\n--- \".join(last_few_dataset_names)\n",
    "print(f\"Last few datasets:\\n--- {last_few_dataset_names}\")\n",
    "last_dataset = datasets.iloc[0][\"name\"]\n",
    "print(f\"Last dataset: {last_dataset}\")\n"
   ]
  },
  {
   "cell_type": "markdown",
   "id": "f66c45d0",
   "metadata": {},
   "source": [
    "choose datasets to include\n",
    "because of timeout errors, I was not able to run it all in one go, but it was fragmented into chunks\n",
    "\n",
    "### for cases 0-250: \n",
    "- dataset goofy-tower\n",
    "   - llama_base\n",
    "   - llama_ci\n",
    "   - llama_rag\n",
    "   - llama_rag_ci\n",
    "      - llama_omc (errored - exclude)\n",
    "   - all GPT arms duplicated (excluded)\n",
    "        - gpt4_base\n",
    "        - gpt4_ci\n",
    "        - gpt4_rag\n",
    "        - gpt4_rag_ci\n",
    "        - gpt4_omc\n",
    "- dataset loud-company\n",
    "   - gpt4_base\n",
    "   - gpt4_ci\n",
    "   - gpt4_rag\n",
    "   - gpt4_rag_ci\n",
    "   - gpt4_omc\n",
    "- dataset sedate-bidding\n",
    "   - llama_omc\n",
    "### for cases 250-500: \n",
    "- dataset puny-gasket\n",
    "   - llama_base (89% valid)\n",
    "   - llama_ci (100% valid)\n",
    "   - llama_rag (86% valid)\n",
    "   - llama_rag_ci (24% valid) -- to exlcude, timeout error\n",
    "- dataset synonymous-marsh -- likely wont use\n",
    "   - llama_base (90% valid, repeats from above)\n",
    "   - llama_ci  (100% valid, repeats from above)\n",
    "   - llama_rag  (86% valid, repeats from above)\n",
    "- dataset crazy-textbook\n",
    "   - llama_rag_ci (100% valid)\n",
    "- dataset confused-intent:\n",
    "   - llama_omc (100% valid)\n",
    "- dataset quarrelsome-pinkie\n",
    "   - gpt4_base (100% valid)\n",
    "   - gpt4_ci  (100% valid)\n",
    "   - gpt4_rag  (100% valid)\n",
    "   - gpt4_rag_ci (0% valid) -- to exlcude, timeout error\n",
    "   - gpt4_omc  (100% valid)\n",
    "- dataset disagreeable-apple:\n",
    "   - gpt4_rag_ci (100% valid)\n",
    "\n",
    "### for cases 500-750:\n",
    "- yielding-gearshift\n",
    "    - gpt4_rag_ci (100% valid)\n",
    "- hissing-boatload \n",
    "    - llama_rag_ci \n",
    "- proud-yam\n",
    "    - gpt4_base\n",
    "    - gpt4_ci\n",
    "    - gpt4_rag \n",
    "    - gpt4_rag_ci (0% valid) -- to exclude, timeout error\n",
    "    - gpt4_omc\n",
    "    - llama_omc\n",
    "- productive-independent\n",
    "    - llama_base (90% valid) -- acceptable, consistent with other runs\n",
    "    - llama_ci  (74% valid) -- to exclude, many timeout errors\n",
    "    - llama_rag  (89% valid) -- acceptable, consistent with other runs\n",
    "    - llama_rag_ci  (14% valid)   --- to exclude, timeout error\n",
    "- overt-reclamation\n",
    "    - llama_ci (100% valid)\n",
    "\n",
    "### for cases 750 - 1000\n",
    "- melted-cage\n",
    "   - gpt4_rag\n",
    "   - gpt4_ci\n",
    "- efficacious-romaine\n",
    "   - gpt4_rag_ci\n",
    "- successful-angina\n",
    "   - llama_rag_ci\n",
    "- known-increase\n",
    "   - llama_base (92% valid) -- acceptable, consistent with other runs\n",
    "   - llama_ci (100% valid)\n",
    "   - llama_rag (86% valid) -- acceptable, consistent with other runs\n",
    "   - gpt4_ci (4% valid) -- to exclude, timeout error\n",
    "   - gpt4_base (100% valid)\n",
    "   - llama_omc (100% valid)\n",
    "- pastoral-constitution\n",
    "    - gpt4_omc\n"
   ]
  },
  {
   "cell_type": "code",
   "execution_count": 41,
   "id": "de37eeffe0b4dce3",
   "metadata": {
    "ExecuteTime": {
     "end_time": "2024-11-10T13:53:53.344301Z",
     "start_time": "2024-11-10T13:53:53.316681Z"
    }
   },
   "outputs": [
    {
     "name": "stdout",
     "output_type": "stream",
     "text": [
      "Chosen datasets: \n",
      "goofy-tower\n",
      "loud-company\n",
      "sedate-bidding\n",
      "puny-gasket\n",
      "crazy-textbook\n",
      "quarrelsome-pinkie\n",
      "disagreeable-apple\n",
      "confused-intent\n",
      "yielding-gearshift\n",
      "hissing-boatload\n",
      "proud-yam\n",
      "productive-independent\n",
      "overt-reclamation\n",
      "melted-cage\n",
      "efficacious-romaine\n",
      "successful-angina\n",
      "known-increase\n",
      "pastoral-constitution\n"
     ]
    }
   ],
   "source": [
    "chosen_datasets = [\n",
    "    \"goofy-tower\", \"loud-company\", \"sedate-bidding\",\n",
    "    \"puny-gasket\", \"crazy-textbook\", \"quarrelsome-pinkie\", \"disagreeable-apple\", \"confused-intent\",\n",
    "    \"yielding-gearshift\", \"hissing-boatload\", \"proud-yam\", \"productive-independent\", \"overt-reclamation\",\n",
    "    \"melted-cage\", \"efficacious-romaine\", \"successful-angina\", \"known-increase\", \"pastoral-constitution\",\n",
    "    ]\n",
    "print( f\"Chosen datasets: \\n\" + \"\\n\".join(chosen_datasets))"
   ]
  },
  {
   "cell_type": "code",
   "execution_count": 42,
   "id": "3e517299afc7e8b2",
   "metadata": {
    "ExecuteTime": {
     "end_time": "2024-11-10T13:56:25.745781Z",
     "start_time": "2024-11-10T13:53:54.259292Z"
    }
   },
   "outputs": [
    {
     "data": {
      "text/html": [
       "<pre style=\"white-space:pre;overflow-x:auto;line-height:normal;font-family:Menlo,'DejaVu Sans Mono',consolas,'Courier New',monospace\"><span style=\"color: #ffd7af; text-decoration-color: #ffd7af\">─────────────────────────────────────────── GETTING DATASET GOOFY-TOWER ───────────────────────────────────────────</span>\n",
       "</pre>\n"
      ],
      "text/plain": [
       "\u001B[38;5;223m─────────────────────────────────────────── \u001B[0m\u001B[38;5;223mGETTING DATASET GOOFY-TOWER\u001B[0m\u001B[38;5;223m ───────────────────────────────────────────\u001B[0m\n"
      ]
     },
     "metadata": {},
     "output_type": "display_data"
    },
    {
     "data": {
      "text/html": [
       "<pre style=\"white-space:pre;overflow-x:auto;line-height:normal;font-family:Menlo,'DejaVu Sans Mono',consolas,'Courier New',monospace\"><span style=\"color: #7fbfbf; text-decoration-color: #7fbfbf\">[05:53:55] </span><span style=\"font-style: italic\"> ─── Getting group </span><span style=\"color: #008080; text-decoration-color: #008080; font-weight: bold\">0</span><span style=\"font-style: italic\"> from experiment goofy-tower                                            </span> <a href=\"file:///Users/alexandergoodell/code/llm-calc/llm_calc/util/util.py\" target=\"_blank\"><span style=\"color: #7f7f7f; text-decoration-color: #7f7f7f\">util.py</span></a><span style=\"color: #7f7f7f; text-decoration-color: #7f7f7f\">:</span><a href=\"file:///Users/alexandergoodell/code/llm-calc/llm_calc/util/util.py#318\" target=\"_blank\"><span style=\"color: #7f7f7f; text-decoration-color: #7f7f7f\">318</span></a>\n",
       "</pre>\n"
      ],
      "text/plain": [
       "\u001B[2;36m[05:53:55]\u001B[0m\u001B[2;36m \u001B[0m\u001B[3m ─── Getting group \u001B[0m\u001B[1;36m0\u001B[0m\u001B[3m from experiment goofy-tower                                            \u001B[0m \u001B]8;id=647758;file:///Users/alexandergoodell/code/llm-calc/llm_calc/util/util.py\u001B\\\u001B[2mutil.py\u001B[0m\u001B]8;;\u001B\\\u001B[2m:\u001B[0m\u001B]8;id=546760;file:///Users/alexandergoodell/code/llm-calc/llm_calc/util/util.py#318\u001B\\\u001B[2m318\u001B[0m\u001B]8;;\u001B\\\n"
      ]
     },
     "metadata": {},
     "output_type": "display_data"
    },
    {
     "data": {
      "text/html": [
       "<pre style=\"white-space:pre;overflow-x:auto;line-height:normal;font-family:Menlo,'DejaVu Sans Mono',consolas,'Courier New',monospace\">metadata_arm\n",
       "llama_omc    <span style=\"color: #008080; text-decoration-color: #008080; font-weight: bold\">250</span>\n",
       "Name: count, dtype: int64\n",
       "</pre>\n"
      ],
      "text/plain": [
       "metadata_arm\n",
       "llama_omc    \u001B[1;36m250\u001B[0m\n",
       "Name: count, dtype: int64\n"
      ]
     },
     "metadata": {},
     "output_type": "display_data"
    },
    {
     "data": {
      "text/html": [
       "<pre style=\"white-space:pre;overflow-x:auto;line-height:normal;font-family:Menlo,'DejaVu Sans Mono',consolas,'Courier New',monospace\"><span style=\"color: #7fbfbf; text-decoration-color: #7fbfbf\">[05:53:58] </span><span style=\"font-style: italic\"> ─── </span><span style=\"color: #808000; text-decoration-color: #808000; font-style: italic\">...</span><span style=\"font-style: italic\">Added </span><span style=\"color: #008080; text-decoration-color: #008080; font-weight: bold\">250</span><span style=\"font-style: italic\"> runs from group </span><span style=\"color: #008080; text-decoration-color: #008080; font-weight: bold\">0</span><span style=\"font-style: italic\">                                                         </span> <a href=\"file:///Users/alexandergoodell/code/llm-calc/llm_calc/util/util.py\" target=\"_blank\"><span style=\"color: #7f7f7f; text-decoration-color: #7f7f7f\">util.py</span></a><span style=\"color: #7f7f7f; text-decoration-color: #7f7f7f\">:</span><a href=\"file:///Users/alexandergoodell/code/llm-calc/llm_calc/util/util.py#318\" target=\"_blank\"><span style=\"color: #7f7f7f; text-decoration-color: #7f7f7f\">318</span></a>\n",
       "<span style=\"color: #7fbfbf; text-decoration-color: #7fbfbf\">           </span><span style=\"font-style: italic\">                                                                                            </span> <span style=\"color: #7f7f7f; text-decoration-color: #7f7f7f\">           </span>\n",
       "<span style=\"color: #7fbfbf; text-decoration-color: #7fbfbf\">           </span><span style=\"font-style: italic\">                                                                                            </span> <span style=\"color: #7f7f7f; text-decoration-color: #7f7f7f\">           </span>\n",
       "</pre>\n"
      ],
      "text/plain": [
       "\u001B[2;36m[05:53:58]\u001B[0m\u001B[2;36m \u001B[0m\u001B[3m ─── \u001B[0m\u001B[3;33m...\u001B[0m\u001B[3mAdded \u001B[0m\u001B[1;36m250\u001B[0m\u001B[3m runs from group \u001B[0m\u001B[1;36m0\u001B[0m\u001B[3m                                                         \u001B[0m \u001B]8;id=275241;file:///Users/alexandergoodell/code/llm-calc/llm_calc/util/util.py\u001B\\\u001B[2mutil.py\u001B[0m\u001B]8;;\u001B\\\u001B[2m:\u001B[0m\u001B]8;id=910233;file:///Users/alexandergoodell/code/llm-calc/llm_calc/util/util.py#318\u001B\\\u001B[2m318\u001B[0m\u001B]8;;\u001B\\\n",
       "\u001B[2;36m           \u001B[0m\u001B[3m                                                                                            \u001B[0m \u001B[2m           \u001B[0m\n",
       "\u001B[2;36m           \u001B[0m\u001B[3m                                                                                            \u001B[0m \u001B[2m           \u001B[0m\n"
      ]
     },
     "metadata": {},
     "output_type": "display_data"
    },
    {
     "data": {
      "text/html": [
       "<pre style=\"white-space:pre;overflow-x:auto;line-height:normal;font-family:Menlo,'DejaVu Sans Mono',consolas,'Courier New',monospace\"><span style=\"color: #7fbfbf; text-decoration-color: #7fbfbf\">           </span><span style=\"font-style: italic\"> ─── Getting group </span><span style=\"color: #008080; text-decoration-color: #008080; font-weight: bold\">1</span><span style=\"font-style: italic\"> from experiment goofy-tower                                            </span> <a href=\"file:///Users/alexandergoodell/code/llm-calc/llm_calc/util/util.py\" target=\"_blank\"><span style=\"color: #7f7f7f; text-decoration-color: #7f7f7f\">util.py</span></a><span style=\"color: #7f7f7f; text-decoration-color: #7f7f7f\">:</span><a href=\"file:///Users/alexandergoodell/code/llm-calc/llm_calc/util/util.py#318\" target=\"_blank\"><span style=\"color: #7f7f7f; text-decoration-color: #7f7f7f\">318</span></a>\n",
       "</pre>\n"
      ],
      "text/plain": [
       "\u001B[2;36m          \u001B[0m\u001B[2;36m \u001B[0m\u001B[3m ─── Getting group \u001B[0m\u001B[1;36m1\u001B[0m\u001B[3m from experiment goofy-tower                                            \u001B[0m \u001B]8;id=202223;file:///Users/alexandergoodell/code/llm-calc/llm_calc/util/util.py\u001B\\\u001B[2mutil.py\u001B[0m\u001B]8;;\u001B\\\u001B[2m:\u001B[0m\u001B]8;id=321790;file:///Users/alexandergoodell/code/llm-calc/llm_calc/util/util.py#318\u001B\\\u001B[2m318\u001B[0m\u001B]8;;\u001B\\\n"
      ]
     },
     "metadata": {},
     "output_type": "display_data"
    },
    {
     "data": {
      "text/html": [
       "<pre style=\"white-space:pre;overflow-x:auto;line-height:normal;font-family:Menlo,'DejaVu Sans Mono',consolas,'Courier New',monospace\">metadata_arm\n",
       "llama_rag_ci    <span style=\"color: #008080; text-decoration-color: #008080; font-weight: bold\">250</span>\n",
       "Name: count, dtype: int64\n",
       "</pre>\n"
      ],
      "text/plain": [
       "metadata_arm\n",
       "llama_rag_ci    \u001B[1;36m250\u001B[0m\n",
       "Name: count, dtype: int64\n"
      ]
     },
     "metadata": {},
     "output_type": "display_data"
    },
    {
     "data": {
      "text/html": [
       "<pre style=\"white-space:pre;overflow-x:auto;line-height:normal;font-family:Menlo,'DejaVu Sans Mono',consolas,'Courier New',monospace\"><span style=\"color: #7fbfbf; text-decoration-color: #7fbfbf\">[05:54:01] </span><span style=\"font-style: italic\"> ─── </span><span style=\"color: #808000; text-decoration-color: #808000; font-style: italic\">...</span><span style=\"font-style: italic\">Added </span><span style=\"color: #008080; text-decoration-color: #008080; font-weight: bold\">250</span><span style=\"font-style: italic\"> runs from group </span><span style=\"color: #008080; text-decoration-color: #008080; font-weight: bold\">1</span><span style=\"font-style: italic\">                                                         </span> <a href=\"file:///Users/alexandergoodell/code/llm-calc/llm_calc/util/util.py\" target=\"_blank\"><span style=\"color: #7f7f7f; text-decoration-color: #7f7f7f\">util.py</span></a><span style=\"color: #7f7f7f; text-decoration-color: #7f7f7f\">:</span><a href=\"file:///Users/alexandergoodell/code/llm-calc/llm_calc/util/util.py#318\" target=\"_blank\"><span style=\"color: #7f7f7f; text-decoration-color: #7f7f7f\">318</span></a>\n",
       "<span style=\"color: #7fbfbf; text-decoration-color: #7fbfbf\">           </span><span style=\"font-style: italic\">                                                                                            </span> <span style=\"color: #7f7f7f; text-decoration-color: #7f7f7f\">           </span>\n",
       "<span style=\"color: #7fbfbf; text-decoration-color: #7fbfbf\">           </span><span style=\"font-style: italic\">                                                                                            </span> <span style=\"color: #7f7f7f; text-decoration-color: #7f7f7f\">           </span>\n",
       "</pre>\n"
      ],
      "text/plain": [
       "\u001B[2;36m[05:54:01]\u001B[0m\u001B[2;36m \u001B[0m\u001B[3m ─── \u001B[0m\u001B[3;33m...\u001B[0m\u001B[3mAdded \u001B[0m\u001B[1;36m250\u001B[0m\u001B[3m runs from group \u001B[0m\u001B[1;36m1\u001B[0m\u001B[3m                                                         \u001B[0m \u001B]8;id=614801;file:///Users/alexandergoodell/code/llm-calc/llm_calc/util/util.py\u001B\\\u001B[2mutil.py\u001B[0m\u001B]8;;\u001B\\\u001B[2m:\u001B[0m\u001B]8;id=509688;file:///Users/alexandergoodell/code/llm-calc/llm_calc/util/util.py#318\u001B\\\u001B[2m318\u001B[0m\u001B]8;;\u001B\\\n",
       "\u001B[2;36m           \u001B[0m\u001B[3m                                                                                            \u001B[0m \u001B[2m           \u001B[0m\n",
       "\u001B[2;36m           \u001B[0m\u001B[3m                                                                                            \u001B[0m \u001B[2m           \u001B[0m\n"
      ]
     },
     "metadata": {},
     "output_type": "display_data"
    },
    {
     "data": {
      "text/html": [
       "<pre style=\"white-space:pre;overflow-x:auto;line-height:normal;font-family:Menlo,'DejaVu Sans Mono',consolas,'Courier New',monospace\"><span style=\"color: #7fbfbf; text-decoration-color: #7fbfbf\">           </span><span style=\"font-style: italic\"> ─── Getting group </span><span style=\"color: #008080; text-decoration-color: #008080; font-weight: bold\">2</span><span style=\"font-style: italic\"> from experiment goofy-tower                                            </span> <a href=\"file:///Users/alexandergoodell/code/llm-calc/llm_calc/util/util.py\" target=\"_blank\"><span style=\"color: #7f7f7f; text-decoration-color: #7f7f7f\">util.py</span></a><span style=\"color: #7f7f7f; text-decoration-color: #7f7f7f\">:</span><a href=\"file:///Users/alexandergoodell/code/llm-calc/llm_calc/util/util.py#318\" target=\"_blank\"><span style=\"color: #7f7f7f; text-decoration-color: #7f7f7f\">318</span></a>\n",
       "</pre>\n"
      ],
      "text/plain": [
       "\u001B[2;36m          \u001B[0m\u001B[2;36m \u001B[0m\u001B[3m ─── Getting group \u001B[0m\u001B[1;36m2\u001B[0m\u001B[3m from experiment goofy-tower                                            \u001B[0m \u001B]8;id=75065;file:///Users/alexandergoodell/code/llm-calc/llm_calc/util/util.py\u001B\\\u001B[2mutil.py\u001B[0m\u001B]8;;\u001B\\\u001B[2m:\u001B[0m\u001B]8;id=352437;file:///Users/alexandergoodell/code/llm-calc/llm_calc/util/util.py#318\u001B\\\u001B[2m318\u001B[0m\u001B]8;;\u001B\\\n"
      ]
     },
     "metadata": {},
     "output_type": "display_data"
    },
    {
     "data": {
      "text/html": [
       "<pre style=\"white-space:pre;overflow-x:auto;line-height:normal;font-family:Menlo,'DejaVu Sans Mono',consolas,'Courier New',monospace\">metadata_arm\n",
       "llama_rag    <span style=\"color: #008080; text-decoration-color: #008080; font-weight: bold\">250</span>\n",
       "Name: count, dtype: int64\n",
       "</pre>\n"
      ],
      "text/plain": [
       "metadata_arm\n",
       "llama_rag    \u001B[1;36m250\u001B[0m\n",
       "Name: count, dtype: int64\n"
      ]
     },
     "metadata": {},
     "output_type": "display_data"
    },
    {
     "data": {
      "text/html": [
       "<pre style=\"white-space:pre;overflow-x:auto;line-height:normal;font-family:Menlo,'DejaVu Sans Mono',consolas,'Courier New',monospace\"><span style=\"color: #7fbfbf; text-decoration-color: #7fbfbf\">[05:54:03] </span><span style=\"font-style: italic\"> ─── </span><span style=\"color: #808000; text-decoration-color: #808000; font-style: italic\">...</span><span style=\"font-style: italic\">Added </span><span style=\"color: #008080; text-decoration-color: #008080; font-weight: bold\">250</span><span style=\"font-style: italic\"> runs from group </span><span style=\"color: #008080; text-decoration-color: #008080; font-weight: bold\">2</span><span style=\"font-style: italic\">                                                         </span> <a href=\"file:///Users/alexandergoodell/code/llm-calc/llm_calc/util/util.py\" target=\"_blank\"><span style=\"color: #7f7f7f; text-decoration-color: #7f7f7f\">util.py</span></a><span style=\"color: #7f7f7f; text-decoration-color: #7f7f7f\">:</span><a href=\"file:///Users/alexandergoodell/code/llm-calc/llm_calc/util/util.py#318\" target=\"_blank\"><span style=\"color: #7f7f7f; text-decoration-color: #7f7f7f\">318</span></a>\n",
       "<span style=\"color: #7fbfbf; text-decoration-color: #7fbfbf\">           </span><span style=\"font-style: italic\">                                                                                            </span> <span style=\"color: #7f7f7f; text-decoration-color: #7f7f7f\">           </span>\n",
       "<span style=\"color: #7fbfbf; text-decoration-color: #7fbfbf\">           </span><span style=\"font-style: italic\">                                                                                            </span> <span style=\"color: #7f7f7f; text-decoration-color: #7f7f7f\">           </span>\n",
       "</pre>\n"
      ],
      "text/plain": [
       "\u001B[2;36m[05:54:03]\u001B[0m\u001B[2;36m \u001B[0m\u001B[3m ─── \u001B[0m\u001B[3;33m...\u001B[0m\u001B[3mAdded \u001B[0m\u001B[1;36m250\u001B[0m\u001B[3m runs from group \u001B[0m\u001B[1;36m2\u001B[0m\u001B[3m                                                         \u001B[0m \u001B]8;id=536514;file:///Users/alexandergoodell/code/llm-calc/llm_calc/util/util.py\u001B\\\u001B[2mutil.py\u001B[0m\u001B]8;;\u001B\\\u001B[2m:\u001B[0m\u001B]8;id=175665;file:///Users/alexandergoodell/code/llm-calc/llm_calc/util/util.py#318\u001B\\\u001B[2m318\u001B[0m\u001B]8;;\u001B\\\n",
       "\u001B[2;36m           \u001B[0m\u001B[3m                                                                                            \u001B[0m \u001B[2m           \u001B[0m\n",
       "\u001B[2;36m           \u001B[0m\u001B[3m                                                                                            \u001B[0m \u001B[2m           \u001B[0m\n"
      ]
     },
     "metadata": {},
     "output_type": "display_data"
    },
    {
     "data": {
      "text/html": [
       "<pre style=\"white-space:pre;overflow-x:auto;line-height:normal;font-family:Menlo,'DejaVu Sans Mono',consolas,'Courier New',monospace\"><span style=\"color: #7fbfbf; text-decoration-color: #7fbfbf\">           </span><span style=\"font-style: italic\"> ─── Getting group </span><span style=\"color: #008080; text-decoration-color: #008080; font-weight: bold\">3</span><span style=\"font-style: italic\"> from experiment goofy-tower                                            </span> <a href=\"file:///Users/alexandergoodell/code/llm-calc/llm_calc/util/util.py\" target=\"_blank\"><span style=\"color: #7f7f7f; text-decoration-color: #7f7f7f\">util.py</span></a><span style=\"color: #7f7f7f; text-decoration-color: #7f7f7f\">:</span><a href=\"file:///Users/alexandergoodell/code/llm-calc/llm_calc/util/util.py#318\" target=\"_blank\"><span style=\"color: #7f7f7f; text-decoration-color: #7f7f7f\">318</span></a>\n",
       "</pre>\n"
      ],
      "text/plain": [
       "\u001B[2;36m          \u001B[0m\u001B[2;36m \u001B[0m\u001B[3m ─── Getting group \u001B[0m\u001B[1;36m3\u001B[0m\u001B[3m from experiment goofy-tower                                            \u001B[0m \u001B]8;id=136970;file:///Users/alexandergoodell/code/llm-calc/llm_calc/util/util.py\u001B\\\u001B[2mutil.py\u001B[0m\u001B]8;;\u001B\\\u001B[2m:\u001B[0m\u001B]8;id=754841;file:///Users/alexandergoodell/code/llm-calc/llm_calc/util/util.py#318\u001B\\\u001B[2m318\u001B[0m\u001B]8;;\u001B\\\n"
      ]
     },
     "metadata": {},
     "output_type": "display_data"
    },
    {
     "data": {
      "text/html": [
       "<pre style=\"white-space:pre;overflow-x:auto;line-height:normal;font-family:Menlo,'DejaVu Sans Mono',consolas,'Courier New',monospace\">metadata_arm\n",
       "llama_ci    <span style=\"color: #008080; text-decoration-color: #008080; font-weight: bold\">250</span>\n",
       "Name: count, dtype: int64\n",
       "</pre>\n"
      ],
      "text/plain": [
       "metadata_arm\n",
       "llama_ci    \u001B[1;36m250\u001B[0m\n",
       "Name: count, dtype: int64\n"
      ]
     },
     "metadata": {},
     "output_type": "display_data"
    },
    {
     "data": {
      "text/html": [
       "<pre style=\"white-space:pre;overflow-x:auto;line-height:normal;font-family:Menlo,'DejaVu Sans Mono',consolas,'Courier New',monospace\"><span style=\"color: #7fbfbf; text-decoration-color: #7fbfbf\">[05:54:06] </span><span style=\"font-style: italic\"> ─── </span><span style=\"color: #808000; text-decoration-color: #808000; font-style: italic\">...</span><span style=\"font-style: italic\">Added </span><span style=\"color: #008080; text-decoration-color: #008080; font-weight: bold\">250</span><span style=\"font-style: italic\"> runs from group </span><span style=\"color: #008080; text-decoration-color: #008080; font-weight: bold\">3</span><span style=\"font-style: italic\">                                                         </span> <a href=\"file:///Users/alexandergoodell/code/llm-calc/llm_calc/util/util.py\" target=\"_blank\"><span style=\"color: #7f7f7f; text-decoration-color: #7f7f7f\">util.py</span></a><span style=\"color: #7f7f7f; text-decoration-color: #7f7f7f\">:</span><a href=\"file:///Users/alexandergoodell/code/llm-calc/llm_calc/util/util.py#318\" target=\"_blank\"><span style=\"color: #7f7f7f; text-decoration-color: #7f7f7f\">318</span></a>\n",
       "<span style=\"color: #7fbfbf; text-decoration-color: #7fbfbf\">           </span><span style=\"font-style: italic\">                                                                                            </span> <span style=\"color: #7f7f7f; text-decoration-color: #7f7f7f\">           </span>\n",
       "<span style=\"color: #7fbfbf; text-decoration-color: #7fbfbf\">           </span><span style=\"font-style: italic\">                                                                                            </span> <span style=\"color: #7f7f7f; text-decoration-color: #7f7f7f\">           </span>\n",
       "</pre>\n"
      ],
      "text/plain": [
       "\u001B[2;36m[05:54:06]\u001B[0m\u001B[2;36m \u001B[0m\u001B[3m ─── \u001B[0m\u001B[3;33m...\u001B[0m\u001B[3mAdded \u001B[0m\u001B[1;36m250\u001B[0m\u001B[3m runs from group \u001B[0m\u001B[1;36m3\u001B[0m\u001B[3m                                                         \u001B[0m \u001B]8;id=403721;file:///Users/alexandergoodell/code/llm-calc/llm_calc/util/util.py\u001B\\\u001B[2mutil.py\u001B[0m\u001B]8;;\u001B\\\u001B[2m:\u001B[0m\u001B]8;id=955377;file:///Users/alexandergoodell/code/llm-calc/llm_calc/util/util.py#318\u001B\\\u001B[2m318\u001B[0m\u001B]8;;\u001B\\\n",
       "\u001B[2;36m           \u001B[0m\u001B[3m                                                                                            \u001B[0m \u001B[2m           \u001B[0m\n",
       "\u001B[2;36m           \u001B[0m\u001B[3m                                                                                            \u001B[0m \u001B[2m           \u001B[0m\n"
      ]
     },
     "metadata": {},
     "output_type": "display_data"
    },
    {
     "data": {
      "text/html": [
       "<pre style=\"white-space:pre;overflow-x:auto;line-height:normal;font-family:Menlo,'DejaVu Sans Mono',consolas,'Courier New',monospace\"><span style=\"color: #7fbfbf; text-decoration-color: #7fbfbf\">           </span><span style=\"font-style: italic\"> ─── Getting group </span><span style=\"color: #008080; text-decoration-color: #008080; font-weight: bold\">4</span><span style=\"font-style: italic\"> from experiment goofy-tower                                            </span> <a href=\"file:///Users/alexandergoodell/code/llm-calc/llm_calc/util/util.py\" target=\"_blank\"><span style=\"color: #7f7f7f; text-decoration-color: #7f7f7f\">util.py</span></a><span style=\"color: #7f7f7f; text-decoration-color: #7f7f7f\">:</span><a href=\"file:///Users/alexandergoodell/code/llm-calc/llm_calc/util/util.py#318\" target=\"_blank\"><span style=\"color: #7f7f7f; text-decoration-color: #7f7f7f\">318</span></a>\n",
       "</pre>\n"
      ],
      "text/plain": [
       "\u001B[2;36m          \u001B[0m\u001B[2;36m \u001B[0m\u001B[3m ─── Getting group \u001B[0m\u001B[1;36m4\u001B[0m\u001B[3m from experiment goofy-tower                                            \u001B[0m \u001B]8;id=677889;file:///Users/alexandergoodell/code/llm-calc/llm_calc/util/util.py\u001B\\\u001B[2mutil.py\u001B[0m\u001B]8;;\u001B\\\u001B[2m:\u001B[0m\u001B]8;id=273533;file:///Users/alexandergoodell/code/llm-calc/llm_calc/util/util.py#318\u001B\\\u001B[2m318\u001B[0m\u001B]8;;\u001B\\\n"
      ]
     },
     "metadata": {},
     "output_type": "display_data"
    },
    {
     "data": {
      "text/html": [
       "<pre style=\"white-space:pre;overflow-x:auto;line-height:normal;font-family:Menlo,'DejaVu Sans Mono',consolas,'Courier New',monospace\">metadata_arm\n",
       "llama_base    <span style=\"color: #008080; text-decoration-color: #008080; font-weight: bold\">250</span>\n",
       "Name: count, dtype: int64\n",
       "</pre>\n"
      ],
      "text/plain": [
       "metadata_arm\n",
       "llama_base    \u001B[1;36m250\u001B[0m\n",
       "Name: count, dtype: int64\n"
      ]
     },
     "metadata": {},
     "output_type": "display_data"
    },
    {
     "data": {
      "text/html": [
       "<pre style=\"white-space:pre;overflow-x:auto;line-height:normal;font-family:Menlo,'DejaVu Sans Mono',consolas,'Courier New',monospace\"><span style=\"color: #7fbfbf; text-decoration-color: #7fbfbf\">[05:54:09] </span><span style=\"font-style: italic\"> ─── </span><span style=\"color: #808000; text-decoration-color: #808000; font-style: italic\">...</span><span style=\"font-style: italic\">Added </span><span style=\"color: #008080; text-decoration-color: #008080; font-weight: bold\">250</span><span style=\"font-style: italic\"> runs from group </span><span style=\"color: #008080; text-decoration-color: #008080; font-weight: bold\">4</span><span style=\"font-style: italic\">                                                         </span> <a href=\"file:///Users/alexandergoodell/code/llm-calc/llm_calc/util/util.py\" target=\"_blank\"><span style=\"color: #7f7f7f; text-decoration-color: #7f7f7f\">util.py</span></a><span style=\"color: #7f7f7f; text-decoration-color: #7f7f7f\">:</span><a href=\"file:///Users/alexandergoodell/code/llm-calc/llm_calc/util/util.py#318\" target=\"_blank\"><span style=\"color: #7f7f7f; text-decoration-color: #7f7f7f\">318</span></a>\n",
       "<span style=\"color: #7fbfbf; text-decoration-color: #7fbfbf\">           </span><span style=\"font-style: italic\">                                                                                            </span> <span style=\"color: #7f7f7f; text-decoration-color: #7f7f7f\">           </span>\n",
       "<span style=\"color: #7fbfbf; text-decoration-color: #7fbfbf\">           </span><span style=\"font-style: italic\">                                                                                            </span> <span style=\"color: #7f7f7f; text-decoration-color: #7f7f7f\">           </span>\n",
       "</pre>\n"
      ],
      "text/plain": [
       "\u001B[2;36m[05:54:09]\u001B[0m\u001B[2;36m \u001B[0m\u001B[3m ─── \u001B[0m\u001B[3;33m...\u001B[0m\u001B[3mAdded \u001B[0m\u001B[1;36m250\u001B[0m\u001B[3m runs from group \u001B[0m\u001B[1;36m4\u001B[0m\u001B[3m                                                         \u001B[0m \u001B]8;id=602858;file:///Users/alexandergoodell/code/llm-calc/llm_calc/util/util.py\u001B\\\u001B[2mutil.py\u001B[0m\u001B]8;;\u001B\\\u001B[2m:\u001B[0m\u001B]8;id=921316;file:///Users/alexandergoodell/code/llm-calc/llm_calc/util/util.py#318\u001B\\\u001B[2m318\u001B[0m\u001B]8;;\u001B\\\n",
       "\u001B[2;36m           \u001B[0m\u001B[3m                                                                                            \u001B[0m \u001B[2m           \u001B[0m\n",
       "\u001B[2;36m           \u001B[0m\u001B[3m                                                                                            \u001B[0m \u001B[2m           \u001B[0m\n"
      ]
     },
     "metadata": {},
     "output_type": "display_data"
    },
    {
     "data": {
      "text/html": [
       "<pre style=\"white-space:pre;overflow-x:auto;line-height:normal;font-family:Menlo,'DejaVu Sans Mono',consolas,'Courier New',monospace\"><span style=\"color: #7fbfbf; text-decoration-color: #7fbfbf\">           </span><span style=\"font-style: italic\"> ─── Getting group </span><span style=\"color: #008080; text-decoration-color: #008080; font-weight: bold\">5</span><span style=\"font-style: italic\"> from experiment goofy-tower                                            </span> <a href=\"file:///Users/alexandergoodell/code/llm-calc/llm_calc/util/util.py\" target=\"_blank\"><span style=\"color: #7f7f7f; text-decoration-color: #7f7f7f\">util.py</span></a><span style=\"color: #7f7f7f; text-decoration-color: #7f7f7f\">:</span><a href=\"file:///Users/alexandergoodell/code/llm-calc/llm_calc/util/util.py#318\" target=\"_blank\"><span style=\"color: #7f7f7f; text-decoration-color: #7f7f7f\">318</span></a>\n",
       "</pre>\n"
      ],
      "text/plain": [
       "\u001B[2;36m          \u001B[0m\u001B[2;36m \u001B[0m\u001B[3m ─── Getting group \u001B[0m\u001B[1;36m5\u001B[0m\u001B[3m from experiment goofy-tower                                            \u001B[0m \u001B]8;id=953194;file:///Users/alexandergoodell/code/llm-calc/llm_calc/util/util.py\u001B\\\u001B[2mutil.py\u001B[0m\u001B]8;;\u001B\\\u001B[2m:\u001B[0m\u001B]8;id=335637;file:///Users/alexandergoodell/code/llm-calc/llm_calc/util/util.py#318\u001B\\\u001B[2m318\u001B[0m\u001B]8;;\u001B\\\n"
      ]
     },
     "metadata": {},
     "output_type": "display_data"
    },
    {
     "data": {
      "text/html": [
       "<pre style=\"white-space:pre;overflow-x:auto;line-height:normal;font-family:Menlo,'DejaVu Sans Mono',consolas,'Courier New',monospace\">metadata_arm\n",
       "gpt4_omc    <span style=\"color: #008080; text-decoration-color: #008080; font-weight: bold\">250</span>\n",
       "Name: count, dtype: int64\n",
       "</pre>\n"
      ],
      "text/plain": [
       "metadata_arm\n",
       "gpt4_omc    \u001B[1;36m250\u001B[0m\n",
       "Name: count, dtype: int64\n"
      ]
     },
     "metadata": {},
     "output_type": "display_data"
    },
    {
     "data": {
      "text/html": [
       "<pre style=\"white-space:pre;overflow-x:auto;line-height:normal;font-family:Menlo,'DejaVu Sans Mono',consolas,'Courier New',monospace\"><span style=\"color: #7fbfbf; text-decoration-color: #7fbfbf\">[05:54:11] </span><span style=\"font-style: italic\"> ─── </span><span style=\"color: #808000; text-decoration-color: #808000; font-style: italic\">...</span><span style=\"font-style: italic\">Added </span><span style=\"color: #008080; text-decoration-color: #008080; font-weight: bold\">250</span><span style=\"font-style: italic\"> runs from group </span><span style=\"color: #008080; text-decoration-color: #008080; font-weight: bold\">5</span><span style=\"font-style: italic\">                                                         </span> <a href=\"file:///Users/alexandergoodell/code/llm-calc/llm_calc/util/util.py\" target=\"_blank\"><span style=\"color: #7f7f7f; text-decoration-color: #7f7f7f\">util.py</span></a><span style=\"color: #7f7f7f; text-decoration-color: #7f7f7f\">:</span><a href=\"file:///Users/alexandergoodell/code/llm-calc/llm_calc/util/util.py#318\" target=\"_blank\"><span style=\"color: #7f7f7f; text-decoration-color: #7f7f7f\">318</span></a>\n",
       "<span style=\"color: #7fbfbf; text-decoration-color: #7fbfbf\">           </span><span style=\"font-style: italic\">                                                                                            </span> <span style=\"color: #7f7f7f; text-decoration-color: #7f7f7f\">           </span>\n",
       "<span style=\"color: #7fbfbf; text-decoration-color: #7fbfbf\">           </span><span style=\"font-style: italic\">                                                                                            </span> <span style=\"color: #7f7f7f; text-decoration-color: #7f7f7f\">           </span>\n",
       "</pre>\n"
      ],
      "text/plain": [
       "\u001B[2;36m[05:54:11]\u001B[0m\u001B[2;36m \u001B[0m\u001B[3m ─── \u001B[0m\u001B[3;33m...\u001B[0m\u001B[3mAdded \u001B[0m\u001B[1;36m250\u001B[0m\u001B[3m runs from group \u001B[0m\u001B[1;36m5\u001B[0m\u001B[3m                                                         \u001B[0m \u001B]8;id=301413;file:///Users/alexandergoodell/code/llm-calc/llm_calc/util/util.py\u001B\\\u001B[2mutil.py\u001B[0m\u001B]8;;\u001B\\\u001B[2m:\u001B[0m\u001B]8;id=133082;file:///Users/alexandergoodell/code/llm-calc/llm_calc/util/util.py#318\u001B\\\u001B[2m318\u001B[0m\u001B]8;;\u001B\\\n",
       "\u001B[2;36m           \u001B[0m\u001B[3m                                                                                            \u001B[0m \u001B[2m           \u001B[0m\n",
       "\u001B[2;36m           \u001B[0m\u001B[3m                                                                                            \u001B[0m \u001B[2m           \u001B[0m\n"
      ]
     },
     "metadata": {},
     "output_type": "display_data"
    },
    {
     "data": {
      "text/html": [
       "<pre style=\"white-space:pre;overflow-x:auto;line-height:normal;font-family:Menlo,'DejaVu Sans Mono',consolas,'Courier New',monospace\"><span style=\"color: #7fbfbf; text-decoration-color: #7fbfbf\">           </span><span style=\"font-style: italic\"> ─── Getting group </span><span style=\"color: #008080; text-decoration-color: #008080; font-weight: bold\">6</span><span style=\"font-style: italic\"> from experiment goofy-tower                                            </span> <a href=\"file:///Users/alexandergoodell/code/llm-calc/llm_calc/util/util.py\" target=\"_blank\"><span style=\"color: #7f7f7f; text-decoration-color: #7f7f7f\">util.py</span></a><span style=\"color: #7f7f7f; text-decoration-color: #7f7f7f\">:</span><a href=\"file:///Users/alexandergoodell/code/llm-calc/llm_calc/util/util.py#318\" target=\"_blank\"><span style=\"color: #7f7f7f; text-decoration-color: #7f7f7f\">318</span></a>\n",
       "</pre>\n"
      ],
      "text/plain": [
       "\u001B[2;36m          \u001B[0m\u001B[2;36m \u001B[0m\u001B[3m ─── Getting group \u001B[0m\u001B[1;36m6\u001B[0m\u001B[3m from experiment goofy-tower                                            \u001B[0m \u001B]8;id=451081;file:///Users/alexandergoodell/code/llm-calc/llm_calc/util/util.py\u001B\\\u001B[2mutil.py\u001B[0m\u001B]8;;\u001B\\\u001B[2m:\u001B[0m\u001B]8;id=691655;file:///Users/alexandergoodell/code/llm-calc/llm_calc/util/util.py#318\u001B\\\u001B[2m318\u001B[0m\u001B]8;;\u001B\\\n"
      ]
     },
     "metadata": {},
     "output_type": "display_data"
    },
    {
     "data": {
      "text/html": [
       "<pre style=\"white-space:pre;overflow-x:auto;line-height:normal;font-family:Menlo,'DejaVu Sans Mono',consolas,'Courier New',monospace\">metadata_arm\n",
       "gpt4_rag_ci    <span style=\"color: #008080; text-decoration-color: #008080; font-weight: bold\">250</span>\n",
       "Name: count, dtype: int64\n",
       "</pre>\n"
      ],
      "text/plain": [
       "metadata_arm\n",
       "gpt4_rag_ci    \u001B[1;36m250\u001B[0m\n",
       "Name: count, dtype: int64\n"
      ]
     },
     "metadata": {},
     "output_type": "display_data"
    },
    {
     "data": {
      "text/html": [
       "<pre style=\"white-space:pre;overflow-x:auto;line-height:normal;font-family:Menlo,'DejaVu Sans Mono',consolas,'Courier New',monospace\"><span style=\"color: #7fbfbf; text-decoration-color: #7fbfbf\">[05:54:14] </span><span style=\"font-style: italic\"> ─── </span><span style=\"color: #808000; text-decoration-color: #808000; font-style: italic\">...</span><span style=\"font-style: italic\">Added </span><span style=\"color: #008080; text-decoration-color: #008080; font-weight: bold\">250</span><span style=\"font-style: italic\"> runs from group </span><span style=\"color: #008080; text-decoration-color: #008080; font-weight: bold\">6</span><span style=\"font-style: italic\">                                                         </span> <a href=\"file:///Users/alexandergoodell/code/llm-calc/llm_calc/util/util.py\" target=\"_blank\"><span style=\"color: #7f7f7f; text-decoration-color: #7f7f7f\">util.py</span></a><span style=\"color: #7f7f7f; text-decoration-color: #7f7f7f\">:</span><a href=\"file:///Users/alexandergoodell/code/llm-calc/llm_calc/util/util.py#318\" target=\"_blank\"><span style=\"color: #7f7f7f; text-decoration-color: #7f7f7f\">318</span></a>\n",
       "<span style=\"color: #7fbfbf; text-decoration-color: #7fbfbf\">           </span><span style=\"font-style: italic\">                                                                                            </span> <span style=\"color: #7f7f7f; text-decoration-color: #7f7f7f\">           </span>\n",
       "<span style=\"color: #7fbfbf; text-decoration-color: #7fbfbf\">           </span><span style=\"font-style: italic\">                                                                                            </span> <span style=\"color: #7f7f7f; text-decoration-color: #7f7f7f\">           </span>\n",
       "</pre>\n"
      ],
      "text/plain": [
       "\u001B[2;36m[05:54:14]\u001B[0m\u001B[2;36m \u001B[0m\u001B[3m ─── \u001B[0m\u001B[3;33m...\u001B[0m\u001B[3mAdded \u001B[0m\u001B[1;36m250\u001B[0m\u001B[3m runs from group \u001B[0m\u001B[1;36m6\u001B[0m\u001B[3m                                                         \u001B[0m \u001B]8;id=336739;file:///Users/alexandergoodell/code/llm-calc/llm_calc/util/util.py\u001B\\\u001B[2mutil.py\u001B[0m\u001B]8;;\u001B\\\u001B[2m:\u001B[0m\u001B]8;id=815789;file:///Users/alexandergoodell/code/llm-calc/llm_calc/util/util.py#318\u001B\\\u001B[2m318\u001B[0m\u001B]8;;\u001B\\\n",
       "\u001B[2;36m           \u001B[0m\u001B[3m                                                                                            \u001B[0m \u001B[2m           \u001B[0m\n",
       "\u001B[2;36m           \u001B[0m\u001B[3m                                                                                            \u001B[0m \u001B[2m           \u001B[0m\n"
      ]
     },
     "metadata": {},
     "output_type": "display_data"
    },
    {
     "data": {
      "text/html": [
       "<pre style=\"white-space:pre;overflow-x:auto;line-height:normal;font-family:Menlo,'DejaVu Sans Mono',consolas,'Courier New',monospace\"><span style=\"color: #7fbfbf; text-decoration-color: #7fbfbf\">           </span><span style=\"font-style: italic\"> ─── Getting group </span><span style=\"color: #008080; text-decoration-color: #008080; font-weight: bold\">7</span><span style=\"font-style: italic\"> from experiment goofy-tower                                            </span> <a href=\"file:///Users/alexandergoodell/code/llm-calc/llm_calc/util/util.py\" target=\"_blank\"><span style=\"color: #7f7f7f; text-decoration-color: #7f7f7f\">util.py</span></a><span style=\"color: #7f7f7f; text-decoration-color: #7f7f7f\">:</span><a href=\"file:///Users/alexandergoodell/code/llm-calc/llm_calc/util/util.py#318\" target=\"_blank\"><span style=\"color: #7f7f7f; text-decoration-color: #7f7f7f\">318</span></a>\n",
       "</pre>\n"
      ],
      "text/plain": [
       "\u001B[2;36m          \u001B[0m\u001B[2;36m \u001B[0m\u001B[3m ─── Getting group \u001B[0m\u001B[1;36m7\u001B[0m\u001B[3m from experiment goofy-tower                                            \u001B[0m \u001B]8;id=169848;file:///Users/alexandergoodell/code/llm-calc/llm_calc/util/util.py\u001B\\\u001B[2mutil.py\u001B[0m\u001B]8;;\u001B\\\u001B[2m:\u001B[0m\u001B]8;id=76861;file:///Users/alexandergoodell/code/llm-calc/llm_calc/util/util.py#318\u001B\\\u001B[2m318\u001B[0m\u001B]8;;\u001B\\\n"
      ]
     },
     "metadata": {},
     "output_type": "display_data"
    },
    {
     "data": {
      "text/html": [
       "<pre style=\"white-space:pre;overflow-x:auto;line-height:normal;font-family:Menlo,'DejaVu Sans Mono',consolas,'Courier New',monospace\">metadata_arm\n",
       "gpt4_rag    <span style=\"color: #008080; text-decoration-color: #008080; font-weight: bold\">250</span>\n",
       "Name: count, dtype: int64\n",
       "</pre>\n"
      ],
      "text/plain": [
       "metadata_arm\n",
       "gpt4_rag    \u001B[1;36m250\u001B[0m\n",
       "Name: count, dtype: int64\n"
      ]
     },
     "metadata": {},
     "output_type": "display_data"
    },
    {
     "data": {
      "text/html": [
       "<pre style=\"white-space:pre;overflow-x:auto;line-height:normal;font-family:Menlo,'DejaVu Sans Mono',consolas,'Courier New',monospace\"><span style=\"color: #7fbfbf; text-decoration-color: #7fbfbf\">[05:54:16] </span><span style=\"font-style: italic\"> ─── </span><span style=\"color: #808000; text-decoration-color: #808000; font-style: italic\">...</span><span style=\"font-style: italic\">Added </span><span style=\"color: #008080; text-decoration-color: #008080; font-weight: bold\">250</span><span style=\"font-style: italic\"> runs from group </span><span style=\"color: #008080; text-decoration-color: #008080; font-weight: bold\">7</span><span style=\"font-style: italic\">                                                         </span> <a href=\"file:///Users/alexandergoodell/code/llm-calc/llm_calc/util/util.py\" target=\"_blank\"><span style=\"color: #7f7f7f; text-decoration-color: #7f7f7f\">util.py</span></a><span style=\"color: #7f7f7f; text-decoration-color: #7f7f7f\">:</span><a href=\"file:///Users/alexandergoodell/code/llm-calc/llm_calc/util/util.py#318\" target=\"_blank\"><span style=\"color: #7f7f7f; text-decoration-color: #7f7f7f\">318</span></a>\n",
       "<span style=\"color: #7fbfbf; text-decoration-color: #7fbfbf\">           </span><span style=\"font-style: italic\">                                                                                            </span> <span style=\"color: #7f7f7f; text-decoration-color: #7f7f7f\">           </span>\n",
       "<span style=\"color: #7fbfbf; text-decoration-color: #7fbfbf\">           </span><span style=\"font-style: italic\">                                                                                            </span> <span style=\"color: #7f7f7f; text-decoration-color: #7f7f7f\">           </span>\n",
       "</pre>\n"
      ],
      "text/plain": [
       "\u001B[2;36m[05:54:16]\u001B[0m\u001B[2;36m \u001B[0m\u001B[3m ─── \u001B[0m\u001B[3;33m...\u001B[0m\u001B[3mAdded \u001B[0m\u001B[1;36m250\u001B[0m\u001B[3m runs from group \u001B[0m\u001B[1;36m7\u001B[0m\u001B[3m                                                         \u001B[0m \u001B]8;id=470478;file:///Users/alexandergoodell/code/llm-calc/llm_calc/util/util.py\u001B\\\u001B[2mutil.py\u001B[0m\u001B]8;;\u001B\\\u001B[2m:\u001B[0m\u001B]8;id=435481;file:///Users/alexandergoodell/code/llm-calc/llm_calc/util/util.py#318\u001B\\\u001B[2m318\u001B[0m\u001B]8;;\u001B\\\n",
       "\u001B[2;36m           \u001B[0m\u001B[3m                                                                                            \u001B[0m \u001B[2m           \u001B[0m\n",
       "\u001B[2;36m           \u001B[0m\u001B[3m                                                                                            \u001B[0m \u001B[2m           \u001B[0m\n"
      ]
     },
     "metadata": {},
     "output_type": "display_data"
    },
    {
     "data": {
      "text/html": [
       "<pre style=\"white-space:pre;overflow-x:auto;line-height:normal;font-family:Menlo,'DejaVu Sans Mono',consolas,'Courier New',monospace\"><span style=\"color: #7fbfbf; text-decoration-color: #7fbfbf\">           </span><span style=\"font-style: italic\"> ─── Getting group </span><span style=\"color: #008080; text-decoration-color: #008080; font-weight: bold\">8</span><span style=\"font-style: italic\"> from experiment goofy-tower                                            </span> <a href=\"file:///Users/alexandergoodell/code/llm-calc/llm_calc/util/util.py\" target=\"_blank\"><span style=\"color: #7f7f7f; text-decoration-color: #7f7f7f\">util.py</span></a><span style=\"color: #7f7f7f; text-decoration-color: #7f7f7f\">:</span><a href=\"file:///Users/alexandergoodell/code/llm-calc/llm_calc/util/util.py#318\" target=\"_blank\"><span style=\"color: #7f7f7f; text-decoration-color: #7f7f7f\">318</span></a>\n",
       "</pre>\n"
      ],
      "text/plain": [
       "\u001B[2;36m          \u001B[0m\u001B[2;36m \u001B[0m\u001B[3m ─── Getting group \u001B[0m\u001B[1;36m8\u001B[0m\u001B[3m from experiment goofy-tower                                            \u001B[0m \u001B]8;id=524870;file:///Users/alexandergoodell/code/llm-calc/llm_calc/util/util.py\u001B\\\u001B[2mutil.py\u001B[0m\u001B]8;;\u001B\\\u001B[2m:\u001B[0m\u001B]8;id=239026;file:///Users/alexandergoodell/code/llm-calc/llm_calc/util/util.py#318\u001B\\\u001B[2m318\u001B[0m\u001B]8;;\u001B\\\n"
      ]
     },
     "metadata": {},
     "output_type": "display_data"
    },
    {
     "data": {
      "text/html": [
       "<pre style=\"white-space:pre;overflow-x:auto;line-height:normal;font-family:Menlo,'DejaVu Sans Mono',consolas,'Courier New',monospace\">metadata_arm\n",
       "gpt4_ci    <span style=\"color: #008080; text-decoration-color: #008080; font-weight: bold\">250</span>\n",
       "Name: count, dtype: int64\n",
       "</pre>\n"
      ],
      "text/plain": [
       "metadata_arm\n",
       "gpt4_ci    \u001B[1;36m250\u001B[0m\n",
       "Name: count, dtype: int64\n"
      ]
     },
     "metadata": {},
     "output_type": "display_data"
    },
    {
     "data": {
      "text/html": [
       "<pre style=\"white-space:pre;overflow-x:auto;line-height:normal;font-family:Menlo,'DejaVu Sans Mono',consolas,'Courier New',monospace\"><span style=\"color: #7fbfbf; text-decoration-color: #7fbfbf\">[05:54:19] </span><span style=\"font-style: italic\"> ─── </span><span style=\"color: #808000; text-decoration-color: #808000; font-style: italic\">...</span><span style=\"font-style: italic\">Added </span><span style=\"color: #008080; text-decoration-color: #008080; font-weight: bold\">250</span><span style=\"font-style: italic\"> runs from group </span><span style=\"color: #008080; text-decoration-color: #008080; font-weight: bold\">8</span><span style=\"font-style: italic\">                                                         </span> <a href=\"file:///Users/alexandergoodell/code/llm-calc/llm_calc/util/util.py\" target=\"_blank\"><span style=\"color: #7f7f7f; text-decoration-color: #7f7f7f\">util.py</span></a><span style=\"color: #7f7f7f; text-decoration-color: #7f7f7f\">:</span><a href=\"file:///Users/alexandergoodell/code/llm-calc/llm_calc/util/util.py#318\" target=\"_blank\"><span style=\"color: #7f7f7f; text-decoration-color: #7f7f7f\">318</span></a>\n",
       "<span style=\"color: #7fbfbf; text-decoration-color: #7fbfbf\">           </span><span style=\"font-style: italic\">                                                                                            </span> <span style=\"color: #7f7f7f; text-decoration-color: #7f7f7f\">           </span>\n",
       "<span style=\"color: #7fbfbf; text-decoration-color: #7fbfbf\">           </span><span style=\"font-style: italic\">                                                                                            </span> <span style=\"color: #7f7f7f; text-decoration-color: #7f7f7f\">           </span>\n",
       "</pre>\n"
      ],
      "text/plain": [
       "\u001B[2;36m[05:54:19]\u001B[0m\u001B[2;36m \u001B[0m\u001B[3m ─── \u001B[0m\u001B[3;33m...\u001B[0m\u001B[3mAdded \u001B[0m\u001B[1;36m250\u001B[0m\u001B[3m runs from group \u001B[0m\u001B[1;36m8\u001B[0m\u001B[3m                                                         \u001B[0m \u001B]8;id=789490;file:///Users/alexandergoodell/code/llm-calc/llm_calc/util/util.py\u001B\\\u001B[2mutil.py\u001B[0m\u001B]8;;\u001B\\\u001B[2m:\u001B[0m\u001B]8;id=762992;file:///Users/alexandergoodell/code/llm-calc/llm_calc/util/util.py#318\u001B\\\u001B[2m318\u001B[0m\u001B]8;;\u001B\\\n",
       "\u001B[2;36m           \u001B[0m\u001B[3m                                                                                            \u001B[0m \u001B[2m           \u001B[0m\n",
       "\u001B[2;36m           \u001B[0m\u001B[3m                                                                                            \u001B[0m \u001B[2m           \u001B[0m\n"
      ]
     },
     "metadata": {},
     "output_type": "display_data"
    },
    {
     "data": {
      "text/html": [
       "<pre style=\"white-space:pre;overflow-x:auto;line-height:normal;font-family:Menlo,'DejaVu Sans Mono',consolas,'Courier New',monospace\"><span style=\"color: #7fbfbf; text-decoration-color: #7fbfbf\">           </span><span style=\"font-style: italic\"> ─── Getting group </span><span style=\"color: #008080; text-decoration-color: #008080; font-weight: bold\">9</span><span style=\"font-style: italic\"> from experiment goofy-tower                                            </span> <a href=\"file:///Users/alexandergoodell/code/llm-calc/llm_calc/util/util.py\" target=\"_blank\"><span style=\"color: #7f7f7f; text-decoration-color: #7f7f7f\">util.py</span></a><span style=\"color: #7f7f7f; text-decoration-color: #7f7f7f\">:</span><a href=\"file:///Users/alexandergoodell/code/llm-calc/llm_calc/util/util.py#318\" target=\"_blank\"><span style=\"color: #7f7f7f; text-decoration-color: #7f7f7f\">318</span></a>\n",
       "</pre>\n"
      ],
      "text/plain": [
       "\u001B[2;36m          \u001B[0m\u001B[2;36m \u001B[0m\u001B[3m ─── Getting group \u001B[0m\u001B[1;36m9\u001B[0m\u001B[3m from experiment goofy-tower                                            \u001B[0m \u001B]8;id=502210;file:///Users/alexandergoodell/code/llm-calc/llm_calc/util/util.py\u001B\\\u001B[2mutil.py\u001B[0m\u001B]8;;\u001B\\\u001B[2m:\u001B[0m\u001B]8;id=822501;file:///Users/alexandergoodell/code/llm-calc/llm_calc/util/util.py#318\u001B\\\u001B[2m318\u001B[0m\u001B]8;;\u001B\\\n"
      ]
     },
     "metadata": {},
     "output_type": "display_data"
    },
    {
     "data": {
      "text/html": [
       "<pre style=\"white-space:pre;overflow-x:auto;line-height:normal;font-family:Menlo,'DejaVu Sans Mono',consolas,'Courier New',monospace\">metadata_arm\n",
       "gpt4_base    <span style=\"color: #008080; text-decoration-color: #008080; font-weight: bold\">250</span>\n",
       "Name: count, dtype: int64\n",
       "</pre>\n"
      ],
      "text/plain": [
       "metadata_arm\n",
       "gpt4_base    \u001B[1;36m250\u001B[0m\n",
       "Name: count, dtype: int64\n"
      ]
     },
     "metadata": {},
     "output_type": "display_data"
    },
    {
     "data": {
      "text/html": [
       "<pre style=\"white-space:pre;overflow-x:auto;line-height:normal;font-family:Menlo,'DejaVu Sans Mono',consolas,'Courier New',monospace\"><span style=\"color: #7fbfbf; text-decoration-color: #7fbfbf\">[05:54:21] </span><span style=\"font-style: italic\"> ─── </span><span style=\"color: #808000; text-decoration-color: #808000; font-style: italic\">...</span><span style=\"font-style: italic\">Added </span><span style=\"color: #008080; text-decoration-color: #008080; font-weight: bold\">250</span><span style=\"font-style: italic\"> runs from group </span><span style=\"color: #008080; text-decoration-color: #008080; font-weight: bold\">9</span><span style=\"font-style: italic\">                                                         </span> <a href=\"file:///Users/alexandergoodell/code/llm-calc/llm_calc/util/util.py\" target=\"_blank\"><span style=\"color: #7f7f7f; text-decoration-color: #7f7f7f\">util.py</span></a><span style=\"color: #7f7f7f; text-decoration-color: #7f7f7f\">:</span><a href=\"file:///Users/alexandergoodell/code/llm-calc/llm_calc/util/util.py#318\" target=\"_blank\"><span style=\"color: #7f7f7f; text-decoration-color: #7f7f7f\">318</span></a>\n",
       "<span style=\"color: #7fbfbf; text-decoration-color: #7fbfbf\">           </span><span style=\"font-style: italic\">                                                                                            </span> <span style=\"color: #7f7f7f; text-decoration-color: #7f7f7f\">           </span>\n",
       "<span style=\"color: #7fbfbf; text-decoration-color: #7fbfbf\">           </span><span style=\"font-style: italic\">                                                                                            </span> <span style=\"color: #7f7f7f; text-decoration-color: #7f7f7f\">           </span>\n",
       "</pre>\n"
      ],
      "text/plain": [
       "\u001B[2;36m[05:54:21]\u001B[0m\u001B[2;36m \u001B[0m\u001B[3m ─── \u001B[0m\u001B[3;33m...\u001B[0m\u001B[3mAdded \u001B[0m\u001B[1;36m250\u001B[0m\u001B[3m runs from group \u001B[0m\u001B[1;36m9\u001B[0m\u001B[3m                                                         \u001B[0m \u001B]8;id=11826;file:///Users/alexandergoodell/code/llm-calc/llm_calc/util/util.py\u001B\\\u001B[2mutil.py\u001B[0m\u001B]8;;\u001B\\\u001B[2m:\u001B[0m\u001B]8;id=497439;file:///Users/alexandergoodell/code/llm-calc/llm_calc/util/util.py#318\u001B\\\u001B[2m318\u001B[0m\u001B]8;;\u001B\\\n",
       "\u001B[2;36m           \u001B[0m\u001B[3m                                                                                            \u001B[0m \u001B[2m           \u001B[0m\n",
       "\u001B[2;36m           \u001B[0m\u001B[3m                                                                                            \u001B[0m \u001B[2m           \u001B[0m\n"
      ]
     },
     "metadata": {},
     "output_type": "display_data"
    },
    {
     "data": {
      "text/html": [
       "<pre style=\"white-space:pre;overflow-x:auto;line-height:normal;font-family:Menlo,'DejaVu Sans Mono',consolas,'Courier New',monospace\"><span style=\"color: #ffd7af; text-decoration-color: #ffd7af\">────────────────────────────────────────── GETTING DATASET LOUD-COMPANY ───────────────────────────────────────────</span>\n",
       "</pre>\n"
      ],
      "text/plain": [
       "\u001B[38;5;223m────────────────────────────────────────── \u001B[0m\u001B[38;5;223mGETTING DATASET LOUD-COMPANY\u001B[0m\u001B[38;5;223m ───────────────────────────────────────────\u001B[0m\n"
      ]
     },
     "metadata": {},
     "output_type": "display_data"
    },
    {
     "data": {
      "text/html": [
       "<pre style=\"white-space:pre;overflow-x:auto;line-height:normal;font-family:Menlo,'DejaVu Sans Mono',consolas,'Courier New',monospace\"><span style=\"color: #7fbfbf; text-decoration-color: #7fbfbf\">[05:54:22] </span><span style=\"font-style: italic\"> ─── Getting group </span><span style=\"color: #008080; text-decoration-color: #008080; font-weight: bold\">0</span><span style=\"font-style: italic\"> from experiment loud-company                                           </span> <a href=\"file:///Users/alexandergoodell/code/llm-calc/llm_calc/util/util.py\" target=\"_blank\"><span style=\"color: #7f7f7f; text-decoration-color: #7f7f7f\">util.py</span></a><span style=\"color: #7f7f7f; text-decoration-color: #7f7f7f\">:</span><a href=\"file:///Users/alexandergoodell/code/llm-calc/llm_calc/util/util.py#318\" target=\"_blank\"><span style=\"color: #7f7f7f; text-decoration-color: #7f7f7f\">318</span></a>\n",
       "</pre>\n"
      ],
      "text/plain": [
       "\u001B[2;36m[05:54:22]\u001B[0m\u001B[2;36m \u001B[0m\u001B[3m ─── Getting group \u001B[0m\u001B[1;36m0\u001B[0m\u001B[3m from experiment loud-company                                           \u001B[0m \u001B]8;id=369410;file:///Users/alexandergoodell/code/llm-calc/llm_calc/util/util.py\u001B\\\u001B[2mutil.py\u001B[0m\u001B]8;;\u001B\\\u001B[2m:\u001B[0m\u001B]8;id=932013;file:///Users/alexandergoodell/code/llm-calc/llm_calc/util/util.py#318\u001B\\\u001B[2m318\u001B[0m\u001B]8;;\u001B\\\n"
      ]
     },
     "metadata": {},
     "output_type": "display_data"
    },
    {
     "data": {
      "text/html": [
       "<pre style=\"white-space:pre;overflow-x:auto;line-height:normal;font-family:Menlo,'DejaVu Sans Mono',consolas,'Courier New',monospace\">metadata_arm\n",
       "gpt4_omc    <span style=\"color: #008080; text-decoration-color: #008080; font-weight: bold\">250</span>\n",
       "Name: count, dtype: int64\n",
       "</pre>\n"
      ],
      "text/plain": [
       "metadata_arm\n",
       "gpt4_omc    \u001B[1;36m250\u001B[0m\n",
       "Name: count, dtype: int64\n"
      ]
     },
     "metadata": {},
     "output_type": "display_data"
    },
    {
     "data": {
      "text/html": [
       "<pre style=\"white-space:pre;overflow-x:auto;line-height:normal;font-family:Menlo,'DejaVu Sans Mono',consolas,'Courier New',monospace\"><span style=\"color: #7fbfbf; text-decoration-color: #7fbfbf\">[05:54:25] </span><span style=\"font-style: italic\"> ─── </span><span style=\"color: #808000; text-decoration-color: #808000; font-style: italic\">...</span><span style=\"font-style: italic\">Added </span><span style=\"color: #008080; text-decoration-color: #008080; font-weight: bold\">250</span><span style=\"font-style: italic\"> runs from group </span><span style=\"color: #008080; text-decoration-color: #008080; font-weight: bold\">0</span><span style=\"font-style: italic\">                                                         </span> <a href=\"file:///Users/alexandergoodell/code/llm-calc/llm_calc/util/util.py\" target=\"_blank\"><span style=\"color: #7f7f7f; text-decoration-color: #7f7f7f\">util.py</span></a><span style=\"color: #7f7f7f; text-decoration-color: #7f7f7f\">:</span><a href=\"file:///Users/alexandergoodell/code/llm-calc/llm_calc/util/util.py#318\" target=\"_blank\"><span style=\"color: #7f7f7f; text-decoration-color: #7f7f7f\">318</span></a>\n",
       "<span style=\"color: #7fbfbf; text-decoration-color: #7fbfbf\">           </span><span style=\"font-style: italic\">                                                                                            </span> <span style=\"color: #7f7f7f; text-decoration-color: #7f7f7f\">           </span>\n",
       "<span style=\"color: #7fbfbf; text-decoration-color: #7fbfbf\">           </span><span style=\"font-style: italic\">                                                                                            </span> <span style=\"color: #7f7f7f; text-decoration-color: #7f7f7f\">           </span>\n",
       "</pre>\n"
      ],
      "text/plain": [
       "\u001B[2;36m[05:54:25]\u001B[0m\u001B[2;36m \u001B[0m\u001B[3m ─── \u001B[0m\u001B[3;33m...\u001B[0m\u001B[3mAdded \u001B[0m\u001B[1;36m250\u001B[0m\u001B[3m runs from group \u001B[0m\u001B[1;36m0\u001B[0m\u001B[3m                                                         \u001B[0m \u001B]8;id=549430;file:///Users/alexandergoodell/code/llm-calc/llm_calc/util/util.py\u001B\\\u001B[2mutil.py\u001B[0m\u001B]8;;\u001B\\\u001B[2m:\u001B[0m\u001B]8;id=466781;file:///Users/alexandergoodell/code/llm-calc/llm_calc/util/util.py#318\u001B\\\u001B[2m318\u001B[0m\u001B]8;;\u001B\\\n",
       "\u001B[2;36m           \u001B[0m\u001B[3m                                                                                            \u001B[0m \u001B[2m           \u001B[0m\n",
       "\u001B[2;36m           \u001B[0m\u001B[3m                                                                                            \u001B[0m \u001B[2m           \u001B[0m\n"
      ]
     },
     "metadata": {},
     "output_type": "display_data"
    },
    {
     "data": {
      "text/html": [
       "<pre style=\"white-space:pre;overflow-x:auto;line-height:normal;font-family:Menlo,'DejaVu Sans Mono',consolas,'Courier New',monospace\"><span style=\"color: #7fbfbf; text-decoration-color: #7fbfbf\">           </span><span style=\"font-style: italic\"> ─── Getting group </span><span style=\"color: #008080; text-decoration-color: #008080; font-weight: bold\">1</span><span style=\"font-style: italic\"> from experiment loud-company                                           </span> <a href=\"file:///Users/alexandergoodell/code/llm-calc/llm_calc/util/util.py\" target=\"_blank\"><span style=\"color: #7f7f7f; text-decoration-color: #7f7f7f\">util.py</span></a><span style=\"color: #7f7f7f; text-decoration-color: #7f7f7f\">:</span><a href=\"file:///Users/alexandergoodell/code/llm-calc/llm_calc/util/util.py#318\" target=\"_blank\"><span style=\"color: #7f7f7f; text-decoration-color: #7f7f7f\">318</span></a>\n",
       "</pre>\n"
      ],
      "text/plain": [
       "\u001B[2;36m          \u001B[0m\u001B[2;36m \u001B[0m\u001B[3m ─── Getting group \u001B[0m\u001B[1;36m1\u001B[0m\u001B[3m from experiment loud-company                                           \u001B[0m \u001B]8;id=717194;file:///Users/alexandergoodell/code/llm-calc/llm_calc/util/util.py\u001B\\\u001B[2mutil.py\u001B[0m\u001B]8;;\u001B\\\u001B[2m:\u001B[0m\u001B]8;id=168441;file:///Users/alexandergoodell/code/llm-calc/llm_calc/util/util.py#318\u001B\\\u001B[2m318\u001B[0m\u001B]8;;\u001B\\\n"
      ]
     },
     "metadata": {},
     "output_type": "display_data"
    },
    {
     "data": {
      "text/html": [
       "<pre style=\"white-space:pre;overflow-x:auto;line-height:normal;font-family:Menlo,'DejaVu Sans Mono',consolas,'Courier New',monospace\">metadata_arm\n",
       "gpt4_rag_ci    <span style=\"color: #008080; text-decoration-color: #008080; font-weight: bold\">250</span>\n",
       "Name: count, dtype: int64\n",
       "</pre>\n"
      ],
      "text/plain": [
       "metadata_arm\n",
       "gpt4_rag_ci    \u001B[1;36m250\u001B[0m\n",
       "Name: count, dtype: int64\n"
      ]
     },
     "metadata": {},
     "output_type": "display_data"
    },
    {
     "data": {
      "text/html": [
       "<pre style=\"white-space:pre;overflow-x:auto;line-height:normal;font-family:Menlo,'DejaVu Sans Mono',consolas,'Courier New',monospace\"><span style=\"color: #7fbfbf; text-decoration-color: #7fbfbf\">[05:54:28] </span><span style=\"font-style: italic\"> ─── </span><span style=\"color: #808000; text-decoration-color: #808000; font-style: italic\">...</span><span style=\"font-style: italic\">Added </span><span style=\"color: #008080; text-decoration-color: #008080; font-weight: bold\">250</span><span style=\"font-style: italic\"> runs from group </span><span style=\"color: #008080; text-decoration-color: #008080; font-weight: bold\">1</span><span style=\"font-style: italic\">                                                         </span> <a href=\"file:///Users/alexandergoodell/code/llm-calc/llm_calc/util/util.py\" target=\"_blank\"><span style=\"color: #7f7f7f; text-decoration-color: #7f7f7f\">util.py</span></a><span style=\"color: #7f7f7f; text-decoration-color: #7f7f7f\">:</span><a href=\"file:///Users/alexandergoodell/code/llm-calc/llm_calc/util/util.py#318\" target=\"_blank\"><span style=\"color: #7f7f7f; text-decoration-color: #7f7f7f\">318</span></a>\n",
       "<span style=\"color: #7fbfbf; text-decoration-color: #7fbfbf\">           </span><span style=\"font-style: italic\">                                                                                            </span> <span style=\"color: #7f7f7f; text-decoration-color: #7f7f7f\">           </span>\n",
       "<span style=\"color: #7fbfbf; text-decoration-color: #7fbfbf\">           </span><span style=\"font-style: italic\">                                                                                            </span> <span style=\"color: #7f7f7f; text-decoration-color: #7f7f7f\">           </span>\n",
       "</pre>\n"
      ],
      "text/plain": [
       "\u001B[2;36m[05:54:28]\u001B[0m\u001B[2;36m \u001B[0m\u001B[3m ─── \u001B[0m\u001B[3;33m...\u001B[0m\u001B[3mAdded \u001B[0m\u001B[1;36m250\u001B[0m\u001B[3m runs from group \u001B[0m\u001B[1;36m1\u001B[0m\u001B[3m                                                         \u001B[0m \u001B]8;id=78272;file:///Users/alexandergoodell/code/llm-calc/llm_calc/util/util.py\u001B\\\u001B[2mutil.py\u001B[0m\u001B]8;;\u001B\\\u001B[2m:\u001B[0m\u001B]8;id=168592;file:///Users/alexandergoodell/code/llm-calc/llm_calc/util/util.py#318\u001B\\\u001B[2m318\u001B[0m\u001B]8;;\u001B\\\n",
       "\u001B[2;36m           \u001B[0m\u001B[3m                                                                                            \u001B[0m \u001B[2m           \u001B[0m\n",
       "\u001B[2;36m           \u001B[0m\u001B[3m                                                                                            \u001B[0m \u001B[2m           \u001B[0m\n"
      ]
     },
     "metadata": {},
     "output_type": "display_data"
    },
    {
     "data": {
      "text/html": [
       "<pre style=\"white-space:pre;overflow-x:auto;line-height:normal;font-family:Menlo,'DejaVu Sans Mono',consolas,'Courier New',monospace\"><span style=\"color: #7fbfbf; text-decoration-color: #7fbfbf\">           </span><span style=\"font-style: italic\"> ─── Getting group </span><span style=\"color: #008080; text-decoration-color: #008080; font-weight: bold\">2</span><span style=\"font-style: italic\"> from experiment loud-company                                           </span> <a href=\"file:///Users/alexandergoodell/code/llm-calc/llm_calc/util/util.py\" target=\"_blank\"><span style=\"color: #7f7f7f; text-decoration-color: #7f7f7f\">util.py</span></a><span style=\"color: #7f7f7f; text-decoration-color: #7f7f7f\">:</span><a href=\"file:///Users/alexandergoodell/code/llm-calc/llm_calc/util/util.py#318\" target=\"_blank\"><span style=\"color: #7f7f7f; text-decoration-color: #7f7f7f\">318</span></a>\n",
       "</pre>\n"
      ],
      "text/plain": [
       "\u001B[2;36m          \u001B[0m\u001B[2;36m \u001B[0m\u001B[3m ─── Getting group \u001B[0m\u001B[1;36m2\u001B[0m\u001B[3m from experiment loud-company                                           \u001B[0m \u001B]8;id=626830;file:///Users/alexandergoodell/code/llm-calc/llm_calc/util/util.py\u001B\\\u001B[2mutil.py\u001B[0m\u001B]8;;\u001B\\\u001B[2m:\u001B[0m\u001B]8;id=240089;file:///Users/alexandergoodell/code/llm-calc/llm_calc/util/util.py#318\u001B\\\u001B[2m318\u001B[0m\u001B]8;;\u001B\\\n"
      ]
     },
     "metadata": {},
     "output_type": "display_data"
    },
    {
     "data": {
      "text/html": [
       "<pre style=\"white-space:pre;overflow-x:auto;line-height:normal;font-family:Menlo,'DejaVu Sans Mono',consolas,'Courier New',monospace\">metadata_arm\n",
       "gpt4_rag    <span style=\"color: #008080; text-decoration-color: #008080; font-weight: bold\">250</span>\n",
       "Name: count, dtype: int64\n",
       "</pre>\n"
      ],
      "text/plain": [
       "metadata_arm\n",
       "gpt4_rag    \u001B[1;36m250\u001B[0m\n",
       "Name: count, dtype: int64\n"
      ]
     },
     "metadata": {},
     "output_type": "display_data"
    },
    {
     "data": {
      "text/html": [
       "<pre style=\"white-space:pre;overflow-x:auto;line-height:normal;font-family:Menlo,'DejaVu Sans Mono',consolas,'Courier New',monospace\"><span style=\"color: #7fbfbf; text-decoration-color: #7fbfbf\">[05:54:30] </span><span style=\"font-style: italic\"> ─── </span><span style=\"color: #808000; text-decoration-color: #808000; font-style: italic\">...</span><span style=\"font-style: italic\">Added </span><span style=\"color: #008080; text-decoration-color: #008080; font-weight: bold\">250</span><span style=\"font-style: italic\"> runs from group </span><span style=\"color: #008080; text-decoration-color: #008080; font-weight: bold\">2</span><span style=\"font-style: italic\">                                                         </span> <a href=\"file:///Users/alexandergoodell/code/llm-calc/llm_calc/util/util.py\" target=\"_blank\"><span style=\"color: #7f7f7f; text-decoration-color: #7f7f7f\">util.py</span></a><span style=\"color: #7f7f7f; text-decoration-color: #7f7f7f\">:</span><a href=\"file:///Users/alexandergoodell/code/llm-calc/llm_calc/util/util.py#318\" target=\"_blank\"><span style=\"color: #7f7f7f; text-decoration-color: #7f7f7f\">318</span></a>\n",
       "<span style=\"color: #7fbfbf; text-decoration-color: #7fbfbf\">           </span><span style=\"font-style: italic\">                                                                                            </span> <span style=\"color: #7f7f7f; text-decoration-color: #7f7f7f\">           </span>\n",
       "<span style=\"color: #7fbfbf; text-decoration-color: #7fbfbf\">           </span><span style=\"font-style: italic\">                                                                                            </span> <span style=\"color: #7f7f7f; text-decoration-color: #7f7f7f\">           </span>\n",
       "</pre>\n"
      ],
      "text/plain": [
       "\u001B[2;36m[05:54:30]\u001B[0m\u001B[2;36m \u001B[0m\u001B[3m ─── \u001B[0m\u001B[3;33m...\u001B[0m\u001B[3mAdded \u001B[0m\u001B[1;36m250\u001B[0m\u001B[3m runs from group \u001B[0m\u001B[1;36m2\u001B[0m\u001B[3m                                                         \u001B[0m \u001B]8;id=995572;file:///Users/alexandergoodell/code/llm-calc/llm_calc/util/util.py\u001B\\\u001B[2mutil.py\u001B[0m\u001B]8;;\u001B\\\u001B[2m:\u001B[0m\u001B]8;id=207346;file:///Users/alexandergoodell/code/llm-calc/llm_calc/util/util.py#318\u001B\\\u001B[2m318\u001B[0m\u001B]8;;\u001B\\\n",
       "\u001B[2;36m           \u001B[0m\u001B[3m                                                                                            \u001B[0m \u001B[2m           \u001B[0m\n",
       "\u001B[2;36m           \u001B[0m\u001B[3m                                                                                            \u001B[0m \u001B[2m           \u001B[0m\n"
      ]
     },
     "metadata": {},
     "output_type": "display_data"
    },
    {
     "data": {
      "text/html": [
       "<pre style=\"white-space:pre;overflow-x:auto;line-height:normal;font-family:Menlo,'DejaVu Sans Mono',consolas,'Courier New',monospace\"><span style=\"color: #7fbfbf; text-decoration-color: #7fbfbf\">           </span><span style=\"font-style: italic\"> ─── Getting group </span><span style=\"color: #008080; text-decoration-color: #008080; font-weight: bold\">3</span><span style=\"font-style: italic\"> from experiment loud-company                                           </span> <a href=\"file:///Users/alexandergoodell/code/llm-calc/llm_calc/util/util.py\" target=\"_blank\"><span style=\"color: #7f7f7f; text-decoration-color: #7f7f7f\">util.py</span></a><span style=\"color: #7f7f7f; text-decoration-color: #7f7f7f\">:</span><a href=\"file:///Users/alexandergoodell/code/llm-calc/llm_calc/util/util.py#318\" target=\"_blank\"><span style=\"color: #7f7f7f; text-decoration-color: #7f7f7f\">318</span></a>\n",
       "</pre>\n"
      ],
      "text/plain": [
       "\u001B[2;36m          \u001B[0m\u001B[2;36m \u001B[0m\u001B[3m ─── Getting group \u001B[0m\u001B[1;36m3\u001B[0m\u001B[3m from experiment loud-company                                           \u001B[0m \u001B]8;id=21442;file:///Users/alexandergoodell/code/llm-calc/llm_calc/util/util.py\u001B\\\u001B[2mutil.py\u001B[0m\u001B]8;;\u001B\\\u001B[2m:\u001B[0m\u001B]8;id=139382;file:///Users/alexandergoodell/code/llm-calc/llm_calc/util/util.py#318\u001B\\\u001B[2m318\u001B[0m\u001B]8;;\u001B\\\n"
      ]
     },
     "metadata": {},
     "output_type": "display_data"
    },
    {
     "data": {
      "text/html": [
       "<pre style=\"white-space:pre;overflow-x:auto;line-height:normal;font-family:Menlo,'DejaVu Sans Mono',consolas,'Courier New',monospace\">metadata_arm\n",
       "gpt4_ci    <span style=\"color: #008080; text-decoration-color: #008080; font-weight: bold\">250</span>\n",
       "Name: count, dtype: int64\n",
       "</pre>\n"
      ],
      "text/plain": [
       "metadata_arm\n",
       "gpt4_ci    \u001B[1;36m250\u001B[0m\n",
       "Name: count, dtype: int64\n"
      ]
     },
     "metadata": {},
     "output_type": "display_data"
    },
    {
     "data": {
      "text/html": [
       "<pre style=\"white-space:pre;overflow-x:auto;line-height:normal;font-family:Menlo,'DejaVu Sans Mono',consolas,'Courier New',monospace\"><span style=\"color: #7fbfbf; text-decoration-color: #7fbfbf\">[05:54:33] </span><span style=\"font-style: italic\"> ─── </span><span style=\"color: #808000; text-decoration-color: #808000; font-style: italic\">...</span><span style=\"font-style: italic\">Added </span><span style=\"color: #008080; text-decoration-color: #008080; font-weight: bold\">250</span><span style=\"font-style: italic\"> runs from group </span><span style=\"color: #008080; text-decoration-color: #008080; font-weight: bold\">3</span><span style=\"font-style: italic\">                                                         </span> <a href=\"file:///Users/alexandergoodell/code/llm-calc/llm_calc/util/util.py\" target=\"_blank\"><span style=\"color: #7f7f7f; text-decoration-color: #7f7f7f\">util.py</span></a><span style=\"color: #7f7f7f; text-decoration-color: #7f7f7f\">:</span><a href=\"file:///Users/alexandergoodell/code/llm-calc/llm_calc/util/util.py#318\" target=\"_blank\"><span style=\"color: #7f7f7f; text-decoration-color: #7f7f7f\">318</span></a>\n",
       "<span style=\"color: #7fbfbf; text-decoration-color: #7fbfbf\">           </span><span style=\"font-style: italic\">                                                                                            </span> <span style=\"color: #7f7f7f; text-decoration-color: #7f7f7f\">           </span>\n",
       "<span style=\"color: #7fbfbf; text-decoration-color: #7fbfbf\">           </span><span style=\"font-style: italic\">                                                                                            </span> <span style=\"color: #7f7f7f; text-decoration-color: #7f7f7f\">           </span>\n",
       "</pre>\n"
      ],
      "text/plain": [
       "\u001B[2;36m[05:54:33]\u001B[0m\u001B[2;36m \u001B[0m\u001B[3m ─── \u001B[0m\u001B[3;33m...\u001B[0m\u001B[3mAdded \u001B[0m\u001B[1;36m250\u001B[0m\u001B[3m runs from group \u001B[0m\u001B[1;36m3\u001B[0m\u001B[3m                                                         \u001B[0m \u001B]8;id=666376;file:///Users/alexandergoodell/code/llm-calc/llm_calc/util/util.py\u001B\\\u001B[2mutil.py\u001B[0m\u001B]8;;\u001B\\\u001B[2m:\u001B[0m\u001B]8;id=989323;file:///Users/alexandergoodell/code/llm-calc/llm_calc/util/util.py#318\u001B\\\u001B[2m318\u001B[0m\u001B]8;;\u001B\\\n",
       "\u001B[2;36m           \u001B[0m\u001B[3m                                                                                            \u001B[0m \u001B[2m           \u001B[0m\n",
       "\u001B[2;36m           \u001B[0m\u001B[3m                                                                                            \u001B[0m \u001B[2m           \u001B[0m\n"
      ]
     },
     "metadata": {},
     "output_type": "display_data"
    },
    {
     "data": {
      "text/html": [
       "<pre style=\"white-space:pre;overflow-x:auto;line-height:normal;font-family:Menlo,'DejaVu Sans Mono',consolas,'Courier New',monospace\"><span style=\"color: #7fbfbf; text-decoration-color: #7fbfbf\">           </span><span style=\"font-style: italic\"> ─── Getting group </span><span style=\"color: #008080; text-decoration-color: #008080; font-weight: bold\">4</span><span style=\"font-style: italic\"> from experiment loud-company                                           </span> <a href=\"file:///Users/alexandergoodell/code/llm-calc/llm_calc/util/util.py\" target=\"_blank\"><span style=\"color: #7f7f7f; text-decoration-color: #7f7f7f\">util.py</span></a><span style=\"color: #7f7f7f; text-decoration-color: #7f7f7f\">:</span><a href=\"file:///Users/alexandergoodell/code/llm-calc/llm_calc/util/util.py#318\" target=\"_blank\"><span style=\"color: #7f7f7f; text-decoration-color: #7f7f7f\">318</span></a>\n",
       "</pre>\n"
      ],
      "text/plain": [
       "\u001B[2;36m          \u001B[0m\u001B[2;36m \u001B[0m\u001B[3m ─── Getting group \u001B[0m\u001B[1;36m4\u001B[0m\u001B[3m from experiment loud-company                                           \u001B[0m \u001B]8;id=580205;file:///Users/alexandergoodell/code/llm-calc/llm_calc/util/util.py\u001B\\\u001B[2mutil.py\u001B[0m\u001B]8;;\u001B\\\u001B[2m:\u001B[0m\u001B]8;id=982424;file:///Users/alexandergoodell/code/llm-calc/llm_calc/util/util.py#318\u001B\\\u001B[2m318\u001B[0m\u001B]8;;\u001B\\\n"
      ]
     },
     "metadata": {},
     "output_type": "display_data"
    },
    {
     "data": {
      "text/html": [
       "<pre style=\"white-space:pre;overflow-x:auto;line-height:normal;font-family:Menlo,'DejaVu Sans Mono',consolas,'Courier New',monospace\">metadata_arm\n",
       "gpt4_base    <span style=\"color: #008080; text-decoration-color: #008080; font-weight: bold\">250</span>\n",
       "Name: count, dtype: int64\n",
       "</pre>\n"
      ],
      "text/plain": [
       "metadata_arm\n",
       "gpt4_base    \u001B[1;36m250\u001B[0m\n",
       "Name: count, dtype: int64\n"
      ]
     },
     "metadata": {},
     "output_type": "display_data"
    },
    {
     "data": {
      "text/html": [
       "<pre style=\"white-space:pre;overflow-x:auto;line-height:normal;font-family:Menlo,'DejaVu Sans Mono',consolas,'Courier New',monospace\"><span style=\"color: #7fbfbf; text-decoration-color: #7fbfbf\">[05:54:36] </span><span style=\"font-style: italic\"> ─── </span><span style=\"color: #808000; text-decoration-color: #808000; font-style: italic\">...</span><span style=\"font-style: italic\">Added </span><span style=\"color: #008080; text-decoration-color: #008080; font-weight: bold\">250</span><span style=\"font-style: italic\"> runs from group </span><span style=\"color: #008080; text-decoration-color: #008080; font-weight: bold\">4</span><span style=\"font-style: italic\">                                                         </span> <a href=\"file:///Users/alexandergoodell/code/llm-calc/llm_calc/util/util.py\" target=\"_blank\"><span style=\"color: #7f7f7f; text-decoration-color: #7f7f7f\">util.py</span></a><span style=\"color: #7f7f7f; text-decoration-color: #7f7f7f\">:</span><a href=\"file:///Users/alexandergoodell/code/llm-calc/llm_calc/util/util.py#318\" target=\"_blank\"><span style=\"color: #7f7f7f; text-decoration-color: #7f7f7f\">318</span></a>\n",
       "<span style=\"color: #7fbfbf; text-decoration-color: #7fbfbf\">           </span><span style=\"font-style: italic\">                                                                                            </span> <span style=\"color: #7f7f7f; text-decoration-color: #7f7f7f\">           </span>\n",
       "<span style=\"color: #7fbfbf; text-decoration-color: #7fbfbf\">           </span><span style=\"font-style: italic\">                                                                                            </span> <span style=\"color: #7f7f7f; text-decoration-color: #7f7f7f\">           </span>\n",
       "</pre>\n"
      ],
      "text/plain": [
       "\u001B[2;36m[05:54:36]\u001B[0m\u001B[2;36m \u001B[0m\u001B[3m ─── \u001B[0m\u001B[3;33m...\u001B[0m\u001B[3mAdded \u001B[0m\u001B[1;36m250\u001B[0m\u001B[3m runs from group \u001B[0m\u001B[1;36m4\u001B[0m\u001B[3m                                                         \u001B[0m \u001B]8;id=390111;file:///Users/alexandergoodell/code/llm-calc/llm_calc/util/util.py\u001B\\\u001B[2mutil.py\u001B[0m\u001B]8;;\u001B\\\u001B[2m:\u001B[0m\u001B]8;id=128955;file:///Users/alexandergoodell/code/llm-calc/llm_calc/util/util.py#318\u001B\\\u001B[2m318\u001B[0m\u001B]8;;\u001B\\\n",
       "\u001B[2;36m           \u001B[0m\u001B[3m                                                                                            \u001B[0m \u001B[2m           \u001B[0m\n",
       "\u001B[2;36m           \u001B[0m\u001B[3m                                                                                            \u001B[0m \u001B[2m           \u001B[0m\n"
      ]
     },
     "metadata": {},
     "output_type": "display_data"
    },
    {
     "data": {
      "text/html": [
       "<pre style=\"white-space:pre;overflow-x:auto;line-height:normal;font-family:Menlo,'DejaVu Sans Mono',consolas,'Courier New',monospace\"><span style=\"color: #ffd7af; text-decoration-color: #ffd7af\">───────────────────────────────────────── GETTING DATASET SEDATE-BIDDING ──────────────────────────────────────────</span>\n",
       "</pre>\n"
      ],
      "text/plain": [
       "\u001B[38;5;223m───────────────────────────────────────── \u001B[0m\u001B[38;5;223mGETTING DATASET SEDATE-BIDDING\u001B[0m\u001B[38;5;223m ──────────────────────────────────────────\u001B[0m\n"
      ]
     },
     "metadata": {},
     "output_type": "display_data"
    },
    {
     "data": {
      "text/html": [
       "<pre style=\"white-space:pre;overflow-x:auto;line-height:normal;font-family:Menlo,'DejaVu Sans Mono',consolas,'Courier New',monospace\"><span style=\"color: #7fbfbf; text-decoration-color: #7fbfbf\">           </span><span style=\"font-style: italic\"> ─── Getting group </span><span style=\"color: #008080; text-decoration-color: #008080; font-weight: bold\">0</span><span style=\"font-style: italic\"> from experiment sedate-bidding                                         </span> <a href=\"file:///Users/alexandergoodell/code/llm-calc/llm_calc/util/util.py\" target=\"_blank\"><span style=\"color: #7f7f7f; text-decoration-color: #7f7f7f\">util.py</span></a><span style=\"color: #7f7f7f; text-decoration-color: #7f7f7f\">:</span><a href=\"file:///Users/alexandergoodell/code/llm-calc/llm_calc/util/util.py#318\" target=\"_blank\"><span style=\"color: #7f7f7f; text-decoration-color: #7f7f7f\">318</span></a>\n",
       "</pre>\n"
      ],
      "text/plain": [
       "\u001B[2;36m          \u001B[0m\u001B[2;36m \u001B[0m\u001B[3m ─── Getting group \u001B[0m\u001B[1;36m0\u001B[0m\u001B[3m from experiment sedate-bidding                                         \u001B[0m \u001B]8;id=175848;file:///Users/alexandergoodell/code/llm-calc/llm_calc/util/util.py\u001B\\\u001B[2mutil.py\u001B[0m\u001B]8;;\u001B\\\u001B[2m:\u001B[0m\u001B]8;id=476003;file:///Users/alexandergoodell/code/llm-calc/llm_calc/util/util.py#318\u001B\\\u001B[2m318\u001B[0m\u001B]8;;\u001B\\\n"
      ]
     },
     "metadata": {},
     "output_type": "display_data"
    },
    {
     "data": {
      "text/html": [
       "<pre style=\"white-space:pre;overflow-x:auto;line-height:normal;font-family:Menlo,'DejaVu Sans Mono',consolas,'Courier New',monospace\">metadata_arm\n",
       "llama_omc    <span style=\"color: #008080; text-decoration-color: #008080; font-weight: bold\">250</span>\n",
       "Name: count, dtype: int64\n",
       "</pre>\n"
      ],
      "text/plain": [
       "metadata_arm\n",
       "llama_omc    \u001B[1;36m250\u001B[0m\n",
       "Name: count, dtype: int64\n"
      ]
     },
     "metadata": {},
     "output_type": "display_data"
    },
    {
     "data": {
      "text/html": [
       "<pre style=\"white-space:pre;overflow-x:auto;line-height:normal;font-family:Menlo,'DejaVu Sans Mono',consolas,'Courier New',monospace\"><span style=\"color: #7fbfbf; text-decoration-color: #7fbfbf\">[05:54:39] </span><span style=\"font-style: italic\"> ─── </span><span style=\"color: #808000; text-decoration-color: #808000; font-style: italic\">...</span><span style=\"font-style: italic\">Added </span><span style=\"color: #008080; text-decoration-color: #008080; font-weight: bold\">250</span><span style=\"font-style: italic\"> runs from group </span><span style=\"color: #008080; text-decoration-color: #008080; font-weight: bold\">0</span><span style=\"font-style: italic\">                                                         </span> <a href=\"file:///Users/alexandergoodell/code/llm-calc/llm_calc/util/util.py\" target=\"_blank\"><span style=\"color: #7f7f7f; text-decoration-color: #7f7f7f\">util.py</span></a><span style=\"color: #7f7f7f; text-decoration-color: #7f7f7f\">:</span><a href=\"file:///Users/alexandergoodell/code/llm-calc/llm_calc/util/util.py#318\" target=\"_blank\"><span style=\"color: #7f7f7f; text-decoration-color: #7f7f7f\">318</span></a>\n",
       "<span style=\"color: #7fbfbf; text-decoration-color: #7fbfbf\">           </span><span style=\"font-style: italic\">                                                                                            </span> <span style=\"color: #7f7f7f; text-decoration-color: #7f7f7f\">           </span>\n",
       "<span style=\"color: #7fbfbf; text-decoration-color: #7fbfbf\">           </span><span style=\"font-style: italic\">                                                                                            </span> <span style=\"color: #7f7f7f; text-decoration-color: #7f7f7f\">           </span>\n",
       "</pre>\n"
      ],
      "text/plain": [
       "\u001B[2;36m[05:54:39]\u001B[0m\u001B[2;36m \u001B[0m\u001B[3m ─── \u001B[0m\u001B[3;33m...\u001B[0m\u001B[3mAdded \u001B[0m\u001B[1;36m250\u001B[0m\u001B[3m runs from group \u001B[0m\u001B[1;36m0\u001B[0m\u001B[3m                                                         \u001B[0m \u001B]8;id=448662;file:///Users/alexandergoodell/code/llm-calc/llm_calc/util/util.py\u001B\\\u001B[2mutil.py\u001B[0m\u001B]8;;\u001B\\\u001B[2m:\u001B[0m\u001B]8;id=366970;file:///Users/alexandergoodell/code/llm-calc/llm_calc/util/util.py#318\u001B\\\u001B[2m318\u001B[0m\u001B]8;;\u001B\\\n",
       "\u001B[2;36m           \u001B[0m\u001B[3m                                                                                            \u001B[0m \u001B[2m           \u001B[0m\n",
       "\u001B[2;36m           \u001B[0m\u001B[3m                                                                                            \u001B[0m \u001B[2m           \u001B[0m\n"
      ]
     },
     "metadata": {},
     "output_type": "display_data"
    },
    {
     "data": {
      "text/html": [
       "<pre style=\"white-space:pre;overflow-x:auto;line-height:normal;font-family:Menlo,'DejaVu Sans Mono',consolas,'Courier New',monospace\"><span style=\"color: #ffd7af; text-decoration-color: #ffd7af\">─────────────────────────────────────────── GETTING DATASET PUNY-GASKET ───────────────────────────────────────────</span>\n",
       "</pre>\n"
      ],
      "text/plain": [
       "\u001B[38;5;223m─────────────────────────────────────────── \u001B[0m\u001B[38;5;223mGETTING DATASET PUNY-GASKET\u001B[0m\u001B[38;5;223m ───────────────────────────────────────────\u001B[0m\n"
      ]
     },
     "metadata": {},
     "output_type": "display_data"
    },
    {
     "data": {
      "text/html": [
       "<pre style=\"white-space:pre;overflow-x:auto;line-height:normal;font-family:Menlo,'DejaVu Sans Mono',consolas,'Courier New',monospace\"><span style=\"color: #7fbfbf; text-decoration-color: #7fbfbf\">[05:54:40] </span><span style=\"font-style: italic\"> ─── Getting group </span><span style=\"color: #008080; text-decoration-color: #008080; font-weight: bold\">0</span><span style=\"font-style: italic\"> from experiment puny-gasket                                            </span> <a href=\"file:///Users/alexandergoodell/code/llm-calc/llm_calc/util/util.py\" target=\"_blank\"><span style=\"color: #7f7f7f; text-decoration-color: #7f7f7f\">util.py</span></a><span style=\"color: #7f7f7f; text-decoration-color: #7f7f7f\">:</span><a href=\"file:///Users/alexandergoodell/code/llm-calc/llm_calc/util/util.py#318\" target=\"_blank\"><span style=\"color: #7f7f7f; text-decoration-color: #7f7f7f\">318</span></a>\n",
       "</pre>\n"
      ],
      "text/plain": [
       "\u001B[2;36m[05:54:40]\u001B[0m\u001B[2;36m \u001B[0m\u001B[3m ─── Getting group \u001B[0m\u001B[1;36m0\u001B[0m\u001B[3m from experiment puny-gasket                                            \u001B[0m \u001B]8;id=694000;file:///Users/alexandergoodell/code/llm-calc/llm_calc/util/util.py\u001B\\\u001B[2mutil.py\u001B[0m\u001B]8;;\u001B\\\u001B[2m:\u001B[0m\u001B]8;id=914583;file:///Users/alexandergoodell/code/llm-calc/llm_calc/util/util.py#318\u001B\\\u001B[2m318\u001B[0m\u001B]8;;\u001B\\\n"
      ]
     },
     "metadata": {},
     "output_type": "display_data"
    },
    {
     "data": {
      "text/html": [
       "<pre style=\"white-space:pre;overflow-x:auto;line-height:normal;font-family:Menlo,'DejaVu Sans Mono',consolas,'Courier New',monospace\">metadata_arm\n",
       "llama_rag_ci    <span style=\"color: #008080; text-decoration-color: #008080; font-weight: bold\">90</span>\n",
       "Name: count, dtype: int64\n",
       "</pre>\n"
      ],
      "text/plain": [
       "metadata_arm\n",
       "llama_rag_ci    \u001B[1;36m90\u001B[0m\n",
       "Name: count, dtype: int64\n"
      ]
     },
     "metadata": {},
     "output_type": "display_data"
    },
    {
     "data": {
      "text/html": [
       "<pre style=\"white-space:pre;overflow-x:auto;line-height:normal;font-family:Menlo,'DejaVu Sans Mono',consolas,'Courier New',monospace\"><span style=\"color: #7fbfbf; text-decoration-color: #7fbfbf\">[05:54:41] </span><span style=\"font-style: italic\"> ─── </span><span style=\"color: #808000; text-decoration-color: #808000; font-style: italic\">...</span><span style=\"font-style: italic\">Added </span><span style=\"color: #008080; text-decoration-color: #008080; font-weight: bold\">90</span><span style=\"font-style: italic\"> runs from group </span><span style=\"color: #008080; text-decoration-color: #008080; font-weight: bold\">0</span><span style=\"font-style: italic\">                                                          </span> <a href=\"file:///Users/alexandergoodell/code/llm-calc/llm_calc/util/util.py\" target=\"_blank\"><span style=\"color: #7f7f7f; text-decoration-color: #7f7f7f\">util.py</span></a><span style=\"color: #7f7f7f; text-decoration-color: #7f7f7f\">:</span><a href=\"file:///Users/alexandergoodell/code/llm-calc/llm_calc/util/util.py#318\" target=\"_blank\"><span style=\"color: #7f7f7f; text-decoration-color: #7f7f7f\">318</span></a>\n",
       "<span style=\"color: #7fbfbf; text-decoration-color: #7fbfbf\">           </span><span style=\"font-style: italic\">                                                                                            </span> <span style=\"color: #7f7f7f; text-decoration-color: #7f7f7f\">           </span>\n",
       "<span style=\"color: #7fbfbf; text-decoration-color: #7fbfbf\">           </span><span style=\"font-style: italic\">                                                                                            </span> <span style=\"color: #7f7f7f; text-decoration-color: #7f7f7f\">           </span>\n",
       "</pre>\n"
      ],
      "text/plain": [
       "\u001B[2;36m[05:54:41]\u001B[0m\u001B[2;36m \u001B[0m\u001B[3m ─── \u001B[0m\u001B[3;33m...\u001B[0m\u001B[3mAdded \u001B[0m\u001B[1;36m90\u001B[0m\u001B[3m runs from group \u001B[0m\u001B[1;36m0\u001B[0m\u001B[3m                                                          \u001B[0m \u001B]8;id=624629;file:///Users/alexandergoodell/code/llm-calc/llm_calc/util/util.py\u001B\\\u001B[2mutil.py\u001B[0m\u001B]8;;\u001B\\\u001B[2m:\u001B[0m\u001B]8;id=772008;file:///Users/alexandergoodell/code/llm-calc/llm_calc/util/util.py#318\u001B\\\u001B[2m318\u001B[0m\u001B]8;;\u001B\\\n",
       "\u001B[2;36m           \u001B[0m\u001B[3m                                                                                            \u001B[0m \u001B[2m           \u001B[0m\n",
       "\u001B[2;36m           \u001B[0m\u001B[3m                                                                                            \u001B[0m \u001B[2m           \u001B[0m\n"
      ]
     },
     "metadata": {},
     "output_type": "display_data"
    },
    {
     "data": {
      "text/html": [
       "<pre style=\"white-space:pre;overflow-x:auto;line-height:normal;font-family:Menlo,'DejaVu Sans Mono',consolas,'Courier New',monospace\"><span style=\"color: #7fbfbf; text-decoration-color: #7fbfbf\">           </span><span style=\"font-style: italic\"> ─── Getting group </span><span style=\"color: #008080; text-decoration-color: #008080; font-weight: bold\">1</span><span style=\"font-style: italic\"> from experiment puny-gasket                                            </span> <a href=\"file:///Users/alexandergoodell/code/llm-calc/llm_calc/util/util.py\" target=\"_blank\"><span style=\"color: #7f7f7f; text-decoration-color: #7f7f7f\">util.py</span></a><span style=\"color: #7f7f7f; text-decoration-color: #7f7f7f\">:</span><a href=\"file:///Users/alexandergoodell/code/llm-calc/llm_calc/util/util.py#318\" target=\"_blank\"><span style=\"color: #7f7f7f; text-decoration-color: #7f7f7f\">318</span></a>\n",
       "</pre>\n"
      ],
      "text/plain": [
       "\u001B[2;36m          \u001B[0m\u001B[2;36m \u001B[0m\u001B[3m ─── Getting group \u001B[0m\u001B[1;36m1\u001B[0m\u001B[3m from experiment puny-gasket                                            \u001B[0m \u001B]8;id=959791;file:///Users/alexandergoodell/code/llm-calc/llm_calc/util/util.py\u001B\\\u001B[2mutil.py\u001B[0m\u001B]8;;\u001B\\\u001B[2m:\u001B[0m\u001B]8;id=154772;file:///Users/alexandergoodell/code/llm-calc/llm_calc/util/util.py#318\u001B\\\u001B[2m318\u001B[0m\u001B]8;;\u001B\\\n"
      ]
     },
     "metadata": {},
     "output_type": "display_data"
    },
    {
     "data": {
      "text/html": [
       "<pre style=\"white-space:pre;overflow-x:auto;line-height:normal;font-family:Menlo,'DejaVu Sans Mono',consolas,'Courier New',monospace\">metadata_arm\n",
       "llama_rag    <span style=\"color: #008080; text-decoration-color: #008080; font-weight: bold\">250</span>\n",
       "Name: count, dtype: int64\n",
       "</pre>\n"
      ],
      "text/plain": [
       "metadata_arm\n",
       "llama_rag    \u001B[1;36m250\u001B[0m\n",
       "Name: count, dtype: int64\n"
      ]
     },
     "metadata": {},
     "output_type": "display_data"
    },
    {
     "data": {
      "text/html": [
       "<pre style=\"white-space:pre;overflow-x:auto;line-height:normal;font-family:Menlo,'DejaVu Sans Mono',consolas,'Courier New',monospace\"><span style=\"color: #7fbfbf; text-decoration-color: #7fbfbf\">[05:54:44] </span><span style=\"font-style: italic\"> ─── </span><span style=\"color: #808000; text-decoration-color: #808000; font-style: italic\">...</span><span style=\"font-style: italic\">Added </span><span style=\"color: #008080; text-decoration-color: #008080; font-weight: bold\">250</span><span style=\"font-style: italic\"> runs from group </span><span style=\"color: #008080; text-decoration-color: #008080; font-weight: bold\">1</span><span style=\"font-style: italic\">                                                         </span> <a href=\"file:///Users/alexandergoodell/code/llm-calc/llm_calc/util/util.py\" target=\"_blank\"><span style=\"color: #7f7f7f; text-decoration-color: #7f7f7f\">util.py</span></a><span style=\"color: #7f7f7f; text-decoration-color: #7f7f7f\">:</span><a href=\"file:///Users/alexandergoodell/code/llm-calc/llm_calc/util/util.py#318\" target=\"_blank\"><span style=\"color: #7f7f7f; text-decoration-color: #7f7f7f\">318</span></a>\n",
       "<span style=\"color: #7fbfbf; text-decoration-color: #7fbfbf\">           </span><span style=\"font-style: italic\">                                                                                            </span> <span style=\"color: #7f7f7f; text-decoration-color: #7f7f7f\">           </span>\n",
       "<span style=\"color: #7fbfbf; text-decoration-color: #7fbfbf\">           </span><span style=\"font-style: italic\">                                                                                            </span> <span style=\"color: #7f7f7f; text-decoration-color: #7f7f7f\">           </span>\n",
       "</pre>\n"
      ],
      "text/plain": [
       "\u001B[2;36m[05:54:44]\u001B[0m\u001B[2;36m \u001B[0m\u001B[3m ─── \u001B[0m\u001B[3;33m...\u001B[0m\u001B[3mAdded \u001B[0m\u001B[1;36m250\u001B[0m\u001B[3m runs from group \u001B[0m\u001B[1;36m1\u001B[0m\u001B[3m                                                         \u001B[0m \u001B]8;id=608122;file:///Users/alexandergoodell/code/llm-calc/llm_calc/util/util.py\u001B\\\u001B[2mutil.py\u001B[0m\u001B]8;;\u001B\\\u001B[2m:\u001B[0m\u001B]8;id=886374;file:///Users/alexandergoodell/code/llm-calc/llm_calc/util/util.py#318\u001B\\\u001B[2m318\u001B[0m\u001B]8;;\u001B\\\n",
       "\u001B[2;36m           \u001B[0m\u001B[3m                                                                                            \u001B[0m \u001B[2m           \u001B[0m\n",
       "\u001B[2;36m           \u001B[0m\u001B[3m                                                                                            \u001B[0m \u001B[2m           \u001B[0m\n"
      ]
     },
     "metadata": {},
     "output_type": "display_data"
    },
    {
     "data": {
      "text/html": [
       "<pre style=\"white-space:pre;overflow-x:auto;line-height:normal;font-family:Menlo,'DejaVu Sans Mono',consolas,'Courier New',monospace\"><span style=\"color: #7fbfbf; text-decoration-color: #7fbfbf\">           </span><span style=\"font-style: italic\"> ─── Getting group </span><span style=\"color: #008080; text-decoration-color: #008080; font-weight: bold\">2</span><span style=\"font-style: italic\"> from experiment puny-gasket                                            </span> <a href=\"file:///Users/alexandergoodell/code/llm-calc/llm_calc/util/util.py\" target=\"_blank\"><span style=\"color: #7f7f7f; text-decoration-color: #7f7f7f\">util.py</span></a><span style=\"color: #7f7f7f; text-decoration-color: #7f7f7f\">:</span><a href=\"file:///Users/alexandergoodell/code/llm-calc/llm_calc/util/util.py#318\" target=\"_blank\"><span style=\"color: #7f7f7f; text-decoration-color: #7f7f7f\">318</span></a>\n",
       "</pre>\n"
      ],
      "text/plain": [
       "\u001B[2;36m          \u001B[0m\u001B[2;36m \u001B[0m\u001B[3m ─── Getting group \u001B[0m\u001B[1;36m2\u001B[0m\u001B[3m from experiment puny-gasket                                            \u001B[0m \u001B]8;id=497831;file:///Users/alexandergoodell/code/llm-calc/llm_calc/util/util.py\u001B\\\u001B[2mutil.py\u001B[0m\u001B]8;;\u001B\\\u001B[2m:\u001B[0m\u001B]8;id=941829;file:///Users/alexandergoodell/code/llm-calc/llm_calc/util/util.py#318\u001B\\\u001B[2m318\u001B[0m\u001B]8;;\u001B\\\n"
      ]
     },
     "metadata": {},
     "output_type": "display_data"
    },
    {
     "data": {
      "text/html": [
       "<pre style=\"white-space:pre;overflow-x:auto;line-height:normal;font-family:Menlo,'DejaVu Sans Mono',consolas,'Courier New',monospace\">metadata_arm\n",
       "llama_ci    <span style=\"color: #008080; text-decoration-color: #008080; font-weight: bold\">250</span>\n",
       "Name: count, dtype: int64\n",
       "</pre>\n"
      ],
      "text/plain": [
       "metadata_arm\n",
       "llama_ci    \u001B[1;36m250\u001B[0m\n",
       "Name: count, dtype: int64\n"
      ]
     },
     "metadata": {},
     "output_type": "display_data"
    },
    {
     "data": {
      "text/html": [
       "<pre style=\"white-space:pre;overflow-x:auto;line-height:normal;font-family:Menlo,'DejaVu Sans Mono',consolas,'Courier New',monospace\"><span style=\"color: #7fbfbf; text-decoration-color: #7fbfbf\">[05:54:46] </span><span style=\"font-style: italic\"> ─── </span><span style=\"color: #808000; text-decoration-color: #808000; font-style: italic\">...</span><span style=\"font-style: italic\">Added </span><span style=\"color: #008080; text-decoration-color: #008080; font-weight: bold\">250</span><span style=\"font-style: italic\"> runs from group </span><span style=\"color: #008080; text-decoration-color: #008080; font-weight: bold\">2</span><span style=\"font-style: italic\">                                                         </span> <a href=\"file:///Users/alexandergoodell/code/llm-calc/llm_calc/util/util.py\" target=\"_blank\"><span style=\"color: #7f7f7f; text-decoration-color: #7f7f7f\">util.py</span></a><span style=\"color: #7f7f7f; text-decoration-color: #7f7f7f\">:</span><a href=\"file:///Users/alexandergoodell/code/llm-calc/llm_calc/util/util.py#318\" target=\"_blank\"><span style=\"color: #7f7f7f; text-decoration-color: #7f7f7f\">318</span></a>\n",
       "<span style=\"color: #7fbfbf; text-decoration-color: #7fbfbf\">           </span><span style=\"font-style: italic\">                                                                                            </span> <span style=\"color: #7f7f7f; text-decoration-color: #7f7f7f\">           </span>\n",
       "<span style=\"color: #7fbfbf; text-decoration-color: #7fbfbf\">           </span><span style=\"font-style: italic\">                                                                                            </span> <span style=\"color: #7f7f7f; text-decoration-color: #7f7f7f\">           </span>\n",
       "</pre>\n"
      ],
      "text/plain": [
       "\u001B[2;36m[05:54:46]\u001B[0m\u001B[2;36m \u001B[0m\u001B[3m ─── \u001B[0m\u001B[3;33m...\u001B[0m\u001B[3mAdded \u001B[0m\u001B[1;36m250\u001B[0m\u001B[3m runs from group \u001B[0m\u001B[1;36m2\u001B[0m\u001B[3m                                                         \u001B[0m \u001B]8;id=575653;file:///Users/alexandergoodell/code/llm-calc/llm_calc/util/util.py\u001B\\\u001B[2mutil.py\u001B[0m\u001B]8;;\u001B\\\u001B[2m:\u001B[0m\u001B]8;id=154069;file:///Users/alexandergoodell/code/llm-calc/llm_calc/util/util.py#318\u001B\\\u001B[2m318\u001B[0m\u001B]8;;\u001B\\\n",
       "\u001B[2;36m           \u001B[0m\u001B[3m                                                                                            \u001B[0m \u001B[2m           \u001B[0m\n",
       "\u001B[2;36m           \u001B[0m\u001B[3m                                                                                            \u001B[0m \u001B[2m           \u001B[0m\n"
      ]
     },
     "metadata": {},
     "output_type": "display_data"
    },
    {
     "data": {
      "text/html": [
       "<pre style=\"white-space:pre;overflow-x:auto;line-height:normal;font-family:Menlo,'DejaVu Sans Mono',consolas,'Courier New',monospace\"><span style=\"color: #7fbfbf; text-decoration-color: #7fbfbf\">           </span><span style=\"font-style: italic\"> ─── Getting group </span><span style=\"color: #008080; text-decoration-color: #008080; font-weight: bold\">3</span><span style=\"font-style: italic\"> from experiment puny-gasket                                            </span> <a href=\"file:///Users/alexandergoodell/code/llm-calc/llm_calc/util/util.py\" target=\"_blank\"><span style=\"color: #7f7f7f; text-decoration-color: #7f7f7f\">util.py</span></a><span style=\"color: #7f7f7f; text-decoration-color: #7f7f7f\">:</span><a href=\"file:///Users/alexandergoodell/code/llm-calc/llm_calc/util/util.py#318\" target=\"_blank\"><span style=\"color: #7f7f7f; text-decoration-color: #7f7f7f\">318</span></a>\n",
       "</pre>\n"
      ],
      "text/plain": [
       "\u001B[2;36m          \u001B[0m\u001B[2;36m \u001B[0m\u001B[3m ─── Getting group \u001B[0m\u001B[1;36m3\u001B[0m\u001B[3m from experiment puny-gasket                                            \u001B[0m \u001B]8;id=695393;file:///Users/alexandergoodell/code/llm-calc/llm_calc/util/util.py\u001B\\\u001B[2mutil.py\u001B[0m\u001B]8;;\u001B\\\u001B[2m:\u001B[0m\u001B]8;id=247201;file:///Users/alexandergoodell/code/llm-calc/llm_calc/util/util.py#318\u001B\\\u001B[2m318\u001B[0m\u001B]8;;\u001B\\\n"
      ]
     },
     "metadata": {},
     "output_type": "display_data"
    },
    {
     "data": {
      "text/html": [
       "<pre style=\"white-space:pre;overflow-x:auto;line-height:normal;font-family:Menlo,'DejaVu Sans Mono',consolas,'Courier New',monospace\">metadata_arm\n",
       "llama_base    <span style=\"color: #008080; text-decoration-color: #008080; font-weight: bold\">250</span>\n",
       "Name: count, dtype: int64\n",
       "</pre>\n"
      ],
      "text/plain": [
       "metadata_arm\n",
       "llama_base    \u001B[1;36m250\u001B[0m\n",
       "Name: count, dtype: int64\n"
      ]
     },
     "metadata": {},
     "output_type": "display_data"
    },
    {
     "data": {
      "text/html": [
       "<pre style=\"white-space:pre;overflow-x:auto;line-height:normal;font-family:Menlo,'DejaVu Sans Mono',consolas,'Courier New',monospace\"><span style=\"color: #7fbfbf; text-decoration-color: #7fbfbf\">[05:54:49] </span><span style=\"font-style: italic\"> ─── </span><span style=\"color: #808000; text-decoration-color: #808000; font-style: italic\">...</span><span style=\"font-style: italic\">Added </span><span style=\"color: #008080; text-decoration-color: #008080; font-weight: bold\">250</span><span style=\"font-style: italic\"> runs from group </span><span style=\"color: #008080; text-decoration-color: #008080; font-weight: bold\">3</span><span style=\"font-style: italic\">                                                         </span> <a href=\"file:///Users/alexandergoodell/code/llm-calc/llm_calc/util/util.py\" target=\"_blank\"><span style=\"color: #7f7f7f; text-decoration-color: #7f7f7f\">util.py</span></a><span style=\"color: #7f7f7f; text-decoration-color: #7f7f7f\">:</span><a href=\"file:///Users/alexandergoodell/code/llm-calc/llm_calc/util/util.py#318\" target=\"_blank\"><span style=\"color: #7f7f7f; text-decoration-color: #7f7f7f\">318</span></a>\n",
       "<span style=\"color: #7fbfbf; text-decoration-color: #7fbfbf\">           </span><span style=\"font-style: italic\">                                                                                            </span> <span style=\"color: #7f7f7f; text-decoration-color: #7f7f7f\">           </span>\n",
       "<span style=\"color: #7fbfbf; text-decoration-color: #7fbfbf\">           </span><span style=\"font-style: italic\">                                                                                            </span> <span style=\"color: #7f7f7f; text-decoration-color: #7f7f7f\">           </span>\n",
       "</pre>\n"
      ],
      "text/plain": [
       "\u001B[2;36m[05:54:49]\u001B[0m\u001B[2;36m \u001B[0m\u001B[3m ─── \u001B[0m\u001B[3;33m...\u001B[0m\u001B[3mAdded \u001B[0m\u001B[1;36m250\u001B[0m\u001B[3m runs from group \u001B[0m\u001B[1;36m3\u001B[0m\u001B[3m                                                         \u001B[0m \u001B]8;id=632088;file:///Users/alexandergoodell/code/llm-calc/llm_calc/util/util.py\u001B\\\u001B[2mutil.py\u001B[0m\u001B]8;;\u001B\\\u001B[2m:\u001B[0m\u001B]8;id=742761;file:///Users/alexandergoodell/code/llm-calc/llm_calc/util/util.py#318\u001B\\\u001B[2m318\u001B[0m\u001B]8;;\u001B\\\n",
       "\u001B[2;36m           \u001B[0m\u001B[3m                                                                                            \u001B[0m \u001B[2m           \u001B[0m\n",
       "\u001B[2;36m           \u001B[0m\u001B[3m                                                                                            \u001B[0m \u001B[2m           \u001B[0m\n"
      ]
     },
     "metadata": {},
     "output_type": "display_data"
    },
    {
     "data": {
      "text/html": [
       "<pre style=\"white-space:pre;overflow-x:auto;line-height:normal;font-family:Menlo,'DejaVu Sans Mono',consolas,'Courier New',monospace\"><span style=\"color: #ffd7af; text-decoration-color: #ffd7af\">───────────────────────────────────────── GETTING DATASET CRAZY-TEXTBOOK ──────────────────────────────────────────</span>\n",
       "</pre>\n"
      ],
      "text/plain": [
       "\u001B[38;5;223m───────────────────────────────────────── \u001B[0m\u001B[38;5;223mGETTING DATASET CRAZY-TEXTBOOK\u001B[0m\u001B[38;5;223m ──────────────────────────────────────────\u001B[0m\n"
      ]
     },
     "metadata": {},
     "output_type": "display_data"
    },
    {
     "data": {
      "text/html": [
       "<pre style=\"white-space:pre;overflow-x:auto;line-height:normal;font-family:Menlo,'DejaVu Sans Mono',consolas,'Courier New',monospace\"><span style=\"color: #7fbfbf; text-decoration-color: #7fbfbf\">           </span><span style=\"font-style: italic\"> ─── Getting group </span><span style=\"color: #008080; text-decoration-color: #008080; font-weight: bold\">0</span><span style=\"font-style: italic\"> from experiment crazy-textbook                                         </span> <a href=\"file:///Users/alexandergoodell/code/llm-calc/llm_calc/util/util.py\" target=\"_blank\"><span style=\"color: #7f7f7f; text-decoration-color: #7f7f7f\">util.py</span></a><span style=\"color: #7f7f7f; text-decoration-color: #7f7f7f\">:</span><a href=\"file:///Users/alexandergoodell/code/llm-calc/llm_calc/util/util.py#318\" target=\"_blank\"><span style=\"color: #7f7f7f; text-decoration-color: #7f7f7f\">318</span></a>\n",
       "</pre>\n"
      ],
      "text/plain": [
       "\u001B[2;36m          \u001B[0m\u001B[2;36m \u001B[0m\u001B[3m ─── Getting group \u001B[0m\u001B[1;36m0\u001B[0m\u001B[3m from experiment crazy-textbook                                         \u001B[0m \u001B]8;id=892109;file:///Users/alexandergoodell/code/llm-calc/llm_calc/util/util.py\u001B\\\u001B[2mutil.py\u001B[0m\u001B]8;;\u001B\\\u001B[2m:\u001B[0m\u001B]8;id=36912;file:///Users/alexandergoodell/code/llm-calc/llm_calc/util/util.py#318\u001B\\\u001B[2m318\u001B[0m\u001B]8;;\u001B\\\n"
      ]
     },
     "metadata": {},
     "output_type": "display_data"
    },
    {
     "data": {
      "text/html": [
       "<pre style=\"white-space:pre;overflow-x:auto;line-height:normal;font-family:Menlo,'DejaVu Sans Mono',consolas,'Courier New',monospace\">metadata_arm\n",
       "llama_rag_ci    <span style=\"color: #008080; text-decoration-color: #008080; font-weight: bold\">250</span>\n",
       "Name: count, dtype: int64\n",
       "</pre>\n"
      ],
      "text/plain": [
       "metadata_arm\n",
       "llama_rag_ci    \u001B[1;36m250\u001B[0m\n",
       "Name: count, dtype: int64\n"
      ]
     },
     "metadata": {},
     "output_type": "display_data"
    },
    {
     "data": {
      "text/html": [
       "<pre style=\"white-space:pre;overflow-x:auto;line-height:normal;font-family:Menlo,'DejaVu Sans Mono',consolas,'Courier New',monospace\"><span style=\"color: #7fbfbf; text-decoration-color: #7fbfbf\">[05:54:52] </span><span style=\"font-style: italic\"> ─── </span><span style=\"color: #808000; text-decoration-color: #808000; font-style: italic\">...</span><span style=\"font-style: italic\">Added </span><span style=\"color: #008080; text-decoration-color: #008080; font-weight: bold\">250</span><span style=\"font-style: italic\"> runs from group </span><span style=\"color: #008080; text-decoration-color: #008080; font-weight: bold\">0</span><span style=\"font-style: italic\">                                                         </span> <a href=\"file:///Users/alexandergoodell/code/llm-calc/llm_calc/util/util.py\" target=\"_blank\"><span style=\"color: #7f7f7f; text-decoration-color: #7f7f7f\">util.py</span></a><span style=\"color: #7f7f7f; text-decoration-color: #7f7f7f\">:</span><a href=\"file:///Users/alexandergoodell/code/llm-calc/llm_calc/util/util.py#318\" target=\"_blank\"><span style=\"color: #7f7f7f; text-decoration-color: #7f7f7f\">318</span></a>\n",
       "<span style=\"color: #7fbfbf; text-decoration-color: #7fbfbf\">           </span><span style=\"font-style: italic\">                                                                                            </span> <span style=\"color: #7f7f7f; text-decoration-color: #7f7f7f\">           </span>\n",
       "<span style=\"color: #7fbfbf; text-decoration-color: #7fbfbf\">           </span><span style=\"font-style: italic\">                                                                                            </span> <span style=\"color: #7f7f7f; text-decoration-color: #7f7f7f\">           </span>\n",
       "</pre>\n"
      ],
      "text/plain": [
       "\u001B[2;36m[05:54:52]\u001B[0m\u001B[2;36m \u001B[0m\u001B[3m ─── \u001B[0m\u001B[3;33m...\u001B[0m\u001B[3mAdded \u001B[0m\u001B[1;36m250\u001B[0m\u001B[3m runs from group \u001B[0m\u001B[1;36m0\u001B[0m\u001B[3m                                                         \u001B[0m \u001B]8;id=625379;file:///Users/alexandergoodell/code/llm-calc/llm_calc/util/util.py\u001B\\\u001B[2mutil.py\u001B[0m\u001B]8;;\u001B\\\u001B[2m:\u001B[0m\u001B]8;id=629953;file:///Users/alexandergoodell/code/llm-calc/llm_calc/util/util.py#318\u001B\\\u001B[2m318\u001B[0m\u001B]8;;\u001B\\\n",
       "\u001B[2;36m           \u001B[0m\u001B[3m                                                                                            \u001B[0m \u001B[2m           \u001B[0m\n",
       "\u001B[2;36m           \u001B[0m\u001B[3m                                                                                            \u001B[0m \u001B[2m           \u001B[0m\n"
      ]
     },
     "metadata": {},
     "output_type": "display_data"
    },
    {
     "data": {
      "text/html": [
       "<pre style=\"white-space:pre;overflow-x:auto;line-height:normal;font-family:Menlo,'DejaVu Sans Mono',consolas,'Courier New',monospace\"><span style=\"color: #ffd7af; text-decoration-color: #ffd7af\">─────────────────────────────────────── GETTING DATASET QUARRELSOME-PINKIE ────────────────────────────────────────</span>\n",
       "</pre>\n"
      ],
      "text/plain": [
       "\u001B[38;5;223m─────────────────────────────────────── \u001B[0m\u001B[38;5;223mGETTING DATASET QUARRELSOME-PINKIE\u001B[0m\u001B[38;5;223m ────────────────────────────────────────\u001B[0m\n"
      ]
     },
     "metadata": {},
     "output_type": "display_data"
    },
    {
     "data": {
      "text/html": [
       "<pre style=\"white-space:pre;overflow-x:auto;line-height:normal;font-family:Menlo,'DejaVu Sans Mono',consolas,'Courier New',monospace\"><span style=\"color: #7fbfbf; text-decoration-color: #7fbfbf\">[05:54:53] </span><span style=\"font-style: italic\"> ─── Getting group </span><span style=\"color: #008080; text-decoration-color: #008080; font-weight: bold\">0</span><span style=\"font-style: italic\"> from experiment quarrelsome-pinkie                                     </span> <a href=\"file:///Users/alexandergoodell/code/llm-calc/llm_calc/util/util.py\" target=\"_blank\"><span style=\"color: #7f7f7f; text-decoration-color: #7f7f7f\">util.py</span></a><span style=\"color: #7f7f7f; text-decoration-color: #7f7f7f\">:</span><a href=\"file:///Users/alexandergoodell/code/llm-calc/llm_calc/util/util.py#318\" target=\"_blank\"><span style=\"color: #7f7f7f; text-decoration-color: #7f7f7f\">318</span></a>\n",
       "</pre>\n"
      ],
      "text/plain": [
       "\u001B[2;36m[05:54:53]\u001B[0m\u001B[2;36m \u001B[0m\u001B[3m ─── Getting group \u001B[0m\u001B[1;36m0\u001B[0m\u001B[3m from experiment quarrelsome-pinkie                                     \u001B[0m \u001B]8;id=400124;file:///Users/alexandergoodell/code/llm-calc/llm_calc/util/util.py\u001B\\\u001B[2mutil.py\u001B[0m\u001B]8;;\u001B\\\u001B[2m:\u001B[0m\u001B]8;id=652516;file:///Users/alexandergoodell/code/llm-calc/llm_calc/util/util.py#318\u001B\\\u001B[2m318\u001B[0m\u001B]8;;\u001B\\\n"
      ]
     },
     "metadata": {},
     "output_type": "display_data"
    },
    {
     "data": {
      "text/html": [
       "<pre style=\"white-space:pre;overflow-x:auto;line-height:normal;font-family:Menlo,'DejaVu Sans Mono',consolas,'Courier New',monospace\">metadata_arm\n",
       "gpt4_omc    <span style=\"color: #008080; text-decoration-color: #008080; font-weight: bold\">250</span>\n",
       "Name: count, dtype: int64\n",
       "</pre>\n"
      ],
      "text/plain": [
       "metadata_arm\n",
       "gpt4_omc    \u001B[1;36m250\u001B[0m\n",
       "Name: count, dtype: int64\n"
      ]
     },
     "metadata": {},
     "output_type": "display_data"
    },
    {
     "data": {
      "text/html": [
       "<pre style=\"white-space:pre;overflow-x:auto;line-height:normal;font-family:Menlo,'DejaVu Sans Mono',consolas,'Courier New',monospace\"><span style=\"color: #7fbfbf; text-decoration-color: #7fbfbf\">[05:54:55] </span><span style=\"font-style: italic\"> ─── </span><span style=\"color: #808000; text-decoration-color: #808000; font-style: italic\">...</span><span style=\"font-style: italic\">Added </span><span style=\"color: #008080; text-decoration-color: #008080; font-weight: bold\">250</span><span style=\"font-style: italic\"> runs from group </span><span style=\"color: #008080; text-decoration-color: #008080; font-weight: bold\">0</span><span style=\"font-style: italic\">                                                         </span> <a href=\"file:///Users/alexandergoodell/code/llm-calc/llm_calc/util/util.py\" target=\"_blank\"><span style=\"color: #7f7f7f; text-decoration-color: #7f7f7f\">util.py</span></a><span style=\"color: #7f7f7f; text-decoration-color: #7f7f7f\">:</span><a href=\"file:///Users/alexandergoodell/code/llm-calc/llm_calc/util/util.py#318\" target=\"_blank\"><span style=\"color: #7f7f7f; text-decoration-color: #7f7f7f\">318</span></a>\n",
       "<span style=\"color: #7fbfbf; text-decoration-color: #7fbfbf\">           </span><span style=\"font-style: italic\">                                                                                            </span> <span style=\"color: #7f7f7f; text-decoration-color: #7f7f7f\">           </span>\n",
       "<span style=\"color: #7fbfbf; text-decoration-color: #7fbfbf\">           </span><span style=\"font-style: italic\">                                                                                            </span> <span style=\"color: #7f7f7f; text-decoration-color: #7f7f7f\">           </span>\n",
       "</pre>\n"
      ],
      "text/plain": [
       "\u001B[2;36m[05:54:55]\u001B[0m\u001B[2;36m \u001B[0m\u001B[3m ─── \u001B[0m\u001B[3;33m...\u001B[0m\u001B[3mAdded \u001B[0m\u001B[1;36m250\u001B[0m\u001B[3m runs from group \u001B[0m\u001B[1;36m0\u001B[0m\u001B[3m                                                         \u001B[0m \u001B]8;id=575531;file:///Users/alexandergoodell/code/llm-calc/llm_calc/util/util.py\u001B\\\u001B[2mutil.py\u001B[0m\u001B]8;;\u001B\\\u001B[2m:\u001B[0m\u001B]8;id=26788;file:///Users/alexandergoodell/code/llm-calc/llm_calc/util/util.py#318\u001B\\\u001B[2m318\u001B[0m\u001B]8;;\u001B\\\n",
       "\u001B[2;36m           \u001B[0m\u001B[3m                                                                                            \u001B[0m \u001B[2m           \u001B[0m\n",
       "\u001B[2;36m           \u001B[0m\u001B[3m                                                                                            \u001B[0m \u001B[2m           \u001B[0m\n"
      ]
     },
     "metadata": {},
     "output_type": "display_data"
    },
    {
     "data": {
      "text/html": [
       "<pre style=\"white-space:pre;overflow-x:auto;line-height:normal;font-family:Menlo,'DejaVu Sans Mono',consolas,'Courier New',monospace\"><span style=\"color: #7fbfbf; text-decoration-color: #7fbfbf\">           </span><span style=\"font-style: italic\"> ─── Getting group </span><span style=\"color: #008080; text-decoration-color: #008080; font-weight: bold\">1</span><span style=\"font-style: italic\"> from experiment quarrelsome-pinkie                                     </span> <a href=\"file:///Users/alexandergoodell/code/llm-calc/llm_calc/util/util.py\" target=\"_blank\"><span style=\"color: #7f7f7f; text-decoration-color: #7f7f7f\">util.py</span></a><span style=\"color: #7f7f7f; text-decoration-color: #7f7f7f\">:</span><a href=\"file:///Users/alexandergoodell/code/llm-calc/llm_calc/util/util.py#318\" target=\"_blank\"><span style=\"color: #7f7f7f; text-decoration-color: #7f7f7f\">318</span></a>\n",
       "</pre>\n"
      ],
      "text/plain": [
       "\u001B[2;36m          \u001B[0m\u001B[2;36m \u001B[0m\u001B[3m ─── Getting group \u001B[0m\u001B[1;36m1\u001B[0m\u001B[3m from experiment quarrelsome-pinkie                                     \u001B[0m \u001B]8;id=918990;file:///Users/alexandergoodell/code/llm-calc/llm_calc/util/util.py\u001B\\\u001B[2mutil.py\u001B[0m\u001B]8;;\u001B\\\u001B[2m:\u001B[0m\u001B]8;id=807950;file:///Users/alexandergoodell/code/llm-calc/llm_calc/util/util.py#318\u001B\\\u001B[2m318\u001B[0m\u001B]8;;\u001B\\\n"
      ]
     },
     "metadata": {},
     "output_type": "display_data"
    },
    {
     "data": {
      "text/html": [
       "<pre style=\"white-space:pre;overflow-x:auto;line-height:normal;font-family:Menlo,'DejaVu Sans Mono',consolas,'Courier New',monospace\">metadata_arm\n",
       "gpt4_rag_ci    <span style=\"color: #008080; text-decoration-color: #008080; font-weight: bold\">250</span>\n",
       "Name: count, dtype: int64\n",
       "</pre>\n"
      ],
      "text/plain": [
       "metadata_arm\n",
       "gpt4_rag_ci    \u001B[1;36m250\u001B[0m\n",
       "Name: count, dtype: int64\n"
      ]
     },
     "metadata": {},
     "output_type": "display_data"
    },
    {
     "data": {
      "text/html": [
       "<pre style=\"white-space:pre;overflow-x:auto;line-height:normal;font-family:Menlo,'DejaVu Sans Mono',consolas,'Courier New',monospace\"><span style=\"color: #7fbfbf; text-decoration-color: #7fbfbf\">[05:54:58] </span><span style=\"font-style: italic\"> ─── </span><span style=\"color: #808000; text-decoration-color: #808000; font-style: italic\">...</span><span style=\"font-style: italic\">Added </span><span style=\"color: #008080; text-decoration-color: #008080; font-weight: bold\">250</span><span style=\"font-style: italic\"> runs from group </span><span style=\"color: #008080; text-decoration-color: #008080; font-weight: bold\">1</span><span style=\"font-style: italic\">                                                         </span> <a href=\"file:///Users/alexandergoodell/code/llm-calc/llm_calc/util/util.py\" target=\"_blank\"><span style=\"color: #7f7f7f; text-decoration-color: #7f7f7f\">util.py</span></a><span style=\"color: #7f7f7f; text-decoration-color: #7f7f7f\">:</span><a href=\"file:///Users/alexandergoodell/code/llm-calc/llm_calc/util/util.py#318\" target=\"_blank\"><span style=\"color: #7f7f7f; text-decoration-color: #7f7f7f\">318</span></a>\n",
       "<span style=\"color: #7fbfbf; text-decoration-color: #7fbfbf\">           </span><span style=\"font-style: italic\">                                                                                            </span> <span style=\"color: #7f7f7f; text-decoration-color: #7f7f7f\">           </span>\n",
       "<span style=\"color: #7fbfbf; text-decoration-color: #7fbfbf\">           </span><span style=\"font-style: italic\">                                                                                            </span> <span style=\"color: #7f7f7f; text-decoration-color: #7f7f7f\">           </span>\n",
       "</pre>\n"
      ],
      "text/plain": [
       "\u001B[2;36m[05:54:58]\u001B[0m\u001B[2;36m \u001B[0m\u001B[3m ─── \u001B[0m\u001B[3;33m...\u001B[0m\u001B[3mAdded \u001B[0m\u001B[1;36m250\u001B[0m\u001B[3m runs from group \u001B[0m\u001B[1;36m1\u001B[0m\u001B[3m                                                         \u001B[0m \u001B]8;id=151620;file:///Users/alexandergoodell/code/llm-calc/llm_calc/util/util.py\u001B\\\u001B[2mutil.py\u001B[0m\u001B]8;;\u001B\\\u001B[2m:\u001B[0m\u001B]8;id=412757;file:///Users/alexandergoodell/code/llm-calc/llm_calc/util/util.py#318\u001B\\\u001B[2m318\u001B[0m\u001B]8;;\u001B\\\n",
       "\u001B[2;36m           \u001B[0m\u001B[3m                                                                                            \u001B[0m \u001B[2m           \u001B[0m\n",
       "\u001B[2;36m           \u001B[0m\u001B[3m                                                                                            \u001B[0m \u001B[2m           \u001B[0m\n"
      ]
     },
     "metadata": {},
     "output_type": "display_data"
    },
    {
     "data": {
      "text/html": [
       "<pre style=\"white-space:pre;overflow-x:auto;line-height:normal;font-family:Menlo,'DejaVu Sans Mono',consolas,'Courier New',monospace\"><span style=\"color: #7fbfbf; text-decoration-color: #7fbfbf\">           </span><span style=\"font-style: italic\"> ─── Getting group </span><span style=\"color: #008080; text-decoration-color: #008080; font-weight: bold\">2</span><span style=\"font-style: italic\"> from experiment quarrelsome-pinkie                                     </span> <a href=\"file:///Users/alexandergoodell/code/llm-calc/llm_calc/util/util.py\" target=\"_blank\"><span style=\"color: #7f7f7f; text-decoration-color: #7f7f7f\">util.py</span></a><span style=\"color: #7f7f7f; text-decoration-color: #7f7f7f\">:</span><a href=\"file:///Users/alexandergoodell/code/llm-calc/llm_calc/util/util.py#318\" target=\"_blank\"><span style=\"color: #7f7f7f; text-decoration-color: #7f7f7f\">318</span></a>\n",
       "</pre>\n"
      ],
      "text/plain": [
       "\u001B[2;36m          \u001B[0m\u001B[2;36m \u001B[0m\u001B[3m ─── Getting group \u001B[0m\u001B[1;36m2\u001B[0m\u001B[3m from experiment quarrelsome-pinkie                                     \u001B[0m \u001B]8;id=601038;file:///Users/alexandergoodell/code/llm-calc/llm_calc/util/util.py\u001B\\\u001B[2mutil.py\u001B[0m\u001B]8;;\u001B\\\u001B[2m:\u001B[0m\u001B]8;id=617942;file:///Users/alexandergoodell/code/llm-calc/llm_calc/util/util.py#318\u001B\\\u001B[2m318\u001B[0m\u001B]8;;\u001B\\\n"
      ]
     },
     "metadata": {},
     "output_type": "display_data"
    },
    {
     "data": {
      "text/html": [
       "<pre style=\"white-space:pre;overflow-x:auto;line-height:normal;font-family:Menlo,'DejaVu Sans Mono',consolas,'Courier New',monospace\">metadata_arm\n",
       "gpt4_rag    <span style=\"color: #008080; text-decoration-color: #008080; font-weight: bold\">250</span>\n",
       "Name: count, dtype: int64\n",
       "</pre>\n"
      ],
      "text/plain": [
       "metadata_arm\n",
       "gpt4_rag    \u001B[1;36m250\u001B[0m\n",
       "Name: count, dtype: int64\n"
      ]
     },
     "metadata": {},
     "output_type": "display_data"
    },
    {
     "data": {
      "text/html": [
       "<pre style=\"white-space:pre;overflow-x:auto;line-height:normal;font-family:Menlo,'DejaVu Sans Mono',consolas,'Courier New',monospace\"><span style=\"color: #7fbfbf; text-decoration-color: #7fbfbf\">[05:55:00] </span><span style=\"font-style: italic\"> ─── </span><span style=\"color: #808000; text-decoration-color: #808000; font-style: italic\">...</span><span style=\"font-style: italic\">Added </span><span style=\"color: #008080; text-decoration-color: #008080; font-weight: bold\">250</span><span style=\"font-style: italic\"> runs from group </span><span style=\"color: #008080; text-decoration-color: #008080; font-weight: bold\">2</span><span style=\"font-style: italic\">                                                         </span> <a href=\"file:///Users/alexandergoodell/code/llm-calc/llm_calc/util/util.py\" target=\"_blank\"><span style=\"color: #7f7f7f; text-decoration-color: #7f7f7f\">util.py</span></a><span style=\"color: #7f7f7f; text-decoration-color: #7f7f7f\">:</span><a href=\"file:///Users/alexandergoodell/code/llm-calc/llm_calc/util/util.py#318\" target=\"_blank\"><span style=\"color: #7f7f7f; text-decoration-color: #7f7f7f\">318</span></a>\n",
       "<span style=\"color: #7fbfbf; text-decoration-color: #7fbfbf\">           </span><span style=\"font-style: italic\">                                                                                            </span> <span style=\"color: #7f7f7f; text-decoration-color: #7f7f7f\">           </span>\n",
       "<span style=\"color: #7fbfbf; text-decoration-color: #7fbfbf\">           </span><span style=\"font-style: italic\">                                                                                            </span> <span style=\"color: #7f7f7f; text-decoration-color: #7f7f7f\">           </span>\n",
       "</pre>\n"
      ],
      "text/plain": [
       "\u001B[2;36m[05:55:00]\u001B[0m\u001B[2;36m \u001B[0m\u001B[3m ─── \u001B[0m\u001B[3;33m...\u001B[0m\u001B[3mAdded \u001B[0m\u001B[1;36m250\u001B[0m\u001B[3m runs from group \u001B[0m\u001B[1;36m2\u001B[0m\u001B[3m                                                         \u001B[0m \u001B]8;id=529711;file:///Users/alexandergoodell/code/llm-calc/llm_calc/util/util.py\u001B\\\u001B[2mutil.py\u001B[0m\u001B]8;;\u001B\\\u001B[2m:\u001B[0m\u001B]8;id=97832;file:///Users/alexandergoodell/code/llm-calc/llm_calc/util/util.py#318\u001B\\\u001B[2m318\u001B[0m\u001B]8;;\u001B\\\n",
       "\u001B[2;36m           \u001B[0m\u001B[3m                                                                                            \u001B[0m \u001B[2m           \u001B[0m\n",
       "\u001B[2;36m           \u001B[0m\u001B[3m                                                                                            \u001B[0m \u001B[2m           \u001B[0m\n"
      ]
     },
     "metadata": {},
     "output_type": "display_data"
    },
    {
     "data": {
      "text/html": [
       "<pre style=\"white-space:pre;overflow-x:auto;line-height:normal;font-family:Menlo,'DejaVu Sans Mono',consolas,'Courier New',monospace\"><span style=\"color: #7fbfbf; text-decoration-color: #7fbfbf\">           </span><span style=\"font-style: italic\"> ─── Getting group </span><span style=\"color: #008080; text-decoration-color: #008080; font-weight: bold\">3</span><span style=\"font-style: italic\"> from experiment quarrelsome-pinkie                                     </span> <a href=\"file:///Users/alexandergoodell/code/llm-calc/llm_calc/util/util.py\" target=\"_blank\"><span style=\"color: #7f7f7f; text-decoration-color: #7f7f7f\">util.py</span></a><span style=\"color: #7f7f7f; text-decoration-color: #7f7f7f\">:</span><a href=\"file:///Users/alexandergoodell/code/llm-calc/llm_calc/util/util.py#318\" target=\"_blank\"><span style=\"color: #7f7f7f; text-decoration-color: #7f7f7f\">318</span></a>\n",
       "</pre>\n"
      ],
      "text/plain": [
       "\u001B[2;36m          \u001B[0m\u001B[2;36m \u001B[0m\u001B[3m ─── Getting group \u001B[0m\u001B[1;36m3\u001B[0m\u001B[3m from experiment quarrelsome-pinkie                                     \u001B[0m \u001B]8;id=172120;file:///Users/alexandergoodell/code/llm-calc/llm_calc/util/util.py\u001B\\\u001B[2mutil.py\u001B[0m\u001B]8;;\u001B\\\u001B[2m:\u001B[0m\u001B]8;id=168169;file:///Users/alexandergoodell/code/llm-calc/llm_calc/util/util.py#318\u001B\\\u001B[2m318\u001B[0m\u001B]8;;\u001B\\\n"
      ]
     },
     "metadata": {},
     "output_type": "display_data"
    },
    {
     "data": {
      "text/html": [
       "<pre style=\"white-space:pre;overflow-x:auto;line-height:normal;font-family:Menlo,'DejaVu Sans Mono',consolas,'Courier New',monospace\">metadata_arm\n",
       "gpt4_ci    <span style=\"color: #008080; text-decoration-color: #008080; font-weight: bold\">250</span>\n",
       "Name: count, dtype: int64\n",
       "</pre>\n"
      ],
      "text/plain": [
       "metadata_arm\n",
       "gpt4_ci    \u001B[1;36m250\u001B[0m\n",
       "Name: count, dtype: int64\n"
      ]
     },
     "metadata": {},
     "output_type": "display_data"
    },
    {
     "data": {
      "text/html": [
       "<pre style=\"white-space:pre;overflow-x:auto;line-height:normal;font-family:Menlo,'DejaVu Sans Mono',consolas,'Courier New',monospace\"><span style=\"color: #7fbfbf; text-decoration-color: #7fbfbf\">[05:55:03] </span><span style=\"font-style: italic\"> ─── </span><span style=\"color: #808000; text-decoration-color: #808000; font-style: italic\">...</span><span style=\"font-style: italic\">Added </span><span style=\"color: #008080; text-decoration-color: #008080; font-weight: bold\">250</span><span style=\"font-style: italic\"> runs from group </span><span style=\"color: #008080; text-decoration-color: #008080; font-weight: bold\">3</span><span style=\"font-style: italic\">                                                         </span> <a href=\"file:///Users/alexandergoodell/code/llm-calc/llm_calc/util/util.py\" target=\"_blank\"><span style=\"color: #7f7f7f; text-decoration-color: #7f7f7f\">util.py</span></a><span style=\"color: #7f7f7f; text-decoration-color: #7f7f7f\">:</span><a href=\"file:///Users/alexandergoodell/code/llm-calc/llm_calc/util/util.py#318\" target=\"_blank\"><span style=\"color: #7f7f7f; text-decoration-color: #7f7f7f\">318</span></a>\n",
       "<span style=\"color: #7fbfbf; text-decoration-color: #7fbfbf\">           </span><span style=\"font-style: italic\">                                                                                            </span> <span style=\"color: #7f7f7f; text-decoration-color: #7f7f7f\">           </span>\n",
       "<span style=\"color: #7fbfbf; text-decoration-color: #7fbfbf\">           </span><span style=\"font-style: italic\">                                                                                            </span> <span style=\"color: #7f7f7f; text-decoration-color: #7f7f7f\">           </span>\n",
       "</pre>\n"
      ],
      "text/plain": [
       "\u001B[2;36m[05:55:03]\u001B[0m\u001B[2;36m \u001B[0m\u001B[3m ─── \u001B[0m\u001B[3;33m...\u001B[0m\u001B[3mAdded \u001B[0m\u001B[1;36m250\u001B[0m\u001B[3m runs from group \u001B[0m\u001B[1;36m3\u001B[0m\u001B[3m                                                         \u001B[0m \u001B]8;id=66343;file:///Users/alexandergoodell/code/llm-calc/llm_calc/util/util.py\u001B\\\u001B[2mutil.py\u001B[0m\u001B]8;;\u001B\\\u001B[2m:\u001B[0m\u001B]8;id=102273;file:///Users/alexandergoodell/code/llm-calc/llm_calc/util/util.py#318\u001B\\\u001B[2m318\u001B[0m\u001B]8;;\u001B\\\n",
       "\u001B[2;36m           \u001B[0m\u001B[3m                                                                                            \u001B[0m \u001B[2m           \u001B[0m\n",
       "\u001B[2;36m           \u001B[0m\u001B[3m                                                                                            \u001B[0m \u001B[2m           \u001B[0m\n"
      ]
     },
     "metadata": {},
     "output_type": "display_data"
    },
    {
     "data": {
      "text/html": [
       "<pre style=\"white-space:pre;overflow-x:auto;line-height:normal;font-family:Menlo,'DejaVu Sans Mono',consolas,'Courier New',monospace\"><span style=\"color: #7fbfbf; text-decoration-color: #7fbfbf\">           </span><span style=\"font-style: italic\"> ─── Getting group </span><span style=\"color: #008080; text-decoration-color: #008080; font-weight: bold\">4</span><span style=\"font-style: italic\"> from experiment quarrelsome-pinkie                                     </span> <a href=\"file:///Users/alexandergoodell/code/llm-calc/llm_calc/util/util.py\" target=\"_blank\"><span style=\"color: #7f7f7f; text-decoration-color: #7f7f7f\">util.py</span></a><span style=\"color: #7f7f7f; text-decoration-color: #7f7f7f\">:</span><a href=\"file:///Users/alexandergoodell/code/llm-calc/llm_calc/util/util.py#318\" target=\"_blank\"><span style=\"color: #7f7f7f; text-decoration-color: #7f7f7f\">318</span></a>\n",
       "</pre>\n"
      ],
      "text/plain": [
       "\u001B[2;36m          \u001B[0m\u001B[2;36m \u001B[0m\u001B[3m ─── Getting group \u001B[0m\u001B[1;36m4\u001B[0m\u001B[3m from experiment quarrelsome-pinkie                                     \u001B[0m \u001B]8;id=171264;file:///Users/alexandergoodell/code/llm-calc/llm_calc/util/util.py\u001B\\\u001B[2mutil.py\u001B[0m\u001B]8;;\u001B\\\u001B[2m:\u001B[0m\u001B]8;id=405410;file:///Users/alexandergoodell/code/llm-calc/llm_calc/util/util.py#318\u001B\\\u001B[2m318\u001B[0m\u001B]8;;\u001B\\\n"
      ]
     },
     "metadata": {},
     "output_type": "display_data"
    },
    {
     "data": {
      "text/html": [
       "<pre style=\"white-space:pre;overflow-x:auto;line-height:normal;font-family:Menlo,'DejaVu Sans Mono',consolas,'Courier New',monospace\">metadata_arm\n",
       "gpt4_base    <span style=\"color: #008080; text-decoration-color: #008080; font-weight: bold\">250</span>\n",
       "Name: count, dtype: int64\n",
       "</pre>\n"
      ],
      "text/plain": [
       "metadata_arm\n",
       "gpt4_base    \u001B[1;36m250\u001B[0m\n",
       "Name: count, dtype: int64\n"
      ]
     },
     "metadata": {},
     "output_type": "display_data"
    },
    {
     "data": {
      "text/html": [
       "<pre style=\"white-space:pre;overflow-x:auto;line-height:normal;font-family:Menlo,'DejaVu Sans Mono',consolas,'Courier New',monospace\"><span style=\"color: #7fbfbf; text-decoration-color: #7fbfbf\">[05:55:05] </span><span style=\"font-style: italic\"> ─── </span><span style=\"color: #808000; text-decoration-color: #808000; font-style: italic\">...</span><span style=\"font-style: italic\">Added </span><span style=\"color: #008080; text-decoration-color: #008080; font-weight: bold\">250</span><span style=\"font-style: italic\"> runs from group </span><span style=\"color: #008080; text-decoration-color: #008080; font-weight: bold\">4</span><span style=\"font-style: italic\">                                                         </span> <a href=\"file:///Users/alexandergoodell/code/llm-calc/llm_calc/util/util.py\" target=\"_blank\"><span style=\"color: #7f7f7f; text-decoration-color: #7f7f7f\">util.py</span></a><span style=\"color: #7f7f7f; text-decoration-color: #7f7f7f\">:</span><a href=\"file:///Users/alexandergoodell/code/llm-calc/llm_calc/util/util.py#318\" target=\"_blank\"><span style=\"color: #7f7f7f; text-decoration-color: #7f7f7f\">318</span></a>\n",
       "<span style=\"color: #7fbfbf; text-decoration-color: #7fbfbf\">           </span><span style=\"font-style: italic\">                                                                                            </span> <span style=\"color: #7f7f7f; text-decoration-color: #7f7f7f\">           </span>\n",
       "<span style=\"color: #7fbfbf; text-decoration-color: #7fbfbf\">           </span><span style=\"font-style: italic\">                                                                                            </span> <span style=\"color: #7f7f7f; text-decoration-color: #7f7f7f\">           </span>\n",
       "</pre>\n"
      ],
      "text/plain": [
       "\u001B[2;36m[05:55:05]\u001B[0m\u001B[2;36m \u001B[0m\u001B[3m ─── \u001B[0m\u001B[3;33m...\u001B[0m\u001B[3mAdded \u001B[0m\u001B[1;36m250\u001B[0m\u001B[3m runs from group \u001B[0m\u001B[1;36m4\u001B[0m\u001B[3m                                                         \u001B[0m \u001B]8;id=928746;file:///Users/alexandergoodell/code/llm-calc/llm_calc/util/util.py\u001B\\\u001B[2mutil.py\u001B[0m\u001B]8;;\u001B\\\u001B[2m:\u001B[0m\u001B]8;id=772477;file:///Users/alexandergoodell/code/llm-calc/llm_calc/util/util.py#318\u001B\\\u001B[2m318\u001B[0m\u001B]8;;\u001B\\\n",
       "\u001B[2;36m           \u001B[0m\u001B[3m                                                                                            \u001B[0m \u001B[2m           \u001B[0m\n",
       "\u001B[2;36m           \u001B[0m\u001B[3m                                                                                            \u001B[0m \u001B[2m           \u001B[0m\n"
      ]
     },
     "metadata": {},
     "output_type": "display_data"
    },
    {
     "data": {
      "text/html": [
       "<pre style=\"white-space:pre;overflow-x:auto;line-height:normal;font-family:Menlo,'DejaVu Sans Mono',consolas,'Courier New',monospace\"><span style=\"color: #ffd7af; text-decoration-color: #ffd7af\">─────────────────────────────────────── GETTING DATASET DISAGREEABLE-APPLE ────────────────────────────────────────</span>\n",
       "</pre>\n"
      ],
      "text/plain": [
       "\u001B[38;5;223m─────────────────────────────────────── \u001B[0m\u001B[38;5;223mGETTING DATASET DISAGREEABLE-APPLE\u001B[0m\u001B[38;5;223m ────────────────────────────────────────\u001B[0m\n"
      ]
     },
     "metadata": {},
     "output_type": "display_data"
    },
    {
     "data": {
      "text/html": [
       "<pre style=\"white-space:pre;overflow-x:auto;line-height:normal;font-family:Menlo,'DejaVu Sans Mono',consolas,'Courier New',monospace\"><span style=\"color: #7fbfbf; text-decoration-color: #7fbfbf\">[05:55:06] </span><span style=\"font-style: italic\"> ─── Getting group </span><span style=\"color: #008080; text-decoration-color: #008080; font-weight: bold\">0</span><span style=\"font-style: italic\"> from experiment disagreeable-apple                                     </span> <a href=\"file:///Users/alexandergoodell/code/llm-calc/llm_calc/util/util.py\" target=\"_blank\"><span style=\"color: #7f7f7f; text-decoration-color: #7f7f7f\">util.py</span></a><span style=\"color: #7f7f7f; text-decoration-color: #7f7f7f\">:</span><a href=\"file:///Users/alexandergoodell/code/llm-calc/llm_calc/util/util.py#318\" target=\"_blank\"><span style=\"color: #7f7f7f; text-decoration-color: #7f7f7f\">318</span></a>\n",
       "</pre>\n"
      ],
      "text/plain": [
       "\u001B[2;36m[05:55:06]\u001B[0m\u001B[2;36m \u001B[0m\u001B[3m ─── Getting group \u001B[0m\u001B[1;36m0\u001B[0m\u001B[3m from experiment disagreeable-apple                                     \u001B[0m \u001B]8;id=115720;file:///Users/alexandergoodell/code/llm-calc/llm_calc/util/util.py\u001B\\\u001B[2mutil.py\u001B[0m\u001B]8;;\u001B\\\u001B[2m:\u001B[0m\u001B]8;id=43270;file:///Users/alexandergoodell/code/llm-calc/llm_calc/util/util.py#318\u001B\\\u001B[2m318\u001B[0m\u001B]8;;\u001B\\\n"
      ]
     },
     "metadata": {},
     "output_type": "display_data"
    },
    {
     "data": {
      "text/html": [
       "<pre style=\"white-space:pre;overflow-x:auto;line-height:normal;font-family:Menlo,'DejaVu Sans Mono',consolas,'Courier New',monospace\">metadata_arm\n",
       "gpt4_rag_ci    <span style=\"color: #008080; text-decoration-color: #008080; font-weight: bold\">250</span>\n",
       "Name: count, dtype: int64\n",
       "</pre>\n"
      ],
      "text/plain": [
       "metadata_arm\n",
       "gpt4_rag_ci    \u001B[1;36m250\u001B[0m\n",
       "Name: count, dtype: int64\n"
      ]
     },
     "metadata": {},
     "output_type": "display_data"
    },
    {
     "data": {
      "text/html": [
       "<pre style=\"white-space:pre;overflow-x:auto;line-height:normal;font-family:Menlo,'DejaVu Sans Mono',consolas,'Courier New',monospace\"><span style=\"color: #7fbfbf; text-decoration-color: #7fbfbf\">[05:55:09] </span><span style=\"font-style: italic\"> ─── </span><span style=\"color: #808000; text-decoration-color: #808000; font-style: italic\">...</span><span style=\"font-style: italic\">Added </span><span style=\"color: #008080; text-decoration-color: #008080; font-weight: bold\">250</span><span style=\"font-style: italic\"> runs from group </span><span style=\"color: #008080; text-decoration-color: #008080; font-weight: bold\">0</span><span style=\"font-style: italic\">                                                         </span> <a href=\"file:///Users/alexandergoodell/code/llm-calc/llm_calc/util/util.py\" target=\"_blank\"><span style=\"color: #7f7f7f; text-decoration-color: #7f7f7f\">util.py</span></a><span style=\"color: #7f7f7f; text-decoration-color: #7f7f7f\">:</span><a href=\"file:///Users/alexandergoodell/code/llm-calc/llm_calc/util/util.py#318\" target=\"_blank\"><span style=\"color: #7f7f7f; text-decoration-color: #7f7f7f\">318</span></a>\n",
       "<span style=\"color: #7fbfbf; text-decoration-color: #7fbfbf\">           </span><span style=\"font-style: italic\">                                                                                            </span> <span style=\"color: #7f7f7f; text-decoration-color: #7f7f7f\">           </span>\n",
       "<span style=\"color: #7fbfbf; text-decoration-color: #7fbfbf\">           </span><span style=\"font-style: italic\">                                                                                            </span> <span style=\"color: #7f7f7f; text-decoration-color: #7f7f7f\">           </span>\n",
       "</pre>\n"
      ],
      "text/plain": [
       "\u001B[2;36m[05:55:09]\u001B[0m\u001B[2;36m \u001B[0m\u001B[3m ─── \u001B[0m\u001B[3;33m...\u001B[0m\u001B[3mAdded \u001B[0m\u001B[1;36m250\u001B[0m\u001B[3m runs from group \u001B[0m\u001B[1;36m0\u001B[0m\u001B[3m                                                         \u001B[0m \u001B]8;id=365921;file:///Users/alexandergoodell/code/llm-calc/llm_calc/util/util.py\u001B\\\u001B[2mutil.py\u001B[0m\u001B]8;;\u001B\\\u001B[2m:\u001B[0m\u001B]8;id=916308;file:///Users/alexandergoodell/code/llm-calc/llm_calc/util/util.py#318\u001B\\\u001B[2m318\u001B[0m\u001B]8;;\u001B\\\n",
       "\u001B[2;36m           \u001B[0m\u001B[3m                                                                                            \u001B[0m \u001B[2m           \u001B[0m\n",
       "\u001B[2;36m           \u001B[0m\u001B[3m                                                                                            \u001B[0m \u001B[2m           \u001B[0m\n"
      ]
     },
     "metadata": {},
     "output_type": "display_data"
    },
    {
     "data": {
      "text/html": [
       "<pre style=\"white-space:pre;overflow-x:auto;line-height:normal;font-family:Menlo,'DejaVu Sans Mono',consolas,'Courier New',monospace\"><span style=\"color: #ffd7af; text-decoration-color: #ffd7af\">───────────────────────────────────────── GETTING DATASET CONFUSED-INTENT ─────────────────────────────────────────</span>\n",
       "</pre>\n"
      ],
      "text/plain": [
       "\u001B[38;5;223m───────────────────────────────────────── \u001B[0m\u001B[38;5;223mGETTING DATASET CONFUSED-INTENT\u001B[0m\u001B[38;5;223m ─────────────────────────────────────────\u001B[0m\n"
      ]
     },
     "metadata": {},
     "output_type": "display_data"
    },
    {
     "data": {
      "text/html": [
       "<pre style=\"white-space:pre;overflow-x:auto;line-height:normal;font-family:Menlo,'DejaVu Sans Mono',consolas,'Courier New',monospace\"><span style=\"color: #7fbfbf; text-decoration-color: #7fbfbf\">           </span><span style=\"font-style: italic\"> ─── Getting group </span><span style=\"color: #008080; text-decoration-color: #008080; font-weight: bold\">0</span><span style=\"font-style: italic\"> from experiment confused-intent                                        </span> <a href=\"file:///Users/alexandergoodell/code/llm-calc/llm_calc/util/util.py\" target=\"_blank\"><span style=\"color: #7f7f7f; text-decoration-color: #7f7f7f\">util.py</span></a><span style=\"color: #7f7f7f; text-decoration-color: #7f7f7f\">:</span><a href=\"file:///Users/alexandergoodell/code/llm-calc/llm_calc/util/util.py#318\" target=\"_blank\"><span style=\"color: #7f7f7f; text-decoration-color: #7f7f7f\">318</span></a>\n",
       "</pre>\n"
      ],
      "text/plain": [
       "\u001B[2;36m          \u001B[0m\u001B[2;36m \u001B[0m\u001B[3m ─── Getting group \u001B[0m\u001B[1;36m0\u001B[0m\u001B[3m from experiment confused-intent                                        \u001B[0m \u001B]8;id=772710;file:///Users/alexandergoodell/code/llm-calc/llm_calc/util/util.py\u001B\\\u001B[2mutil.py\u001B[0m\u001B]8;;\u001B\\\u001B[2m:\u001B[0m\u001B]8;id=14380;file:///Users/alexandergoodell/code/llm-calc/llm_calc/util/util.py#318\u001B\\\u001B[2m318\u001B[0m\u001B]8;;\u001B\\\n"
      ]
     },
     "metadata": {},
     "output_type": "display_data"
    },
    {
     "data": {
      "text/html": [
       "<pre style=\"white-space:pre;overflow-x:auto;line-height:normal;font-family:Menlo,'DejaVu Sans Mono',consolas,'Courier New',monospace\">metadata_arm\n",
       "llama_omc    <span style=\"color: #008080; text-decoration-color: #008080; font-weight: bold\">250</span>\n",
       "Name: count, dtype: int64\n",
       "</pre>\n"
      ],
      "text/plain": [
       "metadata_arm\n",
       "llama_omc    \u001B[1;36m250\u001B[0m\n",
       "Name: count, dtype: int64\n"
      ]
     },
     "metadata": {},
     "output_type": "display_data"
    },
    {
     "data": {
      "text/html": [
       "<pre style=\"white-space:pre;overflow-x:auto;line-height:normal;font-family:Menlo,'DejaVu Sans Mono',consolas,'Courier New',monospace\"><span style=\"color: #7fbfbf; text-decoration-color: #7fbfbf\">[05:55:12] </span><span style=\"font-style: italic\"> ─── </span><span style=\"color: #808000; text-decoration-color: #808000; font-style: italic\">...</span><span style=\"font-style: italic\">Added </span><span style=\"color: #008080; text-decoration-color: #008080; font-weight: bold\">250</span><span style=\"font-style: italic\"> runs from group </span><span style=\"color: #008080; text-decoration-color: #008080; font-weight: bold\">0</span><span style=\"font-style: italic\">                                                         </span> <a href=\"file:///Users/alexandergoodell/code/llm-calc/llm_calc/util/util.py\" target=\"_blank\"><span style=\"color: #7f7f7f; text-decoration-color: #7f7f7f\">util.py</span></a><span style=\"color: #7f7f7f; text-decoration-color: #7f7f7f\">:</span><a href=\"file:///Users/alexandergoodell/code/llm-calc/llm_calc/util/util.py#318\" target=\"_blank\"><span style=\"color: #7f7f7f; text-decoration-color: #7f7f7f\">318</span></a>\n",
       "<span style=\"color: #7fbfbf; text-decoration-color: #7fbfbf\">           </span><span style=\"font-style: italic\">                                                                                            </span> <span style=\"color: #7f7f7f; text-decoration-color: #7f7f7f\">           </span>\n",
       "<span style=\"color: #7fbfbf; text-decoration-color: #7fbfbf\">           </span><span style=\"font-style: italic\">                                                                                            </span> <span style=\"color: #7f7f7f; text-decoration-color: #7f7f7f\">           </span>\n",
       "</pre>\n"
      ],
      "text/plain": [
       "\u001B[2;36m[05:55:12]\u001B[0m\u001B[2;36m \u001B[0m\u001B[3m ─── \u001B[0m\u001B[3;33m...\u001B[0m\u001B[3mAdded \u001B[0m\u001B[1;36m250\u001B[0m\u001B[3m runs from group \u001B[0m\u001B[1;36m0\u001B[0m\u001B[3m                                                         \u001B[0m \u001B]8;id=978645;file:///Users/alexandergoodell/code/llm-calc/llm_calc/util/util.py\u001B\\\u001B[2mutil.py\u001B[0m\u001B]8;;\u001B\\\u001B[2m:\u001B[0m\u001B]8;id=971104;file:///Users/alexandergoodell/code/llm-calc/llm_calc/util/util.py#318\u001B\\\u001B[2m318\u001B[0m\u001B]8;;\u001B\\\n",
       "\u001B[2;36m           \u001B[0m\u001B[3m                                                                                            \u001B[0m \u001B[2m           \u001B[0m\n",
       "\u001B[2;36m           \u001B[0m\u001B[3m                                                                                            \u001B[0m \u001B[2m           \u001B[0m\n"
      ]
     },
     "metadata": {},
     "output_type": "display_data"
    },
    {
     "data": {
      "text/html": [
       "<pre style=\"white-space:pre;overflow-x:auto;line-height:normal;font-family:Menlo,'DejaVu Sans Mono',consolas,'Courier New',monospace\"><span style=\"color: #ffd7af; text-decoration-color: #ffd7af\">─────────────────────────────────────── GETTING DATASET YIELDING-GEARSHIFT ────────────────────────────────────────</span>\n",
       "</pre>\n"
      ],
      "text/plain": [
       "\u001B[38;5;223m─────────────────────────────────────── \u001B[0m\u001B[38;5;223mGETTING DATASET YIELDING-GEARSHIFT\u001B[0m\u001B[38;5;223m ────────────────────────────────────────\u001B[0m\n"
      ]
     },
     "metadata": {},
     "output_type": "display_data"
    },
    {
     "data": {
      "text/html": [
       "<pre style=\"white-space:pre;overflow-x:auto;line-height:normal;font-family:Menlo,'DejaVu Sans Mono',consolas,'Courier New',monospace\"><span style=\"color: #7fbfbf; text-decoration-color: #7fbfbf\">           </span><span style=\"font-style: italic\"> ─── Getting group </span><span style=\"color: #008080; text-decoration-color: #008080; font-weight: bold\">0</span><span style=\"font-style: italic\"> from experiment yielding-gearshift                                     </span> <a href=\"file:///Users/alexandergoodell/code/llm-calc/llm_calc/util/util.py\" target=\"_blank\"><span style=\"color: #7f7f7f; text-decoration-color: #7f7f7f\">util.py</span></a><span style=\"color: #7f7f7f; text-decoration-color: #7f7f7f\">:</span><a href=\"file:///Users/alexandergoodell/code/llm-calc/llm_calc/util/util.py#318\" target=\"_blank\"><span style=\"color: #7f7f7f; text-decoration-color: #7f7f7f\">318</span></a>\n",
       "</pre>\n"
      ],
      "text/plain": [
       "\u001B[2;36m          \u001B[0m\u001B[2;36m \u001B[0m\u001B[3m ─── Getting group \u001B[0m\u001B[1;36m0\u001B[0m\u001B[3m from experiment yielding-gearshift                                     \u001B[0m \u001B]8;id=290279;file:///Users/alexandergoodell/code/llm-calc/llm_calc/util/util.py\u001B\\\u001B[2mutil.py\u001B[0m\u001B]8;;\u001B\\\u001B[2m:\u001B[0m\u001B]8;id=573986;file:///Users/alexandergoodell/code/llm-calc/llm_calc/util/util.py#318\u001B\\\u001B[2m318\u001B[0m\u001B]8;;\u001B\\\n"
      ]
     },
     "metadata": {},
     "output_type": "display_data"
    },
    {
     "data": {
      "text/html": [
       "<pre style=\"white-space:pre;overflow-x:auto;line-height:normal;font-family:Menlo,'DejaVu Sans Mono',consolas,'Courier New',monospace\">metadata_arm\n",
       "gpt4_rag_ci    <span style=\"color: #008080; text-decoration-color: #008080; font-weight: bold\">250</span>\n",
       "Name: count, dtype: int64\n",
       "</pre>\n"
      ],
      "text/plain": [
       "metadata_arm\n",
       "gpt4_rag_ci    \u001B[1;36m250\u001B[0m\n",
       "Name: count, dtype: int64\n"
      ]
     },
     "metadata": {},
     "output_type": "display_data"
    },
    {
     "data": {
      "text/html": [
       "<pre style=\"white-space:pre;overflow-x:auto;line-height:normal;font-family:Menlo,'DejaVu Sans Mono',consolas,'Courier New',monospace\"><span style=\"color: #7fbfbf; text-decoration-color: #7fbfbf\">[05:55:15] </span><span style=\"font-style: italic\"> ─── </span><span style=\"color: #808000; text-decoration-color: #808000; font-style: italic\">...</span><span style=\"font-style: italic\">Added </span><span style=\"color: #008080; text-decoration-color: #008080; font-weight: bold\">250</span><span style=\"font-style: italic\"> runs from group </span><span style=\"color: #008080; text-decoration-color: #008080; font-weight: bold\">0</span><span style=\"font-style: italic\">                                                         </span> <a href=\"file:///Users/alexandergoodell/code/llm-calc/llm_calc/util/util.py\" target=\"_blank\"><span style=\"color: #7f7f7f; text-decoration-color: #7f7f7f\">util.py</span></a><span style=\"color: #7f7f7f; text-decoration-color: #7f7f7f\">:</span><a href=\"file:///Users/alexandergoodell/code/llm-calc/llm_calc/util/util.py#318\" target=\"_blank\"><span style=\"color: #7f7f7f; text-decoration-color: #7f7f7f\">318</span></a>\n",
       "<span style=\"color: #7fbfbf; text-decoration-color: #7fbfbf\">           </span><span style=\"font-style: italic\">                                                                                            </span> <span style=\"color: #7f7f7f; text-decoration-color: #7f7f7f\">           </span>\n",
       "<span style=\"color: #7fbfbf; text-decoration-color: #7fbfbf\">           </span><span style=\"font-style: italic\">                                                                                            </span> <span style=\"color: #7f7f7f; text-decoration-color: #7f7f7f\">           </span>\n",
       "</pre>\n"
      ],
      "text/plain": [
       "\u001B[2;36m[05:55:15]\u001B[0m\u001B[2;36m \u001B[0m\u001B[3m ─── \u001B[0m\u001B[3;33m...\u001B[0m\u001B[3mAdded \u001B[0m\u001B[1;36m250\u001B[0m\u001B[3m runs from group \u001B[0m\u001B[1;36m0\u001B[0m\u001B[3m                                                         \u001B[0m \u001B]8;id=368743;file:///Users/alexandergoodell/code/llm-calc/llm_calc/util/util.py\u001B\\\u001B[2mutil.py\u001B[0m\u001B]8;;\u001B\\\u001B[2m:\u001B[0m\u001B]8;id=680810;file:///Users/alexandergoodell/code/llm-calc/llm_calc/util/util.py#318\u001B\\\u001B[2m318\u001B[0m\u001B]8;;\u001B\\\n",
       "\u001B[2;36m           \u001B[0m\u001B[3m                                                                                            \u001B[0m \u001B[2m           \u001B[0m\n",
       "\u001B[2;36m           \u001B[0m\u001B[3m                                                                                            \u001B[0m \u001B[2m           \u001B[0m\n"
      ]
     },
     "metadata": {},
     "output_type": "display_data"
    },
    {
     "data": {
      "text/html": [
       "<pre style=\"white-space:pre;overflow-x:auto;line-height:normal;font-family:Menlo,'DejaVu Sans Mono',consolas,'Courier New',monospace\"><span style=\"color: #ffd7af; text-decoration-color: #ffd7af\">──────────────────────────────────────── GETTING DATASET HISSING-BOATLOAD ─────────────────────────────────────────</span>\n",
       "</pre>\n"
      ],
      "text/plain": [
       "\u001B[38;5;223m──────────────────────────────────────── \u001B[0m\u001B[38;5;223mGETTING DATASET HISSING-BOATLOAD\u001B[0m\u001B[38;5;223m ─────────────────────────────────────────\u001B[0m\n"
      ]
     },
     "metadata": {},
     "output_type": "display_data"
    },
    {
     "data": {
      "text/html": [
       "<pre style=\"white-space:pre;overflow-x:auto;line-height:normal;font-family:Menlo,'DejaVu Sans Mono',consolas,'Courier New',monospace\"><span style=\"color: #7fbfbf; text-decoration-color: #7fbfbf\">[05:55:16] </span><span style=\"font-style: italic\"> ─── Getting group </span><span style=\"color: #008080; text-decoration-color: #008080; font-weight: bold\">0</span><span style=\"font-style: italic\"> from experiment hissing-boatload                                       </span> <a href=\"file:///Users/alexandergoodell/code/llm-calc/llm_calc/util/util.py\" target=\"_blank\"><span style=\"color: #7f7f7f; text-decoration-color: #7f7f7f\">util.py</span></a><span style=\"color: #7f7f7f; text-decoration-color: #7f7f7f\">:</span><a href=\"file:///Users/alexandergoodell/code/llm-calc/llm_calc/util/util.py#318\" target=\"_blank\"><span style=\"color: #7f7f7f; text-decoration-color: #7f7f7f\">318</span></a>\n",
       "</pre>\n"
      ],
      "text/plain": [
       "\u001B[2;36m[05:55:16]\u001B[0m\u001B[2;36m \u001B[0m\u001B[3m ─── Getting group \u001B[0m\u001B[1;36m0\u001B[0m\u001B[3m from experiment hissing-boatload                                       \u001B[0m \u001B]8;id=953362;file:///Users/alexandergoodell/code/llm-calc/llm_calc/util/util.py\u001B\\\u001B[2mutil.py\u001B[0m\u001B]8;;\u001B\\\u001B[2m:\u001B[0m\u001B]8;id=330612;file:///Users/alexandergoodell/code/llm-calc/llm_calc/util/util.py#318\u001B\\\u001B[2m318\u001B[0m\u001B]8;;\u001B\\\n"
      ]
     },
     "metadata": {},
     "output_type": "display_data"
    },
    {
     "data": {
      "text/html": [
       "<pre style=\"white-space:pre;overflow-x:auto;line-height:normal;font-family:Menlo,'DejaVu Sans Mono',consolas,'Courier New',monospace\">metadata_arm\n",
       "llama_rag_ci    <span style=\"color: #008080; text-decoration-color: #008080; font-weight: bold\">250</span>\n",
       "Name: count, dtype: int64\n",
       "</pre>\n"
      ],
      "text/plain": [
       "metadata_arm\n",
       "llama_rag_ci    \u001B[1;36m250\u001B[0m\n",
       "Name: count, dtype: int64\n"
      ]
     },
     "metadata": {},
     "output_type": "display_data"
    },
    {
     "data": {
      "text/html": [
       "<pre style=\"white-space:pre;overflow-x:auto;line-height:normal;font-family:Menlo,'DejaVu Sans Mono',consolas,'Courier New',monospace\"><span style=\"color: #7fbfbf; text-decoration-color: #7fbfbf\">[05:55:18] </span><span style=\"font-style: italic\"> ─── </span><span style=\"color: #808000; text-decoration-color: #808000; font-style: italic\">...</span><span style=\"font-style: italic\">Added </span><span style=\"color: #008080; text-decoration-color: #008080; font-weight: bold\">250</span><span style=\"font-style: italic\"> runs from group </span><span style=\"color: #008080; text-decoration-color: #008080; font-weight: bold\">0</span><span style=\"font-style: italic\">                                                         </span> <a href=\"file:///Users/alexandergoodell/code/llm-calc/llm_calc/util/util.py\" target=\"_blank\"><span style=\"color: #7f7f7f; text-decoration-color: #7f7f7f\">util.py</span></a><span style=\"color: #7f7f7f; text-decoration-color: #7f7f7f\">:</span><a href=\"file:///Users/alexandergoodell/code/llm-calc/llm_calc/util/util.py#318\" target=\"_blank\"><span style=\"color: #7f7f7f; text-decoration-color: #7f7f7f\">318</span></a>\n",
       "<span style=\"color: #7fbfbf; text-decoration-color: #7fbfbf\">           </span><span style=\"font-style: italic\">                                                                                            </span> <span style=\"color: #7f7f7f; text-decoration-color: #7f7f7f\">           </span>\n",
       "<span style=\"color: #7fbfbf; text-decoration-color: #7fbfbf\">           </span><span style=\"font-style: italic\">                                                                                            </span> <span style=\"color: #7f7f7f; text-decoration-color: #7f7f7f\">           </span>\n",
       "</pre>\n"
      ],
      "text/plain": [
       "\u001B[2;36m[05:55:18]\u001B[0m\u001B[2;36m \u001B[0m\u001B[3m ─── \u001B[0m\u001B[3;33m...\u001B[0m\u001B[3mAdded \u001B[0m\u001B[1;36m250\u001B[0m\u001B[3m runs from group \u001B[0m\u001B[1;36m0\u001B[0m\u001B[3m                                                         \u001B[0m \u001B]8;id=485411;file:///Users/alexandergoodell/code/llm-calc/llm_calc/util/util.py\u001B\\\u001B[2mutil.py\u001B[0m\u001B]8;;\u001B\\\u001B[2m:\u001B[0m\u001B]8;id=169696;file:///Users/alexandergoodell/code/llm-calc/llm_calc/util/util.py#318\u001B\\\u001B[2m318\u001B[0m\u001B]8;;\u001B\\\n",
       "\u001B[2;36m           \u001B[0m\u001B[3m                                                                                            \u001B[0m \u001B[2m           \u001B[0m\n",
       "\u001B[2;36m           \u001B[0m\u001B[3m                                                                                            \u001B[0m \u001B[2m           \u001B[0m\n"
      ]
     },
     "metadata": {},
     "output_type": "display_data"
    },
    {
     "data": {
      "text/html": [
       "<pre style=\"white-space:pre;overflow-x:auto;line-height:normal;font-family:Menlo,'DejaVu Sans Mono',consolas,'Courier New',monospace\"><span style=\"color: #ffd7af; text-decoration-color: #ffd7af\">──────────────────────────────────────────── GETTING DATASET PROUD-YAM ────────────────────────────────────────────</span>\n",
       "</pre>\n"
      ],
      "text/plain": [
       "\u001B[38;5;223m──────────────────────────────────────────── \u001B[0m\u001B[38;5;223mGETTING DATASET PROUD-YAM\u001B[0m\u001B[38;5;223m ────────────────────────────────────────────\u001B[0m\n"
      ]
     },
     "metadata": {},
     "output_type": "display_data"
    },
    {
     "data": {
      "text/html": [
       "<pre style=\"white-space:pre;overflow-x:auto;line-height:normal;font-family:Menlo,'DejaVu Sans Mono',consolas,'Courier New',monospace\"><span style=\"color: #7fbfbf; text-decoration-color: #7fbfbf\">[05:55:19] </span><span style=\"font-style: italic\"> ─── Getting group </span><span style=\"color: #008080; text-decoration-color: #008080; font-weight: bold\">0</span><span style=\"font-style: italic\"> from experiment proud-yam                                              </span> <a href=\"file:///Users/alexandergoodell/code/llm-calc/llm_calc/util/util.py\" target=\"_blank\"><span style=\"color: #7f7f7f; text-decoration-color: #7f7f7f\">util.py</span></a><span style=\"color: #7f7f7f; text-decoration-color: #7f7f7f\">:</span><a href=\"file:///Users/alexandergoodell/code/llm-calc/llm_calc/util/util.py#318\" target=\"_blank\"><span style=\"color: #7f7f7f; text-decoration-color: #7f7f7f\">318</span></a>\n",
       "</pre>\n"
      ],
      "text/plain": [
       "\u001B[2;36m[05:55:19]\u001B[0m\u001B[2;36m \u001B[0m\u001B[3m ─── Getting group \u001B[0m\u001B[1;36m0\u001B[0m\u001B[3m from experiment proud-yam                                              \u001B[0m \u001B]8;id=471825;file:///Users/alexandergoodell/code/llm-calc/llm_calc/util/util.py\u001B\\\u001B[2mutil.py\u001B[0m\u001B]8;;\u001B\\\u001B[2m:\u001B[0m\u001B]8;id=303465;file:///Users/alexandergoodell/code/llm-calc/llm_calc/util/util.py#318\u001B\\\u001B[2m318\u001B[0m\u001B]8;;\u001B\\\n"
      ]
     },
     "metadata": {},
     "output_type": "display_data"
    },
    {
     "data": {
      "text/html": [
       "<pre style=\"white-space:pre;overflow-x:auto;line-height:normal;font-family:Menlo,'DejaVu Sans Mono',consolas,'Courier New',monospace\">metadata_arm\n",
       "gpt4_omc    <span style=\"color: #008080; text-decoration-color: #008080; font-weight: bold\">250</span>\n",
       "Name: count, dtype: int64\n",
       "</pre>\n"
      ],
      "text/plain": [
       "metadata_arm\n",
       "gpt4_omc    \u001B[1;36m250\u001B[0m\n",
       "Name: count, dtype: int64\n"
      ]
     },
     "metadata": {},
     "output_type": "display_data"
    },
    {
     "data": {
      "text/html": [
       "<pre style=\"white-space:pre;overflow-x:auto;line-height:normal;font-family:Menlo,'DejaVu Sans Mono',consolas,'Courier New',monospace\"><span style=\"color: #7fbfbf; text-decoration-color: #7fbfbf\">[05:55:22] </span><span style=\"font-style: italic\"> ─── </span><span style=\"color: #808000; text-decoration-color: #808000; font-style: italic\">...</span><span style=\"font-style: italic\">Added </span><span style=\"color: #008080; text-decoration-color: #008080; font-weight: bold\">250</span><span style=\"font-style: italic\"> runs from group </span><span style=\"color: #008080; text-decoration-color: #008080; font-weight: bold\">0</span><span style=\"font-style: italic\">                                                         </span> <a href=\"file:///Users/alexandergoodell/code/llm-calc/llm_calc/util/util.py\" target=\"_blank\"><span style=\"color: #7f7f7f; text-decoration-color: #7f7f7f\">util.py</span></a><span style=\"color: #7f7f7f; text-decoration-color: #7f7f7f\">:</span><a href=\"file:///Users/alexandergoodell/code/llm-calc/llm_calc/util/util.py#318\" target=\"_blank\"><span style=\"color: #7f7f7f; text-decoration-color: #7f7f7f\">318</span></a>\n",
       "<span style=\"color: #7fbfbf; text-decoration-color: #7fbfbf\">           </span><span style=\"font-style: italic\">                                                                                            </span> <span style=\"color: #7f7f7f; text-decoration-color: #7f7f7f\">           </span>\n",
       "<span style=\"color: #7fbfbf; text-decoration-color: #7fbfbf\">           </span><span style=\"font-style: italic\">                                                                                            </span> <span style=\"color: #7f7f7f; text-decoration-color: #7f7f7f\">           </span>\n",
       "</pre>\n"
      ],
      "text/plain": [
       "\u001B[2;36m[05:55:22]\u001B[0m\u001B[2;36m \u001B[0m\u001B[3m ─── \u001B[0m\u001B[3;33m...\u001B[0m\u001B[3mAdded \u001B[0m\u001B[1;36m250\u001B[0m\u001B[3m runs from group \u001B[0m\u001B[1;36m0\u001B[0m\u001B[3m                                                         \u001B[0m \u001B]8;id=231875;file:///Users/alexandergoodell/code/llm-calc/llm_calc/util/util.py\u001B\\\u001B[2mutil.py\u001B[0m\u001B]8;;\u001B\\\u001B[2m:\u001B[0m\u001B]8;id=752246;file:///Users/alexandergoodell/code/llm-calc/llm_calc/util/util.py#318\u001B\\\u001B[2m318\u001B[0m\u001B]8;;\u001B\\\n",
       "\u001B[2;36m           \u001B[0m\u001B[3m                                                                                            \u001B[0m \u001B[2m           \u001B[0m\n",
       "\u001B[2;36m           \u001B[0m\u001B[3m                                                                                            \u001B[0m \u001B[2m           \u001B[0m\n"
      ]
     },
     "metadata": {},
     "output_type": "display_data"
    },
    {
     "data": {
      "text/html": [
       "<pre style=\"white-space:pre;overflow-x:auto;line-height:normal;font-family:Menlo,'DejaVu Sans Mono',consolas,'Courier New',monospace\"><span style=\"color: #7fbfbf; text-decoration-color: #7fbfbf\">           </span><span style=\"font-style: italic\"> ─── Getting group </span><span style=\"color: #008080; text-decoration-color: #008080; font-weight: bold\">1</span><span style=\"font-style: italic\"> from experiment proud-yam                                              </span> <a href=\"file:///Users/alexandergoodell/code/llm-calc/llm_calc/util/util.py\" target=\"_blank\"><span style=\"color: #7f7f7f; text-decoration-color: #7f7f7f\">util.py</span></a><span style=\"color: #7f7f7f; text-decoration-color: #7f7f7f\">:</span><a href=\"file:///Users/alexandergoodell/code/llm-calc/llm_calc/util/util.py#318\" target=\"_blank\"><span style=\"color: #7f7f7f; text-decoration-color: #7f7f7f\">318</span></a>\n",
       "</pre>\n"
      ],
      "text/plain": [
       "\u001B[2;36m          \u001B[0m\u001B[2;36m \u001B[0m\u001B[3m ─── Getting group \u001B[0m\u001B[1;36m1\u001B[0m\u001B[3m from experiment proud-yam                                              \u001B[0m \u001B]8;id=11259;file:///Users/alexandergoodell/code/llm-calc/llm_calc/util/util.py\u001B\\\u001B[2mutil.py\u001B[0m\u001B]8;;\u001B\\\u001B[2m:\u001B[0m\u001B]8;id=450515;file:///Users/alexandergoodell/code/llm-calc/llm_calc/util/util.py#318\u001B\\\u001B[2m318\u001B[0m\u001B]8;;\u001B\\\n"
      ]
     },
     "metadata": {},
     "output_type": "display_data"
    },
    {
     "data": {
      "text/html": [
       "<pre style=\"white-space:pre;overflow-x:auto;line-height:normal;font-family:Menlo,'DejaVu Sans Mono',consolas,'Courier New',monospace\">metadata_arm\n",
       "gpt4_rag_ci    <span style=\"color: #008080; text-decoration-color: #008080; font-weight: bold\">250</span>\n",
       "Name: count, dtype: int64\n",
       "</pre>\n"
      ],
      "text/plain": [
       "metadata_arm\n",
       "gpt4_rag_ci    \u001B[1;36m250\u001B[0m\n",
       "Name: count, dtype: int64\n"
      ]
     },
     "metadata": {},
     "output_type": "display_data"
    },
    {
     "data": {
      "text/html": [
       "<pre style=\"white-space:pre;overflow-x:auto;line-height:normal;font-family:Menlo,'DejaVu Sans Mono',consolas,'Courier New',monospace\"><span style=\"color: #7fbfbf; text-decoration-color: #7fbfbf\">[05:55:25] </span><span style=\"font-style: italic\"> ─── </span><span style=\"color: #808000; text-decoration-color: #808000; font-style: italic\">...</span><span style=\"font-style: italic\">Added </span><span style=\"color: #008080; text-decoration-color: #008080; font-weight: bold\">250</span><span style=\"font-style: italic\"> runs from group </span><span style=\"color: #008080; text-decoration-color: #008080; font-weight: bold\">1</span><span style=\"font-style: italic\">                                                         </span> <a href=\"file:///Users/alexandergoodell/code/llm-calc/llm_calc/util/util.py\" target=\"_blank\"><span style=\"color: #7f7f7f; text-decoration-color: #7f7f7f\">util.py</span></a><span style=\"color: #7f7f7f; text-decoration-color: #7f7f7f\">:</span><a href=\"file:///Users/alexandergoodell/code/llm-calc/llm_calc/util/util.py#318\" target=\"_blank\"><span style=\"color: #7f7f7f; text-decoration-color: #7f7f7f\">318</span></a>\n",
       "<span style=\"color: #7fbfbf; text-decoration-color: #7fbfbf\">           </span><span style=\"font-style: italic\">                                                                                            </span> <span style=\"color: #7f7f7f; text-decoration-color: #7f7f7f\">           </span>\n",
       "<span style=\"color: #7fbfbf; text-decoration-color: #7fbfbf\">           </span><span style=\"font-style: italic\">                                                                                            </span> <span style=\"color: #7f7f7f; text-decoration-color: #7f7f7f\">           </span>\n",
       "</pre>\n"
      ],
      "text/plain": [
       "\u001B[2;36m[05:55:25]\u001B[0m\u001B[2;36m \u001B[0m\u001B[3m ─── \u001B[0m\u001B[3;33m...\u001B[0m\u001B[3mAdded \u001B[0m\u001B[1;36m250\u001B[0m\u001B[3m runs from group \u001B[0m\u001B[1;36m1\u001B[0m\u001B[3m                                                         \u001B[0m \u001B]8;id=701180;file:///Users/alexandergoodell/code/llm-calc/llm_calc/util/util.py\u001B\\\u001B[2mutil.py\u001B[0m\u001B]8;;\u001B\\\u001B[2m:\u001B[0m\u001B]8;id=773481;file:///Users/alexandergoodell/code/llm-calc/llm_calc/util/util.py#318\u001B\\\u001B[2m318\u001B[0m\u001B]8;;\u001B\\\n",
       "\u001B[2;36m           \u001B[0m\u001B[3m                                                                                            \u001B[0m \u001B[2m           \u001B[0m\n",
       "\u001B[2;36m           \u001B[0m\u001B[3m                                                                                            \u001B[0m \u001B[2m           \u001B[0m\n"
      ]
     },
     "metadata": {},
     "output_type": "display_data"
    },
    {
     "data": {
      "text/html": [
       "<pre style=\"white-space:pre;overflow-x:auto;line-height:normal;font-family:Menlo,'DejaVu Sans Mono',consolas,'Courier New',monospace\"><span style=\"color: #7fbfbf; text-decoration-color: #7fbfbf\">           </span><span style=\"font-style: italic\"> ─── Getting group </span><span style=\"color: #008080; text-decoration-color: #008080; font-weight: bold\">2</span><span style=\"font-style: italic\"> from experiment proud-yam                                              </span> <a href=\"file:///Users/alexandergoodell/code/llm-calc/llm_calc/util/util.py\" target=\"_blank\"><span style=\"color: #7f7f7f; text-decoration-color: #7f7f7f\">util.py</span></a><span style=\"color: #7f7f7f; text-decoration-color: #7f7f7f\">:</span><a href=\"file:///Users/alexandergoodell/code/llm-calc/llm_calc/util/util.py#318\" target=\"_blank\"><span style=\"color: #7f7f7f; text-decoration-color: #7f7f7f\">318</span></a>\n",
       "</pre>\n"
      ],
      "text/plain": [
       "\u001B[2;36m          \u001B[0m\u001B[2;36m \u001B[0m\u001B[3m ─── Getting group \u001B[0m\u001B[1;36m2\u001B[0m\u001B[3m from experiment proud-yam                                              \u001B[0m \u001B]8;id=779726;file:///Users/alexandergoodell/code/llm-calc/llm_calc/util/util.py\u001B\\\u001B[2mutil.py\u001B[0m\u001B]8;;\u001B\\\u001B[2m:\u001B[0m\u001B]8;id=594162;file:///Users/alexandergoodell/code/llm-calc/llm_calc/util/util.py#318\u001B\\\u001B[2m318\u001B[0m\u001B]8;;\u001B\\\n"
      ]
     },
     "metadata": {},
     "output_type": "display_data"
    },
    {
     "data": {
      "text/html": [
       "<pre style=\"white-space:pre;overflow-x:auto;line-height:normal;font-family:Menlo,'DejaVu Sans Mono',consolas,'Courier New',monospace\">metadata_arm\n",
       "gpt4_rag    <span style=\"color: #008080; text-decoration-color: #008080; font-weight: bold\">250</span>\n",
       "Name: count, dtype: int64\n",
       "</pre>\n"
      ],
      "text/plain": [
       "metadata_arm\n",
       "gpt4_rag    \u001B[1;36m250\u001B[0m\n",
       "Name: count, dtype: int64\n"
      ]
     },
     "metadata": {},
     "output_type": "display_data"
    },
    {
     "data": {
      "text/html": [
       "<pre style=\"white-space:pre;overflow-x:auto;line-height:normal;font-family:Menlo,'DejaVu Sans Mono',consolas,'Courier New',monospace\"><span style=\"color: #7fbfbf; text-decoration-color: #7fbfbf\">[05:55:28] </span><span style=\"font-style: italic\"> ─── </span><span style=\"color: #808000; text-decoration-color: #808000; font-style: italic\">...</span><span style=\"font-style: italic\">Added </span><span style=\"color: #008080; text-decoration-color: #008080; font-weight: bold\">250</span><span style=\"font-style: italic\"> runs from group </span><span style=\"color: #008080; text-decoration-color: #008080; font-weight: bold\">2</span><span style=\"font-style: italic\">                                                         </span> <a href=\"file:///Users/alexandergoodell/code/llm-calc/llm_calc/util/util.py\" target=\"_blank\"><span style=\"color: #7f7f7f; text-decoration-color: #7f7f7f\">util.py</span></a><span style=\"color: #7f7f7f; text-decoration-color: #7f7f7f\">:</span><a href=\"file:///Users/alexandergoodell/code/llm-calc/llm_calc/util/util.py#318\" target=\"_blank\"><span style=\"color: #7f7f7f; text-decoration-color: #7f7f7f\">318</span></a>\n",
       "<span style=\"color: #7fbfbf; text-decoration-color: #7fbfbf\">           </span><span style=\"font-style: italic\">                                                                                            </span> <span style=\"color: #7f7f7f; text-decoration-color: #7f7f7f\">           </span>\n",
       "<span style=\"color: #7fbfbf; text-decoration-color: #7fbfbf\">           </span><span style=\"font-style: italic\">                                                                                            </span> <span style=\"color: #7f7f7f; text-decoration-color: #7f7f7f\">           </span>\n",
       "</pre>\n"
      ],
      "text/plain": [
       "\u001B[2;36m[05:55:28]\u001B[0m\u001B[2;36m \u001B[0m\u001B[3m ─── \u001B[0m\u001B[3;33m...\u001B[0m\u001B[3mAdded \u001B[0m\u001B[1;36m250\u001B[0m\u001B[3m runs from group \u001B[0m\u001B[1;36m2\u001B[0m\u001B[3m                                                         \u001B[0m \u001B]8;id=837383;file:///Users/alexandergoodell/code/llm-calc/llm_calc/util/util.py\u001B\\\u001B[2mutil.py\u001B[0m\u001B]8;;\u001B\\\u001B[2m:\u001B[0m\u001B]8;id=495914;file:///Users/alexandergoodell/code/llm-calc/llm_calc/util/util.py#318\u001B\\\u001B[2m318\u001B[0m\u001B]8;;\u001B\\\n",
       "\u001B[2;36m           \u001B[0m\u001B[3m                                                                                            \u001B[0m \u001B[2m           \u001B[0m\n",
       "\u001B[2;36m           \u001B[0m\u001B[3m                                                                                            \u001B[0m \u001B[2m           \u001B[0m\n"
      ]
     },
     "metadata": {},
     "output_type": "display_data"
    },
    {
     "data": {
      "text/html": [
       "<pre style=\"white-space:pre;overflow-x:auto;line-height:normal;font-family:Menlo,'DejaVu Sans Mono',consolas,'Courier New',monospace\"><span style=\"color: #7fbfbf; text-decoration-color: #7fbfbf\">           </span><span style=\"font-style: italic\"> ─── Getting group </span><span style=\"color: #008080; text-decoration-color: #008080; font-weight: bold\">3</span><span style=\"font-style: italic\"> from experiment proud-yam                                              </span> <a href=\"file:///Users/alexandergoodell/code/llm-calc/llm_calc/util/util.py\" target=\"_blank\"><span style=\"color: #7f7f7f; text-decoration-color: #7f7f7f\">util.py</span></a><span style=\"color: #7f7f7f; text-decoration-color: #7f7f7f\">:</span><a href=\"file:///Users/alexandergoodell/code/llm-calc/llm_calc/util/util.py#318\" target=\"_blank\"><span style=\"color: #7f7f7f; text-decoration-color: #7f7f7f\">318</span></a>\n",
       "</pre>\n"
      ],
      "text/plain": [
       "\u001B[2;36m          \u001B[0m\u001B[2;36m \u001B[0m\u001B[3m ─── Getting group \u001B[0m\u001B[1;36m3\u001B[0m\u001B[3m from experiment proud-yam                                              \u001B[0m \u001B]8;id=693238;file:///Users/alexandergoodell/code/llm-calc/llm_calc/util/util.py\u001B\\\u001B[2mutil.py\u001B[0m\u001B]8;;\u001B\\\u001B[2m:\u001B[0m\u001B]8;id=214063;file:///Users/alexandergoodell/code/llm-calc/llm_calc/util/util.py#318\u001B\\\u001B[2m318\u001B[0m\u001B]8;;\u001B\\\n"
      ]
     },
     "metadata": {},
     "output_type": "display_data"
    },
    {
     "data": {
      "text/html": [
       "<pre style=\"white-space:pre;overflow-x:auto;line-height:normal;font-family:Menlo,'DejaVu Sans Mono',consolas,'Courier New',monospace\">metadata_arm\n",
       "gpt4_ci    <span style=\"color: #008080; text-decoration-color: #008080; font-weight: bold\">250</span>\n",
       "Name: count, dtype: int64\n",
       "</pre>\n"
      ],
      "text/plain": [
       "metadata_arm\n",
       "gpt4_ci    \u001B[1;36m250\u001B[0m\n",
       "Name: count, dtype: int64\n"
      ]
     },
     "metadata": {},
     "output_type": "display_data"
    },
    {
     "data": {
      "text/html": [
       "<pre style=\"white-space:pre;overflow-x:auto;line-height:normal;font-family:Menlo,'DejaVu Sans Mono',consolas,'Courier New',monospace\"><span style=\"color: #7fbfbf; text-decoration-color: #7fbfbf\">[05:55:31] </span><span style=\"font-style: italic\"> ─── </span><span style=\"color: #808000; text-decoration-color: #808000; font-style: italic\">...</span><span style=\"font-style: italic\">Added </span><span style=\"color: #008080; text-decoration-color: #008080; font-weight: bold\">250</span><span style=\"font-style: italic\"> runs from group </span><span style=\"color: #008080; text-decoration-color: #008080; font-weight: bold\">3</span><span style=\"font-style: italic\">                                                         </span> <a href=\"file:///Users/alexandergoodell/code/llm-calc/llm_calc/util/util.py\" target=\"_blank\"><span style=\"color: #7f7f7f; text-decoration-color: #7f7f7f\">util.py</span></a><span style=\"color: #7f7f7f; text-decoration-color: #7f7f7f\">:</span><a href=\"file:///Users/alexandergoodell/code/llm-calc/llm_calc/util/util.py#318\" target=\"_blank\"><span style=\"color: #7f7f7f; text-decoration-color: #7f7f7f\">318</span></a>\n",
       "<span style=\"color: #7fbfbf; text-decoration-color: #7fbfbf\">           </span><span style=\"font-style: italic\">                                                                                            </span> <span style=\"color: #7f7f7f; text-decoration-color: #7f7f7f\">           </span>\n",
       "<span style=\"color: #7fbfbf; text-decoration-color: #7fbfbf\">           </span><span style=\"font-style: italic\">                                                                                            </span> <span style=\"color: #7f7f7f; text-decoration-color: #7f7f7f\">           </span>\n",
       "</pre>\n"
      ],
      "text/plain": [
       "\u001B[2;36m[05:55:31]\u001B[0m\u001B[2;36m \u001B[0m\u001B[3m ─── \u001B[0m\u001B[3;33m...\u001B[0m\u001B[3mAdded \u001B[0m\u001B[1;36m250\u001B[0m\u001B[3m runs from group \u001B[0m\u001B[1;36m3\u001B[0m\u001B[3m                                                         \u001B[0m \u001B]8;id=20000;file:///Users/alexandergoodell/code/llm-calc/llm_calc/util/util.py\u001B\\\u001B[2mutil.py\u001B[0m\u001B]8;;\u001B\\\u001B[2m:\u001B[0m\u001B]8;id=193383;file:///Users/alexandergoodell/code/llm-calc/llm_calc/util/util.py#318\u001B\\\u001B[2m318\u001B[0m\u001B]8;;\u001B\\\n",
       "\u001B[2;36m           \u001B[0m\u001B[3m                                                                                            \u001B[0m \u001B[2m           \u001B[0m\n",
       "\u001B[2;36m           \u001B[0m\u001B[3m                                                                                            \u001B[0m \u001B[2m           \u001B[0m\n"
      ]
     },
     "metadata": {},
     "output_type": "display_data"
    },
    {
     "data": {
      "text/html": [
       "<pre style=\"white-space:pre;overflow-x:auto;line-height:normal;font-family:Menlo,'DejaVu Sans Mono',consolas,'Courier New',monospace\"><span style=\"color: #7fbfbf; text-decoration-color: #7fbfbf\">           </span><span style=\"font-style: italic\"> ─── Getting group </span><span style=\"color: #008080; text-decoration-color: #008080; font-weight: bold\">4</span><span style=\"font-style: italic\"> from experiment proud-yam                                              </span> <a href=\"file:///Users/alexandergoodell/code/llm-calc/llm_calc/util/util.py\" target=\"_blank\"><span style=\"color: #7f7f7f; text-decoration-color: #7f7f7f\">util.py</span></a><span style=\"color: #7f7f7f; text-decoration-color: #7f7f7f\">:</span><a href=\"file:///Users/alexandergoodell/code/llm-calc/llm_calc/util/util.py#318\" target=\"_blank\"><span style=\"color: #7f7f7f; text-decoration-color: #7f7f7f\">318</span></a>\n",
       "</pre>\n"
      ],
      "text/plain": [
       "\u001B[2;36m          \u001B[0m\u001B[2;36m \u001B[0m\u001B[3m ─── Getting group \u001B[0m\u001B[1;36m4\u001B[0m\u001B[3m from experiment proud-yam                                              \u001B[0m \u001B]8;id=191301;file:///Users/alexandergoodell/code/llm-calc/llm_calc/util/util.py\u001B\\\u001B[2mutil.py\u001B[0m\u001B]8;;\u001B\\\u001B[2m:\u001B[0m\u001B]8;id=354893;file:///Users/alexandergoodell/code/llm-calc/llm_calc/util/util.py#318\u001B\\\u001B[2m318\u001B[0m\u001B]8;;\u001B\\\n"
      ]
     },
     "metadata": {},
     "output_type": "display_data"
    },
    {
     "data": {
      "text/html": [
       "<pre style=\"white-space:pre;overflow-x:auto;line-height:normal;font-family:Menlo,'DejaVu Sans Mono',consolas,'Courier New',monospace\">metadata_arm\n",
       "gpt4_base    <span style=\"color: #008080; text-decoration-color: #008080; font-weight: bold\">250</span>\n",
       "Name: count, dtype: int64\n",
       "</pre>\n"
      ],
      "text/plain": [
       "metadata_arm\n",
       "gpt4_base    \u001B[1;36m250\u001B[0m\n",
       "Name: count, dtype: int64\n"
      ]
     },
     "metadata": {},
     "output_type": "display_data"
    },
    {
     "data": {
      "text/html": [
       "<pre style=\"white-space:pre;overflow-x:auto;line-height:normal;font-family:Menlo,'DejaVu Sans Mono',consolas,'Courier New',monospace\"><span style=\"color: #7fbfbf; text-decoration-color: #7fbfbf\">[05:55:34] </span><span style=\"font-style: italic\"> ─── </span><span style=\"color: #808000; text-decoration-color: #808000; font-style: italic\">...</span><span style=\"font-style: italic\">Added </span><span style=\"color: #008080; text-decoration-color: #008080; font-weight: bold\">250</span><span style=\"font-style: italic\"> runs from group </span><span style=\"color: #008080; text-decoration-color: #008080; font-weight: bold\">4</span><span style=\"font-style: italic\">                                                         </span> <a href=\"file:///Users/alexandergoodell/code/llm-calc/llm_calc/util/util.py\" target=\"_blank\"><span style=\"color: #7f7f7f; text-decoration-color: #7f7f7f\">util.py</span></a><span style=\"color: #7f7f7f; text-decoration-color: #7f7f7f\">:</span><a href=\"file:///Users/alexandergoodell/code/llm-calc/llm_calc/util/util.py#318\" target=\"_blank\"><span style=\"color: #7f7f7f; text-decoration-color: #7f7f7f\">318</span></a>\n",
       "<span style=\"color: #7fbfbf; text-decoration-color: #7fbfbf\">           </span><span style=\"font-style: italic\">                                                                                            </span> <span style=\"color: #7f7f7f; text-decoration-color: #7f7f7f\">           </span>\n",
       "<span style=\"color: #7fbfbf; text-decoration-color: #7fbfbf\">           </span><span style=\"font-style: italic\">                                                                                            </span> <span style=\"color: #7f7f7f; text-decoration-color: #7f7f7f\">           </span>\n",
       "</pre>\n"
      ],
      "text/plain": [
       "\u001B[2;36m[05:55:34]\u001B[0m\u001B[2;36m \u001B[0m\u001B[3m ─── \u001B[0m\u001B[3;33m...\u001B[0m\u001B[3mAdded \u001B[0m\u001B[1;36m250\u001B[0m\u001B[3m runs from group \u001B[0m\u001B[1;36m4\u001B[0m\u001B[3m                                                         \u001B[0m \u001B]8;id=139491;file:///Users/alexandergoodell/code/llm-calc/llm_calc/util/util.py\u001B\\\u001B[2mutil.py\u001B[0m\u001B]8;;\u001B\\\u001B[2m:\u001B[0m\u001B]8;id=1271;file:///Users/alexandergoodell/code/llm-calc/llm_calc/util/util.py#318\u001B\\\u001B[2m318\u001B[0m\u001B]8;;\u001B\\\n",
       "\u001B[2;36m           \u001B[0m\u001B[3m                                                                                            \u001B[0m \u001B[2m           \u001B[0m\n",
       "\u001B[2;36m           \u001B[0m\u001B[3m                                                                                            \u001B[0m \u001B[2m           \u001B[0m\n"
      ]
     },
     "metadata": {},
     "output_type": "display_data"
    },
    {
     "data": {
      "text/html": [
       "<pre style=\"white-space:pre;overflow-x:auto;line-height:normal;font-family:Menlo,'DejaVu Sans Mono',consolas,'Courier New',monospace\"><span style=\"color: #7fbfbf; text-decoration-color: #7fbfbf\">           </span><span style=\"font-style: italic\"> ─── Getting group </span><span style=\"color: #008080; text-decoration-color: #008080; font-weight: bold\">5</span><span style=\"font-style: italic\"> from experiment proud-yam                                              </span> <a href=\"file:///Users/alexandergoodell/code/llm-calc/llm_calc/util/util.py\" target=\"_blank\"><span style=\"color: #7f7f7f; text-decoration-color: #7f7f7f\">util.py</span></a><span style=\"color: #7f7f7f; text-decoration-color: #7f7f7f\">:</span><a href=\"file:///Users/alexandergoodell/code/llm-calc/llm_calc/util/util.py#318\" target=\"_blank\"><span style=\"color: #7f7f7f; text-decoration-color: #7f7f7f\">318</span></a>\n",
       "</pre>\n"
      ],
      "text/plain": [
       "\u001B[2;36m          \u001B[0m\u001B[2;36m \u001B[0m\u001B[3m ─── Getting group \u001B[0m\u001B[1;36m5\u001B[0m\u001B[3m from experiment proud-yam                                              \u001B[0m \u001B]8;id=652643;file:///Users/alexandergoodell/code/llm-calc/llm_calc/util/util.py\u001B\\\u001B[2mutil.py\u001B[0m\u001B]8;;\u001B\\\u001B[2m:\u001B[0m\u001B]8;id=790583;file:///Users/alexandergoodell/code/llm-calc/llm_calc/util/util.py#318\u001B\\\u001B[2m318\u001B[0m\u001B]8;;\u001B\\\n"
      ]
     },
     "metadata": {},
     "output_type": "display_data"
    },
    {
     "data": {
      "text/html": [
       "<pre style=\"white-space:pre;overflow-x:auto;line-height:normal;font-family:Menlo,'DejaVu Sans Mono',consolas,'Courier New',monospace\">metadata_arm\n",
       "llama_omc    <span style=\"color: #008080; text-decoration-color: #008080; font-weight: bold\">250</span>\n",
       "Name: count, dtype: int64\n",
       "</pre>\n"
      ],
      "text/plain": [
       "metadata_arm\n",
       "llama_omc    \u001B[1;36m250\u001B[0m\n",
       "Name: count, dtype: int64\n"
      ]
     },
     "metadata": {},
     "output_type": "display_data"
    },
    {
     "data": {
      "text/html": [
       "<pre style=\"white-space:pre;overflow-x:auto;line-height:normal;font-family:Menlo,'DejaVu Sans Mono',consolas,'Courier New',monospace\"><span style=\"color: #7fbfbf; text-decoration-color: #7fbfbf\">[05:55:36] </span><span style=\"font-style: italic\"> ─── </span><span style=\"color: #808000; text-decoration-color: #808000; font-style: italic\">...</span><span style=\"font-style: italic\">Added </span><span style=\"color: #008080; text-decoration-color: #008080; font-weight: bold\">250</span><span style=\"font-style: italic\"> runs from group </span><span style=\"color: #008080; text-decoration-color: #008080; font-weight: bold\">5</span><span style=\"font-style: italic\">                                                         </span> <a href=\"file:///Users/alexandergoodell/code/llm-calc/llm_calc/util/util.py\" target=\"_blank\"><span style=\"color: #7f7f7f; text-decoration-color: #7f7f7f\">util.py</span></a><span style=\"color: #7f7f7f; text-decoration-color: #7f7f7f\">:</span><a href=\"file:///Users/alexandergoodell/code/llm-calc/llm_calc/util/util.py#318\" target=\"_blank\"><span style=\"color: #7f7f7f; text-decoration-color: #7f7f7f\">318</span></a>\n",
       "<span style=\"color: #7fbfbf; text-decoration-color: #7fbfbf\">           </span><span style=\"font-style: italic\">                                                                                            </span> <span style=\"color: #7f7f7f; text-decoration-color: #7f7f7f\">           </span>\n",
       "<span style=\"color: #7fbfbf; text-decoration-color: #7fbfbf\">           </span><span style=\"font-style: italic\">                                                                                            </span> <span style=\"color: #7f7f7f; text-decoration-color: #7f7f7f\">           </span>\n",
       "</pre>\n"
      ],
      "text/plain": [
       "\u001B[2;36m[05:55:36]\u001B[0m\u001B[2;36m \u001B[0m\u001B[3m ─── \u001B[0m\u001B[3;33m...\u001B[0m\u001B[3mAdded \u001B[0m\u001B[1;36m250\u001B[0m\u001B[3m runs from group \u001B[0m\u001B[1;36m5\u001B[0m\u001B[3m                                                         \u001B[0m \u001B]8;id=394176;file:///Users/alexandergoodell/code/llm-calc/llm_calc/util/util.py\u001B\\\u001B[2mutil.py\u001B[0m\u001B]8;;\u001B\\\u001B[2m:\u001B[0m\u001B]8;id=138915;file:///Users/alexandergoodell/code/llm-calc/llm_calc/util/util.py#318\u001B\\\u001B[2m318\u001B[0m\u001B]8;;\u001B\\\n",
       "\u001B[2;36m           \u001B[0m\u001B[3m                                                                                            \u001B[0m \u001B[2m           \u001B[0m\n",
       "\u001B[2;36m           \u001B[0m\u001B[3m                                                                                            \u001B[0m \u001B[2m           \u001B[0m\n"
      ]
     },
     "metadata": {},
     "output_type": "display_data"
    },
    {
     "data": {
      "text/html": [
       "<pre style=\"white-space:pre;overflow-x:auto;line-height:normal;font-family:Menlo,'DejaVu Sans Mono',consolas,'Courier New',monospace\"><span style=\"color: #ffd7af; text-decoration-color: #ffd7af\">───────────────────────────────────── GETTING DATASET PRODUCTIVE-INDEPENDENT ──────────────────────────────────────</span>\n",
       "</pre>\n"
      ],
      "text/plain": [
       "\u001B[38;5;223m───────────────────────────────────── \u001B[0m\u001B[38;5;223mGETTING DATASET PRODUCTIVE-INDEPENDENT\u001B[0m\u001B[38;5;223m ──────────────────────────────────────\u001B[0m\n"
      ]
     },
     "metadata": {},
     "output_type": "display_data"
    },
    {
     "data": {
      "text/html": [
       "<pre style=\"white-space:pre;overflow-x:auto;line-height:normal;font-family:Menlo,'DejaVu Sans Mono',consolas,'Courier New',monospace\"><span style=\"color: #7fbfbf; text-decoration-color: #7fbfbf\">[05:55:37] </span><span style=\"font-style: italic\"> ─── Getting group </span><span style=\"color: #008080; text-decoration-color: #008080; font-weight: bold\">0</span><span style=\"font-style: italic\"> from experiment productive-independent                                 </span> <a href=\"file:///Users/alexandergoodell/code/llm-calc/llm_calc/util/util.py\" target=\"_blank\"><span style=\"color: #7f7f7f; text-decoration-color: #7f7f7f\">util.py</span></a><span style=\"color: #7f7f7f; text-decoration-color: #7f7f7f\">:</span><a href=\"file:///Users/alexandergoodell/code/llm-calc/llm_calc/util/util.py#318\" target=\"_blank\"><span style=\"color: #7f7f7f; text-decoration-color: #7f7f7f\">318</span></a>\n",
       "</pre>\n"
      ],
      "text/plain": [
       "\u001B[2;36m[05:55:37]\u001B[0m\u001B[2;36m \u001B[0m\u001B[3m ─── Getting group \u001B[0m\u001B[1;36m0\u001B[0m\u001B[3m from experiment productive-independent                                 \u001B[0m \u001B]8;id=224076;file:///Users/alexandergoodell/code/llm-calc/llm_calc/util/util.py\u001B\\\u001B[2mutil.py\u001B[0m\u001B]8;;\u001B\\\u001B[2m:\u001B[0m\u001B]8;id=82205;file:///Users/alexandergoodell/code/llm-calc/llm_calc/util/util.py#318\u001B\\\u001B[2m318\u001B[0m\u001B]8;;\u001B\\\n"
      ]
     },
     "metadata": {},
     "output_type": "display_data"
    },
    {
     "data": {
      "text/html": [
       "<pre style=\"white-space:pre;overflow-x:auto;line-height:normal;font-family:Menlo,'DejaVu Sans Mono',consolas,'Courier New',monospace\">metadata_arm\n",
       "llama_rag_ci    <span style=\"color: #008080; text-decoration-color: #008080; font-weight: bold\">167</span>\n",
       "Name: count, dtype: int64\n",
       "</pre>\n"
      ],
      "text/plain": [
       "metadata_arm\n",
       "llama_rag_ci    \u001B[1;36m167\u001B[0m\n",
       "Name: count, dtype: int64\n"
      ]
     },
     "metadata": {},
     "output_type": "display_data"
    },
    {
     "data": {
      "text/html": [
       "<pre style=\"white-space:pre;overflow-x:auto;line-height:normal;font-family:Menlo,'DejaVu Sans Mono',consolas,'Courier New',monospace\"><span style=\"color: #7fbfbf; text-decoration-color: #7fbfbf\">[05:55:39] </span><span style=\"font-style: italic\"> ─── </span><span style=\"color: #808000; text-decoration-color: #808000; font-style: italic\">...</span><span style=\"font-style: italic\">Added </span><span style=\"color: #008080; text-decoration-color: #008080; font-weight: bold\">167</span><span style=\"font-style: italic\"> runs from group </span><span style=\"color: #008080; text-decoration-color: #008080; font-weight: bold\">0</span><span style=\"font-style: italic\">                                                         </span> <a href=\"file:///Users/alexandergoodell/code/llm-calc/llm_calc/util/util.py\" target=\"_blank\"><span style=\"color: #7f7f7f; text-decoration-color: #7f7f7f\">util.py</span></a><span style=\"color: #7f7f7f; text-decoration-color: #7f7f7f\">:</span><a href=\"file:///Users/alexandergoodell/code/llm-calc/llm_calc/util/util.py#318\" target=\"_blank\"><span style=\"color: #7f7f7f; text-decoration-color: #7f7f7f\">318</span></a>\n",
       "<span style=\"color: #7fbfbf; text-decoration-color: #7fbfbf\">           </span><span style=\"font-style: italic\">                                                                                            </span> <span style=\"color: #7f7f7f; text-decoration-color: #7f7f7f\">           </span>\n",
       "<span style=\"color: #7fbfbf; text-decoration-color: #7fbfbf\">           </span><span style=\"font-style: italic\">                                                                                            </span> <span style=\"color: #7f7f7f; text-decoration-color: #7f7f7f\">           </span>\n",
       "</pre>\n"
      ],
      "text/plain": [
       "\u001B[2;36m[05:55:39]\u001B[0m\u001B[2;36m \u001B[0m\u001B[3m ─── \u001B[0m\u001B[3;33m...\u001B[0m\u001B[3mAdded \u001B[0m\u001B[1;36m167\u001B[0m\u001B[3m runs from group \u001B[0m\u001B[1;36m0\u001B[0m\u001B[3m                                                         \u001B[0m \u001B]8;id=835416;file:///Users/alexandergoodell/code/llm-calc/llm_calc/util/util.py\u001B\\\u001B[2mutil.py\u001B[0m\u001B]8;;\u001B\\\u001B[2m:\u001B[0m\u001B]8;id=624050;file:///Users/alexandergoodell/code/llm-calc/llm_calc/util/util.py#318\u001B\\\u001B[2m318\u001B[0m\u001B]8;;\u001B\\\n",
       "\u001B[2;36m           \u001B[0m\u001B[3m                                                                                            \u001B[0m \u001B[2m           \u001B[0m\n",
       "\u001B[2;36m           \u001B[0m\u001B[3m                                                                                            \u001B[0m \u001B[2m           \u001B[0m\n"
      ]
     },
     "metadata": {},
     "output_type": "display_data"
    },
    {
     "data": {
      "text/html": [
       "<pre style=\"white-space:pre;overflow-x:auto;line-height:normal;font-family:Menlo,'DejaVu Sans Mono',consolas,'Courier New',monospace\"><span style=\"color: #7fbfbf; text-decoration-color: #7fbfbf\">           </span><span style=\"font-style: italic\"> ─── Getting group </span><span style=\"color: #008080; text-decoration-color: #008080; font-weight: bold\">1</span><span style=\"font-style: italic\"> from experiment productive-independent                                 </span> <a href=\"file:///Users/alexandergoodell/code/llm-calc/llm_calc/util/util.py\" target=\"_blank\"><span style=\"color: #7f7f7f; text-decoration-color: #7f7f7f\">util.py</span></a><span style=\"color: #7f7f7f; text-decoration-color: #7f7f7f\">:</span><a href=\"file:///Users/alexandergoodell/code/llm-calc/llm_calc/util/util.py#318\" target=\"_blank\"><span style=\"color: #7f7f7f; text-decoration-color: #7f7f7f\">318</span></a>\n",
       "</pre>\n"
      ],
      "text/plain": [
       "\u001B[2;36m          \u001B[0m\u001B[2;36m \u001B[0m\u001B[3m ─── Getting group \u001B[0m\u001B[1;36m1\u001B[0m\u001B[3m from experiment productive-independent                                 \u001B[0m \u001B]8;id=375117;file:///Users/alexandergoodell/code/llm-calc/llm_calc/util/util.py\u001B\\\u001B[2mutil.py\u001B[0m\u001B]8;;\u001B\\\u001B[2m:\u001B[0m\u001B]8;id=114164;file:///Users/alexandergoodell/code/llm-calc/llm_calc/util/util.py#318\u001B\\\u001B[2m318\u001B[0m\u001B]8;;\u001B\\\n"
      ]
     },
     "metadata": {},
     "output_type": "display_data"
    },
    {
     "data": {
      "text/html": [
       "<pre style=\"white-space:pre;overflow-x:auto;line-height:normal;font-family:Menlo,'DejaVu Sans Mono',consolas,'Courier New',monospace\">metadata_arm\n",
       "llama_rag    <span style=\"color: #008080; text-decoration-color: #008080; font-weight: bold\">250</span>\n",
       "Name: count, dtype: int64\n",
       "</pre>\n"
      ],
      "text/plain": [
       "metadata_arm\n",
       "llama_rag    \u001B[1;36m250\u001B[0m\n",
       "Name: count, dtype: int64\n"
      ]
     },
     "metadata": {},
     "output_type": "display_data"
    },
    {
     "data": {
      "text/html": [
       "<pre style=\"white-space:pre;overflow-x:auto;line-height:normal;font-family:Menlo,'DejaVu Sans Mono',consolas,'Courier New',monospace\"><span style=\"color: #7fbfbf; text-decoration-color: #7fbfbf\">[05:55:43] </span><span style=\"font-style: italic\"> ─── </span><span style=\"color: #808000; text-decoration-color: #808000; font-style: italic\">...</span><span style=\"font-style: italic\">Added </span><span style=\"color: #008080; text-decoration-color: #008080; font-weight: bold\">250</span><span style=\"font-style: italic\"> runs from group </span><span style=\"color: #008080; text-decoration-color: #008080; font-weight: bold\">1</span><span style=\"font-style: italic\">                                                         </span> <a href=\"file:///Users/alexandergoodell/code/llm-calc/llm_calc/util/util.py\" target=\"_blank\"><span style=\"color: #7f7f7f; text-decoration-color: #7f7f7f\">util.py</span></a><span style=\"color: #7f7f7f; text-decoration-color: #7f7f7f\">:</span><a href=\"file:///Users/alexandergoodell/code/llm-calc/llm_calc/util/util.py#318\" target=\"_blank\"><span style=\"color: #7f7f7f; text-decoration-color: #7f7f7f\">318</span></a>\n",
       "<span style=\"color: #7fbfbf; text-decoration-color: #7fbfbf\">           </span><span style=\"font-style: italic\">                                                                                            </span> <span style=\"color: #7f7f7f; text-decoration-color: #7f7f7f\">           </span>\n",
       "<span style=\"color: #7fbfbf; text-decoration-color: #7fbfbf\">           </span><span style=\"font-style: italic\">                                                                                            </span> <span style=\"color: #7f7f7f; text-decoration-color: #7f7f7f\">           </span>\n",
       "</pre>\n"
      ],
      "text/plain": [
       "\u001B[2;36m[05:55:43]\u001B[0m\u001B[2;36m \u001B[0m\u001B[3m ─── \u001B[0m\u001B[3;33m...\u001B[0m\u001B[3mAdded \u001B[0m\u001B[1;36m250\u001B[0m\u001B[3m runs from group \u001B[0m\u001B[1;36m1\u001B[0m\u001B[3m                                                         \u001B[0m \u001B]8;id=588861;file:///Users/alexandergoodell/code/llm-calc/llm_calc/util/util.py\u001B\\\u001B[2mutil.py\u001B[0m\u001B]8;;\u001B\\\u001B[2m:\u001B[0m\u001B]8;id=882679;file:///Users/alexandergoodell/code/llm-calc/llm_calc/util/util.py#318\u001B\\\u001B[2m318\u001B[0m\u001B]8;;\u001B\\\n",
       "\u001B[2;36m           \u001B[0m\u001B[3m                                                                                            \u001B[0m \u001B[2m           \u001B[0m\n",
       "\u001B[2;36m           \u001B[0m\u001B[3m                                                                                            \u001B[0m \u001B[2m           \u001B[0m\n"
      ]
     },
     "metadata": {},
     "output_type": "display_data"
    },
    {
     "data": {
      "text/html": [
       "<pre style=\"white-space:pre;overflow-x:auto;line-height:normal;font-family:Menlo,'DejaVu Sans Mono',consolas,'Courier New',monospace\"><span style=\"color: #7fbfbf; text-decoration-color: #7fbfbf\">           </span><span style=\"font-style: italic\"> ─── Getting group </span><span style=\"color: #008080; text-decoration-color: #008080; font-weight: bold\">2</span><span style=\"font-style: italic\"> from experiment productive-independent                                 </span> <a href=\"file:///Users/alexandergoodell/code/llm-calc/llm_calc/util/util.py\" target=\"_blank\"><span style=\"color: #7f7f7f; text-decoration-color: #7f7f7f\">util.py</span></a><span style=\"color: #7f7f7f; text-decoration-color: #7f7f7f\">:</span><a href=\"file:///Users/alexandergoodell/code/llm-calc/llm_calc/util/util.py#318\" target=\"_blank\"><span style=\"color: #7f7f7f; text-decoration-color: #7f7f7f\">318</span></a>\n",
       "</pre>\n"
      ],
      "text/plain": [
       "\u001B[2;36m          \u001B[0m\u001B[2;36m \u001B[0m\u001B[3m ─── Getting group \u001B[0m\u001B[1;36m2\u001B[0m\u001B[3m from experiment productive-independent                                 \u001B[0m \u001B]8;id=202628;file:///Users/alexandergoodell/code/llm-calc/llm_calc/util/util.py\u001B\\\u001B[2mutil.py\u001B[0m\u001B]8;;\u001B\\\u001B[2m:\u001B[0m\u001B]8;id=27060;file:///Users/alexandergoodell/code/llm-calc/llm_calc/util/util.py#318\u001B\\\u001B[2m318\u001B[0m\u001B]8;;\u001B\\\n"
      ]
     },
     "metadata": {},
     "output_type": "display_data"
    },
    {
     "data": {
      "text/html": [
       "<pre style=\"white-space:pre;overflow-x:auto;line-height:normal;font-family:Menlo,'DejaVu Sans Mono',consolas,'Courier New',monospace\">metadata_arm\n",
       "llama_ci    <span style=\"color: #008080; text-decoration-color: #008080; font-weight: bold\">250</span>\n",
       "Name: count, dtype: int64\n",
       "</pre>\n"
      ],
      "text/plain": [
       "metadata_arm\n",
       "llama_ci    \u001B[1;36m250\u001B[0m\n",
       "Name: count, dtype: int64\n"
      ]
     },
     "metadata": {},
     "output_type": "display_data"
    },
    {
     "data": {
      "text/html": [
       "<pre style=\"white-space:pre;overflow-x:auto;line-height:normal;font-family:Menlo,'DejaVu Sans Mono',consolas,'Courier New',monospace\"><span style=\"color: #7fbfbf; text-decoration-color: #7fbfbf\">[05:55:46] </span><span style=\"font-style: italic\"> ─── </span><span style=\"color: #808000; text-decoration-color: #808000; font-style: italic\">...</span><span style=\"font-style: italic\">Added </span><span style=\"color: #008080; text-decoration-color: #008080; font-weight: bold\">250</span><span style=\"font-style: italic\"> runs from group </span><span style=\"color: #008080; text-decoration-color: #008080; font-weight: bold\">2</span><span style=\"font-style: italic\">                                                         </span> <a href=\"file:///Users/alexandergoodell/code/llm-calc/llm_calc/util/util.py\" target=\"_blank\"><span style=\"color: #7f7f7f; text-decoration-color: #7f7f7f\">util.py</span></a><span style=\"color: #7f7f7f; text-decoration-color: #7f7f7f\">:</span><a href=\"file:///Users/alexandergoodell/code/llm-calc/llm_calc/util/util.py#318\" target=\"_blank\"><span style=\"color: #7f7f7f; text-decoration-color: #7f7f7f\">318</span></a>\n",
       "<span style=\"color: #7fbfbf; text-decoration-color: #7fbfbf\">           </span><span style=\"font-style: italic\">                                                                                            </span> <span style=\"color: #7f7f7f; text-decoration-color: #7f7f7f\">           </span>\n",
       "<span style=\"color: #7fbfbf; text-decoration-color: #7fbfbf\">           </span><span style=\"font-style: italic\">                                                                                            </span> <span style=\"color: #7f7f7f; text-decoration-color: #7f7f7f\">           </span>\n",
       "</pre>\n"
      ],
      "text/plain": [
       "\u001B[2;36m[05:55:46]\u001B[0m\u001B[2;36m \u001B[0m\u001B[3m ─── \u001B[0m\u001B[3;33m...\u001B[0m\u001B[3mAdded \u001B[0m\u001B[1;36m250\u001B[0m\u001B[3m runs from group \u001B[0m\u001B[1;36m2\u001B[0m\u001B[3m                                                         \u001B[0m \u001B]8;id=489499;file:///Users/alexandergoodell/code/llm-calc/llm_calc/util/util.py\u001B\\\u001B[2mutil.py\u001B[0m\u001B]8;;\u001B\\\u001B[2m:\u001B[0m\u001B]8;id=489687;file:///Users/alexandergoodell/code/llm-calc/llm_calc/util/util.py#318\u001B\\\u001B[2m318\u001B[0m\u001B]8;;\u001B\\\n",
       "\u001B[2;36m           \u001B[0m\u001B[3m                                                                                            \u001B[0m \u001B[2m           \u001B[0m\n",
       "\u001B[2;36m           \u001B[0m\u001B[3m                                                                                            \u001B[0m \u001B[2m           \u001B[0m\n"
      ]
     },
     "metadata": {},
     "output_type": "display_data"
    },
    {
     "data": {
      "text/html": [
       "<pre style=\"white-space:pre;overflow-x:auto;line-height:normal;font-family:Menlo,'DejaVu Sans Mono',consolas,'Courier New',monospace\"><span style=\"color: #7fbfbf; text-decoration-color: #7fbfbf\">           </span><span style=\"font-style: italic\"> ─── Getting group </span><span style=\"color: #008080; text-decoration-color: #008080; font-weight: bold\">3</span><span style=\"font-style: italic\"> from experiment productive-independent                                 </span> <a href=\"file:///Users/alexandergoodell/code/llm-calc/llm_calc/util/util.py\" target=\"_blank\"><span style=\"color: #7f7f7f; text-decoration-color: #7f7f7f\">util.py</span></a><span style=\"color: #7f7f7f; text-decoration-color: #7f7f7f\">:</span><a href=\"file:///Users/alexandergoodell/code/llm-calc/llm_calc/util/util.py#318\" target=\"_blank\"><span style=\"color: #7f7f7f; text-decoration-color: #7f7f7f\">318</span></a>\n",
       "</pre>\n"
      ],
      "text/plain": [
       "\u001B[2;36m          \u001B[0m\u001B[2;36m \u001B[0m\u001B[3m ─── Getting group \u001B[0m\u001B[1;36m3\u001B[0m\u001B[3m from experiment productive-independent                                 \u001B[0m \u001B]8;id=994108;file:///Users/alexandergoodell/code/llm-calc/llm_calc/util/util.py\u001B\\\u001B[2mutil.py\u001B[0m\u001B]8;;\u001B\\\u001B[2m:\u001B[0m\u001B]8;id=935758;file:///Users/alexandergoodell/code/llm-calc/llm_calc/util/util.py#318\u001B\\\u001B[2m318\u001B[0m\u001B]8;;\u001B\\\n"
      ]
     },
     "metadata": {},
     "output_type": "display_data"
    },
    {
     "data": {
      "text/html": [
       "<pre style=\"white-space:pre;overflow-x:auto;line-height:normal;font-family:Menlo,'DejaVu Sans Mono',consolas,'Courier New',monospace\">metadata_arm\n",
       "llama_base    <span style=\"color: #008080; text-decoration-color: #008080; font-weight: bold\">250</span>\n",
       "Name: count, dtype: int64\n",
       "</pre>\n"
      ],
      "text/plain": [
       "metadata_arm\n",
       "llama_base    \u001B[1;36m250\u001B[0m\n",
       "Name: count, dtype: int64\n"
      ]
     },
     "metadata": {},
     "output_type": "display_data"
    },
    {
     "data": {
      "text/html": [
       "<pre style=\"white-space:pre;overflow-x:auto;line-height:normal;font-family:Menlo,'DejaVu Sans Mono',consolas,'Courier New',monospace\"><span style=\"color: #7fbfbf; text-decoration-color: #7fbfbf\">[05:55:50] </span><span style=\"font-style: italic\"> ─── </span><span style=\"color: #808000; text-decoration-color: #808000; font-style: italic\">...</span><span style=\"font-style: italic\">Added </span><span style=\"color: #008080; text-decoration-color: #008080; font-weight: bold\">250</span><span style=\"font-style: italic\"> runs from group </span><span style=\"color: #008080; text-decoration-color: #008080; font-weight: bold\">3</span><span style=\"font-style: italic\">                                                         </span> <a href=\"file:///Users/alexandergoodell/code/llm-calc/llm_calc/util/util.py\" target=\"_blank\"><span style=\"color: #7f7f7f; text-decoration-color: #7f7f7f\">util.py</span></a><span style=\"color: #7f7f7f; text-decoration-color: #7f7f7f\">:</span><a href=\"file:///Users/alexandergoodell/code/llm-calc/llm_calc/util/util.py#318\" target=\"_blank\"><span style=\"color: #7f7f7f; text-decoration-color: #7f7f7f\">318</span></a>\n",
       "<span style=\"color: #7fbfbf; text-decoration-color: #7fbfbf\">           </span><span style=\"font-style: italic\">                                                                                            </span> <span style=\"color: #7f7f7f; text-decoration-color: #7f7f7f\">           </span>\n",
       "<span style=\"color: #7fbfbf; text-decoration-color: #7fbfbf\">           </span><span style=\"font-style: italic\">                                                                                            </span> <span style=\"color: #7f7f7f; text-decoration-color: #7f7f7f\">           </span>\n",
       "</pre>\n"
      ],
      "text/plain": [
       "\u001B[2;36m[05:55:50]\u001B[0m\u001B[2;36m \u001B[0m\u001B[3m ─── \u001B[0m\u001B[3;33m...\u001B[0m\u001B[3mAdded \u001B[0m\u001B[1;36m250\u001B[0m\u001B[3m runs from group \u001B[0m\u001B[1;36m3\u001B[0m\u001B[3m                                                         \u001B[0m \u001B]8;id=334284;file:///Users/alexandergoodell/code/llm-calc/llm_calc/util/util.py\u001B\\\u001B[2mutil.py\u001B[0m\u001B]8;;\u001B\\\u001B[2m:\u001B[0m\u001B]8;id=957260;file:///Users/alexandergoodell/code/llm-calc/llm_calc/util/util.py#318\u001B\\\u001B[2m318\u001B[0m\u001B]8;;\u001B\\\n",
       "\u001B[2;36m           \u001B[0m\u001B[3m                                                                                            \u001B[0m \u001B[2m           \u001B[0m\n",
       "\u001B[2;36m           \u001B[0m\u001B[3m                                                                                            \u001B[0m \u001B[2m           \u001B[0m\n"
      ]
     },
     "metadata": {},
     "output_type": "display_data"
    },
    {
     "data": {
      "text/html": [
       "<pre style=\"white-space:pre;overflow-x:auto;line-height:normal;font-family:Menlo,'DejaVu Sans Mono',consolas,'Courier New',monospace\"><span style=\"color: #ffd7af; text-decoration-color: #ffd7af\">──────────────────────────────────────── GETTING DATASET OVERT-RECLAMATION ────────────────────────────────────────</span>\n",
       "</pre>\n"
      ],
      "text/plain": [
       "\u001B[38;5;223m──────────────────────────────────────── \u001B[0m\u001B[38;5;223mGETTING DATASET OVERT-RECLAMATION\u001B[0m\u001B[38;5;223m ────────────────────────────────────────\u001B[0m\n"
      ]
     },
     "metadata": {},
     "output_type": "display_data"
    },
    {
     "data": {
      "text/html": [
       "<pre style=\"white-space:pre;overflow-x:auto;line-height:normal;font-family:Menlo,'DejaVu Sans Mono',consolas,'Courier New',monospace\"><span style=\"color: #7fbfbf; text-decoration-color: #7fbfbf\">           </span><span style=\"font-style: italic\"> ─── Getting group </span><span style=\"color: #008080; text-decoration-color: #008080; font-weight: bold\">0</span><span style=\"font-style: italic\"> from experiment overt-reclamation                                      </span> <a href=\"file:///Users/alexandergoodell/code/llm-calc/llm_calc/util/util.py\" target=\"_blank\"><span style=\"color: #7f7f7f; text-decoration-color: #7f7f7f\">util.py</span></a><span style=\"color: #7f7f7f; text-decoration-color: #7f7f7f\">:</span><a href=\"file:///Users/alexandergoodell/code/llm-calc/llm_calc/util/util.py#318\" target=\"_blank\"><span style=\"color: #7f7f7f; text-decoration-color: #7f7f7f\">318</span></a>\n",
       "</pre>\n"
      ],
      "text/plain": [
       "\u001B[2;36m          \u001B[0m\u001B[2;36m \u001B[0m\u001B[3m ─── Getting group \u001B[0m\u001B[1;36m0\u001B[0m\u001B[3m from experiment overt-reclamation                                      \u001B[0m \u001B]8;id=991902;file:///Users/alexandergoodell/code/llm-calc/llm_calc/util/util.py\u001B\\\u001B[2mutil.py\u001B[0m\u001B]8;;\u001B\\\u001B[2m:\u001B[0m\u001B]8;id=719391;file:///Users/alexandergoodell/code/llm-calc/llm_calc/util/util.py#318\u001B\\\u001B[2m318\u001B[0m\u001B]8;;\u001B\\\n"
      ]
     },
     "metadata": {},
     "output_type": "display_data"
    },
    {
     "data": {
      "text/html": [
       "<pre style=\"white-space:pre;overflow-x:auto;line-height:normal;font-family:Menlo,'DejaVu Sans Mono',consolas,'Courier New',monospace\">metadata_arm\n",
       "llama_ci    <span style=\"color: #008080; text-decoration-color: #008080; font-weight: bold\">250</span>\n",
       "Name: count, dtype: int64\n",
       "</pre>\n"
      ],
      "text/plain": [
       "metadata_arm\n",
       "llama_ci    \u001B[1;36m250\u001B[0m\n",
       "Name: count, dtype: int64\n"
      ]
     },
     "metadata": {},
     "output_type": "display_data"
    },
    {
     "data": {
      "text/html": [
       "<pre style=\"white-space:pre;overflow-x:auto;line-height:normal;font-family:Menlo,'DejaVu Sans Mono',consolas,'Courier New',monospace\"><span style=\"color: #7fbfbf; text-decoration-color: #7fbfbf\">[05:55:52] </span><span style=\"font-style: italic\"> ─── </span><span style=\"color: #808000; text-decoration-color: #808000; font-style: italic\">...</span><span style=\"font-style: italic\">Added </span><span style=\"color: #008080; text-decoration-color: #008080; font-weight: bold\">250</span><span style=\"font-style: italic\"> runs from group </span><span style=\"color: #008080; text-decoration-color: #008080; font-weight: bold\">0</span><span style=\"font-style: italic\">                                                         </span> <a href=\"file:///Users/alexandergoodell/code/llm-calc/llm_calc/util/util.py\" target=\"_blank\"><span style=\"color: #7f7f7f; text-decoration-color: #7f7f7f\">util.py</span></a><span style=\"color: #7f7f7f; text-decoration-color: #7f7f7f\">:</span><a href=\"file:///Users/alexandergoodell/code/llm-calc/llm_calc/util/util.py#318\" target=\"_blank\"><span style=\"color: #7f7f7f; text-decoration-color: #7f7f7f\">318</span></a>\n",
       "<span style=\"color: #7fbfbf; text-decoration-color: #7fbfbf\">           </span><span style=\"font-style: italic\">                                                                                            </span> <span style=\"color: #7f7f7f; text-decoration-color: #7f7f7f\">           </span>\n",
       "<span style=\"color: #7fbfbf; text-decoration-color: #7fbfbf\">           </span><span style=\"font-style: italic\">                                                                                            </span> <span style=\"color: #7f7f7f; text-decoration-color: #7f7f7f\">           </span>\n",
       "</pre>\n"
      ],
      "text/plain": [
       "\u001B[2;36m[05:55:52]\u001B[0m\u001B[2;36m \u001B[0m\u001B[3m ─── \u001B[0m\u001B[3;33m...\u001B[0m\u001B[3mAdded \u001B[0m\u001B[1;36m250\u001B[0m\u001B[3m runs from group \u001B[0m\u001B[1;36m0\u001B[0m\u001B[3m                                                         \u001B[0m \u001B]8;id=488557;file:///Users/alexandergoodell/code/llm-calc/llm_calc/util/util.py\u001B\\\u001B[2mutil.py\u001B[0m\u001B]8;;\u001B\\\u001B[2m:\u001B[0m\u001B]8;id=303375;file:///Users/alexandergoodell/code/llm-calc/llm_calc/util/util.py#318\u001B\\\u001B[2m318\u001B[0m\u001B]8;;\u001B\\\n",
       "\u001B[2;36m           \u001B[0m\u001B[3m                                                                                            \u001B[0m \u001B[2m           \u001B[0m\n",
       "\u001B[2;36m           \u001B[0m\u001B[3m                                                                                            \u001B[0m \u001B[2m           \u001B[0m\n"
      ]
     },
     "metadata": {},
     "output_type": "display_data"
    },
    {
     "data": {
      "text/html": [
       "<pre style=\"white-space:pre;overflow-x:auto;line-height:normal;font-family:Menlo,'DejaVu Sans Mono',consolas,'Courier New',monospace\"><span style=\"color: #ffd7af; text-decoration-color: #ffd7af\">─────────────────────────────────────────── GETTING DATASET MELTED-CAGE ───────────────────────────────────────────</span>\n",
       "</pre>\n"
      ],
      "text/plain": [
       "\u001B[38;5;223m─────────────────────────────────────────── \u001B[0m\u001B[38;5;223mGETTING DATASET MELTED-CAGE\u001B[0m\u001B[38;5;223m ───────────────────────────────────────────\u001B[0m\n"
      ]
     },
     "metadata": {},
     "output_type": "display_data"
    },
    {
     "data": {
      "text/html": [
       "<pre style=\"white-space:pre;overflow-x:auto;line-height:normal;font-family:Menlo,'DejaVu Sans Mono',consolas,'Courier New',monospace\"><span style=\"color: #7fbfbf; text-decoration-color: #7fbfbf\">[05:55:53] </span><span style=\"font-style: italic\"> ─── Getting group </span><span style=\"color: #008080; text-decoration-color: #008080; font-weight: bold\">0</span><span style=\"font-style: italic\"> from experiment melted-cage                                            </span> <a href=\"file:///Users/alexandergoodell/code/llm-calc/llm_calc/util/util.py\" target=\"_blank\"><span style=\"color: #7f7f7f; text-decoration-color: #7f7f7f\">util.py</span></a><span style=\"color: #7f7f7f; text-decoration-color: #7f7f7f\">:</span><a href=\"file:///Users/alexandergoodell/code/llm-calc/llm_calc/util/util.py#318\" target=\"_blank\"><span style=\"color: #7f7f7f; text-decoration-color: #7f7f7f\">318</span></a>\n",
       "</pre>\n"
      ],
      "text/plain": [
       "\u001B[2;36m[05:55:53]\u001B[0m\u001B[2;36m \u001B[0m\u001B[3m ─── Getting group \u001B[0m\u001B[1;36m0\u001B[0m\u001B[3m from experiment melted-cage                                            \u001B[0m \u001B]8;id=115557;file:///Users/alexandergoodell/code/llm-calc/llm_calc/util/util.py\u001B\\\u001B[2mutil.py\u001B[0m\u001B]8;;\u001B\\\u001B[2m:\u001B[0m\u001B]8;id=240195;file:///Users/alexandergoodell/code/llm-calc/llm_calc/util/util.py#318\u001B\\\u001B[2m318\u001B[0m\u001B]8;;\u001B\\\n"
      ]
     },
     "metadata": {},
     "output_type": "display_data"
    },
    {
     "data": {
      "text/html": [
       "<pre style=\"white-space:pre;overflow-x:auto;line-height:normal;font-family:Menlo,'DejaVu Sans Mono',consolas,'Courier New',monospace\">metadata_arm\n",
       "gpt4_rag    <span style=\"color: #008080; text-decoration-color: #008080; font-weight: bold\">250</span>\n",
       "Name: count, dtype: int64\n",
       "</pre>\n"
      ],
      "text/plain": [
       "metadata_arm\n",
       "gpt4_rag    \u001B[1;36m250\u001B[0m\n",
       "Name: count, dtype: int64\n"
      ]
     },
     "metadata": {},
     "output_type": "display_data"
    },
    {
     "data": {
      "text/html": [
       "<pre style=\"white-space:pre;overflow-x:auto;line-height:normal;font-family:Menlo,'DejaVu Sans Mono',consolas,'Courier New',monospace\"><span style=\"color: #7fbfbf; text-decoration-color: #7fbfbf\">[05:55:55] </span><span style=\"font-style: italic\"> ─── </span><span style=\"color: #808000; text-decoration-color: #808000; font-style: italic\">...</span><span style=\"font-style: italic\">Added </span><span style=\"color: #008080; text-decoration-color: #008080; font-weight: bold\">250</span><span style=\"font-style: italic\"> runs from group </span><span style=\"color: #008080; text-decoration-color: #008080; font-weight: bold\">0</span><span style=\"font-style: italic\">                                                         </span> <a href=\"file:///Users/alexandergoodell/code/llm-calc/llm_calc/util/util.py\" target=\"_blank\"><span style=\"color: #7f7f7f; text-decoration-color: #7f7f7f\">util.py</span></a><span style=\"color: #7f7f7f; text-decoration-color: #7f7f7f\">:</span><a href=\"file:///Users/alexandergoodell/code/llm-calc/llm_calc/util/util.py#318\" target=\"_blank\"><span style=\"color: #7f7f7f; text-decoration-color: #7f7f7f\">318</span></a>\n",
       "<span style=\"color: #7fbfbf; text-decoration-color: #7fbfbf\">           </span><span style=\"font-style: italic\">                                                                                            </span> <span style=\"color: #7f7f7f; text-decoration-color: #7f7f7f\">           </span>\n",
       "<span style=\"color: #7fbfbf; text-decoration-color: #7fbfbf\">           </span><span style=\"font-style: italic\">                                                                                            </span> <span style=\"color: #7f7f7f; text-decoration-color: #7f7f7f\">           </span>\n",
       "</pre>\n"
      ],
      "text/plain": [
       "\u001B[2;36m[05:55:55]\u001B[0m\u001B[2;36m \u001B[0m\u001B[3m ─── \u001B[0m\u001B[3;33m...\u001B[0m\u001B[3mAdded \u001B[0m\u001B[1;36m250\u001B[0m\u001B[3m runs from group \u001B[0m\u001B[1;36m0\u001B[0m\u001B[3m                                                         \u001B[0m \u001B]8;id=125573;file:///Users/alexandergoodell/code/llm-calc/llm_calc/util/util.py\u001B\\\u001B[2mutil.py\u001B[0m\u001B]8;;\u001B\\\u001B[2m:\u001B[0m\u001B]8;id=641175;file:///Users/alexandergoodell/code/llm-calc/llm_calc/util/util.py#318\u001B\\\u001B[2m318\u001B[0m\u001B]8;;\u001B\\\n",
       "\u001B[2;36m           \u001B[0m\u001B[3m                                                                                            \u001B[0m \u001B[2m           \u001B[0m\n",
       "\u001B[2;36m           \u001B[0m\u001B[3m                                                                                            \u001B[0m \u001B[2m           \u001B[0m\n"
      ]
     },
     "metadata": {},
     "output_type": "display_data"
    },
    {
     "data": {
      "text/html": [
       "<pre style=\"white-space:pre;overflow-x:auto;line-height:normal;font-family:Menlo,'DejaVu Sans Mono',consolas,'Courier New',monospace\"><span style=\"color: #7fbfbf; text-decoration-color: #7fbfbf\">           </span><span style=\"font-style: italic\"> ─── Getting group </span><span style=\"color: #008080; text-decoration-color: #008080; font-weight: bold\">1</span><span style=\"font-style: italic\"> from experiment melted-cage                                            </span> <a href=\"file:///Users/alexandergoodell/code/llm-calc/llm_calc/util/util.py\" target=\"_blank\"><span style=\"color: #7f7f7f; text-decoration-color: #7f7f7f\">util.py</span></a><span style=\"color: #7f7f7f; text-decoration-color: #7f7f7f\">:</span><a href=\"file:///Users/alexandergoodell/code/llm-calc/llm_calc/util/util.py#318\" target=\"_blank\"><span style=\"color: #7f7f7f; text-decoration-color: #7f7f7f\">318</span></a>\n",
       "</pre>\n"
      ],
      "text/plain": [
       "\u001B[2;36m          \u001B[0m\u001B[2;36m \u001B[0m\u001B[3m ─── Getting group \u001B[0m\u001B[1;36m1\u001B[0m\u001B[3m from experiment melted-cage                                            \u001B[0m \u001B]8;id=939432;file:///Users/alexandergoodell/code/llm-calc/llm_calc/util/util.py\u001B\\\u001B[2mutil.py\u001B[0m\u001B]8;;\u001B\\\u001B[2m:\u001B[0m\u001B]8;id=563927;file:///Users/alexandergoodell/code/llm-calc/llm_calc/util/util.py#318\u001B\\\u001B[2m318\u001B[0m\u001B]8;;\u001B\\\n"
      ]
     },
     "metadata": {},
     "output_type": "display_data"
    },
    {
     "data": {
      "text/html": [
       "<pre style=\"white-space:pre;overflow-x:auto;line-height:normal;font-family:Menlo,'DejaVu Sans Mono',consolas,'Courier New',monospace\">metadata_arm\n",
       "gpt4_ci    <span style=\"color: #008080; text-decoration-color: #008080; font-weight: bold\">250</span>\n",
       "Name: count, dtype: int64\n",
       "</pre>\n"
      ],
      "text/plain": [
       "metadata_arm\n",
       "gpt4_ci    \u001B[1;36m250\u001B[0m\n",
       "Name: count, dtype: int64\n"
      ]
     },
     "metadata": {},
     "output_type": "display_data"
    },
    {
     "data": {
      "text/html": [
       "<pre style=\"white-space:pre;overflow-x:auto;line-height:normal;font-family:Menlo,'DejaVu Sans Mono',consolas,'Courier New',monospace\"><span style=\"color: #7fbfbf; text-decoration-color: #7fbfbf\">[05:55:59] </span><span style=\"font-style: italic\"> ─── </span><span style=\"color: #808000; text-decoration-color: #808000; font-style: italic\">...</span><span style=\"font-style: italic\">Added </span><span style=\"color: #008080; text-decoration-color: #008080; font-weight: bold\">250</span><span style=\"font-style: italic\"> runs from group </span><span style=\"color: #008080; text-decoration-color: #008080; font-weight: bold\">1</span><span style=\"font-style: italic\">                                                         </span> <a href=\"file:///Users/alexandergoodell/code/llm-calc/llm_calc/util/util.py\" target=\"_blank\"><span style=\"color: #7f7f7f; text-decoration-color: #7f7f7f\">util.py</span></a><span style=\"color: #7f7f7f; text-decoration-color: #7f7f7f\">:</span><a href=\"file:///Users/alexandergoodell/code/llm-calc/llm_calc/util/util.py#318\" target=\"_blank\"><span style=\"color: #7f7f7f; text-decoration-color: #7f7f7f\">318</span></a>\n",
       "<span style=\"color: #7fbfbf; text-decoration-color: #7fbfbf\">           </span><span style=\"font-style: italic\">                                                                                            </span> <span style=\"color: #7f7f7f; text-decoration-color: #7f7f7f\">           </span>\n",
       "<span style=\"color: #7fbfbf; text-decoration-color: #7fbfbf\">           </span><span style=\"font-style: italic\">                                                                                            </span> <span style=\"color: #7f7f7f; text-decoration-color: #7f7f7f\">           </span>\n",
       "</pre>\n"
      ],
      "text/plain": [
       "\u001B[2;36m[05:55:59]\u001B[0m\u001B[2;36m \u001B[0m\u001B[3m ─── \u001B[0m\u001B[3;33m...\u001B[0m\u001B[3mAdded \u001B[0m\u001B[1;36m250\u001B[0m\u001B[3m runs from group \u001B[0m\u001B[1;36m1\u001B[0m\u001B[3m                                                         \u001B[0m \u001B]8;id=720177;file:///Users/alexandergoodell/code/llm-calc/llm_calc/util/util.py\u001B\\\u001B[2mutil.py\u001B[0m\u001B]8;;\u001B\\\u001B[2m:\u001B[0m\u001B]8;id=298558;file:///Users/alexandergoodell/code/llm-calc/llm_calc/util/util.py#318\u001B\\\u001B[2m318\u001B[0m\u001B]8;;\u001B\\\n",
       "\u001B[2;36m           \u001B[0m\u001B[3m                                                                                            \u001B[0m \u001B[2m           \u001B[0m\n",
       "\u001B[2;36m           \u001B[0m\u001B[3m                                                                                            \u001B[0m \u001B[2m           \u001B[0m\n"
      ]
     },
     "metadata": {},
     "output_type": "display_data"
    },
    {
     "data": {
      "text/html": [
       "<pre style=\"white-space:pre;overflow-x:auto;line-height:normal;font-family:Menlo,'DejaVu Sans Mono',consolas,'Courier New',monospace\"><span style=\"color: #ffd7af; text-decoration-color: #ffd7af\">─────────────────────────────────────── GETTING DATASET EFFICACIOUS-ROMAINE ───────────────────────────────────────</span>\n",
       "</pre>\n"
      ],
      "text/plain": [
       "\u001B[38;5;223m─────────────────────────────────────── \u001B[0m\u001B[38;5;223mGETTING DATASET EFFICACIOUS-ROMAINE\u001B[0m\u001B[38;5;223m ───────────────────────────────────────\u001B[0m\n"
      ]
     },
     "metadata": {},
     "output_type": "display_data"
    },
    {
     "data": {
      "text/html": [
       "<pre style=\"white-space:pre;overflow-x:auto;line-height:normal;font-family:Menlo,'DejaVu Sans Mono',consolas,'Courier New',monospace\"><span style=\"color: #7fbfbf; text-decoration-color: #7fbfbf\">           </span><span style=\"font-style: italic\"> ─── Getting group </span><span style=\"color: #008080; text-decoration-color: #008080; font-weight: bold\">0</span><span style=\"font-style: italic\"> from experiment efficacious-romaine                                    </span> <a href=\"file:///Users/alexandergoodell/code/llm-calc/llm_calc/util/util.py\" target=\"_blank\"><span style=\"color: #7f7f7f; text-decoration-color: #7f7f7f\">util.py</span></a><span style=\"color: #7f7f7f; text-decoration-color: #7f7f7f\">:</span><a href=\"file:///Users/alexandergoodell/code/llm-calc/llm_calc/util/util.py#318\" target=\"_blank\"><span style=\"color: #7f7f7f; text-decoration-color: #7f7f7f\">318</span></a>\n",
       "</pre>\n"
      ],
      "text/plain": [
       "\u001B[2;36m          \u001B[0m\u001B[2;36m \u001B[0m\u001B[3m ─── Getting group \u001B[0m\u001B[1;36m0\u001B[0m\u001B[3m from experiment efficacious-romaine                                    \u001B[0m \u001B]8;id=918572;file:///Users/alexandergoodell/code/llm-calc/llm_calc/util/util.py\u001B\\\u001B[2mutil.py\u001B[0m\u001B]8;;\u001B\\\u001B[2m:\u001B[0m\u001B]8;id=311850;file:///Users/alexandergoodell/code/llm-calc/llm_calc/util/util.py#318\u001B\\\u001B[2m318\u001B[0m\u001B]8;;\u001B\\\n"
      ]
     },
     "metadata": {},
     "output_type": "display_data"
    },
    {
     "data": {
      "text/html": [
       "<pre style=\"white-space:pre;overflow-x:auto;line-height:normal;font-family:Menlo,'DejaVu Sans Mono',consolas,'Courier New',monospace\">metadata_arm\n",
       "gpt4_rag_ci    <span style=\"color: #008080; text-decoration-color: #008080; font-weight: bold\">250</span>\n",
       "Name: count, dtype: int64\n",
       "</pre>\n"
      ],
      "text/plain": [
       "metadata_arm\n",
       "gpt4_rag_ci    \u001B[1;36m250\u001B[0m\n",
       "Name: count, dtype: int64\n"
      ]
     },
     "metadata": {},
     "output_type": "display_data"
    },
    {
     "data": {
      "text/html": [
       "<pre style=\"white-space:pre;overflow-x:auto;line-height:normal;font-family:Menlo,'DejaVu Sans Mono',consolas,'Courier New',monospace\"><span style=\"color: #7fbfbf; text-decoration-color: #7fbfbf\">[05:56:02] </span><span style=\"font-style: italic\"> ─── </span><span style=\"color: #808000; text-decoration-color: #808000; font-style: italic\">...</span><span style=\"font-style: italic\">Added </span><span style=\"color: #008080; text-decoration-color: #008080; font-weight: bold\">250</span><span style=\"font-style: italic\"> runs from group </span><span style=\"color: #008080; text-decoration-color: #008080; font-weight: bold\">0</span><span style=\"font-style: italic\">                                                         </span> <a href=\"file:///Users/alexandergoodell/code/llm-calc/llm_calc/util/util.py\" target=\"_blank\"><span style=\"color: #7f7f7f; text-decoration-color: #7f7f7f\">util.py</span></a><span style=\"color: #7f7f7f; text-decoration-color: #7f7f7f\">:</span><a href=\"file:///Users/alexandergoodell/code/llm-calc/llm_calc/util/util.py#318\" target=\"_blank\"><span style=\"color: #7f7f7f; text-decoration-color: #7f7f7f\">318</span></a>\n",
       "<span style=\"color: #7fbfbf; text-decoration-color: #7fbfbf\">           </span><span style=\"font-style: italic\">                                                                                            </span> <span style=\"color: #7f7f7f; text-decoration-color: #7f7f7f\">           </span>\n",
       "<span style=\"color: #7fbfbf; text-decoration-color: #7fbfbf\">           </span><span style=\"font-style: italic\">                                                                                            </span> <span style=\"color: #7f7f7f; text-decoration-color: #7f7f7f\">           </span>\n",
       "</pre>\n"
      ],
      "text/plain": [
       "\u001B[2;36m[05:56:02]\u001B[0m\u001B[2;36m \u001B[0m\u001B[3m ─── \u001B[0m\u001B[3;33m...\u001B[0m\u001B[3mAdded \u001B[0m\u001B[1;36m250\u001B[0m\u001B[3m runs from group \u001B[0m\u001B[1;36m0\u001B[0m\u001B[3m                                                         \u001B[0m \u001B]8;id=887785;file:///Users/alexandergoodell/code/llm-calc/llm_calc/util/util.py\u001B\\\u001B[2mutil.py\u001B[0m\u001B]8;;\u001B\\\u001B[2m:\u001B[0m\u001B]8;id=196188;file:///Users/alexandergoodell/code/llm-calc/llm_calc/util/util.py#318\u001B\\\u001B[2m318\u001B[0m\u001B]8;;\u001B\\\n",
       "\u001B[2;36m           \u001B[0m\u001B[3m                                                                                            \u001B[0m \u001B[2m           \u001B[0m\n",
       "\u001B[2;36m           \u001B[0m\u001B[3m                                                                                            \u001B[0m \u001B[2m           \u001B[0m\n"
      ]
     },
     "metadata": {},
     "output_type": "display_data"
    },
    {
     "data": {
      "text/html": [
       "<pre style=\"white-space:pre;overflow-x:auto;line-height:normal;font-family:Menlo,'DejaVu Sans Mono',consolas,'Courier New',monospace\"><span style=\"color: #ffd7af; text-decoration-color: #ffd7af\">──────────────────────────────────────── GETTING DATASET SUCCESSFUL-ANGINA ────────────────────────────────────────</span>\n",
       "</pre>\n"
      ],
      "text/plain": [
       "\u001B[38;5;223m──────────────────────────────────────── \u001B[0m\u001B[38;5;223mGETTING DATASET SUCCESSFUL-ANGINA\u001B[0m\u001B[38;5;223m ────────────────────────────────────────\u001B[0m\n"
      ]
     },
     "metadata": {},
     "output_type": "display_data"
    },
    {
     "data": {
      "text/html": [
       "<pre style=\"white-space:pre;overflow-x:auto;line-height:normal;font-family:Menlo,'DejaVu Sans Mono',consolas,'Courier New',monospace\"><span style=\"color: #7fbfbf; text-decoration-color: #7fbfbf\">[05:56:03] </span><span style=\"font-style: italic\"> ─── Getting group </span><span style=\"color: #008080; text-decoration-color: #008080; font-weight: bold\">0</span><span style=\"font-style: italic\"> from experiment successful-angina                                      </span> <a href=\"file:///Users/alexandergoodell/code/llm-calc/llm_calc/util/util.py\" target=\"_blank\"><span style=\"color: #7f7f7f; text-decoration-color: #7f7f7f\">util.py</span></a><span style=\"color: #7f7f7f; text-decoration-color: #7f7f7f\">:</span><a href=\"file:///Users/alexandergoodell/code/llm-calc/llm_calc/util/util.py#318\" target=\"_blank\"><span style=\"color: #7f7f7f; text-decoration-color: #7f7f7f\">318</span></a>\n",
       "</pre>\n"
      ],
      "text/plain": [
       "\u001B[2;36m[05:56:03]\u001B[0m\u001B[2;36m \u001B[0m\u001B[3m ─── Getting group \u001B[0m\u001B[1;36m0\u001B[0m\u001B[3m from experiment successful-angina                                      \u001B[0m \u001B]8;id=683439;file:///Users/alexandergoodell/code/llm-calc/llm_calc/util/util.py\u001B\\\u001B[2mutil.py\u001B[0m\u001B]8;;\u001B\\\u001B[2m:\u001B[0m\u001B]8;id=175768;file:///Users/alexandergoodell/code/llm-calc/llm_calc/util/util.py#318\u001B\\\u001B[2m318\u001B[0m\u001B]8;;\u001B\\\n"
      ]
     },
     "metadata": {},
     "output_type": "display_data"
    },
    {
     "data": {
      "text/html": [
       "<pre style=\"white-space:pre;overflow-x:auto;line-height:normal;font-family:Menlo,'DejaVu Sans Mono',consolas,'Courier New',monospace\">metadata_arm\n",
       "llama_rag_ci    <span style=\"color: #008080; text-decoration-color: #008080; font-weight: bold\">250</span>\n",
       "Name: count, dtype: int64\n",
       "</pre>\n"
      ],
      "text/plain": [
       "metadata_arm\n",
       "llama_rag_ci    \u001B[1;36m250\u001B[0m\n",
       "Name: count, dtype: int64\n"
      ]
     },
     "metadata": {},
     "output_type": "display_data"
    },
    {
     "data": {
      "text/html": [
       "<pre style=\"white-space:pre;overflow-x:auto;line-height:normal;font-family:Menlo,'DejaVu Sans Mono',consolas,'Courier New',monospace\"><span style=\"color: #7fbfbf; text-decoration-color: #7fbfbf\">[05:56:06] </span><span style=\"font-style: italic\"> ─── </span><span style=\"color: #808000; text-decoration-color: #808000; font-style: italic\">...</span><span style=\"font-style: italic\">Added </span><span style=\"color: #008080; text-decoration-color: #008080; font-weight: bold\">250</span><span style=\"font-style: italic\"> runs from group </span><span style=\"color: #008080; text-decoration-color: #008080; font-weight: bold\">0</span><span style=\"font-style: italic\">                                                         </span> <a href=\"file:///Users/alexandergoodell/code/llm-calc/llm_calc/util/util.py\" target=\"_blank\"><span style=\"color: #7f7f7f; text-decoration-color: #7f7f7f\">util.py</span></a><span style=\"color: #7f7f7f; text-decoration-color: #7f7f7f\">:</span><a href=\"file:///Users/alexandergoodell/code/llm-calc/llm_calc/util/util.py#318\" target=\"_blank\"><span style=\"color: #7f7f7f; text-decoration-color: #7f7f7f\">318</span></a>\n",
       "<span style=\"color: #7fbfbf; text-decoration-color: #7fbfbf\">           </span><span style=\"font-style: italic\">                                                                                            </span> <span style=\"color: #7f7f7f; text-decoration-color: #7f7f7f\">           </span>\n",
       "<span style=\"color: #7fbfbf; text-decoration-color: #7fbfbf\">           </span><span style=\"font-style: italic\">                                                                                            </span> <span style=\"color: #7f7f7f; text-decoration-color: #7f7f7f\">           </span>\n",
       "</pre>\n"
      ],
      "text/plain": [
       "\u001B[2;36m[05:56:06]\u001B[0m\u001B[2;36m \u001B[0m\u001B[3m ─── \u001B[0m\u001B[3;33m...\u001B[0m\u001B[3mAdded \u001B[0m\u001B[1;36m250\u001B[0m\u001B[3m runs from group \u001B[0m\u001B[1;36m0\u001B[0m\u001B[3m                                                         \u001B[0m \u001B]8;id=581076;file:///Users/alexandergoodell/code/llm-calc/llm_calc/util/util.py\u001B\\\u001B[2mutil.py\u001B[0m\u001B]8;;\u001B\\\u001B[2m:\u001B[0m\u001B]8;id=427096;file:///Users/alexandergoodell/code/llm-calc/llm_calc/util/util.py#318\u001B\\\u001B[2m318\u001B[0m\u001B]8;;\u001B\\\n",
       "\u001B[2;36m           \u001B[0m\u001B[3m                                                                                            \u001B[0m \u001B[2m           \u001B[0m\n",
       "\u001B[2;36m           \u001B[0m\u001B[3m                                                                                            \u001B[0m \u001B[2m           \u001B[0m\n"
      ]
     },
     "metadata": {},
     "output_type": "display_data"
    },
    {
     "data": {
      "text/html": [
       "<pre style=\"white-space:pre;overflow-x:auto;line-height:normal;font-family:Menlo,'DejaVu Sans Mono',consolas,'Courier New',monospace\"><span style=\"color: #ffd7af; text-decoration-color: #ffd7af\">───────────────────────────────────────── GETTING DATASET KNOWN-INCREASE ──────────────────────────────────────────</span>\n",
       "</pre>\n"
      ],
      "text/plain": [
       "\u001B[38;5;223m───────────────────────────────────────── \u001B[0m\u001B[38;5;223mGETTING DATASET KNOWN-INCREASE\u001B[0m\u001B[38;5;223m ──────────────────────────────────────────\u001B[0m\n"
      ]
     },
     "metadata": {},
     "output_type": "display_data"
    },
    {
     "data": {
      "text/html": [
       "<pre style=\"white-space:pre;overflow-x:auto;line-height:normal;font-family:Menlo,'DejaVu Sans Mono',consolas,'Courier New',monospace\"><span style=\"color: #7fbfbf; text-decoration-color: #7fbfbf\">[05:56:07] </span><span style=\"font-style: italic\"> ─── Getting group </span><span style=\"color: #008080; text-decoration-color: #008080; font-weight: bold\">0</span><span style=\"font-style: italic\"> from experiment known-increase                                         </span> <a href=\"file:///Users/alexandergoodell/code/llm-calc/llm_calc/util/util.py\" target=\"_blank\"><span style=\"color: #7f7f7f; text-decoration-color: #7f7f7f\">util.py</span></a><span style=\"color: #7f7f7f; text-decoration-color: #7f7f7f\">:</span><a href=\"file:///Users/alexandergoodell/code/llm-calc/llm_calc/util/util.py#318\" target=\"_blank\"><span style=\"color: #7f7f7f; text-decoration-color: #7f7f7f\">318</span></a>\n",
       "</pre>\n"
      ],
      "text/plain": [
       "\u001B[2;36m[05:56:07]\u001B[0m\u001B[2;36m \u001B[0m\u001B[3m ─── Getting group \u001B[0m\u001B[1;36m0\u001B[0m\u001B[3m from experiment known-increase                                         \u001B[0m \u001B]8;id=171720;file:///Users/alexandergoodell/code/llm-calc/llm_calc/util/util.py\u001B\\\u001B[2mutil.py\u001B[0m\u001B]8;;\u001B\\\u001B[2m:\u001B[0m\u001B]8;id=935444;file:///Users/alexandergoodell/code/llm-calc/llm_calc/util/util.py#318\u001B\\\u001B[2m318\u001B[0m\u001B]8;;\u001B\\\n"
      ]
     },
     "metadata": {},
     "output_type": "display_data"
    },
    {
     "data": {
      "text/html": [
       "<pre style=\"white-space:pre;overflow-x:auto;line-height:normal;font-family:Menlo,'DejaVu Sans Mono',consolas,'Courier New',monospace\">metadata_arm\n",
       "gpt4_ci    <span style=\"color: #008080; text-decoration-color: #008080; font-weight: bold\">250</span>\n",
       "Name: count, dtype: int64\n",
       "</pre>\n"
      ],
      "text/plain": [
       "metadata_arm\n",
       "gpt4_ci    \u001B[1;36m250\u001B[0m\n",
       "Name: count, dtype: int64\n"
      ]
     },
     "metadata": {},
     "output_type": "display_data"
    },
    {
     "data": {
      "text/html": [
       "<pre style=\"white-space:pre;overflow-x:auto;line-height:normal;font-family:Menlo,'DejaVu Sans Mono',consolas,'Courier New',monospace\"><span style=\"color: #7fbfbf; text-decoration-color: #7fbfbf\">[05:56:09] </span><span style=\"font-style: italic\"> ─── </span><span style=\"color: #808000; text-decoration-color: #808000; font-style: italic\">...</span><span style=\"font-style: italic\">Added </span><span style=\"color: #008080; text-decoration-color: #008080; font-weight: bold\">250</span><span style=\"font-style: italic\"> runs from group </span><span style=\"color: #008080; text-decoration-color: #008080; font-weight: bold\">0</span><span style=\"font-style: italic\">                                                         </span> <a href=\"file:///Users/alexandergoodell/code/llm-calc/llm_calc/util/util.py\" target=\"_blank\"><span style=\"color: #7f7f7f; text-decoration-color: #7f7f7f\">util.py</span></a><span style=\"color: #7f7f7f; text-decoration-color: #7f7f7f\">:</span><a href=\"file:///Users/alexandergoodell/code/llm-calc/llm_calc/util/util.py#318\" target=\"_blank\"><span style=\"color: #7f7f7f; text-decoration-color: #7f7f7f\">318</span></a>\n",
       "<span style=\"color: #7fbfbf; text-decoration-color: #7fbfbf\">           </span><span style=\"font-style: italic\">                                                                                            </span> <span style=\"color: #7f7f7f; text-decoration-color: #7f7f7f\">           </span>\n",
       "<span style=\"color: #7fbfbf; text-decoration-color: #7fbfbf\">           </span><span style=\"font-style: italic\">                                                                                            </span> <span style=\"color: #7f7f7f; text-decoration-color: #7f7f7f\">           </span>\n",
       "</pre>\n"
      ],
      "text/plain": [
       "\u001B[2;36m[05:56:09]\u001B[0m\u001B[2;36m \u001B[0m\u001B[3m ─── \u001B[0m\u001B[3;33m...\u001B[0m\u001B[3mAdded \u001B[0m\u001B[1;36m250\u001B[0m\u001B[3m runs from group \u001B[0m\u001B[1;36m0\u001B[0m\u001B[3m                                                         \u001B[0m \u001B]8;id=639796;file:///Users/alexandergoodell/code/llm-calc/llm_calc/util/util.py\u001B\\\u001B[2mutil.py\u001B[0m\u001B]8;;\u001B\\\u001B[2m:\u001B[0m\u001B]8;id=442600;file:///Users/alexandergoodell/code/llm-calc/llm_calc/util/util.py#318\u001B\\\u001B[2m318\u001B[0m\u001B]8;;\u001B\\\n",
       "\u001B[2;36m           \u001B[0m\u001B[3m                                                                                            \u001B[0m \u001B[2m           \u001B[0m\n",
       "\u001B[2;36m           \u001B[0m\u001B[3m                                                                                            \u001B[0m \u001B[2m           \u001B[0m\n"
      ]
     },
     "metadata": {},
     "output_type": "display_data"
    },
    {
     "data": {
      "text/html": [
       "<pre style=\"white-space:pre;overflow-x:auto;line-height:normal;font-family:Menlo,'DejaVu Sans Mono',consolas,'Courier New',monospace\"><span style=\"color: #7fbfbf; text-decoration-color: #7fbfbf\">           </span><span style=\"font-style: italic\"> ─── Getting group </span><span style=\"color: #008080; text-decoration-color: #008080; font-weight: bold\">1</span><span style=\"font-style: italic\"> from experiment known-increase                                         </span> <a href=\"file:///Users/alexandergoodell/code/llm-calc/llm_calc/util/util.py\" target=\"_blank\"><span style=\"color: #7f7f7f; text-decoration-color: #7f7f7f\">util.py</span></a><span style=\"color: #7f7f7f; text-decoration-color: #7f7f7f\">:</span><a href=\"file:///Users/alexandergoodell/code/llm-calc/llm_calc/util/util.py#318\" target=\"_blank\"><span style=\"color: #7f7f7f; text-decoration-color: #7f7f7f\">318</span></a>\n",
       "</pre>\n"
      ],
      "text/plain": [
       "\u001B[2;36m          \u001B[0m\u001B[2;36m \u001B[0m\u001B[3m ─── Getting group \u001B[0m\u001B[1;36m1\u001B[0m\u001B[3m from experiment known-increase                                         \u001B[0m \u001B]8;id=184888;file:///Users/alexandergoodell/code/llm-calc/llm_calc/util/util.py\u001B\\\u001B[2mutil.py\u001B[0m\u001B]8;;\u001B\\\u001B[2m:\u001B[0m\u001B]8;id=48420;file:///Users/alexandergoodell/code/llm-calc/llm_calc/util/util.py#318\u001B\\\u001B[2m318\u001B[0m\u001B]8;;\u001B\\\n"
      ]
     },
     "metadata": {},
     "output_type": "display_data"
    },
    {
     "data": {
      "text/html": [
       "<pre style=\"white-space:pre;overflow-x:auto;line-height:normal;font-family:Menlo,'DejaVu Sans Mono',consolas,'Courier New',monospace\">metadata_arm\n",
       "gpt4_base    <span style=\"color: #008080; text-decoration-color: #008080; font-weight: bold\">250</span>\n",
       "Name: count, dtype: int64\n",
       "</pre>\n"
      ],
      "text/plain": [
       "metadata_arm\n",
       "gpt4_base    \u001B[1;36m250\u001B[0m\n",
       "Name: count, dtype: int64\n"
      ]
     },
     "metadata": {},
     "output_type": "display_data"
    },
    {
     "data": {
      "text/html": [
       "<pre style=\"white-space:pre;overflow-x:auto;line-height:normal;font-family:Menlo,'DejaVu Sans Mono',consolas,'Courier New',monospace\"><span style=\"color: #7fbfbf; text-decoration-color: #7fbfbf\">[05:56:11] </span><span style=\"font-style: italic\"> ─── </span><span style=\"color: #808000; text-decoration-color: #808000; font-style: italic\">...</span><span style=\"font-style: italic\">Added </span><span style=\"color: #008080; text-decoration-color: #008080; font-weight: bold\">250</span><span style=\"font-style: italic\"> runs from group </span><span style=\"color: #008080; text-decoration-color: #008080; font-weight: bold\">1</span><span style=\"font-style: italic\">                                                         </span> <a href=\"file:///Users/alexandergoodell/code/llm-calc/llm_calc/util/util.py\" target=\"_blank\"><span style=\"color: #7f7f7f; text-decoration-color: #7f7f7f\">util.py</span></a><span style=\"color: #7f7f7f; text-decoration-color: #7f7f7f\">:</span><a href=\"file:///Users/alexandergoodell/code/llm-calc/llm_calc/util/util.py#318\" target=\"_blank\"><span style=\"color: #7f7f7f; text-decoration-color: #7f7f7f\">318</span></a>\n",
       "<span style=\"color: #7fbfbf; text-decoration-color: #7fbfbf\">           </span><span style=\"font-style: italic\">                                                                                            </span> <span style=\"color: #7f7f7f; text-decoration-color: #7f7f7f\">           </span>\n",
       "<span style=\"color: #7fbfbf; text-decoration-color: #7fbfbf\">           </span><span style=\"font-style: italic\">                                                                                            </span> <span style=\"color: #7f7f7f; text-decoration-color: #7f7f7f\">           </span>\n",
       "</pre>\n"
      ],
      "text/plain": [
       "\u001B[2;36m[05:56:11]\u001B[0m\u001B[2;36m \u001B[0m\u001B[3m ─── \u001B[0m\u001B[3;33m...\u001B[0m\u001B[3mAdded \u001B[0m\u001B[1;36m250\u001B[0m\u001B[3m runs from group \u001B[0m\u001B[1;36m1\u001B[0m\u001B[3m                                                         \u001B[0m \u001B]8;id=616423;file:///Users/alexandergoodell/code/llm-calc/llm_calc/util/util.py\u001B\\\u001B[2mutil.py\u001B[0m\u001B]8;;\u001B\\\u001B[2m:\u001B[0m\u001B]8;id=61637;file:///Users/alexandergoodell/code/llm-calc/llm_calc/util/util.py#318\u001B\\\u001B[2m318\u001B[0m\u001B]8;;\u001B\\\n",
       "\u001B[2;36m           \u001B[0m\u001B[3m                                                                                            \u001B[0m \u001B[2m           \u001B[0m\n",
       "\u001B[2;36m           \u001B[0m\u001B[3m                                                                                            \u001B[0m \u001B[2m           \u001B[0m\n"
      ]
     },
     "metadata": {},
     "output_type": "display_data"
    },
    {
     "data": {
      "text/html": [
       "<pre style=\"white-space:pre;overflow-x:auto;line-height:normal;font-family:Menlo,'DejaVu Sans Mono',consolas,'Courier New',monospace\"><span style=\"color: #7fbfbf; text-decoration-color: #7fbfbf\">           </span><span style=\"font-style: italic\"> ─── Getting group </span><span style=\"color: #008080; text-decoration-color: #008080; font-weight: bold\">2</span><span style=\"font-style: italic\"> from experiment known-increase                                         </span> <a href=\"file:///Users/alexandergoodell/code/llm-calc/llm_calc/util/util.py\" target=\"_blank\"><span style=\"color: #7f7f7f; text-decoration-color: #7f7f7f\">util.py</span></a><span style=\"color: #7f7f7f; text-decoration-color: #7f7f7f\">:</span><a href=\"file:///Users/alexandergoodell/code/llm-calc/llm_calc/util/util.py#318\" target=\"_blank\"><span style=\"color: #7f7f7f; text-decoration-color: #7f7f7f\">318</span></a>\n",
       "</pre>\n"
      ],
      "text/plain": [
       "\u001B[2;36m          \u001B[0m\u001B[2;36m \u001B[0m\u001B[3m ─── Getting group \u001B[0m\u001B[1;36m2\u001B[0m\u001B[3m from experiment known-increase                                         \u001B[0m \u001B]8;id=933927;file:///Users/alexandergoodell/code/llm-calc/llm_calc/util/util.py\u001B\\\u001B[2mutil.py\u001B[0m\u001B]8;;\u001B\\\u001B[2m:\u001B[0m\u001B]8;id=205338;file:///Users/alexandergoodell/code/llm-calc/llm_calc/util/util.py#318\u001B\\\u001B[2m318\u001B[0m\u001B]8;;\u001B\\\n"
      ]
     },
     "metadata": {},
     "output_type": "display_data"
    },
    {
     "data": {
      "text/html": [
       "<pre style=\"white-space:pre;overflow-x:auto;line-height:normal;font-family:Menlo,'DejaVu Sans Mono',consolas,'Courier New',monospace\">metadata_arm\n",
       "llama_omc    <span style=\"color: #008080; text-decoration-color: #008080; font-weight: bold\">250</span>\n",
       "Name: count, dtype: int64\n",
       "</pre>\n"
      ],
      "text/plain": [
       "metadata_arm\n",
       "llama_omc    \u001B[1;36m250\u001B[0m\n",
       "Name: count, dtype: int64\n"
      ]
     },
     "metadata": {},
     "output_type": "display_data"
    },
    {
     "data": {
      "text/html": [
       "<pre style=\"white-space:pre;overflow-x:auto;line-height:normal;font-family:Menlo,'DejaVu Sans Mono',consolas,'Courier New',monospace\"><span style=\"color: #7fbfbf; text-decoration-color: #7fbfbf\">[05:56:14] </span><span style=\"font-style: italic\"> ─── </span><span style=\"color: #808000; text-decoration-color: #808000; font-style: italic\">...</span><span style=\"font-style: italic\">Added </span><span style=\"color: #008080; text-decoration-color: #008080; font-weight: bold\">250</span><span style=\"font-style: italic\"> runs from group </span><span style=\"color: #008080; text-decoration-color: #008080; font-weight: bold\">2</span><span style=\"font-style: italic\">                                                         </span> <a href=\"file:///Users/alexandergoodell/code/llm-calc/llm_calc/util/util.py\" target=\"_blank\"><span style=\"color: #7f7f7f; text-decoration-color: #7f7f7f\">util.py</span></a><span style=\"color: #7f7f7f; text-decoration-color: #7f7f7f\">:</span><a href=\"file:///Users/alexandergoodell/code/llm-calc/llm_calc/util/util.py#318\" target=\"_blank\"><span style=\"color: #7f7f7f; text-decoration-color: #7f7f7f\">318</span></a>\n",
       "<span style=\"color: #7fbfbf; text-decoration-color: #7fbfbf\">           </span><span style=\"font-style: italic\">                                                                                            </span> <span style=\"color: #7f7f7f; text-decoration-color: #7f7f7f\">           </span>\n",
       "<span style=\"color: #7fbfbf; text-decoration-color: #7fbfbf\">           </span><span style=\"font-style: italic\">                                                                                            </span> <span style=\"color: #7f7f7f; text-decoration-color: #7f7f7f\">           </span>\n",
       "</pre>\n"
      ],
      "text/plain": [
       "\u001B[2;36m[05:56:14]\u001B[0m\u001B[2;36m \u001B[0m\u001B[3m ─── \u001B[0m\u001B[3;33m...\u001B[0m\u001B[3mAdded \u001B[0m\u001B[1;36m250\u001B[0m\u001B[3m runs from group \u001B[0m\u001B[1;36m2\u001B[0m\u001B[3m                                                         \u001B[0m \u001B]8;id=264752;file:///Users/alexandergoodell/code/llm-calc/llm_calc/util/util.py\u001B\\\u001B[2mutil.py\u001B[0m\u001B]8;;\u001B\\\u001B[2m:\u001B[0m\u001B]8;id=31540;file:///Users/alexandergoodell/code/llm-calc/llm_calc/util/util.py#318\u001B\\\u001B[2m318\u001B[0m\u001B]8;;\u001B\\\n",
       "\u001B[2;36m           \u001B[0m\u001B[3m                                                                                            \u001B[0m \u001B[2m           \u001B[0m\n",
       "\u001B[2;36m           \u001B[0m\u001B[3m                                                                                            \u001B[0m \u001B[2m           \u001B[0m\n"
      ]
     },
     "metadata": {},
     "output_type": "display_data"
    },
    {
     "data": {
      "text/html": [
       "<pre style=\"white-space:pre;overflow-x:auto;line-height:normal;font-family:Menlo,'DejaVu Sans Mono',consolas,'Courier New',monospace\"><span style=\"color: #7fbfbf; text-decoration-color: #7fbfbf\">           </span><span style=\"font-style: italic\"> ─── Getting group </span><span style=\"color: #008080; text-decoration-color: #008080; font-weight: bold\">3</span><span style=\"font-style: italic\"> from experiment known-increase                                         </span> <a href=\"file:///Users/alexandergoodell/code/llm-calc/llm_calc/util/util.py\" target=\"_blank\"><span style=\"color: #7f7f7f; text-decoration-color: #7f7f7f\">util.py</span></a><span style=\"color: #7f7f7f; text-decoration-color: #7f7f7f\">:</span><a href=\"file:///Users/alexandergoodell/code/llm-calc/llm_calc/util/util.py#318\" target=\"_blank\"><span style=\"color: #7f7f7f; text-decoration-color: #7f7f7f\">318</span></a>\n",
       "</pre>\n"
      ],
      "text/plain": [
       "\u001B[2;36m          \u001B[0m\u001B[2;36m \u001B[0m\u001B[3m ─── Getting group \u001B[0m\u001B[1;36m3\u001B[0m\u001B[3m from experiment known-increase                                         \u001B[0m \u001B]8;id=326884;file:///Users/alexandergoodell/code/llm-calc/llm_calc/util/util.py\u001B\\\u001B[2mutil.py\u001B[0m\u001B]8;;\u001B\\\u001B[2m:\u001B[0m\u001B]8;id=34382;file:///Users/alexandergoodell/code/llm-calc/llm_calc/util/util.py#318\u001B\\\u001B[2m318\u001B[0m\u001B]8;;\u001B\\\n"
      ]
     },
     "metadata": {},
     "output_type": "display_data"
    },
    {
     "data": {
      "text/html": [
       "<pre style=\"white-space:pre;overflow-x:auto;line-height:normal;font-family:Menlo,'DejaVu Sans Mono',consolas,'Courier New',monospace\">metadata_arm\n",
       "llama_rag    <span style=\"color: #008080; text-decoration-color: #008080; font-weight: bold\">250</span>\n",
       "Name: count, dtype: int64\n",
       "</pre>\n"
      ],
      "text/plain": [
       "metadata_arm\n",
       "llama_rag    \u001B[1;36m250\u001B[0m\n",
       "Name: count, dtype: int64\n"
      ]
     },
     "metadata": {},
     "output_type": "display_data"
    },
    {
     "data": {
      "text/html": [
       "<pre style=\"white-space:pre;overflow-x:auto;line-height:normal;font-family:Menlo,'DejaVu Sans Mono',consolas,'Courier New',monospace\"><span style=\"color: #7fbfbf; text-decoration-color: #7fbfbf\">[05:56:17] </span><span style=\"font-style: italic\"> ─── </span><span style=\"color: #808000; text-decoration-color: #808000; font-style: italic\">...</span><span style=\"font-style: italic\">Added </span><span style=\"color: #008080; text-decoration-color: #008080; font-weight: bold\">250</span><span style=\"font-style: italic\"> runs from group </span><span style=\"color: #008080; text-decoration-color: #008080; font-weight: bold\">3</span><span style=\"font-style: italic\">                                                         </span> <a href=\"file:///Users/alexandergoodell/code/llm-calc/llm_calc/util/util.py\" target=\"_blank\"><span style=\"color: #7f7f7f; text-decoration-color: #7f7f7f\">util.py</span></a><span style=\"color: #7f7f7f; text-decoration-color: #7f7f7f\">:</span><a href=\"file:///Users/alexandergoodell/code/llm-calc/llm_calc/util/util.py#318\" target=\"_blank\"><span style=\"color: #7f7f7f; text-decoration-color: #7f7f7f\">318</span></a>\n",
       "<span style=\"color: #7fbfbf; text-decoration-color: #7fbfbf\">           </span><span style=\"font-style: italic\">                                                                                            </span> <span style=\"color: #7f7f7f; text-decoration-color: #7f7f7f\">           </span>\n",
       "<span style=\"color: #7fbfbf; text-decoration-color: #7fbfbf\">           </span><span style=\"font-style: italic\">                                                                                            </span> <span style=\"color: #7f7f7f; text-decoration-color: #7f7f7f\">           </span>\n",
       "</pre>\n"
      ],
      "text/plain": [
       "\u001B[2;36m[05:56:17]\u001B[0m\u001B[2;36m \u001B[0m\u001B[3m ─── \u001B[0m\u001B[3;33m...\u001B[0m\u001B[3mAdded \u001B[0m\u001B[1;36m250\u001B[0m\u001B[3m runs from group \u001B[0m\u001B[1;36m3\u001B[0m\u001B[3m                                                         \u001B[0m \u001B]8;id=916690;file:///Users/alexandergoodell/code/llm-calc/llm_calc/util/util.py\u001B\\\u001B[2mutil.py\u001B[0m\u001B]8;;\u001B\\\u001B[2m:\u001B[0m\u001B]8;id=488302;file:///Users/alexandergoodell/code/llm-calc/llm_calc/util/util.py#318\u001B\\\u001B[2m318\u001B[0m\u001B]8;;\u001B\\\n",
       "\u001B[2;36m           \u001B[0m\u001B[3m                                                                                            \u001B[0m \u001B[2m           \u001B[0m\n",
       "\u001B[2;36m           \u001B[0m\u001B[3m                                                                                            \u001B[0m \u001B[2m           \u001B[0m\n"
      ]
     },
     "metadata": {},
     "output_type": "display_data"
    },
    {
     "data": {
      "text/html": [
       "<pre style=\"white-space:pre;overflow-x:auto;line-height:normal;font-family:Menlo,'DejaVu Sans Mono',consolas,'Courier New',monospace\"><span style=\"color: #7fbfbf; text-decoration-color: #7fbfbf\">           </span><span style=\"font-style: italic\"> ─── Getting group </span><span style=\"color: #008080; text-decoration-color: #008080; font-weight: bold\">4</span><span style=\"font-style: italic\"> from experiment known-increase                                         </span> <a href=\"file:///Users/alexandergoodell/code/llm-calc/llm_calc/util/util.py\" target=\"_blank\"><span style=\"color: #7f7f7f; text-decoration-color: #7f7f7f\">util.py</span></a><span style=\"color: #7f7f7f; text-decoration-color: #7f7f7f\">:</span><a href=\"file:///Users/alexandergoodell/code/llm-calc/llm_calc/util/util.py#318\" target=\"_blank\"><span style=\"color: #7f7f7f; text-decoration-color: #7f7f7f\">318</span></a>\n",
       "</pre>\n"
      ],
      "text/plain": [
       "\u001B[2;36m          \u001B[0m\u001B[2;36m \u001B[0m\u001B[3m ─── Getting group \u001B[0m\u001B[1;36m4\u001B[0m\u001B[3m from experiment known-increase                                         \u001B[0m \u001B]8;id=848367;file:///Users/alexandergoodell/code/llm-calc/llm_calc/util/util.py\u001B\\\u001B[2mutil.py\u001B[0m\u001B]8;;\u001B\\\u001B[2m:\u001B[0m\u001B]8;id=273898;file:///Users/alexandergoodell/code/llm-calc/llm_calc/util/util.py#318\u001B\\\u001B[2m318\u001B[0m\u001B]8;;\u001B\\\n"
      ]
     },
     "metadata": {},
     "output_type": "display_data"
    },
    {
     "data": {
      "text/html": [
       "<pre style=\"white-space:pre;overflow-x:auto;line-height:normal;font-family:Menlo,'DejaVu Sans Mono',consolas,'Courier New',monospace\">metadata_arm\n",
       "llama_ci    <span style=\"color: #008080; text-decoration-color: #008080; font-weight: bold\">250</span>\n",
       "Name: count, dtype: int64\n",
       "</pre>\n"
      ],
      "text/plain": [
       "metadata_arm\n",
       "llama_ci    \u001B[1;36m250\u001B[0m\n",
       "Name: count, dtype: int64\n"
      ]
     },
     "metadata": {},
     "output_type": "display_data"
    },
    {
     "data": {
      "text/html": [
       "<pre style=\"white-space:pre;overflow-x:auto;line-height:normal;font-family:Menlo,'DejaVu Sans Mono',consolas,'Courier New',monospace\"><span style=\"color: #7fbfbf; text-decoration-color: #7fbfbf\">[05:56:19] </span><span style=\"font-style: italic\"> ─── </span><span style=\"color: #808000; text-decoration-color: #808000; font-style: italic\">...</span><span style=\"font-style: italic\">Added </span><span style=\"color: #008080; text-decoration-color: #008080; font-weight: bold\">250</span><span style=\"font-style: italic\"> runs from group </span><span style=\"color: #008080; text-decoration-color: #008080; font-weight: bold\">4</span><span style=\"font-style: italic\">                                                         </span> <a href=\"file:///Users/alexandergoodell/code/llm-calc/llm_calc/util/util.py\" target=\"_blank\"><span style=\"color: #7f7f7f; text-decoration-color: #7f7f7f\">util.py</span></a><span style=\"color: #7f7f7f; text-decoration-color: #7f7f7f\">:</span><a href=\"file:///Users/alexandergoodell/code/llm-calc/llm_calc/util/util.py#318\" target=\"_blank\"><span style=\"color: #7f7f7f; text-decoration-color: #7f7f7f\">318</span></a>\n",
       "<span style=\"color: #7fbfbf; text-decoration-color: #7fbfbf\">           </span><span style=\"font-style: italic\">                                                                                            </span> <span style=\"color: #7f7f7f; text-decoration-color: #7f7f7f\">           </span>\n",
       "<span style=\"color: #7fbfbf; text-decoration-color: #7fbfbf\">           </span><span style=\"font-style: italic\">                                                                                            </span> <span style=\"color: #7f7f7f; text-decoration-color: #7f7f7f\">           </span>\n",
       "</pre>\n"
      ],
      "text/plain": [
       "\u001B[2;36m[05:56:19]\u001B[0m\u001B[2;36m \u001B[0m\u001B[3m ─── \u001B[0m\u001B[3;33m...\u001B[0m\u001B[3mAdded \u001B[0m\u001B[1;36m250\u001B[0m\u001B[3m runs from group \u001B[0m\u001B[1;36m4\u001B[0m\u001B[3m                                                         \u001B[0m \u001B]8;id=865511;file:///Users/alexandergoodell/code/llm-calc/llm_calc/util/util.py\u001B\\\u001B[2mutil.py\u001B[0m\u001B]8;;\u001B\\\u001B[2m:\u001B[0m\u001B]8;id=639601;file:///Users/alexandergoodell/code/llm-calc/llm_calc/util/util.py#318\u001B\\\u001B[2m318\u001B[0m\u001B]8;;\u001B\\\n",
       "\u001B[2;36m           \u001B[0m\u001B[3m                                                                                            \u001B[0m \u001B[2m           \u001B[0m\n",
       "\u001B[2;36m           \u001B[0m\u001B[3m                                                                                            \u001B[0m \u001B[2m           \u001B[0m\n"
      ]
     },
     "metadata": {},
     "output_type": "display_data"
    },
    {
     "data": {
      "text/html": [
       "<pre style=\"white-space:pre;overflow-x:auto;line-height:normal;font-family:Menlo,'DejaVu Sans Mono',consolas,'Courier New',monospace\"><span style=\"color: #7fbfbf; text-decoration-color: #7fbfbf\">           </span><span style=\"font-style: italic\"> ─── Getting group </span><span style=\"color: #008080; text-decoration-color: #008080; font-weight: bold\">5</span><span style=\"font-style: italic\"> from experiment known-increase                                         </span> <a href=\"file:///Users/alexandergoodell/code/llm-calc/llm_calc/util/util.py\" target=\"_blank\"><span style=\"color: #7f7f7f; text-decoration-color: #7f7f7f\">util.py</span></a><span style=\"color: #7f7f7f; text-decoration-color: #7f7f7f\">:</span><a href=\"file:///Users/alexandergoodell/code/llm-calc/llm_calc/util/util.py#318\" target=\"_blank\"><span style=\"color: #7f7f7f; text-decoration-color: #7f7f7f\">318</span></a>\n",
       "</pre>\n"
      ],
      "text/plain": [
       "\u001B[2;36m          \u001B[0m\u001B[2;36m \u001B[0m\u001B[3m ─── Getting group \u001B[0m\u001B[1;36m5\u001B[0m\u001B[3m from experiment known-increase                                         \u001B[0m \u001B]8;id=948545;file:///Users/alexandergoodell/code/llm-calc/llm_calc/util/util.py\u001B\\\u001B[2mutil.py\u001B[0m\u001B]8;;\u001B\\\u001B[2m:\u001B[0m\u001B]8;id=673547;file:///Users/alexandergoodell/code/llm-calc/llm_calc/util/util.py#318\u001B\\\u001B[2m318\u001B[0m\u001B]8;;\u001B\\\n"
      ]
     },
     "metadata": {},
     "output_type": "display_data"
    },
    {
     "data": {
      "text/html": [
       "<pre style=\"white-space:pre;overflow-x:auto;line-height:normal;font-family:Menlo,'DejaVu Sans Mono',consolas,'Courier New',monospace\">metadata_arm\n",
       "llama_base    <span style=\"color: #008080; text-decoration-color: #008080; font-weight: bold\">250</span>\n",
       "Name: count, dtype: int64\n",
       "</pre>\n"
      ],
      "text/plain": [
       "metadata_arm\n",
       "llama_base    \u001B[1;36m250\u001B[0m\n",
       "Name: count, dtype: int64\n"
      ]
     },
     "metadata": {},
     "output_type": "display_data"
    },
    {
     "data": {
      "text/html": [
       "<pre style=\"white-space:pre;overflow-x:auto;line-height:normal;font-family:Menlo,'DejaVu Sans Mono',consolas,'Courier New',monospace\"><span style=\"color: #7fbfbf; text-decoration-color: #7fbfbf\">[05:56:22] </span><span style=\"font-style: italic\"> ─── </span><span style=\"color: #808000; text-decoration-color: #808000; font-style: italic\">...</span><span style=\"font-style: italic\">Added </span><span style=\"color: #008080; text-decoration-color: #008080; font-weight: bold\">250</span><span style=\"font-style: italic\"> runs from group </span><span style=\"color: #008080; text-decoration-color: #008080; font-weight: bold\">5</span><span style=\"font-style: italic\">                                                         </span> <a href=\"file:///Users/alexandergoodell/code/llm-calc/llm_calc/util/util.py\" target=\"_blank\"><span style=\"color: #7f7f7f; text-decoration-color: #7f7f7f\">util.py</span></a><span style=\"color: #7f7f7f; text-decoration-color: #7f7f7f\">:</span><a href=\"file:///Users/alexandergoodell/code/llm-calc/llm_calc/util/util.py#318\" target=\"_blank\"><span style=\"color: #7f7f7f; text-decoration-color: #7f7f7f\">318</span></a>\n",
       "<span style=\"color: #7fbfbf; text-decoration-color: #7fbfbf\">           </span><span style=\"font-style: italic\">                                                                                            </span> <span style=\"color: #7f7f7f; text-decoration-color: #7f7f7f\">           </span>\n",
       "<span style=\"color: #7fbfbf; text-decoration-color: #7fbfbf\">           </span><span style=\"font-style: italic\">                                                                                            </span> <span style=\"color: #7f7f7f; text-decoration-color: #7f7f7f\">           </span>\n",
       "</pre>\n"
      ],
      "text/plain": [
       "\u001B[2;36m[05:56:22]\u001B[0m\u001B[2;36m \u001B[0m\u001B[3m ─── \u001B[0m\u001B[3;33m...\u001B[0m\u001B[3mAdded \u001B[0m\u001B[1;36m250\u001B[0m\u001B[3m runs from group \u001B[0m\u001B[1;36m5\u001B[0m\u001B[3m                                                         \u001B[0m \u001B]8;id=650790;file:///Users/alexandergoodell/code/llm-calc/llm_calc/util/util.py\u001B\\\u001B[2mutil.py\u001B[0m\u001B]8;;\u001B\\\u001B[2m:\u001B[0m\u001B]8;id=939675;file:///Users/alexandergoodell/code/llm-calc/llm_calc/util/util.py#318\u001B\\\u001B[2m318\u001B[0m\u001B]8;;\u001B\\\n",
       "\u001B[2;36m           \u001B[0m\u001B[3m                                                                                            \u001B[0m \u001B[2m           \u001B[0m\n",
       "\u001B[2;36m           \u001B[0m\u001B[3m                                                                                            \u001B[0m \u001B[2m           \u001B[0m\n"
      ]
     },
     "metadata": {},
     "output_type": "display_data"
    },
    {
     "data": {
      "text/html": [
       "<pre style=\"white-space:pre;overflow-x:auto;line-height:normal;font-family:Menlo,'DejaVu Sans Mono',consolas,'Courier New',monospace\"><span style=\"color: #ffd7af; text-decoration-color: #ffd7af\">────────────────────────────────────── GETTING DATASET PASTORAL-CONSTITUTION ──────────────────────────────────────</span>\n",
       "</pre>\n"
      ],
      "text/plain": [
       "\u001B[38;5;223m────────────────────────────────────── \u001B[0m\u001B[38;5;223mGETTING DATASET PASTORAL-CONSTITUTION\u001B[0m\u001B[38;5;223m ──────────────────────────────────────\u001B[0m\n"
      ]
     },
     "metadata": {},
     "output_type": "display_data"
    },
    {
     "data": {
      "text/html": [
       "<pre style=\"white-space:pre;overflow-x:auto;line-height:normal;font-family:Menlo,'DejaVu Sans Mono',consolas,'Courier New',monospace\"><span style=\"color: #7fbfbf; text-decoration-color: #7fbfbf\">           </span><span style=\"font-style: italic\"> ─── Getting group </span><span style=\"color: #008080; text-decoration-color: #008080; font-weight: bold\">0</span><span style=\"font-style: italic\"> from experiment pastoral-constitution                                  </span> <a href=\"file:///Users/alexandergoodell/code/llm-calc/llm_calc/util/util.py\" target=\"_blank\"><span style=\"color: #7f7f7f; text-decoration-color: #7f7f7f\">util.py</span></a><span style=\"color: #7f7f7f; text-decoration-color: #7f7f7f\">:</span><a href=\"file:///Users/alexandergoodell/code/llm-calc/llm_calc/util/util.py#318\" target=\"_blank\"><span style=\"color: #7f7f7f; text-decoration-color: #7f7f7f\">318</span></a>\n",
       "</pre>\n"
      ],
      "text/plain": [
       "\u001B[2;36m          \u001B[0m\u001B[2;36m \u001B[0m\u001B[3m ─── Getting group \u001B[0m\u001B[1;36m0\u001B[0m\u001B[3m from experiment pastoral-constitution                                  \u001B[0m \u001B]8;id=437996;file:///Users/alexandergoodell/code/llm-calc/llm_calc/util/util.py\u001B\\\u001B[2mutil.py\u001B[0m\u001B]8;;\u001B\\\u001B[2m:\u001B[0m\u001B]8;id=616059;file:///Users/alexandergoodell/code/llm-calc/llm_calc/util/util.py#318\u001B\\\u001B[2m318\u001B[0m\u001B]8;;\u001B\\\n"
      ]
     },
     "metadata": {},
     "output_type": "display_data"
    },
    {
     "data": {
      "text/html": [
       "<pre style=\"white-space:pre;overflow-x:auto;line-height:normal;font-family:Menlo,'DejaVu Sans Mono',consolas,'Courier New',monospace\">metadata_arm\n",
       "gpt4_omc    <span style=\"color: #008080; text-decoration-color: #008080; font-weight: bold\">250</span>\n",
       "Name: count, dtype: int64\n",
       "</pre>\n"
      ],
      "text/plain": [
       "metadata_arm\n",
       "gpt4_omc    \u001B[1;36m250\u001B[0m\n",
       "Name: count, dtype: int64\n"
      ]
     },
     "metadata": {},
     "output_type": "display_data"
    },
    {
     "data": {
      "text/html": [
       "<pre style=\"white-space:pre;overflow-x:auto;line-height:normal;font-family:Menlo,'DejaVu Sans Mono',consolas,'Courier New',monospace\"><span style=\"color: #7fbfbf; text-decoration-color: #7fbfbf\">[05:56:25] </span><span style=\"font-style: italic\"> ─── </span><span style=\"color: #808000; text-decoration-color: #808000; font-style: italic\">...</span><span style=\"font-style: italic\">Added </span><span style=\"color: #008080; text-decoration-color: #008080; font-weight: bold\">250</span><span style=\"font-style: italic\"> runs from group </span><span style=\"color: #008080; text-decoration-color: #008080; font-weight: bold\">0</span><span style=\"font-style: italic\">                                                         </span> <a href=\"file:///Users/alexandergoodell/code/llm-calc/llm_calc/util/util.py\" target=\"_blank\"><span style=\"color: #7f7f7f; text-decoration-color: #7f7f7f\">util.py</span></a><span style=\"color: #7f7f7f; text-decoration-color: #7f7f7f\">:</span><a href=\"file:///Users/alexandergoodell/code/llm-calc/llm_calc/util/util.py#318\" target=\"_blank\"><span style=\"color: #7f7f7f; text-decoration-color: #7f7f7f\">318</span></a>\n",
       "<span style=\"color: #7fbfbf; text-decoration-color: #7fbfbf\">           </span><span style=\"font-style: italic\">                                                                                            </span> <span style=\"color: #7f7f7f; text-decoration-color: #7f7f7f\">           </span>\n",
       "<span style=\"color: #7fbfbf; text-decoration-color: #7fbfbf\">           </span><span style=\"font-style: italic\">                                                                                            </span> <span style=\"color: #7f7f7f; text-decoration-color: #7f7f7f\">           </span>\n",
       "</pre>\n"
      ],
      "text/plain": [
       "\u001B[2;36m[05:56:25]\u001B[0m\u001B[2;36m \u001B[0m\u001B[3m ─── \u001B[0m\u001B[3;33m...\u001B[0m\u001B[3mAdded \u001B[0m\u001B[1;36m250\u001B[0m\u001B[3m runs from group \u001B[0m\u001B[1;36m0\u001B[0m\u001B[3m                                                         \u001B[0m \u001B]8;id=273609;file:///Users/alexandergoodell/code/llm-calc/llm_calc/util/util.py\u001B\\\u001B[2mutil.py\u001B[0m\u001B]8;;\u001B\\\u001B[2m:\u001B[0m\u001B]8;id=153448;file:///Users/alexandergoodell/code/llm-calc/llm_calc/util/util.py#318\u001B\\\u001B[2m318\u001B[0m\u001B]8;;\u001B\\\n",
       "\u001B[2;36m           \u001B[0m\u001B[3m                                                                                            \u001B[0m \u001B[2m           \u001B[0m\n",
       "\u001B[2;36m           \u001B[0m\u001B[3m                                                                                            \u001B[0m \u001B[2m           \u001B[0m\n"
      ]
     },
     "metadata": {},
     "output_type": "display_data"
    }
   ],
   "source": [
    "# get runs from chosen dataset, assign to df\n",
    "from llm_calc.util import util\n",
    "exp_runs = pd.DataFrame()\n",
    "for dataset_name in chosen_datasets:\n",
    "    util.h2(f\"Getting dataset {dataset_name}\")\n",
    "    dataset = ls_client.read_dataset(dataset_name=dataset_name)\n",
    "    dataset_id = dataset.id\n",
    "    last_experiments = make_df(\n",
    "        ls_client.list_projects(reference_dataset_id=dataset_id)\n",
    "    )\n",
    "    \n",
    "    for i, experiment in last_experiments.iterrows():\n",
    "        util.log_mini_task(f\"Getting group {i} from experiment {dataset_name}\")\n",
    "        exp = make_df(ls_client.list_runs(is_root=True, project_id=experiment.id))\n",
    "        exp[\"metadata_arm\"] = exp.extra.map(lambda x: x['metadata']['arm'])\n",
    "        util.rprint(exp.metadata_arm.value_counts())\n",
    "        exp[\"dataset_name\"] = dataset_name\n",
    "        exp[\"dataset_id\"] = dataset_id\n",
    "        exp[\"dataset_group\"] = i\n",
    "        exp_runs = pd.concat([exp_runs, exp])\n",
    "        util.log_mini_task(f\"...Added {len(exp)} runs from group {i}\\n\\n\")\n",
    "# feedback_stats = pd.json_normalize(exp_runs.feedback_stats)\n",
    "# exp_runs = pd.concat([exp_runs, feedback_stats.reindex(exp_runs.index)], axis=1)\n",
    "df = exp_runs"
   ]
  },
  {
   "cell_type": "code",
   "execution_count": 66,
   "id": "7f4c60a6364034f",
   "metadata": {
    "ExecuteTime": {
     "end_time": "2024-11-10T14:12:38.262892Z",
     "start_time": "2024-11-10T14:12:38.230489Z"
    }
   },
   "outputs": [
    {
     "data": {
      "text/plain": [
       "(10000, 74)"
      ]
     },
     "execution_count": 66,
     "metadata": {},
     "output_type": "execute_result"
    }
   ],
   "source": [
    "df.shape"
   ]
  },
  {
   "cell_type": "code",
   "execution_count": 67,
   "id": "c86e8bd4679f5ec1",
   "metadata": {
    "ExecuteTime": {
     "end_time": "2024-11-10T14:12:47.318891Z",
     "start_time": "2024-11-10T14:12:47.201515Z"
    }
   },
   "outputs": [
    {
     "data": {
      "text/plain": [
       "dataset_name            metadata_arm  status \n",
       "confused-intent         llama_omc     success    250\n",
       "crazy-textbook          llama_rag_ci  success    250\n",
       "disagreeable-apple      gpt4_rag_ci   success    250\n",
       "efficacious-romaine     gpt4_rag_ci   success    250\n",
       "goofy-tower             llama_base    success    250\n",
       "                        llama_ci      success    250\n",
       "                        llama_rag     success    250\n",
       "                        llama_rag_ci  success    250\n",
       "hissing-boatload        llama_rag_ci  success    250\n",
       "known-increase          gpt4_base     success    250\n",
       "                        llama_base    success    250\n",
       "                        llama_ci      success    250\n",
       "                        llama_omc     success    250\n",
       "                        llama_rag     success    250\n",
       "loud-company            gpt4_base     success    250\n",
       "                        gpt4_ci       success    250\n",
       "                        gpt4_omc      success    250\n",
       "                        gpt4_rag      success    250\n",
       "                        gpt4_rag_ci   success    250\n",
       "melted-cage             gpt4_ci       success    250\n",
       "                        gpt4_rag      success    250\n",
       "overt-reclamation       llama_ci      success    250\n",
       "pastoral-constitution   gpt4_omc      success    250\n",
       "productive-independent  llama_base    success    250\n",
       "                        llama_rag     success    250\n",
       "proud-yam               gpt4_base     success    250\n",
       "                        gpt4_ci       success    250\n",
       "                        gpt4_omc      success    250\n",
       "                        gpt4_rag      success    250\n",
       "                        llama_omc     success    250\n",
       "puny-gasket             llama_base    success    250\n",
       "                        llama_ci      success    250\n",
       "                        llama_rag     success    250\n",
       "quarrelsome-pinkie      gpt4_base     success    250\n",
       "                        gpt4_ci       success    250\n",
       "                        gpt4_omc      success    250\n",
       "                        gpt4_rag      success    250\n",
       "sedate-bidding          llama_omc     success    250\n",
       "successful-angina       llama_rag_ci  success    250\n",
       "yielding-gearshift      gpt4_rag_ci   success    250\n",
       "Name: count, dtype: int64"
      ]
     },
     "execution_count": 67,
     "metadata": {},
     "output_type": "execute_result"
    }
   ],
   "source": [
    "# remove \"goofy-tower\" runs with gpt4o as they are not valid (used gpt4 turbo instead)\n",
    "df = df[~((df.dataset_name == \"goofy-tower\") & (df.metadata_arm == \"gpt4_base\"))]\n",
    "df = df[~((df.dataset_name == \"goofy-tower\") & (df.metadata_arm == \"gpt4_ci\"))]\n",
    "df = df[~((df.dataset_name == \"goofy-tower\") & (df.metadata_arm == \"gpt4_rag\"))]\n",
    "df = df[~((df.dataset_name == \"goofy-tower\") & (df.metadata_arm == \"gpt4_rag_ci\"))]\n",
    "df = df[~((df.dataset_name == \"goofy-tower\") & (df.metadata_arm == \"gpt4_omc\"))]\n",
    "\n",
    "# remove \"goofy-tower\" runs with llama OMC as ran out of credits and half errored\n",
    "df = df[~((df.dataset_name == \"goofy-tower\") & (df.metadata_arm == \"llama_omc\"))]\n",
    "\n",
    "# exclude those from dataset puny-gasket with metadata_arm llama_rag_ci\n",
    "df = df[~((df.dataset_name == \"puny-gasket\") & (df.metadata_arm == \"llama_rag_ci\"))]\n",
    "# # exclude those from dataset quarrelsome-pinkie with metadata_arm gpt4_rag_ci\n",
    "df = df[~((df.dataset_name == \"quarrelsome-pinkie\") & (df.metadata_arm == \"gpt4_rag_ci\"))]\n",
    "\n",
    "# exclude those from dataset proud-yam with metadata_arm gpt4_rag_ci  \n",
    "df = df[~((df.dataset_name == \"proud-yam\") & (df.metadata_arm == \"gpt4_rag_ci\"))]\n",
    "# exclude those from dataset productive-independent with metadata_arm llama_rag_ci \n",
    "df = df[~((df.dataset_name == \"productive-independent\") & (df.metadata_arm == \"llama_rag_ci\"))]\n",
    "# exclude those from dataset productive-independent with metadata_arm llama_ci\n",
    "df = df[~((df.dataset_name == \"productive-independent\") & (df.metadata_arm == \"llama_ci\"))]\n",
    "\n",
    "# exclude those from dataset known-increase with metadata_arm gpt4_ci\n",
    "df = df[~((df.dataset_name == \"known-increase\") & (df.metadata_arm == \"gpt4_ci\"))]\n",
    "\n",
    "\n",
    "df.groupby([\"dataset_name\",\"metadata_arm\"]).status.value_counts()\n"
   ]
  },
  {
   "cell_type": "code",
   "execution_count": 68,
   "id": "c05b0784ff0baad1",
   "metadata": {
    "ExecuteTime": {
     "end_time": "2024-11-10T14:12:48.059341Z",
     "start_time": "2024-11-10T14:12:48.020687Z"
    }
   },
   "outputs": [],
   "source": [
    "df = df.reset_index(drop=True)"
   ]
  },
  {
   "cell_type": "code",
   "execution_count": 69,
   "id": "45247d3acbb87ea",
   "metadata": {
    "ExecuteTime": {
     "end_time": "2024-11-10T14:12:48.460022Z",
     "start_time": "2024-11-10T14:12:48.429601Z"
    }
   },
   "outputs": [
    {
     "name": "stdout",
     "output_type": "stream",
     "text": [
      "run keys: \n",
      "id, name, start_time, run_type, end_time, extra, error, serialized, events, inputs, outputs, reference_example_id, parent_run_id, tags, attachments, session_id, child_run_ids, child_runs, feedback_stats, app_path, manifest_id, status, prompt_tokens, completion_tokens, total_tokens, first_token_time, total_cost, prompt_cost, completion_cost, parent_run_ids, trace_id, dotted_order, in_dataset, metadata_arm, dataset_name, dataset_id, dataset_group, arm_slug, experiment_name, experiment_desc, experiment_start, experiment_end, num_errored_attempts, num_attempts, was_error, output_object, raw_response, intermediate_steps, calculator_slug, patient_name, patient_id, vignette, reference_answer, criteria, options, was_correct, performance, ci_was_run, final_answer_valid, runtime_error_count, count, output_answer, output_explanation, output_able_to_answer, steps, num_steps, last_tool_call, last_tool_call_name, arm_description, arm_name, calculator_name, model_slug, model_name, arm_tools\n",
      "\n",
      "details keys: \n",
      "arm_slug, experiment, was_error, output_string, output_string_is_valid_json, output_object, exception, exception_message, exception_traceback, extracted_answer, was_answer_correct, num_errored_attempts, num_attempts, errored_attempts, case, raw_response, intermediate_steps, human_input, run\n",
      "\n",
      "case keys: \n",
      "id, name, calculator_slug, vignette, options, correct_output, correct_output_notes, given_output, is_correct\n"
     ]
    }
   ],
   "source": [
    "# view available data from experiments\n",
    "print(\"run keys: \\n\" + \", \".join(df.columns))\n",
    "details = df.iloc[0].outputs[\"details\"]\n",
    "print(\"\\ndetails keys: \\n\" + \", \".join(details.keys()))\n",
    "case = df.iloc[0].outputs[\"details\"][\"case\"]\n",
    "print(\"\\ncase keys: \\n\" + \", \".join(case.keys()))"
   ]
  },
  {
   "cell_type": "code",
   "execution_count": null,
   "id": "111da9ad51fa44ba",
   "metadata": {
    "ExecuteTime": {
     "end_time": "2024-11-10T14:12:49.159039Z",
     "start_time": "2024-11-10T14:12:49.047454Z"
    }
   },
   "outputs": [],
   "source": [
    "# extract important details from outputs>details and details>case\n",
    "df[\"arm_slug\"] = df.outputs.map(lambda x: x[\"details\"][\"arm_slug\"])\n",
    "df[\"experiment_name\"] = df.outputs.map(lambda x: x[\"details\"][\"experiment\"][\"slug\"])\n",
    "df[\"experiment_desc\"] = df.outputs.map(lambda x: x[\"details\"][\"experiment\"][\"description\"])\n",
    "df[\"experiment_start\"] = df.outputs.map(lambda x: x[\"details\"][\"experiment\"][\"start_datetime\"])\n",
    "df[\"experiment_end\"] = df.outputs.map(lambda x: x[\"details\"][\"experiment\"][\"end_datetime\"])\n",
    "df[\"num_errored_attempts\"] = df.outputs.map(lambda x: x[\"details\"][\"num_errored_attempts\"])\n",
    "df[\"num_attempts\"] = df.outputs.map(lambda x: x[\"details\"][\"num_attempts\"])\n",
    "df[\"was_error\"] = df.outputs.map(lambda x: x[\"details\"][\"was_error\"])\n",
    "df[\"output_object\"] = df.outputs.map(lambda x: x[\"details\"][\"output_object\"])\n",
    "df[\"raw_response\"] = df.outputs.map(lambda x: x[\"details\"][\"raw_response\"])\n",
    "df[\"intermediate_steps\"] = df.outputs.map(lambda x: x[\"details\"][\"intermediate_steps\"])\n",
    "df[\"calculator_slug\"] = df.outputs.map(lambda x: x[\"details\"][\"case\"][\"calculator_slug\"])\n",
    "df[\"patient_name\"] = df.outputs.map(lambda x: x[\"details\"][\"case\"][\"name\"])\n",
    "df[\"patient_id\"] = df.outputs.map(lambda x: x[\"details\"][\"case\"][\"id\"])\n",
    "df[\"vignette\"] = df.outputs.map(lambda x: x[\"details\"][\"case\"][\"vignette\"])\n",
    "df[\"reference_answer\"] = df.outputs.map(lambda x: x[\"details\"][\"case\"][\"correct_output\"])\n",
    "df[\"criteria\"] = df.outputs.map(lambda x: x[\"details\"][\"case\"][\"options\"])\n",
    "df[\"options\"] = df.outputs.map(lambda x: x[\"details\"][\"case\"][\"options\"]) # duplicate for proxy sake\n"
   ]
  },
  {
   "cell_type": "code",
   "execution_count": 71,
   "id": "d152c065dab2055",
   "metadata": {
    "ExecuteTime": {
     "end_time": "2024-11-10T14:12:49.717538Z",
     "start_time": "2024-11-10T14:12:49.661492Z"
    }
   },
   "outputs": [],
   "source": [
    "# feedback stats\n",
    "was_correct = df.feedback_stats.map(lambda x: x['% correct (all)']['avg']) == 100\n",
    "df[\"was_correct\"] = was_correct\n",
    "df.loc[was_correct, \"performance\"] = \"Correct\"\n",
    "df.loc[~was_correct, \"performance\"] = \"Incorrect\"\n",
    "df[\"ci_was_run\"] = df.feedback_stats.map(lambda x: x['code_interpreter was run']['avg']) == 100\n",
    "df[\"final_answer_valid\"] = df.feedback_stats.map(lambda x: x.get('final answer valid', {}).get('avg',0) == 100)\n",
    "df[\"runtime_error_count\"] = df.feedback_stats.map(lambda x: x.get('runtime_error_count', {}).get('avg',0))\n",
    "df[\"count\"] = 1"
   ]
  },
  {
   "cell_type": "code",
   "execution_count": 72,
   "id": "2baf7b081b8cfc26",
   "metadata": {
    "ExecuteTime": {
     "end_time": "2024-11-10T14:12:50.049097Z",
     "start_time": "2024-11-10T14:12:50.015269Z"
    }
   },
   "outputs": [
    {
     "name": "stdout",
     "output_type": "stream",
     "text": [
      "There were 208 runs without valid output, they have been marked as such\n"
     ]
    }
   ],
   "source": [
    "# outputs\n",
    "no_output = df.output_object.isna()\n",
    "df.loc[no_output, \"was_error\"] = True\n",
    "df.loc[no_output, \"performance\"] = \"No valid output\"\n",
    "number_with_no_output = len(df[no_output])\n",
    "print(f\"There were {number_with_no_output} runs without valid output, they have been marked as such\")\n"
   ]
  },
  {
   "cell_type": "code",
   "execution_count": 73,
   "id": "e0af9fd8bea27690",
   "metadata": {
    "ExecuteTime": {
     "end_time": "2024-11-10T14:12:50.467909Z",
     "start_time": "2024-11-10T14:12:50.398216Z"
    }
   },
   "outputs": [],
   "source": [
    "# for remaining, extract details\n",
    "df.loc[~no_output, \"output_answer\"] = df[~no_output].outputs.map(lambda x: x[\"details\"][\"output_object\"][\"answer\"])\n",
    "df.loc[~no_output, \"output_explanation\"] = df[~no_output].outputs.map(lambda x: x[\"details\"][\"output_object\"][\"explanation\"])\n",
    "df.loc[~no_output, \"output_able_to_answer\"] = df[~no_output].outputs.map(lambda x: x[\"details\"][\"output_object\"][\"able_to_answer\"])"
   ]
  },
  {
   "cell_type": "code",
   "execution_count": 74,
   "id": "b89314890cbd6c9a",
   "metadata": {
    "ExecuteTime": {
     "end_time": "2024-11-10T14:12:50.905240Z",
     "start_time": "2024-11-10T14:12:50.850144Z"
    }
   },
   "outputs": [],
   "source": [
    "# clean up intermediate steps \n",
    "# set na's to 0\n",
    "df[\"steps\"] = df.outputs.map(lambda x: x[\"details\"][\"intermediate_steps\"])\n",
    "is_na = df[\"steps\"].isna()\n",
    "df.loc[~is_na,\"num_steps\"] = df[~is_na].steps.map(lambda x: len(x))\n",
    "df.loc[is_na,\"num_steps\"] = 0"
   ]
  },
  {
   "cell_type": "code",
   "execution_count": 75,
   "id": "78dc5a69b27a1841",
   "metadata": {
    "ExecuteTime": {
     "end_time": "2024-11-10T14:12:51.384692Z",
     "start_time": "2024-11-10T14:12:51.345561Z"
    }
   },
   "outputs": [
    {
     "name": "stdout",
     "output_type": "stream",
     "text": [
      "Ther were 6000 runs with 1 or more tool calls and 30 with more than 1 step (most of these are callback errors to LLM \n"
     ]
    }
   ],
   "source": [
    "# print rows with > 1 steps\n",
    "print(f\"Ther were {len(df[df.num_steps > 0])} runs with 1 or more tool calls and {len(df[df.num_steps > 1])} with more than 1 step (most of these are callback errors to LLM \")\n"
   ]
  },
  {
   "cell_type": "code",
   "execution_count": 76,
   "id": "bbc5dc7a8801844d",
   "metadata": {
    "ExecuteTime": {
     "end_time": "2024-11-10T14:12:51.737110Z",
     "start_time": "2024-11-10T14:12:51.700339Z"
    }
   },
   "outputs": [],
   "source": [
    "has_steps = df.num_steps > 0\n",
    "df.loc[has_steps,\"last_tool_call\"] = df[has_steps].steps.map(lambda x: x[-1][0])\n",
    "df.loc[~has_steps,\"last_tool_call\"] = None"
   ]
  },
  {
   "cell_type": "code",
   "execution_count": 77,
   "id": "2cb5a85393c543b2",
   "metadata": {
    "ExecuteTime": {
     "end_time": "2024-11-10T14:12:52.376541Z",
     "start_time": "2024-11-10T14:12:52.339692Z"
    }
   },
   "outputs": [
    {
     "data": {
      "text/plain": [
       "last_tool_call_name\n",
       "code_interpreter         4000\n",
       "calculate_wells_dvt       200\n",
       "calculate_cci             200\n",
       "calculate_caprini_vte     200\n",
       "calculate_hasbled         200\n",
       "calculate_sofa            200\n",
       "calculate_gad7            200\n",
       "calculate_nihss           200\n",
       "calculate_psi_port        200\n",
       "calculate_ariscat         200\n",
       "calculate_meld_na         200\n",
       "Name: count, dtype: int64"
      ]
     },
     "execution_count": 77,
     "metadata": {},
     "output_type": "execute_result"
    }
   ],
   "source": [
    "df.loc[has_steps,\"last_tool_call_name\"] = df[has_steps].last_tool_call.map(lambda x: x.get('tool'))\n",
    "df.loc[~has_steps,\"last_tool_call_name\"] = None\n",
    "df.last_tool_call_name.value_counts()   "
   ]
  },
  {
   "cell_type": "code",
   "execution_count": 78,
   "id": "2195ec5bbe3b7697",
   "metadata": {
    "ExecuteTime": {
     "end_time": "2024-11-10T14:12:53.104625Z",
     "start_time": "2024-11-10T14:12:53.080388Z"
    }
   },
   "outputs": [],
   "source": [
    "# get metadata\n",
    "arms = datacore.arms\n",
    "models = datacore.models\n",
    "calculators = datacore.calculators"
   ]
  },
  {
   "cell_type": "code",
   "execution_count": null,
   "id": "a3335af6089d07ef",
   "metadata": {
    "ExecuteTime": {
     "end_time": "2024-11-10T14:12:53.832687Z",
     "start_time": "2024-11-10T14:12:53.771131Z"
    }
   },
   "outputs": [],
   "source": [
    "# add pretty names\n",
    "arm_descriptions = {x.slug.value: x.description for x in arms}\n",
    "df['arm_description'] = df.arm_slug.map(lambda x: arm_descriptions[x])\n",
    "arm_names = {x.slug.value: x.name for x in arms}\n",
    "df['arm_name'] = df.arm_slug.map(lambda x: arm_names[x])\n",
    "pretty_calculators = {x.slug.value: x.pretty_slug for x in calculators}\n",
    "df['calculator_name'] = df.calculator_slug.map(lambda x: pretty_calculators[x])\n",
    "get_arm_by_slug = {x.slug.value: x for x in arms}\n",
    "df['model_slug'] = df.arm_slug.map(lambda x: get_arm_by_slug.get(x).model.value)\n",
    "model_names = {x.slug.value: x.name for x in models}\n",
    "df['model_name'] = df.model_slug.map(lambda x: model_names[x])\n",
    "df['arm_tools'] = df.arm_slug.map(lambda x: x.replace(\"gpt4_\",\"\").replace(\"llama_\",\"\"))\n",
    "\n",
    "# calculator-arm permutations\n",
    "df['calculator_arm'] = str(df['calculator_name']) + ' on ' + str(df['arm_name'])\n",
    "\n",
    "# convert to categories\n",
    "df[\"arm_slug\"] = df[\"arm_slug\"].astype(\"category\")\n",
    "df[\"model_slug\"] = df[\"model_slug\"].astype(\"category\")\n",
    "df[\"calculator_name\"] = df[\"calculator_name\"].astype(\"category\")\n",
    "df[\"arm_name\"] = df[\"arm_name\"].astype(\"category\")\n",
    "df[\"arm_description\"] = df[\"arm_description\"].astype(\"category\")\n",
    "df[\"model_name\"] = df[\"model_name\"].astype(\"category\")\n",
    "df[\"arm_tools\"] = df[\"arm_tools\"].astype(\"category\")\n",
    "df[\"performance\"] = df[\"performance\"].astype(\"category\")\n",
    "df[\"experiment_name\"] = df[\"experiment_name\"].astype(\"category\")\n",
    "df[\"experiment_desc\"] = df[\"experiment_desc\"].astype(\"category\")\n",
    "df[\"patient_name\"] = df[\"patient_name\"].astype(\"category\")\n",
    "df[\"vignette\"] = df[\"vignette\"].astype(\"category\")\n",
    "df['calculator_arm'] = df['calculator_arm'].astype(\"category\")"
   ]
  },
  {
   "cell_type": "code",
   "execution_count": 80,
   "id": "b0170d59aeed4e99",
   "metadata": {
    "ExecuteTime": {
     "end_time": "2024-11-10T14:12:55.086603Z",
     "start_time": "2024-11-10T14:12:55.055957Z"
    }
   },
   "outputs": [
    {
     "data": {
      "text/plain": [
       "Index(['id', 'name', 'start_time', 'run_type', 'end_time', 'extra', 'error',\n",
       "       'serialized', 'events', 'inputs', 'outputs', 'reference_example_id',\n",
       "       'parent_run_id', 'tags', 'attachments', 'session_id', 'child_run_ids',\n",
       "       'child_runs', 'feedback_stats', 'app_path', 'manifest_id', 'status',\n",
       "       'prompt_tokens', 'completion_tokens', 'total_tokens',\n",
       "       'first_token_time', 'total_cost', 'prompt_cost', 'completion_cost',\n",
       "       'parent_run_ids', 'trace_id', 'dotted_order', 'in_dataset',\n",
       "       'metadata_arm', 'dataset_name', 'dataset_id', 'dataset_group',\n",
       "       'arm_slug', 'experiment_name', 'experiment_desc', 'experiment_start',\n",
       "       'experiment_end', 'num_errored_attempts', 'num_attempts', 'was_error',\n",
       "       'output_object', 'raw_response', 'intermediate_steps',\n",
       "       'calculator_slug', 'patient_name', 'patient_id', 'vignette',\n",
       "       'reference_answer', 'criteria', 'options', 'was_correct', 'performance',\n",
       "       'ci_was_run', 'final_answer_valid', 'runtime_error_count', 'count',\n",
       "       'output_answer', 'output_explanation', 'output_able_to_answer', 'steps',\n",
       "       'num_steps', 'last_tool_call', 'last_tool_call_name', 'arm_description',\n",
       "       'arm_name', 'calculator_name', 'model_slug', 'model_name', 'arm_tools'],\n",
       "      dtype='object')"
      ]
     },
     "execution_count": 80,
     "metadata": {},
     "output_type": "execute_result"
    }
   ],
   "source": [
    "\n",
    "df.columns"
   ]
  },
  {
   "cell_type": "markdown",
   "id": "c0b657e21c800366",
   "metadata": {},
   "source": [
    "# Validity Checks"
   ]
  },
  {
   "cell_type": "code",
   "execution_count": 81,
   "id": "28615e64b339b4fc",
   "metadata": {
    "ExecuteTime": {
     "end_time": "2024-11-10T14:13:00.424397Z",
     "start_time": "2024-11-10T14:13:00.396377Z"
    }
   },
   "outputs": [
    {
     "data": {
      "text/plain": [
       "model_slug  arm_tools  experiment_name       \n",
       "gpt4o       base       known-increase            250\n",
       "                       loud-company              250\n",
       "                       proud-yam                 250\n",
       "                       quarrelsome-pinkie        250\n",
       "            ci         loud-company              250\n",
       "                       melted-cage               250\n",
       "                       proud-yam                 250\n",
       "                       quarrelsome-pinkie        250\n",
       "            omc        loud-company              250\n",
       "                       pastoral-constitution     250\n",
       "                       proud-yam                 250\n",
       "                       quarrelsome-pinkie        250\n",
       "            rag        loud-company              250\n",
       "                       melted-cage               250\n",
       "                       proud-yam                 250\n",
       "                       quarrelsome-pinkie        250\n",
       "            rag_ci     disagreeable-apple        250\n",
       "                       efficacious-romaine       250\n",
       "                       loud-company              250\n",
       "                       yielding-gearshift        250\n",
       "llama3_1    base       goofy-tower               226\n",
       "                       known-increase            229\n",
       "                       productive-independent    224\n",
       "                       puny-gasket               224\n",
       "            ci         goofy-tower               250\n",
       "                       known-increase            250\n",
       "                       overt-reclamation         250\n",
       "                       puny-gasket               250\n",
       "            omc        confused-intent           250\n",
       "                       known-increase            250\n",
       "                       proud-yam                 250\n",
       "                       sedate-bidding            250\n",
       "            rag        goofy-tower               222\n",
       "                       known-increase            224\n",
       "                       productive-independent    226\n",
       "                       puny-gasket               217\n",
       "            rag_ci     crazy-textbook            250\n",
       "                       goofy-tower               250\n",
       "                       hissing-boatload          250\n",
       "                       successful-angina         250\n",
       "Name: final_answer_valid, dtype: int64"
      ]
     },
     "execution_count": 81,
     "metadata": {},
     "output_type": "execute_result"
    }
   ],
   "source": [
    "df.arm_name.value_counts()\n",
    "df.groupby([\"experiment_name\",\"model_slug\",\"arm_tools\"],observed=True).final_answer_valid.sum()\n",
    "df.groupby([\"model_slug\",\"arm_tools\",\"experiment_name\"],observed=True).final_answer_valid.sum()\n",
    "# df.groupby([\"model_slug\",\"arm_tools\"],observed=True).final_answer_valid.sum()\n"
   ]
  },
  {
   "cell_type": "code",
   "execution_count": 82,
   "id": "dd94bf9c2ccad44c",
   "metadata": {
    "ExecuteTime": {
     "end_time": "2024-11-10T14:13:11.335327Z",
     "start_time": "2024-11-10T14:13:11.273918Z"
    }
   },
   "outputs": [
    {
     "data": {
      "text/html": [
       "<div>\n",
       "<style scoped>\n",
       "    .dataframe tbody tr th:only-of-type {\n",
       "        vertical-align: middle;\n",
       "    }\n",
       "\n",
       "    .dataframe tbody tr th {\n",
       "        vertical-align: top;\n",
       "    }\n",
       "\n",
       "    .dataframe thead th {\n",
       "        text-align: right;\n",
       "    }\n",
       "</style>\n",
       "<table border=\"1\" class=\"dataframe\">\n",
       "  <thead>\n",
       "    <tr style=\"text-align: right;\">\n",
       "      <th></th>\n",
       "      <th></th>\n",
       "      <th></th>\n",
       "      <th>id</th>\n",
       "      <th>name</th>\n",
       "      <th>start_time</th>\n",
       "      <th>run_type</th>\n",
       "      <th>end_time</th>\n",
       "      <th>extra</th>\n",
       "      <th>error</th>\n",
       "      <th>serialized</th>\n",
       "      <th>events</th>\n",
       "      <th>inputs</th>\n",
       "      <th>...</th>\n",
       "      <th>output_explanation</th>\n",
       "      <th>output_able_to_answer</th>\n",
       "      <th>steps</th>\n",
       "      <th>num_steps</th>\n",
       "      <th>last_tool_call</th>\n",
       "      <th>last_tool_call_name</th>\n",
       "      <th>arm_description</th>\n",
       "      <th>arm_name</th>\n",
       "      <th>calculator_name</th>\n",
       "      <th>model_name</th>\n",
       "    </tr>\n",
       "    <tr>\n",
       "      <th>experiment_name</th>\n",
       "      <th>model_slug</th>\n",
       "      <th>arm_tools</th>\n",
       "      <th></th>\n",
       "      <th></th>\n",
       "      <th></th>\n",
       "      <th></th>\n",
       "      <th></th>\n",
       "      <th></th>\n",
       "      <th></th>\n",
       "      <th></th>\n",
       "      <th></th>\n",
       "      <th></th>\n",
       "      <th></th>\n",
       "      <th></th>\n",
       "      <th></th>\n",
       "      <th></th>\n",
       "      <th></th>\n",
       "      <th></th>\n",
       "      <th></th>\n",
       "      <th></th>\n",
       "      <th></th>\n",
       "      <th></th>\n",
       "      <th></th>\n",
       "    </tr>\n",
       "  </thead>\n",
       "  <tbody>\n",
       "    <tr>\n",
       "      <th rowspan=\"5\" valign=\"top\">confused-intent</th>\n",
       "      <th rowspan=\"5\" valign=\"top\">gpt4o</th>\n",
       "      <th>base</th>\n",
       "      <td>0</td>\n",
       "      <td>0</td>\n",
       "      <td>0</td>\n",
       "      <td>0</td>\n",
       "      <td>0</td>\n",
       "      <td>0</td>\n",
       "      <td>0</td>\n",
       "      <td>0</td>\n",
       "      <td>0</td>\n",
       "      <td>0</td>\n",
       "      <td>...</td>\n",
       "      <td>0</td>\n",
       "      <td>0</td>\n",
       "      <td>0</td>\n",
       "      <td>0</td>\n",
       "      <td>0</td>\n",
       "      <td>0</td>\n",
       "      <td>0</td>\n",
       "      <td>0</td>\n",
       "      <td>0</td>\n",
       "      <td>0</td>\n",
       "    </tr>\n",
       "    <tr>\n",
       "      <th>ci</th>\n",
       "      <td>0</td>\n",
       "      <td>0</td>\n",
       "      <td>0</td>\n",
       "      <td>0</td>\n",
       "      <td>0</td>\n",
       "      <td>0</td>\n",
       "      <td>0</td>\n",
       "      <td>0</td>\n",
       "      <td>0</td>\n",
       "      <td>0</td>\n",
       "      <td>...</td>\n",
       "      <td>0</td>\n",
       "      <td>0</td>\n",
       "      <td>0</td>\n",
       "      <td>0</td>\n",
       "      <td>0</td>\n",
       "      <td>0</td>\n",
       "      <td>0</td>\n",
       "      <td>0</td>\n",
       "      <td>0</td>\n",
       "      <td>0</td>\n",
       "    </tr>\n",
       "    <tr>\n",
       "      <th>omc</th>\n",
       "      <td>0</td>\n",
       "      <td>0</td>\n",
       "      <td>0</td>\n",
       "      <td>0</td>\n",
       "      <td>0</td>\n",
       "      <td>0</td>\n",
       "      <td>0</td>\n",
       "      <td>0</td>\n",
       "      <td>0</td>\n",
       "      <td>0</td>\n",
       "      <td>...</td>\n",
       "      <td>0</td>\n",
       "      <td>0</td>\n",
       "      <td>0</td>\n",
       "      <td>0</td>\n",
       "      <td>0</td>\n",
       "      <td>0</td>\n",
       "      <td>0</td>\n",
       "      <td>0</td>\n",
       "      <td>0</td>\n",
       "      <td>0</td>\n",
       "    </tr>\n",
       "    <tr>\n",
       "      <th>rag</th>\n",
       "      <td>0</td>\n",
       "      <td>0</td>\n",
       "      <td>0</td>\n",
       "      <td>0</td>\n",
       "      <td>0</td>\n",
       "      <td>0</td>\n",
       "      <td>0</td>\n",
       "      <td>0</td>\n",
       "      <td>0</td>\n",
       "      <td>0</td>\n",
       "      <td>...</td>\n",
       "      <td>0</td>\n",
       "      <td>0</td>\n",
       "      <td>0</td>\n",
       "      <td>0</td>\n",
       "      <td>0</td>\n",
       "      <td>0</td>\n",
       "      <td>0</td>\n",
       "      <td>0</td>\n",
       "      <td>0</td>\n",
       "      <td>0</td>\n",
       "    </tr>\n",
       "    <tr>\n",
       "      <th>rag_ci</th>\n",
       "      <td>0</td>\n",
       "      <td>0</td>\n",
       "      <td>0</td>\n",
       "      <td>0</td>\n",
       "      <td>0</td>\n",
       "      <td>0</td>\n",
       "      <td>0</td>\n",
       "      <td>0</td>\n",
       "      <td>0</td>\n",
       "      <td>0</td>\n",
       "      <td>...</td>\n",
       "      <td>0</td>\n",
       "      <td>0</td>\n",
       "      <td>0</td>\n",
       "      <td>0</td>\n",
       "      <td>0</td>\n",
       "      <td>0</td>\n",
       "      <td>0</td>\n",
       "      <td>0</td>\n",
       "      <td>0</td>\n",
       "      <td>0</td>\n",
       "    </tr>\n",
       "    <tr>\n",
       "      <th>...</th>\n",
       "      <th>...</th>\n",
       "      <th>...</th>\n",
       "      <td>...</td>\n",
       "      <td>...</td>\n",
       "      <td>...</td>\n",
       "      <td>...</td>\n",
       "      <td>...</td>\n",
       "      <td>...</td>\n",
       "      <td>...</td>\n",
       "      <td>...</td>\n",
       "      <td>...</td>\n",
       "      <td>...</td>\n",
       "      <td>...</td>\n",
       "      <td>...</td>\n",
       "      <td>...</td>\n",
       "      <td>...</td>\n",
       "      <td>...</td>\n",
       "      <td>...</td>\n",
       "      <td>...</td>\n",
       "      <td>...</td>\n",
       "      <td>...</td>\n",
       "      <td>...</td>\n",
       "      <td>...</td>\n",
       "    </tr>\n",
       "    <tr>\n",
       "      <th rowspan=\"5\" valign=\"top\">yielding-gearshift</th>\n",
       "      <th rowspan=\"5\" valign=\"top\">llama3_1</th>\n",
       "      <th>base</th>\n",
       "      <td>0</td>\n",
       "      <td>0</td>\n",
       "      <td>0</td>\n",
       "      <td>0</td>\n",
       "      <td>0</td>\n",
       "      <td>0</td>\n",
       "      <td>0</td>\n",
       "      <td>0</td>\n",
       "      <td>0</td>\n",
       "      <td>0</td>\n",
       "      <td>...</td>\n",
       "      <td>0</td>\n",
       "      <td>0</td>\n",
       "      <td>0</td>\n",
       "      <td>0</td>\n",
       "      <td>0</td>\n",
       "      <td>0</td>\n",
       "      <td>0</td>\n",
       "      <td>0</td>\n",
       "      <td>0</td>\n",
       "      <td>0</td>\n",
       "    </tr>\n",
       "    <tr>\n",
       "      <th>ci</th>\n",
       "      <td>0</td>\n",
       "      <td>0</td>\n",
       "      <td>0</td>\n",
       "      <td>0</td>\n",
       "      <td>0</td>\n",
       "      <td>0</td>\n",
       "      <td>0</td>\n",
       "      <td>0</td>\n",
       "      <td>0</td>\n",
       "      <td>0</td>\n",
       "      <td>...</td>\n",
       "      <td>0</td>\n",
       "      <td>0</td>\n",
       "      <td>0</td>\n",
       "      <td>0</td>\n",
       "      <td>0</td>\n",
       "      <td>0</td>\n",
       "      <td>0</td>\n",
       "      <td>0</td>\n",
       "      <td>0</td>\n",
       "      <td>0</td>\n",
       "    </tr>\n",
       "    <tr>\n",
       "      <th>omc</th>\n",
       "      <td>0</td>\n",
       "      <td>0</td>\n",
       "      <td>0</td>\n",
       "      <td>0</td>\n",
       "      <td>0</td>\n",
       "      <td>0</td>\n",
       "      <td>0</td>\n",
       "      <td>0</td>\n",
       "      <td>0</td>\n",
       "      <td>0</td>\n",
       "      <td>...</td>\n",
       "      <td>0</td>\n",
       "      <td>0</td>\n",
       "      <td>0</td>\n",
       "      <td>0</td>\n",
       "      <td>0</td>\n",
       "      <td>0</td>\n",
       "      <td>0</td>\n",
       "      <td>0</td>\n",
       "      <td>0</td>\n",
       "      <td>0</td>\n",
       "    </tr>\n",
       "    <tr>\n",
       "      <th>rag</th>\n",
       "      <td>0</td>\n",
       "      <td>0</td>\n",
       "      <td>0</td>\n",
       "      <td>0</td>\n",
       "      <td>0</td>\n",
       "      <td>0</td>\n",
       "      <td>0</td>\n",
       "      <td>0</td>\n",
       "      <td>0</td>\n",
       "      <td>0</td>\n",
       "      <td>...</td>\n",
       "      <td>0</td>\n",
       "      <td>0</td>\n",
       "      <td>0</td>\n",
       "      <td>0</td>\n",
       "      <td>0</td>\n",
       "      <td>0</td>\n",
       "      <td>0</td>\n",
       "      <td>0</td>\n",
       "      <td>0</td>\n",
       "      <td>0</td>\n",
       "    </tr>\n",
       "    <tr>\n",
       "      <th>rag_ci</th>\n",
       "      <td>0</td>\n",
       "      <td>0</td>\n",
       "      <td>0</td>\n",
       "      <td>0</td>\n",
       "      <td>0</td>\n",
       "      <td>0</td>\n",
       "      <td>0</td>\n",
       "      <td>0</td>\n",
       "      <td>0</td>\n",
       "      <td>0</td>\n",
       "      <td>...</td>\n",
       "      <td>0</td>\n",
       "      <td>0</td>\n",
       "      <td>0</td>\n",
       "      <td>0</td>\n",
       "      <td>0</td>\n",
       "      <td>0</td>\n",
       "      <td>0</td>\n",
       "      <td>0</td>\n",
       "      <td>0</td>\n",
       "      <td>0</td>\n",
       "    </tr>\n",
       "  </tbody>\n",
       "</table>\n",
       "<p>180 rows × 71 columns</p>\n",
       "</div>"
      ],
      "text/plain": [
       "                                         id  name  start_time  run_type  \\\n",
       "experiment_name    model_slug arm_tools                                   \n",
       "confused-intent    gpt4o      base        0     0           0         0   \n",
       "                              ci          0     0           0         0   \n",
       "                              omc         0     0           0         0   \n",
       "                              rag         0     0           0         0   \n",
       "                              rag_ci      0     0           0         0   \n",
       "...                                      ..   ...         ...       ...   \n",
       "yielding-gearshift llama3_1   base        0     0           0         0   \n",
       "                              ci          0     0           0         0   \n",
       "                              omc         0     0           0         0   \n",
       "                              rag         0     0           0         0   \n",
       "                              rag_ci      0     0           0         0   \n",
       "\n",
       "                                         end_time  extra  error  serialized  \\\n",
       "experiment_name    model_slug arm_tools                                       \n",
       "confused-intent    gpt4o      base              0      0      0           0   \n",
       "                              ci                0      0      0           0   \n",
       "                              omc               0      0      0           0   \n",
       "                              rag               0      0      0           0   \n",
       "                              rag_ci            0      0      0           0   \n",
       "...                                           ...    ...    ...         ...   \n",
       "yielding-gearshift llama3_1   base              0      0      0           0   \n",
       "                              ci                0      0      0           0   \n",
       "                              omc               0      0      0           0   \n",
       "                              rag               0      0      0           0   \n",
       "                              rag_ci            0      0      0           0   \n",
       "\n",
       "                                         events  inputs  ...  \\\n",
       "experiment_name    model_slug arm_tools                  ...   \n",
       "confused-intent    gpt4o      base            0       0  ...   \n",
       "                              ci              0       0  ...   \n",
       "                              omc             0       0  ...   \n",
       "                              rag             0       0  ...   \n",
       "                              rag_ci          0       0  ...   \n",
       "...                                         ...     ...  ...   \n",
       "yielding-gearshift llama3_1   base            0       0  ...   \n",
       "                              ci              0       0  ...   \n",
       "                              omc             0       0  ...   \n",
       "                              rag             0       0  ...   \n",
       "                              rag_ci          0       0  ...   \n",
       "\n",
       "                                         output_explanation  \\\n",
       "experiment_name    model_slug arm_tools                       \n",
       "confused-intent    gpt4o      base                        0   \n",
       "                              ci                          0   \n",
       "                              omc                         0   \n",
       "                              rag                         0   \n",
       "                              rag_ci                      0   \n",
       "...                                                     ...   \n",
       "yielding-gearshift llama3_1   base                        0   \n",
       "                              ci                          0   \n",
       "                              omc                         0   \n",
       "                              rag                         0   \n",
       "                              rag_ci                      0   \n",
       "\n",
       "                                         output_able_to_answer  steps  \\\n",
       "experiment_name    model_slug arm_tools                                 \n",
       "confused-intent    gpt4o      base                           0      0   \n",
       "                              ci                             0      0   \n",
       "                              omc                            0      0   \n",
       "                              rag                            0      0   \n",
       "                              rag_ci                         0      0   \n",
       "...                                                        ...    ...   \n",
       "yielding-gearshift llama3_1   base                           0      0   \n",
       "                              ci                             0      0   \n",
       "                              omc                            0      0   \n",
       "                              rag                            0      0   \n",
       "                              rag_ci                         0      0   \n",
       "\n",
       "                                         num_steps  last_tool_call  \\\n",
       "experiment_name    model_slug arm_tools                              \n",
       "confused-intent    gpt4o      base               0               0   \n",
       "                              ci                 0               0   \n",
       "                              omc                0               0   \n",
       "                              rag                0               0   \n",
       "                              rag_ci             0               0   \n",
       "...                                            ...             ...   \n",
       "yielding-gearshift llama3_1   base               0               0   \n",
       "                              ci                 0               0   \n",
       "                              omc                0               0   \n",
       "                              rag                0               0   \n",
       "                              rag_ci             0               0   \n",
       "\n",
       "                                         last_tool_call_name  arm_description  \\\n",
       "experiment_name    model_slug arm_tools                                         \n",
       "confused-intent    gpt4o      base                         0                0   \n",
       "                              ci                           0                0   \n",
       "                              omc                          0                0   \n",
       "                              rag                          0                0   \n",
       "                              rag_ci                       0                0   \n",
       "...                                                      ...              ...   \n",
       "yielding-gearshift llama3_1   base                         0                0   \n",
       "                              ci                           0                0   \n",
       "                              omc                          0                0   \n",
       "                              rag                          0                0   \n",
       "                              rag_ci                       0                0   \n",
       "\n",
       "                                         arm_name  calculator_name  model_name  \n",
       "experiment_name    model_slug arm_tools                                         \n",
       "confused-intent    gpt4o      base              0                0           0  \n",
       "                              ci                0                0           0  \n",
       "                              omc               0                0           0  \n",
       "                              rag               0                0           0  \n",
       "                              rag_ci            0                0           0  \n",
       "...                                           ...              ...         ...  \n",
       "yielding-gearshift llama3_1   base              0                0           0  \n",
       "                              ci                0                0           0  \n",
       "                              omc               0                0           0  \n",
       "                              rag               0                0           0  \n",
       "                              rag_ci            0                0           0  \n",
       "\n",
       "[180 rows x 71 columns]"
      ]
     },
     "execution_count": 82,
     "metadata": {},
     "output_type": "execute_result"
    }
   ],
   "source": [
    "df.arm_name.value_counts()\n",
    "df.experiment_name.value_counts()\n",
    "df.groupby([\"experiment_name\",\"model_slug\",\"arm_tools\"],observed=False).count()"
   ]
  },
  {
   "cell_type": "code",
   "execution_count": null,
   "id": "110d0e010d2f122f",
   "metadata": {
    "ExecuteTime": {
     "end_time": "2024-11-10T14:13:38.528706Z",
     "start_time": "2024-11-10T14:13:38.526889Z"
    }
   },
   "outputs": [],
   "source": []
  },
  {
   "cell_type": "code",
   "execution_count": null,
   "id": "d836a00029fcbc5e",
   "metadata": {
    "ExecuteTime": {
     "end_time": "2024-11-10T14:13:39.006159Z",
     "start_time": "2024-11-10T14:13:39.004283Z"
    }
   },
   "outputs": [],
   "source": []
  },
  {
   "cell_type": "code",
   "execution_count": 83,
   "id": "e6c150d2b41e2d03",
   "metadata": {
    "ExecuteTime": {
     "end_time": "2024-11-10T14:13:40.814473Z",
     "start_time": "2024-11-10T14:13:40.744008Z"
    }
   },
   "outputs": [
    {
     "data": {
      "text/html": [
       "<div>\n",
       "<style scoped>\n",
       "    .dataframe tbody tr th:only-of-type {\n",
       "        vertical-align: middle;\n",
       "    }\n",
       "\n",
       "    .dataframe tbody tr th {\n",
       "        vertical-align: top;\n",
       "    }\n",
       "\n",
       "    .dataframe thead th {\n",
       "        text-align: right;\n",
       "    }\n",
       "</style>\n",
       "<table border=\"1\" class=\"dataframe\">\n",
       "  <thead>\n",
       "    <tr style=\"text-align: right;\">\n",
       "      <th></th>\n",
       "      <th></th>\n",
       "      <th></th>\n",
       "      <th>id</th>\n",
       "      <th>name</th>\n",
       "      <th>start_time</th>\n",
       "      <th>run_type</th>\n",
       "      <th>end_time</th>\n",
       "      <th>extra</th>\n",
       "      <th>error</th>\n",
       "      <th>serialized</th>\n",
       "      <th>events</th>\n",
       "      <th>inputs</th>\n",
       "      <th>...</th>\n",
       "      <th>output_explanation</th>\n",
       "      <th>output_able_to_answer</th>\n",
       "      <th>steps</th>\n",
       "      <th>num_steps</th>\n",
       "      <th>last_tool_call</th>\n",
       "      <th>last_tool_call_name</th>\n",
       "      <th>arm_description</th>\n",
       "      <th>arm_name</th>\n",
       "      <th>calculator_name</th>\n",
       "      <th>model_name</th>\n",
       "    </tr>\n",
       "    <tr>\n",
       "      <th>experiment_name</th>\n",
       "      <th>model_slug</th>\n",
       "      <th>arm_tools</th>\n",
       "      <th></th>\n",
       "      <th></th>\n",
       "      <th></th>\n",
       "      <th></th>\n",
       "      <th></th>\n",
       "      <th></th>\n",
       "      <th></th>\n",
       "      <th></th>\n",
       "      <th></th>\n",
       "      <th></th>\n",
       "      <th></th>\n",
       "      <th></th>\n",
       "      <th></th>\n",
       "      <th></th>\n",
       "      <th></th>\n",
       "      <th></th>\n",
       "      <th></th>\n",
       "      <th></th>\n",
       "      <th></th>\n",
       "      <th></th>\n",
       "      <th></th>\n",
       "    </tr>\n",
       "  </thead>\n",
       "  <tbody>\n",
       "    <tr>\n",
       "      <th>confused-intent</th>\n",
       "      <th>llama3_1</th>\n",
       "      <th>omc</th>\n",
       "      <td>250</td>\n",
       "      <td>250</td>\n",
       "      <td>250</td>\n",
       "      <td>250</td>\n",
       "      <td>250</td>\n",
       "      <td>250</td>\n",
       "      <td>0</td>\n",
       "      <td>0</td>\n",
       "      <td>250</td>\n",
       "      <td>250</td>\n",
       "      <td>...</td>\n",
       "      <td>250</td>\n",
       "      <td>250</td>\n",
       "      <td>250</td>\n",
       "      <td>250</td>\n",
       "      <td>250</td>\n",
       "      <td>250</td>\n",
       "      <td>250</td>\n",
       "      <td>250</td>\n",
       "      <td>250</td>\n",
       "      <td>250</td>\n",
       "    </tr>\n",
       "    <tr>\n",
       "      <th>crazy-textbook</th>\n",
       "      <th>llama3_1</th>\n",
       "      <th>rag_ci</th>\n",
       "      <td>250</td>\n",
       "      <td>250</td>\n",
       "      <td>250</td>\n",
       "      <td>250</td>\n",
       "      <td>250</td>\n",
       "      <td>250</td>\n",
       "      <td>0</td>\n",
       "      <td>0</td>\n",
       "      <td>250</td>\n",
       "      <td>250</td>\n",
       "      <td>...</td>\n",
       "      <td>250</td>\n",
       "      <td>250</td>\n",
       "      <td>250</td>\n",
       "      <td>250</td>\n",
       "      <td>250</td>\n",
       "      <td>250</td>\n",
       "      <td>250</td>\n",
       "      <td>250</td>\n",
       "      <td>250</td>\n",
       "      <td>250</td>\n",
       "    </tr>\n",
       "    <tr>\n",
       "      <th>disagreeable-apple</th>\n",
       "      <th>gpt4o</th>\n",
       "      <th>rag_ci</th>\n",
       "      <td>250</td>\n",
       "      <td>250</td>\n",
       "      <td>250</td>\n",
       "      <td>250</td>\n",
       "      <td>250</td>\n",
       "      <td>250</td>\n",
       "      <td>0</td>\n",
       "      <td>0</td>\n",
       "      <td>250</td>\n",
       "      <td>250</td>\n",
       "      <td>...</td>\n",
       "      <td>250</td>\n",
       "      <td>250</td>\n",
       "      <td>250</td>\n",
       "      <td>250</td>\n",
       "      <td>250</td>\n",
       "      <td>250</td>\n",
       "      <td>250</td>\n",
       "      <td>250</td>\n",
       "      <td>250</td>\n",
       "      <td>250</td>\n",
       "    </tr>\n",
       "    <tr>\n",
       "      <th>efficacious-romaine</th>\n",
       "      <th>gpt4o</th>\n",
       "      <th>rag_ci</th>\n",
       "      <td>250</td>\n",
       "      <td>250</td>\n",
       "      <td>250</td>\n",
       "      <td>250</td>\n",
       "      <td>250</td>\n",
       "      <td>250</td>\n",
       "      <td>0</td>\n",
       "      <td>0</td>\n",
       "      <td>250</td>\n",
       "      <td>250</td>\n",
       "      <td>...</td>\n",
       "      <td>250</td>\n",
       "      <td>250</td>\n",
       "      <td>250</td>\n",
       "      <td>250</td>\n",
       "      <td>250</td>\n",
       "      <td>250</td>\n",
       "      <td>250</td>\n",
       "      <td>250</td>\n",
       "      <td>250</td>\n",
       "      <td>250</td>\n",
       "    </tr>\n",
       "    <tr>\n",
       "      <th rowspan=\"4\" valign=\"top\">goofy-tower</th>\n",
       "      <th rowspan=\"4\" valign=\"top\">llama3_1</th>\n",
       "      <th>base</th>\n",
       "      <td>250</td>\n",
       "      <td>250</td>\n",
       "      <td>250</td>\n",
       "      <td>250</td>\n",
       "      <td>250</td>\n",
       "      <td>250</td>\n",
       "      <td>0</td>\n",
       "      <td>0</td>\n",
       "      <td>250</td>\n",
       "      <td>250</td>\n",
       "      <td>...</td>\n",
       "      <td>226</td>\n",
       "      <td>226</td>\n",
       "      <td>226</td>\n",
       "      <td>250</td>\n",
       "      <td>0</td>\n",
       "      <td>0</td>\n",
       "      <td>250</td>\n",
       "      <td>250</td>\n",
       "      <td>250</td>\n",
       "      <td>250</td>\n",
       "    </tr>\n",
       "    <tr>\n",
       "      <th>ci</th>\n",
       "      <td>250</td>\n",
       "      <td>250</td>\n",
       "      <td>250</td>\n",
       "      <td>250</td>\n",
       "      <td>250</td>\n",
       "      <td>250</td>\n",
       "      <td>0</td>\n",
       "      <td>0</td>\n",
       "      <td>250</td>\n",
       "      <td>250</td>\n",
       "      <td>...</td>\n",
       "      <td>250</td>\n",
       "      <td>250</td>\n",
       "      <td>250</td>\n",
       "      <td>250</td>\n",
       "      <td>250</td>\n",
       "      <td>250</td>\n",
       "      <td>250</td>\n",
       "      <td>250</td>\n",
       "      <td>250</td>\n",
       "      <td>250</td>\n",
       "    </tr>\n",
       "    <tr>\n",
       "      <th>rag</th>\n",
       "      <td>250</td>\n",
       "      <td>250</td>\n",
       "      <td>250</td>\n",
       "      <td>250</td>\n",
       "      <td>250</td>\n",
       "      <td>250</td>\n",
       "      <td>0</td>\n",
       "      <td>0</td>\n",
       "      <td>250</td>\n",
       "      <td>250</td>\n",
       "      <td>...</td>\n",
       "      <td>222</td>\n",
       "      <td>222</td>\n",
       "      <td>222</td>\n",
       "      <td>250</td>\n",
       "      <td>0</td>\n",
       "      <td>0</td>\n",
       "      <td>250</td>\n",
       "      <td>250</td>\n",
       "      <td>250</td>\n",
       "      <td>250</td>\n",
       "    </tr>\n",
       "    <tr>\n",
       "      <th>rag_ci</th>\n",
       "      <td>250</td>\n",
       "      <td>250</td>\n",
       "      <td>250</td>\n",
       "      <td>250</td>\n",
       "      <td>250</td>\n",
       "      <td>250</td>\n",
       "      <td>0</td>\n",
       "      <td>0</td>\n",
       "      <td>250</td>\n",
       "      <td>250</td>\n",
       "      <td>...</td>\n",
       "      <td>250</td>\n",
       "      <td>250</td>\n",
       "      <td>250</td>\n",
       "      <td>250</td>\n",
       "      <td>250</td>\n",
       "      <td>250</td>\n",
       "      <td>250</td>\n",
       "      <td>250</td>\n",
       "      <td>250</td>\n",
       "      <td>250</td>\n",
       "    </tr>\n",
       "    <tr>\n",
       "      <th>hissing-boatload</th>\n",
       "      <th>llama3_1</th>\n",
       "      <th>rag_ci</th>\n",
       "      <td>250</td>\n",
       "      <td>250</td>\n",
       "      <td>250</td>\n",
       "      <td>250</td>\n",
       "      <td>250</td>\n",
       "      <td>250</td>\n",
       "      <td>0</td>\n",
       "      <td>0</td>\n",
       "      <td>250</td>\n",
       "      <td>250</td>\n",
       "      <td>...</td>\n",
       "      <td>250</td>\n",
       "      <td>250</td>\n",
       "      <td>250</td>\n",
       "      <td>250</td>\n",
       "      <td>250</td>\n",
       "      <td>250</td>\n",
       "      <td>250</td>\n",
       "      <td>250</td>\n",
       "      <td>250</td>\n",
       "      <td>250</td>\n",
       "    </tr>\n",
       "    <tr>\n",
       "      <th rowspan=\"5\" valign=\"top\">known-increase</th>\n",
       "      <th>gpt4o</th>\n",
       "      <th>base</th>\n",
       "      <td>250</td>\n",
       "      <td>250</td>\n",
       "      <td>250</td>\n",
       "      <td>250</td>\n",
       "      <td>250</td>\n",
       "      <td>250</td>\n",
       "      <td>0</td>\n",
       "      <td>0</td>\n",
       "      <td>250</td>\n",
       "      <td>250</td>\n",
       "      <td>...</td>\n",
       "      <td>250</td>\n",
       "      <td>250</td>\n",
       "      <td>250</td>\n",
       "      <td>250</td>\n",
       "      <td>0</td>\n",
       "      <td>0</td>\n",
       "      <td>250</td>\n",
       "      <td>250</td>\n",
       "      <td>250</td>\n",
       "      <td>250</td>\n",
       "    </tr>\n",
       "    <tr>\n",
       "      <th rowspan=\"4\" valign=\"top\">llama3_1</th>\n",
       "      <th>base</th>\n",
       "      <td>250</td>\n",
       "      <td>250</td>\n",
       "      <td>250</td>\n",
       "      <td>250</td>\n",
       "      <td>250</td>\n",
       "      <td>250</td>\n",
       "      <td>0</td>\n",
       "      <td>0</td>\n",
       "      <td>250</td>\n",
       "      <td>250</td>\n",
       "      <td>...</td>\n",
       "      <td>229</td>\n",
       "      <td>229</td>\n",
       "      <td>229</td>\n",
       "      <td>250</td>\n",
       "      <td>0</td>\n",
       "      <td>0</td>\n",
       "      <td>250</td>\n",
       "      <td>250</td>\n",
       "      <td>250</td>\n",
       "      <td>250</td>\n",
       "    </tr>\n",
       "    <tr>\n",
       "      <th>ci</th>\n",
       "      <td>250</td>\n",
       "      <td>250</td>\n",
       "      <td>250</td>\n",
       "      <td>250</td>\n",
       "      <td>250</td>\n",
       "      <td>250</td>\n",
       "      <td>0</td>\n",
       "      <td>0</td>\n",
       "      <td>250</td>\n",
       "      <td>250</td>\n",
       "      <td>...</td>\n",
       "      <td>250</td>\n",
       "      <td>250</td>\n",
       "      <td>250</td>\n",
       "      <td>250</td>\n",
       "      <td>250</td>\n",
       "      <td>250</td>\n",
       "      <td>250</td>\n",
       "      <td>250</td>\n",
       "      <td>250</td>\n",
       "      <td>250</td>\n",
       "    </tr>\n",
       "    <tr>\n",
       "      <th>omc</th>\n",
       "      <td>250</td>\n",
       "      <td>250</td>\n",
       "      <td>250</td>\n",
       "      <td>250</td>\n",
       "      <td>250</td>\n",
       "      <td>250</td>\n",
       "      <td>0</td>\n",
       "      <td>0</td>\n",
       "      <td>250</td>\n",
       "      <td>250</td>\n",
       "      <td>...</td>\n",
       "      <td>250</td>\n",
       "      <td>250</td>\n",
       "      <td>250</td>\n",
       "      <td>250</td>\n",
       "      <td>250</td>\n",
       "      <td>250</td>\n",
       "      <td>250</td>\n",
       "      <td>250</td>\n",
       "      <td>250</td>\n",
       "      <td>250</td>\n",
       "    </tr>\n",
       "    <tr>\n",
       "      <th>rag</th>\n",
       "      <td>250</td>\n",
       "      <td>250</td>\n",
       "      <td>250</td>\n",
       "      <td>250</td>\n",
       "      <td>250</td>\n",
       "      <td>250</td>\n",
       "      <td>0</td>\n",
       "      <td>0</td>\n",
       "      <td>250</td>\n",
       "      <td>250</td>\n",
       "      <td>...</td>\n",
       "      <td>224</td>\n",
       "      <td>224</td>\n",
       "      <td>224</td>\n",
       "      <td>250</td>\n",
       "      <td>0</td>\n",
       "      <td>0</td>\n",
       "      <td>250</td>\n",
       "      <td>250</td>\n",
       "      <td>250</td>\n",
       "      <td>250</td>\n",
       "    </tr>\n",
       "    <tr>\n",
       "      <th rowspan=\"5\" valign=\"top\">loud-company</th>\n",
       "      <th rowspan=\"5\" valign=\"top\">gpt4o</th>\n",
       "      <th>base</th>\n",
       "      <td>250</td>\n",
       "      <td>250</td>\n",
       "      <td>250</td>\n",
       "      <td>250</td>\n",
       "      <td>250</td>\n",
       "      <td>250</td>\n",
       "      <td>0</td>\n",
       "      <td>0</td>\n",
       "      <td>250</td>\n",
       "      <td>250</td>\n",
       "      <td>...</td>\n",
       "      <td>250</td>\n",
       "      <td>250</td>\n",
       "      <td>250</td>\n",
       "      <td>250</td>\n",
       "      <td>0</td>\n",
       "      <td>0</td>\n",
       "      <td>250</td>\n",
       "      <td>250</td>\n",
       "      <td>250</td>\n",
       "      <td>250</td>\n",
       "    </tr>\n",
       "    <tr>\n",
       "      <th>ci</th>\n",
       "      <td>250</td>\n",
       "      <td>250</td>\n",
       "      <td>250</td>\n",
       "      <td>250</td>\n",
       "      <td>250</td>\n",
       "      <td>250</td>\n",
       "      <td>0</td>\n",
       "      <td>0</td>\n",
       "      <td>250</td>\n",
       "      <td>250</td>\n",
       "      <td>...</td>\n",
       "      <td>250</td>\n",
       "      <td>250</td>\n",
       "      <td>250</td>\n",
       "      <td>250</td>\n",
       "      <td>250</td>\n",
       "      <td>250</td>\n",
       "      <td>250</td>\n",
       "      <td>250</td>\n",
       "      <td>250</td>\n",
       "      <td>250</td>\n",
       "    </tr>\n",
       "    <tr>\n",
       "      <th>omc</th>\n",
       "      <td>250</td>\n",
       "      <td>250</td>\n",
       "      <td>250</td>\n",
       "      <td>250</td>\n",
       "      <td>250</td>\n",
       "      <td>250</td>\n",
       "      <td>0</td>\n",
       "      <td>0</td>\n",
       "      <td>250</td>\n",
       "      <td>250</td>\n",
       "      <td>...</td>\n",
       "      <td>250</td>\n",
       "      <td>250</td>\n",
       "      <td>250</td>\n",
       "      <td>250</td>\n",
       "      <td>250</td>\n",
       "      <td>250</td>\n",
       "      <td>250</td>\n",
       "      <td>250</td>\n",
       "      <td>250</td>\n",
       "      <td>250</td>\n",
       "    </tr>\n",
       "    <tr>\n",
       "      <th>rag</th>\n",
       "      <td>250</td>\n",
       "      <td>250</td>\n",
       "      <td>250</td>\n",
       "      <td>250</td>\n",
       "      <td>250</td>\n",
       "      <td>250</td>\n",
       "      <td>0</td>\n",
       "      <td>0</td>\n",
       "      <td>250</td>\n",
       "      <td>250</td>\n",
       "      <td>...</td>\n",
       "      <td>250</td>\n",
       "      <td>250</td>\n",
       "      <td>250</td>\n",
       "      <td>250</td>\n",
       "      <td>0</td>\n",
       "      <td>0</td>\n",
       "      <td>250</td>\n",
       "      <td>250</td>\n",
       "      <td>250</td>\n",
       "      <td>250</td>\n",
       "    </tr>\n",
       "    <tr>\n",
       "      <th>rag_ci</th>\n",
       "      <td>250</td>\n",
       "      <td>250</td>\n",
       "      <td>250</td>\n",
       "      <td>250</td>\n",
       "      <td>250</td>\n",
       "      <td>250</td>\n",
       "      <td>0</td>\n",
       "      <td>0</td>\n",
       "      <td>250</td>\n",
       "      <td>250</td>\n",
       "      <td>...</td>\n",
       "      <td>250</td>\n",
       "      <td>250</td>\n",
       "      <td>250</td>\n",
       "      <td>250</td>\n",
       "      <td>250</td>\n",
       "      <td>250</td>\n",
       "      <td>250</td>\n",
       "      <td>250</td>\n",
       "      <td>250</td>\n",
       "      <td>250</td>\n",
       "    </tr>\n",
       "    <tr>\n",
       "      <th rowspan=\"2\" valign=\"top\">melted-cage</th>\n",
       "      <th rowspan=\"2\" valign=\"top\">gpt4o</th>\n",
       "      <th>ci</th>\n",
       "      <td>250</td>\n",
       "      <td>250</td>\n",
       "      <td>250</td>\n",
       "      <td>250</td>\n",
       "      <td>250</td>\n",
       "      <td>250</td>\n",
       "      <td>0</td>\n",
       "      <td>0</td>\n",
       "      <td>250</td>\n",
       "      <td>250</td>\n",
       "      <td>...</td>\n",
       "      <td>250</td>\n",
       "      <td>250</td>\n",
       "      <td>250</td>\n",
       "      <td>250</td>\n",
       "      <td>250</td>\n",
       "      <td>250</td>\n",
       "      <td>250</td>\n",
       "      <td>250</td>\n",
       "      <td>250</td>\n",
       "      <td>250</td>\n",
       "    </tr>\n",
       "    <tr>\n",
       "      <th>rag</th>\n",
       "      <td>250</td>\n",
       "      <td>250</td>\n",
       "      <td>250</td>\n",
       "      <td>250</td>\n",
       "      <td>250</td>\n",
       "      <td>250</td>\n",
       "      <td>0</td>\n",
       "      <td>0</td>\n",
       "      <td>250</td>\n",
       "      <td>250</td>\n",
       "      <td>...</td>\n",
       "      <td>250</td>\n",
       "      <td>250</td>\n",
       "      <td>250</td>\n",
       "      <td>250</td>\n",
       "      <td>0</td>\n",
       "      <td>0</td>\n",
       "      <td>250</td>\n",
       "      <td>250</td>\n",
       "      <td>250</td>\n",
       "      <td>250</td>\n",
       "    </tr>\n",
       "    <tr>\n",
       "      <th>overt-reclamation</th>\n",
       "      <th>llama3_1</th>\n",
       "      <th>ci</th>\n",
       "      <td>250</td>\n",
       "      <td>250</td>\n",
       "      <td>250</td>\n",
       "      <td>250</td>\n",
       "      <td>250</td>\n",
       "      <td>250</td>\n",
       "      <td>0</td>\n",
       "      <td>0</td>\n",
       "      <td>250</td>\n",
       "      <td>250</td>\n",
       "      <td>...</td>\n",
       "      <td>250</td>\n",
       "      <td>250</td>\n",
       "      <td>250</td>\n",
       "      <td>250</td>\n",
       "      <td>250</td>\n",
       "      <td>250</td>\n",
       "      <td>250</td>\n",
       "      <td>250</td>\n",
       "      <td>250</td>\n",
       "      <td>250</td>\n",
       "    </tr>\n",
       "    <tr>\n",
       "      <th>pastoral-constitution</th>\n",
       "      <th>gpt4o</th>\n",
       "      <th>omc</th>\n",
       "      <td>250</td>\n",
       "      <td>250</td>\n",
       "      <td>250</td>\n",
       "      <td>250</td>\n",
       "      <td>250</td>\n",
       "      <td>250</td>\n",
       "      <td>0</td>\n",
       "      <td>0</td>\n",
       "      <td>250</td>\n",
       "      <td>250</td>\n",
       "      <td>...</td>\n",
       "      <td>250</td>\n",
       "      <td>250</td>\n",
       "      <td>250</td>\n",
       "      <td>250</td>\n",
       "      <td>250</td>\n",
       "      <td>250</td>\n",
       "      <td>250</td>\n",
       "      <td>250</td>\n",
       "      <td>250</td>\n",
       "      <td>250</td>\n",
       "    </tr>\n",
       "    <tr>\n",
       "      <th rowspan=\"2\" valign=\"top\">productive-independent</th>\n",
       "      <th rowspan=\"2\" valign=\"top\">llama3_1</th>\n",
       "      <th>base</th>\n",
       "      <td>250</td>\n",
       "      <td>250</td>\n",
       "      <td>250</td>\n",
       "      <td>250</td>\n",
       "      <td>250</td>\n",
       "      <td>250</td>\n",
       "      <td>0</td>\n",
       "      <td>0</td>\n",
       "      <td>250</td>\n",
       "      <td>250</td>\n",
       "      <td>...</td>\n",
       "      <td>224</td>\n",
       "      <td>224</td>\n",
       "      <td>224</td>\n",
       "      <td>250</td>\n",
       "      <td>0</td>\n",
       "      <td>0</td>\n",
       "      <td>250</td>\n",
       "      <td>250</td>\n",
       "      <td>250</td>\n",
       "      <td>250</td>\n",
       "    </tr>\n",
       "    <tr>\n",
       "      <th>rag</th>\n",
       "      <td>250</td>\n",
       "      <td>250</td>\n",
       "      <td>250</td>\n",
       "      <td>250</td>\n",
       "      <td>250</td>\n",
       "      <td>250</td>\n",
       "      <td>0</td>\n",
       "      <td>0</td>\n",
       "      <td>250</td>\n",
       "      <td>250</td>\n",
       "      <td>...</td>\n",
       "      <td>226</td>\n",
       "      <td>226</td>\n",
       "      <td>226</td>\n",
       "      <td>250</td>\n",
       "      <td>0</td>\n",
       "      <td>0</td>\n",
       "      <td>250</td>\n",
       "      <td>250</td>\n",
       "      <td>250</td>\n",
       "      <td>250</td>\n",
       "    </tr>\n",
       "    <tr>\n",
       "      <th rowspan=\"5\" valign=\"top\">proud-yam</th>\n",
       "      <th rowspan=\"4\" valign=\"top\">gpt4o</th>\n",
       "      <th>base</th>\n",
       "      <td>250</td>\n",
       "      <td>250</td>\n",
       "      <td>250</td>\n",
       "      <td>250</td>\n",
       "      <td>250</td>\n",
       "      <td>250</td>\n",
       "      <td>0</td>\n",
       "      <td>0</td>\n",
       "      <td>250</td>\n",
       "      <td>250</td>\n",
       "      <td>...</td>\n",
       "      <td>250</td>\n",
       "      <td>250</td>\n",
       "      <td>250</td>\n",
       "      <td>250</td>\n",
       "      <td>0</td>\n",
       "      <td>0</td>\n",
       "      <td>250</td>\n",
       "      <td>250</td>\n",
       "      <td>250</td>\n",
       "      <td>250</td>\n",
       "    </tr>\n",
       "    <tr>\n",
       "      <th>ci</th>\n",
       "      <td>250</td>\n",
       "      <td>250</td>\n",
       "      <td>250</td>\n",
       "      <td>250</td>\n",
       "      <td>250</td>\n",
       "      <td>250</td>\n",
       "      <td>0</td>\n",
       "      <td>0</td>\n",
       "      <td>250</td>\n",
       "      <td>250</td>\n",
       "      <td>...</td>\n",
       "      <td>250</td>\n",
       "      <td>250</td>\n",
       "      <td>250</td>\n",
       "      <td>250</td>\n",
       "      <td>250</td>\n",
       "      <td>250</td>\n",
       "      <td>250</td>\n",
       "      <td>250</td>\n",
       "      <td>250</td>\n",
       "      <td>250</td>\n",
       "    </tr>\n",
       "    <tr>\n",
       "      <th>omc</th>\n",
       "      <td>250</td>\n",
       "      <td>250</td>\n",
       "      <td>250</td>\n",
       "      <td>250</td>\n",
       "      <td>250</td>\n",
       "      <td>250</td>\n",
       "      <td>0</td>\n",
       "      <td>0</td>\n",
       "      <td>250</td>\n",
       "      <td>250</td>\n",
       "      <td>...</td>\n",
       "      <td>250</td>\n",
       "      <td>250</td>\n",
       "      <td>250</td>\n",
       "      <td>250</td>\n",
       "      <td>250</td>\n",
       "      <td>250</td>\n",
       "      <td>250</td>\n",
       "      <td>250</td>\n",
       "      <td>250</td>\n",
       "      <td>250</td>\n",
       "    </tr>\n",
       "    <tr>\n",
       "      <th>rag</th>\n",
       "      <td>250</td>\n",
       "      <td>250</td>\n",
       "      <td>250</td>\n",
       "      <td>250</td>\n",
       "      <td>250</td>\n",
       "      <td>250</td>\n",
       "      <td>0</td>\n",
       "      <td>0</td>\n",
       "      <td>250</td>\n",
       "      <td>250</td>\n",
       "      <td>...</td>\n",
       "      <td>250</td>\n",
       "      <td>250</td>\n",
       "      <td>250</td>\n",
       "      <td>250</td>\n",
       "      <td>0</td>\n",
       "      <td>0</td>\n",
       "      <td>250</td>\n",
       "      <td>250</td>\n",
       "      <td>250</td>\n",
       "      <td>250</td>\n",
       "    </tr>\n",
       "    <tr>\n",
       "      <th>llama3_1</th>\n",
       "      <th>omc</th>\n",
       "      <td>250</td>\n",
       "      <td>250</td>\n",
       "      <td>250</td>\n",
       "      <td>250</td>\n",
       "      <td>250</td>\n",
       "      <td>250</td>\n",
       "      <td>0</td>\n",
       "      <td>0</td>\n",
       "      <td>250</td>\n",
       "      <td>250</td>\n",
       "      <td>...</td>\n",
       "      <td>250</td>\n",
       "      <td>250</td>\n",
       "      <td>250</td>\n",
       "      <td>250</td>\n",
       "      <td>250</td>\n",
       "      <td>250</td>\n",
       "      <td>250</td>\n",
       "      <td>250</td>\n",
       "      <td>250</td>\n",
       "      <td>250</td>\n",
       "    </tr>\n",
       "    <tr>\n",
       "      <th rowspan=\"3\" valign=\"top\">puny-gasket</th>\n",
       "      <th rowspan=\"3\" valign=\"top\">llama3_1</th>\n",
       "      <th>base</th>\n",
       "      <td>250</td>\n",
       "      <td>250</td>\n",
       "      <td>250</td>\n",
       "      <td>250</td>\n",
       "      <td>250</td>\n",
       "      <td>250</td>\n",
       "      <td>0</td>\n",
       "      <td>0</td>\n",
       "      <td>250</td>\n",
       "      <td>250</td>\n",
       "      <td>...</td>\n",
       "      <td>224</td>\n",
       "      <td>224</td>\n",
       "      <td>224</td>\n",
       "      <td>250</td>\n",
       "      <td>0</td>\n",
       "      <td>0</td>\n",
       "      <td>250</td>\n",
       "      <td>250</td>\n",
       "      <td>250</td>\n",
       "      <td>250</td>\n",
       "    </tr>\n",
       "    <tr>\n",
       "      <th>ci</th>\n",
       "      <td>250</td>\n",
       "      <td>250</td>\n",
       "      <td>250</td>\n",
       "      <td>250</td>\n",
       "      <td>250</td>\n",
       "      <td>250</td>\n",
       "      <td>0</td>\n",
       "      <td>0</td>\n",
       "      <td>250</td>\n",
       "      <td>250</td>\n",
       "      <td>...</td>\n",
       "      <td>250</td>\n",
       "      <td>250</td>\n",
       "      <td>250</td>\n",
       "      <td>250</td>\n",
       "      <td>250</td>\n",
       "      <td>250</td>\n",
       "      <td>250</td>\n",
       "      <td>250</td>\n",
       "      <td>250</td>\n",
       "      <td>250</td>\n",
       "    </tr>\n",
       "    <tr>\n",
       "      <th>rag</th>\n",
       "      <td>250</td>\n",
       "      <td>250</td>\n",
       "      <td>250</td>\n",
       "      <td>250</td>\n",
       "      <td>250</td>\n",
       "      <td>250</td>\n",
       "      <td>0</td>\n",
       "      <td>0</td>\n",
       "      <td>250</td>\n",
       "      <td>250</td>\n",
       "      <td>...</td>\n",
       "      <td>217</td>\n",
       "      <td>217</td>\n",
       "      <td>217</td>\n",
       "      <td>250</td>\n",
       "      <td>0</td>\n",
       "      <td>0</td>\n",
       "      <td>250</td>\n",
       "      <td>250</td>\n",
       "      <td>250</td>\n",
       "      <td>250</td>\n",
       "    </tr>\n",
       "    <tr>\n",
       "      <th rowspan=\"4\" valign=\"top\">quarrelsome-pinkie</th>\n",
       "      <th rowspan=\"4\" valign=\"top\">gpt4o</th>\n",
       "      <th>base</th>\n",
       "      <td>250</td>\n",
       "      <td>250</td>\n",
       "      <td>250</td>\n",
       "      <td>250</td>\n",
       "      <td>250</td>\n",
       "      <td>250</td>\n",
       "      <td>0</td>\n",
       "      <td>0</td>\n",
       "      <td>250</td>\n",
       "      <td>250</td>\n",
       "      <td>...</td>\n",
       "      <td>250</td>\n",
       "      <td>250</td>\n",
       "      <td>250</td>\n",
       "      <td>250</td>\n",
       "      <td>0</td>\n",
       "      <td>0</td>\n",
       "      <td>250</td>\n",
       "      <td>250</td>\n",
       "      <td>250</td>\n",
       "      <td>250</td>\n",
       "    </tr>\n",
       "    <tr>\n",
       "      <th>ci</th>\n",
       "      <td>250</td>\n",
       "      <td>250</td>\n",
       "      <td>250</td>\n",
       "      <td>250</td>\n",
       "      <td>250</td>\n",
       "      <td>250</td>\n",
       "      <td>0</td>\n",
       "      <td>0</td>\n",
       "      <td>250</td>\n",
       "      <td>250</td>\n",
       "      <td>...</td>\n",
       "      <td>250</td>\n",
       "      <td>250</td>\n",
       "      <td>250</td>\n",
       "      <td>250</td>\n",
       "      <td>250</td>\n",
       "      <td>250</td>\n",
       "      <td>250</td>\n",
       "      <td>250</td>\n",
       "      <td>250</td>\n",
       "      <td>250</td>\n",
       "    </tr>\n",
       "    <tr>\n",
       "      <th>omc</th>\n",
       "      <td>250</td>\n",
       "      <td>250</td>\n",
       "      <td>250</td>\n",
       "      <td>250</td>\n",
       "      <td>250</td>\n",
       "      <td>250</td>\n",
       "      <td>0</td>\n",
       "      <td>0</td>\n",
       "      <td>250</td>\n",
       "      <td>250</td>\n",
       "      <td>...</td>\n",
       "      <td>250</td>\n",
       "      <td>250</td>\n",
       "      <td>250</td>\n",
       "      <td>250</td>\n",
       "      <td>250</td>\n",
       "      <td>250</td>\n",
       "      <td>250</td>\n",
       "      <td>250</td>\n",
       "      <td>250</td>\n",
       "      <td>250</td>\n",
       "    </tr>\n",
       "    <tr>\n",
       "      <th>rag</th>\n",
       "      <td>250</td>\n",
       "      <td>250</td>\n",
       "      <td>250</td>\n",
       "      <td>250</td>\n",
       "      <td>250</td>\n",
       "      <td>250</td>\n",
       "      <td>0</td>\n",
       "      <td>0</td>\n",
       "      <td>250</td>\n",
       "      <td>250</td>\n",
       "      <td>...</td>\n",
       "      <td>250</td>\n",
       "      <td>250</td>\n",
       "      <td>250</td>\n",
       "      <td>250</td>\n",
       "      <td>0</td>\n",
       "      <td>0</td>\n",
       "      <td>250</td>\n",
       "      <td>250</td>\n",
       "      <td>250</td>\n",
       "      <td>250</td>\n",
       "    </tr>\n",
       "    <tr>\n",
       "      <th>sedate-bidding</th>\n",
       "      <th>llama3_1</th>\n",
       "      <th>omc</th>\n",
       "      <td>250</td>\n",
       "      <td>250</td>\n",
       "      <td>250</td>\n",
       "      <td>250</td>\n",
       "      <td>250</td>\n",
       "      <td>250</td>\n",
       "      <td>0</td>\n",
       "      <td>0</td>\n",
       "      <td>250</td>\n",
       "      <td>250</td>\n",
       "      <td>...</td>\n",
       "      <td>250</td>\n",
       "      <td>250</td>\n",
       "      <td>250</td>\n",
       "      <td>250</td>\n",
       "      <td>250</td>\n",
       "      <td>250</td>\n",
       "      <td>250</td>\n",
       "      <td>250</td>\n",
       "      <td>250</td>\n",
       "      <td>250</td>\n",
       "    </tr>\n",
       "    <tr>\n",
       "      <th>successful-angina</th>\n",
       "      <th>llama3_1</th>\n",
       "      <th>rag_ci</th>\n",
       "      <td>250</td>\n",
       "      <td>250</td>\n",
       "      <td>250</td>\n",
       "      <td>250</td>\n",
       "      <td>250</td>\n",
       "      <td>250</td>\n",
       "      <td>0</td>\n",
       "      <td>0</td>\n",
       "      <td>250</td>\n",
       "      <td>250</td>\n",
       "      <td>...</td>\n",
       "      <td>250</td>\n",
       "      <td>250</td>\n",
       "      <td>250</td>\n",
       "      <td>250</td>\n",
       "      <td>250</td>\n",
       "      <td>250</td>\n",
       "      <td>250</td>\n",
       "      <td>250</td>\n",
       "      <td>250</td>\n",
       "      <td>250</td>\n",
       "    </tr>\n",
       "    <tr>\n",
       "      <th>yielding-gearshift</th>\n",
       "      <th>gpt4o</th>\n",
       "      <th>rag_ci</th>\n",
       "      <td>250</td>\n",
       "      <td>250</td>\n",
       "      <td>250</td>\n",
       "      <td>250</td>\n",
       "      <td>250</td>\n",
       "      <td>250</td>\n",
       "      <td>0</td>\n",
       "      <td>0</td>\n",
       "      <td>250</td>\n",
       "      <td>250</td>\n",
       "      <td>...</td>\n",
       "      <td>250</td>\n",
       "      <td>250</td>\n",
       "      <td>250</td>\n",
       "      <td>250</td>\n",
       "      <td>250</td>\n",
       "      <td>250</td>\n",
       "      <td>250</td>\n",
       "      <td>250</td>\n",
       "      <td>250</td>\n",
       "      <td>250</td>\n",
       "    </tr>\n",
       "  </tbody>\n",
       "</table>\n",
       "<p>40 rows × 71 columns</p>\n",
       "</div>"
      ],
      "text/plain": [
       "                                              id  name  start_time  run_type  \\\n",
       "experiment_name        model_slug arm_tools                                    \n",
       "confused-intent        llama3_1   omc        250   250         250       250   \n",
       "crazy-textbook         llama3_1   rag_ci     250   250         250       250   \n",
       "disagreeable-apple     gpt4o      rag_ci     250   250         250       250   \n",
       "efficacious-romaine    gpt4o      rag_ci     250   250         250       250   \n",
       "goofy-tower            llama3_1   base       250   250         250       250   \n",
       "                                  ci         250   250         250       250   \n",
       "                                  rag        250   250         250       250   \n",
       "                                  rag_ci     250   250         250       250   \n",
       "hissing-boatload       llama3_1   rag_ci     250   250         250       250   \n",
       "known-increase         gpt4o      base       250   250         250       250   \n",
       "                       llama3_1   base       250   250         250       250   \n",
       "                                  ci         250   250         250       250   \n",
       "                                  omc        250   250         250       250   \n",
       "                                  rag        250   250         250       250   \n",
       "loud-company           gpt4o      base       250   250         250       250   \n",
       "                                  ci         250   250         250       250   \n",
       "                                  omc        250   250         250       250   \n",
       "                                  rag        250   250         250       250   \n",
       "                                  rag_ci     250   250         250       250   \n",
       "melted-cage            gpt4o      ci         250   250         250       250   \n",
       "                                  rag        250   250         250       250   \n",
       "overt-reclamation      llama3_1   ci         250   250         250       250   \n",
       "pastoral-constitution  gpt4o      omc        250   250         250       250   \n",
       "productive-independent llama3_1   base       250   250         250       250   \n",
       "                                  rag        250   250         250       250   \n",
       "proud-yam              gpt4o      base       250   250         250       250   \n",
       "                                  ci         250   250         250       250   \n",
       "                                  omc        250   250         250       250   \n",
       "                                  rag        250   250         250       250   \n",
       "                       llama3_1   omc        250   250         250       250   \n",
       "puny-gasket            llama3_1   base       250   250         250       250   \n",
       "                                  ci         250   250         250       250   \n",
       "                                  rag        250   250         250       250   \n",
       "quarrelsome-pinkie     gpt4o      base       250   250         250       250   \n",
       "                                  ci         250   250         250       250   \n",
       "                                  omc        250   250         250       250   \n",
       "                                  rag        250   250         250       250   \n",
       "sedate-bidding         llama3_1   omc        250   250         250       250   \n",
       "successful-angina      llama3_1   rag_ci     250   250         250       250   \n",
       "yielding-gearshift     gpt4o      rag_ci     250   250         250       250   \n",
       "\n",
       "                                             end_time  extra  error  \\\n",
       "experiment_name        model_slug arm_tools                           \n",
       "confused-intent        llama3_1   omc             250    250      0   \n",
       "crazy-textbook         llama3_1   rag_ci          250    250      0   \n",
       "disagreeable-apple     gpt4o      rag_ci          250    250      0   \n",
       "efficacious-romaine    gpt4o      rag_ci          250    250      0   \n",
       "goofy-tower            llama3_1   base            250    250      0   \n",
       "                                  ci              250    250      0   \n",
       "                                  rag             250    250      0   \n",
       "                                  rag_ci          250    250      0   \n",
       "hissing-boatload       llama3_1   rag_ci          250    250      0   \n",
       "known-increase         gpt4o      base            250    250      0   \n",
       "                       llama3_1   base            250    250      0   \n",
       "                                  ci              250    250      0   \n",
       "                                  omc             250    250      0   \n",
       "                                  rag             250    250      0   \n",
       "loud-company           gpt4o      base            250    250      0   \n",
       "                                  ci              250    250      0   \n",
       "                                  omc             250    250      0   \n",
       "                                  rag             250    250      0   \n",
       "                                  rag_ci          250    250      0   \n",
       "melted-cage            gpt4o      ci              250    250      0   \n",
       "                                  rag             250    250      0   \n",
       "overt-reclamation      llama3_1   ci              250    250      0   \n",
       "pastoral-constitution  gpt4o      omc             250    250      0   \n",
       "productive-independent llama3_1   base            250    250      0   \n",
       "                                  rag             250    250      0   \n",
       "proud-yam              gpt4o      base            250    250      0   \n",
       "                                  ci              250    250      0   \n",
       "                                  omc             250    250      0   \n",
       "                                  rag             250    250      0   \n",
       "                       llama3_1   omc             250    250      0   \n",
       "puny-gasket            llama3_1   base            250    250      0   \n",
       "                                  ci              250    250      0   \n",
       "                                  rag             250    250      0   \n",
       "quarrelsome-pinkie     gpt4o      base            250    250      0   \n",
       "                                  ci              250    250      0   \n",
       "                                  omc             250    250      0   \n",
       "                                  rag             250    250      0   \n",
       "sedate-bidding         llama3_1   omc             250    250      0   \n",
       "successful-angina      llama3_1   rag_ci          250    250      0   \n",
       "yielding-gearshift     gpt4o      rag_ci          250    250      0   \n",
       "\n",
       "                                             serialized  events  inputs  ...  \\\n",
       "experiment_name        model_slug arm_tools                              ...   \n",
       "confused-intent        llama3_1   omc                 0     250     250  ...   \n",
       "crazy-textbook         llama3_1   rag_ci              0     250     250  ...   \n",
       "disagreeable-apple     gpt4o      rag_ci              0     250     250  ...   \n",
       "efficacious-romaine    gpt4o      rag_ci              0     250     250  ...   \n",
       "goofy-tower            llama3_1   base                0     250     250  ...   \n",
       "                                  ci                  0     250     250  ...   \n",
       "                                  rag                 0     250     250  ...   \n",
       "                                  rag_ci              0     250     250  ...   \n",
       "hissing-boatload       llama3_1   rag_ci              0     250     250  ...   \n",
       "known-increase         gpt4o      base                0     250     250  ...   \n",
       "                       llama3_1   base                0     250     250  ...   \n",
       "                                  ci                  0     250     250  ...   \n",
       "                                  omc                 0     250     250  ...   \n",
       "                                  rag                 0     250     250  ...   \n",
       "loud-company           gpt4o      base                0     250     250  ...   \n",
       "                                  ci                  0     250     250  ...   \n",
       "                                  omc                 0     250     250  ...   \n",
       "                                  rag                 0     250     250  ...   \n",
       "                                  rag_ci              0     250     250  ...   \n",
       "melted-cage            gpt4o      ci                  0     250     250  ...   \n",
       "                                  rag                 0     250     250  ...   \n",
       "overt-reclamation      llama3_1   ci                  0     250     250  ...   \n",
       "pastoral-constitution  gpt4o      omc                 0     250     250  ...   \n",
       "productive-independent llama3_1   base                0     250     250  ...   \n",
       "                                  rag                 0     250     250  ...   \n",
       "proud-yam              gpt4o      base                0     250     250  ...   \n",
       "                                  ci                  0     250     250  ...   \n",
       "                                  omc                 0     250     250  ...   \n",
       "                                  rag                 0     250     250  ...   \n",
       "                       llama3_1   omc                 0     250     250  ...   \n",
       "puny-gasket            llama3_1   base                0     250     250  ...   \n",
       "                                  ci                  0     250     250  ...   \n",
       "                                  rag                 0     250     250  ...   \n",
       "quarrelsome-pinkie     gpt4o      base                0     250     250  ...   \n",
       "                                  ci                  0     250     250  ...   \n",
       "                                  omc                 0     250     250  ...   \n",
       "                                  rag                 0     250     250  ...   \n",
       "sedate-bidding         llama3_1   omc                 0     250     250  ...   \n",
       "successful-angina      llama3_1   rag_ci              0     250     250  ...   \n",
       "yielding-gearshift     gpt4o      rag_ci              0     250     250  ...   \n",
       "\n",
       "                                             output_explanation  \\\n",
       "experiment_name        model_slug arm_tools                       \n",
       "confused-intent        llama3_1   omc                       250   \n",
       "crazy-textbook         llama3_1   rag_ci                    250   \n",
       "disagreeable-apple     gpt4o      rag_ci                    250   \n",
       "efficacious-romaine    gpt4o      rag_ci                    250   \n",
       "goofy-tower            llama3_1   base                      226   \n",
       "                                  ci                        250   \n",
       "                                  rag                       222   \n",
       "                                  rag_ci                    250   \n",
       "hissing-boatload       llama3_1   rag_ci                    250   \n",
       "known-increase         gpt4o      base                      250   \n",
       "                       llama3_1   base                      229   \n",
       "                                  ci                        250   \n",
       "                                  omc                       250   \n",
       "                                  rag                       224   \n",
       "loud-company           gpt4o      base                      250   \n",
       "                                  ci                        250   \n",
       "                                  omc                       250   \n",
       "                                  rag                       250   \n",
       "                                  rag_ci                    250   \n",
       "melted-cage            gpt4o      ci                        250   \n",
       "                                  rag                       250   \n",
       "overt-reclamation      llama3_1   ci                        250   \n",
       "pastoral-constitution  gpt4o      omc                       250   \n",
       "productive-independent llama3_1   base                      224   \n",
       "                                  rag                       226   \n",
       "proud-yam              gpt4o      base                      250   \n",
       "                                  ci                        250   \n",
       "                                  omc                       250   \n",
       "                                  rag                       250   \n",
       "                       llama3_1   omc                       250   \n",
       "puny-gasket            llama3_1   base                      224   \n",
       "                                  ci                        250   \n",
       "                                  rag                       217   \n",
       "quarrelsome-pinkie     gpt4o      base                      250   \n",
       "                                  ci                        250   \n",
       "                                  omc                       250   \n",
       "                                  rag                       250   \n",
       "sedate-bidding         llama3_1   omc                       250   \n",
       "successful-angina      llama3_1   rag_ci                    250   \n",
       "yielding-gearshift     gpt4o      rag_ci                    250   \n",
       "\n",
       "                                             output_able_to_answer  steps  \\\n",
       "experiment_name        model_slug arm_tools                                 \n",
       "confused-intent        llama3_1   omc                          250    250   \n",
       "crazy-textbook         llama3_1   rag_ci                       250    250   \n",
       "disagreeable-apple     gpt4o      rag_ci                       250    250   \n",
       "efficacious-romaine    gpt4o      rag_ci                       250    250   \n",
       "goofy-tower            llama3_1   base                         226    226   \n",
       "                                  ci                           250    250   \n",
       "                                  rag                          222    222   \n",
       "                                  rag_ci                       250    250   \n",
       "hissing-boatload       llama3_1   rag_ci                       250    250   \n",
       "known-increase         gpt4o      base                         250    250   \n",
       "                       llama3_1   base                         229    229   \n",
       "                                  ci                           250    250   \n",
       "                                  omc                          250    250   \n",
       "                                  rag                          224    224   \n",
       "loud-company           gpt4o      base                         250    250   \n",
       "                                  ci                           250    250   \n",
       "                                  omc                          250    250   \n",
       "                                  rag                          250    250   \n",
       "                                  rag_ci                       250    250   \n",
       "melted-cage            gpt4o      ci                           250    250   \n",
       "                                  rag                          250    250   \n",
       "overt-reclamation      llama3_1   ci                           250    250   \n",
       "pastoral-constitution  gpt4o      omc                          250    250   \n",
       "productive-independent llama3_1   base                         224    224   \n",
       "                                  rag                          226    226   \n",
       "proud-yam              gpt4o      base                         250    250   \n",
       "                                  ci                           250    250   \n",
       "                                  omc                          250    250   \n",
       "                                  rag                          250    250   \n",
       "                       llama3_1   omc                          250    250   \n",
       "puny-gasket            llama3_1   base                         224    224   \n",
       "                                  ci                           250    250   \n",
       "                                  rag                          217    217   \n",
       "quarrelsome-pinkie     gpt4o      base                         250    250   \n",
       "                                  ci                           250    250   \n",
       "                                  omc                          250    250   \n",
       "                                  rag                          250    250   \n",
       "sedate-bidding         llama3_1   omc                          250    250   \n",
       "successful-angina      llama3_1   rag_ci                       250    250   \n",
       "yielding-gearshift     gpt4o      rag_ci                       250    250   \n",
       "\n",
       "                                             num_steps  last_tool_call  \\\n",
       "experiment_name        model_slug arm_tools                              \n",
       "confused-intent        llama3_1   omc              250             250   \n",
       "crazy-textbook         llama3_1   rag_ci           250             250   \n",
       "disagreeable-apple     gpt4o      rag_ci           250             250   \n",
       "efficacious-romaine    gpt4o      rag_ci           250             250   \n",
       "goofy-tower            llama3_1   base             250               0   \n",
       "                                  ci               250             250   \n",
       "                                  rag              250               0   \n",
       "                                  rag_ci           250             250   \n",
       "hissing-boatload       llama3_1   rag_ci           250             250   \n",
       "known-increase         gpt4o      base             250               0   \n",
       "                       llama3_1   base             250               0   \n",
       "                                  ci               250             250   \n",
       "                                  omc              250             250   \n",
       "                                  rag              250               0   \n",
       "loud-company           gpt4o      base             250               0   \n",
       "                                  ci               250             250   \n",
       "                                  omc              250             250   \n",
       "                                  rag              250               0   \n",
       "                                  rag_ci           250             250   \n",
       "melted-cage            gpt4o      ci               250             250   \n",
       "                                  rag              250               0   \n",
       "overt-reclamation      llama3_1   ci               250             250   \n",
       "pastoral-constitution  gpt4o      omc              250             250   \n",
       "productive-independent llama3_1   base             250               0   \n",
       "                                  rag              250               0   \n",
       "proud-yam              gpt4o      base             250               0   \n",
       "                                  ci               250             250   \n",
       "                                  omc              250             250   \n",
       "                                  rag              250               0   \n",
       "                       llama3_1   omc              250             250   \n",
       "puny-gasket            llama3_1   base             250               0   \n",
       "                                  ci               250             250   \n",
       "                                  rag              250               0   \n",
       "quarrelsome-pinkie     gpt4o      base             250               0   \n",
       "                                  ci               250             250   \n",
       "                                  omc              250             250   \n",
       "                                  rag              250               0   \n",
       "sedate-bidding         llama3_1   omc              250             250   \n",
       "successful-angina      llama3_1   rag_ci           250             250   \n",
       "yielding-gearshift     gpt4o      rag_ci           250             250   \n",
       "\n",
       "                                             last_tool_call_name  \\\n",
       "experiment_name        model_slug arm_tools                        \n",
       "confused-intent        llama3_1   omc                        250   \n",
       "crazy-textbook         llama3_1   rag_ci                     250   \n",
       "disagreeable-apple     gpt4o      rag_ci                     250   \n",
       "efficacious-romaine    gpt4o      rag_ci                     250   \n",
       "goofy-tower            llama3_1   base                         0   \n",
       "                                  ci                         250   \n",
       "                                  rag                          0   \n",
       "                                  rag_ci                     250   \n",
       "hissing-boatload       llama3_1   rag_ci                     250   \n",
       "known-increase         gpt4o      base                         0   \n",
       "                       llama3_1   base                         0   \n",
       "                                  ci                         250   \n",
       "                                  omc                        250   \n",
       "                                  rag                          0   \n",
       "loud-company           gpt4o      base                         0   \n",
       "                                  ci                         250   \n",
       "                                  omc                        250   \n",
       "                                  rag                          0   \n",
       "                                  rag_ci                     250   \n",
       "melted-cage            gpt4o      ci                         250   \n",
       "                                  rag                          0   \n",
       "overt-reclamation      llama3_1   ci                         250   \n",
       "pastoral-constitution  gpt4o      omc                        250   \n",
       "productive-independent llama3_1   base                         0   \n",
       "                                  rag                          0   \n",
       "proud-yam              gpt4o      base                         0   \n",
       "                                  ci                         250   \n",
       "                                  omc                        250   \n",
       "                                  rag                          0   \n",
       "                       llama3_1   omc                        250   \n",
       "puny-gasket            llama3_1   base                         0   \n",
       "                                  ci                         250   \n",
       "                                  rag                          0   \n",
       "quarrelsome-pinkie     gpt4o      base                         0   \n",
       "                                  ci                         250   \n",
       "                                  omc                        250   \n",
       "                                  rag                          0   \n",
       "sedate-bidding         llama3_1   omc                        250   \n",
       "successful-angina      llama3_1   rag_ci                     250   \n",
       "yielding-gearshift     gpt4o      rag_ci                     250   \n",
       "\n",
       "                                             arm_description  arm_name  \\\n",
       "experiment_name        model_slug arm_tools                              \n",
       "confused-intent        llama3_1   omc                    250       250   \n",
       "crazy-textbook         llama3_1   rag_ci                 250       250   \n",
       "disagreeable-apple     gpt4o      rag_ci                 250       250   \n",
       "efficacious-romaine    gpt4o      rag_ci                 250       250   \n",
       "goofy-tower            llama3_1   base                   250       250   \n",
       "                                  ci                     250       250   \n",
       "                                  rag                    250       250   \n",
       "                                  rag_ci                 250       250   \n",
       "hissing-boatload       llama3_1   rag_ci                 250       250   \n",
       "known-increase         gpt4o      base                   250       250   \n",
       "                       llama3_1   base                   250       250   \n",
       "                                  ci                     250       250   \n",
       "                                  omc                    250       250   \n",
       "                                  rag                    250       250   \n",
       "loud-company           gpt4o      base                   250       250   \n",
       "                                  ci                     250       250   \n",
       "                                  omc                    250       250   \n",
       "                                  rag                    250       250   \n",
       "                                  rag_ci                 250       250   \n",
       "melted-cage            gpt4o      ci                     250       250   \n",
       "                                  rag                    250       250   \n",
       "overt-reclamation      llama3_1   ci                     250       250   \n",
       "pastoral-constitution  gpt4o      omc                    250       250   \n",
       "productive-independent llama3_1   base                   250       250   \n",
       "                                  rag                    250       250   \n",
       "proud-yam              gpt4o      base                   250       250   \n",
       "                                  ci                     250       250   \n",
       "                                  omc                    250       250   \n",
       "                                  rag                    250       250   \n",
       "                       llama3_1   omc                    250       250   \n",
       "puny-gasket            llama3_1   base                   250       250   \n",
       "                                  ci                     250       250   \n",
       "                                  rag                    250       250   \n",
       "quarrelsome-pinkie     gpt4o      base                   250       250   \n",
       "                                  ci                     250       250   \n",
       "                                  omc                    250       250   \n",
       "                                  rag                    250       250   \n",
       "sedate-bidding         llama3_1   omc                    250       250   \n",
       "successful-angina      llama3_1   rag_ci                 250       250   \n",
       "yielding-gearshift     gpt4o      rag_ci                 250       250   \n",
       "\n",
       "                                             calculator_name  model_name  \n",
       "experiment_name        model_slug arm_tools                               \n",
       "confused-intent        llama3_1   omc                    250         250  \n",
       "crazy-textbook         llama3_1   rag_ci                 250         250  \n",
       "disagreeable-apple     gpt4o      rag_ci                 250         250  \n",
       "efficacious-romaine    gpt4o      rag_ci                 250         250  \n",
       "goofy-tower            llama3_1   base                   250         250  \n",
       "                                  ci                     250         250  \n",
       "                                  rag                    250         250  \n",
       "                                  rag_ci                 250         250  \n",
       "hissing-boatload       llama3_1   rag_ci                 250         250  \n",
       "known-increase         gpt4o      base                   250         250  \n",
       "                       llama3_1   base                   250         250  \n",
       "                                  ci                     250         250  \n",
       "                                  omc                    250         250  \n",
       "                                  rag                    250         250  \n",
       "loud-company           gpt4o      base                   250         250  \n",
       "                                  ci                     250         250  \n",
       "                                  omc                    250         250  \n",
       "                                  rag                    250         250  \n",
       "                                  rag_ci                 250         250  \n",
       "melted-cage            gpt4o      ci                     250         250  \n",
       "                                  rag                    250         250  \n",
       "overt-reclamation      llama3_1   ci                     250         250  \n",
       "pastoral-constitution  gpt4o      omc                    250         250  \n",
       "productive-independent llama3_1   base                   250         250  \n",
       "                                  rag                    250         250  \n",
       "proud-yam              gpt4o      base                   250         250  \n",
       "                                  ci                     250         250  \n",
       "                                  omc                    250         250  \n",
       "                                  rag                    250         250  \n",
       "                       llama3_1   omc                    250         250  \n",
       "puny-gasket            llama3_1   base                   250         250  \n",
       "                                  ci                     250         250  \n",
       "                                  rag                    250         250  \n",
       "quarrelsome-pinkie     gpt4o      base                   250         250  \n",
       "                                  ci                     250         250  \n",
       "                                  omc                    250         250  \n",
       "                                  rag                    250         250  \n",
       "sedate-bidding         llama3_1   omc                    250         250  \n",
       "successful-angina      llama3_1   rag_ci                 250         250  \n",
       "yielding-gearshift     gpt4o      rag_ci                 250         250  \n",
       "\n",
       "[40 rows x 71 columns]"
      ]
     },
     "execution_count": 83,
     "metadata": {},
     "output_type": "execute_result"
    }
   ],
   "source": [
    "df.groupby([\"experiment_name\",\"model_slug\",\"arm_tools\"],observed=True).count()"
   ]
  },
  {
   "cell_type": "code",
   "execution_count": 84,
   "id": "7d8f3cf03b7d36b2",
   "metadata": {
    "ExecuteTime": {
     "end_time": "2024-11-10T14:13:43.611356Z",
     "start_time": "2024-11-10T14:13:43.572410Z"
    }
   },
   "outputs": [
    {
     "data": {
      "text/plain": [
       "calculator_name  vignette                                                                                                                                                                                                                                                                                                                                                                                                                                                                                                                                                                                                                                                                                                                                                       \n",
       "ARISCAT          A 62-year-old patient is scheduled for an ORIF of the left humerous, with anticipated duration of 2.5 hours; it is scheduled as an elective procedure. They have a preoperative SpO2 of 88% on room air. They had a recent cold, but did not seek medical care and managed with acetaminophen. The preoperative hct is 20%. What is their ARISCAT score?                                                                                                                                                                                                                                                                                                                                                                                                           10\n",
       "                 A 62-year-old patient is scheduled for an ORIF of the left humerous, with anticipated duration of 2.5 hours; it is scheduled as an elective procedure. They have a preoperative SpO2 of 88% on room air. They had a recent cold, but did not seek medical care and managed with acetaminophen. Their hgb is 13.5. What is their ARISCAT score?                                                                                                                                                                                                                                                                                                                                                                                                                     20\n",
       "                 A 62-year-old patient is scheduled for an ORIF of the left humerous, with anticipated duration of 2.5 hours; it is scheduled as an elective procedure. They have a preoperative SpO2 of 93% on room air. They had a recent cold, but did not seek medical care and managed with acetaminophen. The preoperative hct is 20%. What is their ARISCAT score?                                                                                                                                                                                                                                                                                                                                                                                                           10\n",
       "                 A 62-year-old patient is scheduled for an ORIF of the left humerous, with anticipated duration of 2.5 hours; it is scheduled as an emergency surgery. They have a preoperative SpO2 of 88% on room air. They had a recent cold, but did not seek medical care and managed with acetaminophen. The preoperative hct is 20%. What is their ARISCAT score?                                                                                                                                                                                                                                                                                                                                                                                                            10\n",
       "                 A 62-year-old patient is scheduled for an ORIF of the left humerous, with anticipated duration of 2.5 hours; it is scheduled as an emergency surgery. They have a preoperative SpO2 of 93% on room air. Three weeks ago, they were febrile and were treated with a course of azirthromycin for a presumed pneumonia. The preoperative hct is 20%. What is their ARISCAT score?                                                                                                                                                                                                                                                                                                                                                                                     10\n",
       "                                                                                                                                                                                                                                                                                                                                                                                                                                                                                                                                                                                                                                                                                                                                                                                    ..\n",
       "Wells DVT        We have a 20-year-old female presenting with leg-related symptoms. I'd like your help assessing their condition. They have no previously documented DVT. They have no active cancer.  They have no localized tenderness along the deep venous system. They have no pitting edema in the symptomatic leg. DVT is the leading diagnosis. The affected leg is paralyzed from a motorcycle accident years prior. They had major surgery 8 weeks ago. They have no calf swelling. They have collateral superficial veins on their leg. There is no other swelling of the above the knee. Based on this information, what would be their Wells DVT score?                                                                                                                10\n",
       "                 We have a 20-year-old female presenting with leg-related symptoms. I'd like your help assessing their condition. They have no previously documented DVT. They have no active cancer.  They have no localized tenderness along the deep venous system. They have no pitting edema in the symptomatic leg. DVT is the leading diagnosis. They have chronic weakness in the affected leg due to a history of stroke. They have been bedridden for the last four days. They have swelling of the left calf that is more than 4cm compared to the other leg. They have collateral superficial veins on their leg. They have swelling of the entire leg. Based on this information, what would be their Wells DVT score?                                                 10\n",
       "                 We have a 20-year-old female presenting with leg-related symptoms. I'd like your help assessing their condition. They have no previously documented DVT. They have no active cancer.  They have no localized tenderness along the deep venous system. They have pitting edema confined to the symptomatic leg. An alternative diagnosis is being considered and is as likely as a diagnosis of DVT. They have chronic weakness in the affected leg due to a history of stroke. They had major surgery 8 weeks ago. They have no calf swelling. They have no collateral superficial veins on their leg. They have swelling of the entire leg. Based on this information, what would be their Wells DVT score?                                                       10\n",
       "                 We have a 20-year-old female presenting with leg-related symptoms. I'd like your help assessing their condition. They have no previously documented DVT. They have no active cancer.  They have no localized tenderness along the deep venous system. They have pitting edema confined to the symptomatic leg. An alternative diagnosis is being considered and is as likely as a diagnosis of DVT. They have no paralysis, paresis, or recent plaster immobilization of the lower extremity. They have not been bedridden recently, nor had recent surgery. They have no calf swelling. They have collateral superficial veins on their leg. There is no other swelling of the above the knee. Based on this information, what would be their Wells DVT score?    10\n",
       "                 We have a 20-year-old female presenting with leg-related symptoms. I'd like your help assessing their condition. They have no previously documented DVT. They have no active cancer.  They have no localized tenderness along the deep venous system. They have pitting edema confined to the symptomatic leg. An alternative diagnosis is being considered and is as likely as a diagnosis of DVT. They have no paralysis, paresis, or recent plaster immobilization of the lower extremity. They have not been bedridden recently, nor had recent surgery. They have no calf swelling. They have collateral superficial veins on their leg. They have swelling of the entire leg. Based on this information, what would be their Wells DVT score?                10\n",
       "Name: id, Length: 983, dtype: int64"
      ]
     },
     "execution_count": 84,
     "metadata": {},
     "output_type": "execute_result"
    }
   ],
   "source": [
    "# make sure that all runs have same vignettes for same patient\n",
    "df.groupby([\"calculator_name\",\"vignette\"],observed=True).id.count()"
   ]
  },
  {
   "cell_type": "code",
   "execution_count": 85,
   "id": "4b4c8a5bacf80906",
   "metadata": {
    "ExecuteTime": {
     "end_time": "2024-11-10T14:13:49.784374Z",
     "start_time": "2024-11-10T14:13:49.747888Z"
    }
   },
   "outputs": [
    {
     "data": {
      "text/html": [
       "<div>\n",
       "<style scoped>\n",
       "    .dataframe tbody tr th:only-of-type {\n",
       "        vertical-align: middle;\n",
       "    }\n",
       "\n",
       "    .dataframe tbody tr th {\n",
       "        vertical-align: top;\n",
       "    }\n",
       "\n",
       "    .dataframe thead th {\n",
       "        text-align: right;\n",
       "    }\n",
       "</style>\n",
       "<table border=\"1\" class=\"dataframe\">\n",
       "  <thead>\n",
       "    <tr style=\"text-align: right;\">\n",
       "      <th></th>\n",
       "      <th></th>\n",
       "      <th>id</th>\n",
       "    </tr>\n",
       "    <tr>\n",
       "      <th>calculator_name</th>\n",
       "      <th>metadata_arm</th>\n",
       "      <th></th>\n",
       "    </tr>\n",
       "  </thead>\n",
       "  <tbody>\n",
       "    <tr>\n",
       "      <th rowspan=\"5\" valign=\"top\">ARISCAT</th>\n",
       "      <th>gpt4_base</th>\n",
       "      <td>100</td>\n",
       "    </tr>\n",
       "    <tr>\n",
       "      <th>gpt4_ci</th>\n",
       "      <td>100</td>\n",
       "    </tr>\n",
       "    <tr>\n",
       "      <th>gpt4_omc</th>\n",
       "      <td>100</td>\n",
       "    </tr>\n",
       "    <tr>\n",
       "      <th>gpt4_rag</th>\n",
       "      <td>100</td>\n",
       "    </tr>\n",
       "    <tr>\n",
       "      <th>gpt4_rag_ci</th>\n",
       "      <td>100</td>\n",
       "    </tr>\n",
       "    <tr>\n",
       "      <th>...</th>\n",
       "      <th>...</th>\n",
       "      <td>...</td>\n",
       "    </tr>\n",
       "    <tr>\n",
       "      <th rowspan=\"5\" valign=\"top\">Wells DVT</th>\n",
       "      <th>llama_base</th>\n",
       "      <td>100</td>\n",
       "    </tr>\n",
       "    <tr>\n",
       "      <th>llama_ci</th>\n",
       "      <td>100</td>\n",
       "    </tr>\n",
       "    <tr>\n",
       "      <th>llama_omc</th>\n",
       "      <td>100</td>\n",
       "    </tr>\n",
       "    <tr>\n",
       "      <th>llama_rag</th>\n",
       "      <td>100</td>\n",
       "    </tr>\n",
       "    <tr>\n",
       "      <th>llama_rag_ci</th>\n",
       "      <td>100</td>\n",
       "    </tr>\n",
       "  </tbody>\n",
       "</table>\n",
       "<p>100 rows × 1 columns</p>\n",
       "</div>"
      ],
      "text/plain": [
       "                               id\n",
       "calculator_name metadata_arm     \n",
       "ARISCAT         gpt4_base     100\n",
       "                gpt4_ci       100\n",
       "                gpt4_omc      100\n",
       "                gpt4_rag      100\n",
       "                gpt4_rag_ci   100\n",
       "...                           ...\n",
       "Wells DVT       llama_base    100\n",
       "                llama_ci      100\n",
       "                llama_omc     100\n",
       "                llama_rag     100\n",
       "                llama_rag_ci  100\n",
       "\n",
       "[100 rows x 1 columns]"
      ]
     },
     "execution_count": 85,
     "metadata": {},
     "output_type": "execute_result"
    }
   ],
   "source": [
    "pd.DataFrame(df.groupby([\"calculator_name\",\"metadata_arm\"],observed=True).id.count())\n"
   ]
  },
  {
   "cell_type": "code",
   "execution_count": 86,
   "id": "c25314a1d7e84092",
   "metadata": {
    "ExecuteTime": {
     "end_time": "2024-11-10T14:13:53.804199Z",
     "start_time": "2024-11-10T14:13:53.770525Z"
    }
   },
   "outputs": [
    {
     "data": {
      "text/plain": [
       "id\n",
       "10    966\n",
       "20     17\n",
       "Name: count, dtype: int64"
      ]
     },
     "execution_count": 86,
     "metadata": {},
     "output_type": "execute_result"
    }
   ],
   "source": [
    "# it is possible for non-unique vignettes to occur as it is pseudorandom and limited number of permulations\n",
    "vig_counts = pd.DataFrame(df.groupby([\"calculator_name\",\"vignette\"],observed=True).id.count())\n",
    "# if all unique, all counts should be 10 (number of calulators)\n",
    "vig_counts.id.value_counts()"
   ]
  },
  {
   "cell_type": "markdown",
   "id": "01f91b49",
   "metadata": {},
   "source": [
    "### Calculate error amount"
   ]
  },
  {
   "cell_type": "code",
   "execution_count": null,
   "id": "53826679db5a9642",
   "metadata": {},
   "outputs": [],
   "source": [
    "# df = pd.read_pickle(path_join(config.RESULTS_DATA_PATH,\"most_recent/dataset_results_most-recent.pkl\"))"
   ]
  },
  {
   "cell_type": "code",
   "execution_count": 13,
   "id": "ae74a3f4",
   "metadata": {},
   "outputs": [],
   "source": [
    "df[\"error_real\"] = df[\"output_answer\"] - df[\"reference_answer\"].astype(float)\n",
    "df[\"error_absolute\"] = df[\"error_real\"].abs()"
   ]
  },
  {
   "cell_type": "code",
   "execution_count": 14,
   "id": "992a6e35",
   "metadata": {},
   "outputs": [],
   "source": [
    "from llm_calc.lib.datacore import datacore\n",
    "from llm_calc.lib.datamodel import Arm, ArmSlug, Model, ModelSlug, Calculator, CalculatorSlug\n",
    "from typing import List\n",
    "\n",
    "calculators: List[Calculator] = datacore.get_calculators()"
   ]
  },
  {
   "cell_type": "code",
   "execution_count": 36,
   "id": "6d19158f",
   "metadata": {},
   "outputs": [],
   "source": [
    "# Create a dictionary to map calculator slugs to their mild and severe cutoffs\n",
    "calculator_cutoffs = {calc.slug.value: (calc.mild_cutoff, calc.severe_cutoff) for calc in calculators}\n",
    "calculator_min_max = {calc.slug.value: (calc.minimum_score, calc.maximum_score) for calc in calculators}\n",
    "\n",
    "# Define a function to calculate the adjusted clinical error real\n",
    "def calculate_adjusted_error(row):\n",
    "    mild_cutoff, severe_cutoff = calculator_cutoffs[row['calculator_slug']]\n",
    "    if pd.notna(mild_cutoff) and pd.notna(severe_cutoff):\n",
    "        return row['error_real'] / (severe_cutoff - mild_cutoff)\n",
    "    else:\n",
    "        return None\n",
    "    \n",
    "# Define a function to calculate the adjusted clinical error real\n",
    "def calculate_adjusted_error_second_method(row):\n",
    "    minimum_score, maxiumum_score = calculator_min_max[row['calculator_slug']]\n",
    "    if pd.notna(minimum_score) and pd.notna(maxiumum_score):\n",
    "        return row['error_real'] / (maxiumum_score - minimum_score)\n",
    "    else:\n",
    "        return None\n",
    "\n",
    "# Apply the function to each row in the dataframe\n",
    "df['adjusted_clinical_error_real']: pd.Series = df.apply(calculate_adjusted_error, axis=1) # type: ignore\n",
    "df['adjusted_clinical_error_2_real']: pd.Series = df.apply(calculate_adjusted_error_second_method, axis=1) # type: ignore\n",
    "\n",
    "# also include straight percentage error compared to reference answer\n",
    "df['percentage_error_real'] = df.apply(lambda x: float(x['error_real']) / float(x['reference_answer']) if float(x['reference_answer']) != 0 else None, axis=1)\n",
    "df['percentage_error_absolute'] = df.apply(lambda x: abs(x['percentage_error_real']) if x['percentage_error_real'] else None, axis=1)\n",
    "\n",
    "# absolute adjusted clinical error\n",
    "df['adjusted_clinical_error_absolute'] = df['adjusted_clinical_error_real'].abs()\n",
    "df['adjusted_clinical_error_2_absolute'] = df['adjusted_clinical_error_2_real'].abs()"
   ]
  },
  {
   "cell_type": "markdown",
   "id": "b2d7f41b",
   "metadata": {},
   "source": [
    "# Export"
   ]
  },
  {
   "cell_type": "markdown",
   "id": "83d7c152",
   "metadata": {},
   "source": [
    "### Reduce file size"
   ]
  },
  {
   "cell_type": "code",
   "execution_count": 37,
   "id": "11725dfa0948b6e0",
   "metadata": {
    "ExecuteTime": {
     "end_time": "2024-11-10T14:14:01.692776Z",
     "start_time": "2024-11-10T14:14:01.582559Z"
    }
   },
   "outputs": [
    {
     "name": "stdout",
     "output_type": "stream",
     "text": [
      "output_explanation    6670499\n",
      "app_path              2670000\n",
      "child_run_ids         2430048\n",
      "feedback_stats        1921760\n",
      "extra                 1920000\n",
      "                       ...   \n",
      "ci_was_run              10000\n",
      "was_error               10000\n",
      "was_correct             10000\n",
      "final_answer_valid      10000\n",
      "Index                     132\n",
      "Length: 84, dtype: int64\n"
     ]
    }
   ],
   "source": [
    "# reduce file size\n",
    "# find which colums take most space\n",
    "print(df.memory_usage(deep=True).sort_values(ascending=False))\n",
    "df_mini = df.drop(columns=[\"outputs\",\"feedback_stats\",\"steps\",\"raw_response\",\"intermediate_steps\",\"child_run_ids\",\n",
    "                           \"parent_run_id\",\"attachments\",\"tags\",\"manifest_id\",\"session_id\",\"criteria\",\"events\",\n",
    "                           \"inputs\",\"reference_example_id\",\"reference_answer\",\"output_object\",\"output_explanation\",\"adjusted_clinical_error_real\",\n",
    "                           \"adjusted_clinical_error_absolute\",\"error_real\",\"error_absolute\"])"
   ]
  },
  {
   "cell_type": "code",
   "execution_count": 38,
   "id": "18570aa3ca20a979",
   "metadata": {
    "ExecuteTime": {
     "end_time": "2024-11-10T14:15:31.254189Z",
     "start_time": "2024-11-10T14:15:29.123002Z"
    }
   },
   "outputs": [
    {
     "data": {
      "text/html": [
       "<div>\n",
       "<style scoped>\n",
       "    .dataframe tbody tr th:only-of-type {\n",
       "        vertical-align: middle;\n",
       "    }\n",
       "\n",
       "    .dataframe tbody tr th {\n",
       "        vertical-align: top;\n",
       "    }\n",
       "\n",
       "    .dataframe thead th {\n",
       "        text-align: right;\n",
       "    }\n",
       "</style>\n",
       "<table border=\"1\" class=\"dataframe\">\n",
       "  <thead>\n",
       "    <tr style=\"text-align: right;\">\n",
       "      <th></th>\n",
       "      <th>id</th>\n",
       "      <th>name</th>\n",
       "      <th>start_time</th>\n",
       "      <th>run_type</th>\n",
       "      <th>end_time</th>\n",
       "      <th>extra</th>\n",
       "      <th>error</th>\n",
       "      <th>serialized</th>\n",
       "      <th>child_runs</th>\n",
       "      <th>app_path</th>\n",
       "      <th>...</th>\n",
       "      <th>arm_name</th>\n",
       "      <th>calculator_name</th>\n",
       "      <th>model_slug</th>\n",
       "      <th>model_name</th>\n",
       "      <th>arm_tools</th>\n",
       "      <th>real_error</th>\n",
       "      <th>adjusted_clinical_error_2_real</th>\n",
       "      <th>adjusted_clinical_error_2_absolute</th>\n",
       "      <th>percentage_error_real</th>\n",
       "      <th>percentage_error_absolute</th>\n",
       "    </tr>\n",
       "  </thead>\n",
       "  <tbody>\n",
       "    <tr>\n",
       "      <th>0</th>\n",
       "      <td>9dccbc97-c466-4737-968b-c186b7acb265</td>\n",
       "      <td>execute</td>\n",
       "      <td>2024-10-30 10:25:18.834813</td>\n",
       "      <td>chain</td>\n",
       "      <td>2024-10-30 10:25:35.156023</td>\n",
       "      <td>{'metadata': {'revision_id': '324c698-dirty', 'arm': 'llama_rag_ci...</td>\n",
       "      <td>None</td>\n",
       "      <td>None</td>\n",
       "      <td>None</td>\n",
       "      <td>/o/80231dbb-1e31-4379-b804-df697b777bc6/projects/p/87a9983e-9b6d-4...</td>\n",
       "      <td>...</td>\n",
       "      <td>Llama + RAG + CI</td>\n",
       "      <td>NIHSS</td>\n",
       "      <td>llama3_1</td>\n",
       "      <td>name</td>\n",
       "      <td>rag_ci</td>\n",
       "      <td>6.0</td>\n",
       "      <td>0.142857</td>\n",
       "      <td>0.142857</td>\n",
       "      <td>0.285714</td>\n",
       "      <td>0.285714</td>\n",
       "    </tr>\n",
       "    <tr>\n",
       "      <th>1</th>\n",
       "      <td>679a36f6-9c0d-45c6-b9cc-1ac7c2e04397</td>\n",
       "      <td>execute</td>\n",
       "      <td>2024-10-30 10:25:17.462899</td>\n",
       "      <td>chain</td>\n",
       "      <td>2024-10-30 10:25:34.858674</td>\n",
       "      <td>{'metadata': {'revision_id': '324c698-dirty', 'arm': 'llama_rag_ci...</td>\n",
       "      <td>None</td>\n",
       "      <td>None</td>\n",
       "      <td>None</td>\n",
       "      <td>/o/80231dbb-1e31-4379-b804-df697b777bc6/projects/p/87a9983e-9b6d-4...</td>\n",
       "      <td>...</td>\n",
       "      <td>Llama + RAG + CI</td>\n",
       "      <td>PSIPORT</td>\n",
       "      <td>llama3_1</td>\n",
       "      <td>name</td>\n",
       "      <td>rag_ci</td>\n",
       "      <td>80.0</td>\n",
       "      <td>0.206718</td>\n",
       "      <td>0.206718</td>\n",
       "      <td>0.432432</td>\n",
       "      <td>0.432432</td>\n",
       "    </tr>\n",
       "    <tr>\n",
       "      <th>2</th>\n",
       "      <td>11eb1b84-c39e-487b-bcaa-53d844436a99</td>\n",
       "      <td>execute</td>\n",
       "      <td>2024-10-30 10:25:15.635823</td>\n",
       "      <td>chain</td>\n",
       "      <td>2024-10-30 10:25:24.644082</td>\n",
       "      <td>{'metadata': {'revision_id': '324c698-dirty', 'arm': 'llama_rag_ci...</td>\n",
       "      <td>None</td>\n",
       "      <td>None</td>\n",
       "      <td>None</td>\n",
       "      <td>/o/80231dbb-1e31-4379-b804-df697b777bc6/projects/p/87a9983e-9b6d-4...</td>\n",
       "      <td>...</td>\n",
       "      <td>Llama + RAG + CI</td>\n",
       "      <td>HASBLED</td>\n",
       "      <td>llama3_1</td>\n",
       "      <td>name</td>\n",
       "      <td>rag_ci</td>\n",
       "      <td>1.0</td>\n",
       "      <td>0.111111</td>\n",
       "      <td>0.111111</td>\n",
       "      <td>0.250000</td>\n",
       "      <td>0.250000</td>\n",
       "    </tr>\n",
       "  </tbody>\n",
       "</table>\n",
       "<p>3 rows × 61 columns</p>\n",
       "</div>"
      ],
      "text/plain": [
       "                                     id     name                 start_time  \\\n",
       "0  9dccbc97-c466-4737-968b-c186b7acb265  execute 2024-10-30 10:25:18.834813   \n",
       "1  679a36f6-9c0d-45c6-b9cc-1ac7c2e04397  execute 2024-10-30 10:25:17.462899   \n",
       "2  11eb1b84-c39e-487b-bcaa-53d844436a99  execute 2024-10-30 10:25:15.635823   \n",
       "\n",
       "  run_type                   end_time  \\\n",
       "0    chain 2024-10-30 10:25:35.156023   \n",
       "1    chain 2024-10-30 10:25:34.858674   \n",
       "2    chain 2024-10-30 10:25:24.644082   \n",
       "\n",
       "                                                                   extra  \\\n",
       "0  {'metadata': {'revision_id': '324c698-dirty', 'arm': 'llama_rag_ci...   \n",
       "1  {'metadata': {'revision_id': '324c698-dirty', 'arm': 'llama_rag_ci...   \n",
       "2  {'metadata': {'revision_id': '324c698-dirty', 'arm': 'llama_rag_ci...   \n",
       "\n",
       "  error serialized child_runs  \\\n",
       "0  None       None       None   \n",
       "1  None       None       None   \n",
       "2  None       None       None   \n",
       "\n",
       "                                                                app_path  ...  \\\n",
       "0  /o/80231dbb-1e31-4379-b804-df697b777bc6/projects/p/87a9983e-9b6d-4...  ...   \n",
       "1  /o/80231dbb-1e31-4379-b804-df697b777bc6/projects/p/87a9983e-9b6d-4...  ...   \n",
       "2  /o/80231dbb-1e31-4379-b804-df697b777bc6/projects/p/87a9983e-9b6d-4...  ...   \n",
       "\n",
       "           arm_name  calculator_name  model_slug  model_name arm_tools  \\\n",
       "0  Llama + RAG + CI            NIHSS    llama3_1        name    rag_ci   \n",
       "1  Llama + RAG + CI          PSIPORT    llama3_1        name    rag_ci   \n",
       "2  Llama + RAG + CI          HASBLED    llama3_1        name    rag_ci   \n",
       "\n",
       "  real_error adjusted_clinical_error_2_real  \\\n",
       "0        6.0                       0.142857   \n",
       "1       80.0                       0.206718   \n",
       "2        1.0                       0.111111   \n",
       "\n",
       "  adjusted_clinical_error_2_absolute percentage_error_real  \\\n",
       "0                           0.142857              0.285714   \n",
       "1                           0.206718              0.432432   \n",
       "2                           0.111111              0.250000   \n",
       "\n",
       "  percentage_error_absolute  \n",
       "0                  0.285714  \n",
       "1                  0.432432  \n",
       "2                  0.250000  \n",
       "\n",
       "[3 rows x 61 columns]"
      ]
     },
     "execution_count": 38,
     "metadata": {},
     "output_type": "execute_result"
    }
   ],
   "source": [
    "# output_slug = \"_\".join([dataset[:6] for dataset in chosen_datasets]) # type: ignore\n",
    "\n",
    "#export full run set to archive to most recent folder (git ignored)\n",
    "# df.to_pickle(path_join(config.RESULTS_DATA_PATH,f\"archive/dataset_results_{output_slug}.pkl\"))\n",
    "df.to_pickle(path_join(config.RESULTS_DATA_PATH,f\"most_recent/dataset_results_most-recent.pkl\"))\n",
    "\n",
    "# export mini as most-recent\n",
    "filename = path_join(config.RESULTS_DATA_PATH,\"dataset_results_most-recent.pkl\")\n",
    "df_mini.to_pickle(filename)\n",
    "# test load\n",
    "df_read = pd.read_pickle(filename)\n",
    "df_read.head(3)"
   ]
  },
  {
   "cell_type": "code",
   "execution_count": 39,
   "id": "d954b66a",
   "metadata": {},
   "outputs": [
    {
     "data": {
      "text/plain": [
       "id                                    9dccbc97-c466-4737-968b-c186b7acb265\n",
       "name                                                               execute\n",
       "start_time                                      2024-10-30 10:25:18.834813\n",
       "run_type                                                             chain\n",
       "end_time                                        2024-10-30 10:25:35.156023\n",
       "                                                      ...                 \n",
       "adjusted_clinical_error_absolute                                  0.428571\n",
       "adjusted_clinical_error_2_real                                    0.142857\n",
       "adjusted_clinical_error_2_absolute                                0.142857\n",
       "percentage_error_real                                             0.285714\n",
       "percentage_error_absolute                                         0.285714\n",
       "Name: 0, Length: 83, dtype: object"
      ]
     },
     "execution_count": 39,
     "metadata": {},
     "output_type": "execute_result"
    }
   ],
   "source": [
    "from llm_calc.util import util\n",
    "df.iloc[0]"
   ]
  },
  {
   "cell_type": "code",
   "execution_count": null,
   "id": "8c6b07b8",
   "metadata": {},
   "outputs": [],
   "source": []
  },
  {
   "cell_type": "code",
   "execution_count": null,
   "id": "745c60b6",
   "metadata": {},
   "outputs": [],
   "source": []
  },
  {
   "cell_type": "code",
   "execution_count": null,
   "id": "6e061b75",
   "metadata": {},
   "outputs": [],
   "source": []
  }
 ],
 "metadata": {
  "kernelspec": {
   "display_name": "llm-calc",
   "language": "python",
   "name": "python3"
  },
  "language_info": {
   "codemirror_mode": {
    "name": "ipython",
    "version": 3
   },
   "file_extension": ".py",
   "mimetype": "text/x-python",
   "name": "python",
   "nbconvert_exporter": "python",
   "pygments_lexer": "ipython3",
   "version": "3.11.9"
  }
 },
 "nbformat": 4,
 "nbformat_minor": 5
}
